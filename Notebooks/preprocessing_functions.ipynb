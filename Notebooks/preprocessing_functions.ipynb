{
 "cells": [
  {
   "cell_type": "code",
   "execution_count": 115,
   "metadata": {},
   "outputs": [],
   "source": [
    "import numpy as np\n",
    "import pandas as pd\n",
    "import string\n",
    "import re\n",
    "from sklearn.pipeline import make_pipeline\n",
    "from sklearn.compose import make_column_transformer, make_column_selector\n",
    "import tensorflow as tf\n",
    "from tensorflow import keras\n",
    "from tensorflow.keras.preprocessing import sequence\n",
    "from tensorflow.keras.preprocessing.text import Tokenizer\n",
    "from tensorflow.keras.models import Sequential\n",
    "from tensorflow.keras.layers import Embedding, LSTM, Dense\n"
   ]
  },
  {
   "cell_type": "code",
   "execution_count": 116,
   "metadata": {},
   "outputs": [],
   "source": [
    "true= pd.read_csv('data/True.csv')\n",
    "fake= pd.read_csv('data/Fake.csv')\n"
   ]
  },
  {
   "cell_type": "code",
   "execution_count": 117,
   "metadata": {},
   "outputs": [],
   "source": [
    "#Cleaning Data\n",
    "\n",
    "true.drop_duplicates(inplace=True)\n",
    "fake.drop_duplicates(inplace=True)\n",
    "\n",
    "t_count=[]\n",
    "for n in true['text']:\n",
    "    t_count.append(len(n.split()))\n",
    "\n",
    "true['count']= t_count\n",
    "true= true[true['count'] > 500]\n",
    "\n",
    "\n",
    "f_count=[]\n",
    "for n in fake['text']:\n",
    "    f_count.append(len(n.split()))\n",
    "\n",
    "fake['count']= f_count\n",
    "fake= fake[fake['count'] > 500]\n",
    "\n",
    "  #Dropping columns\n",
    "\n",
    "true= true.drop(columns=['title', 'subject', 'date', 'count'])\n",
    "fake= fake.drop(columns=['title', 'subject', 'date', 'count'])\n",
    "\n",
    "#Adding 'isfake'\n",
    "\n",
    "true['isfake']= 0\n",
    "fake['isfake']= 1\n",
    "\n",
    "#Combining df\n",
    "\n",
    "data= pd.concat([true, fake], axis=0, ignore_index=True)\n",
    "data= data.reset_index()\n"
   ]
  },
  {
   "cell_type": "code",
   "execution_count": 118,
   "metadata": {},
   "outputs": [
    {
     "name": "stdout",
     "output_type": "stream",
     "text": [
      "(11759, 3)\n"
     ]
    }
   ],
   "source": [
    "print(data.shape)\n"
   ]
  },
  {
   "cell_type": "code",
   "execution_count": 149,
   "metadata": {},
   "outputs": [
    {
     "name": "stdout",
     "output_type": "stream",
     "text": [
      "<class 'pandas.core.frame.DataFrame'>\n",
      "Index: 5719 entries, 0 to 21409\n",
      "Data columns (total 2 columns):\n",
      " #   Column  Non-Null Count  Dtype \n",
      "---  ------  --------------  ----- \n",
      " 0   text    5719 non-null   object\n",
      " 1   isfake  5719 non-null   int64 \n",
      "dtypes: int64(1), object(1)\n",
      "memory usage: 134.0+ KB\n"
     ]
    }
   ],
   "source": [
    "true.info()\n"
   ]
  },
  {
   "cell_type": "code",
   "execution_count": 127,
   "metadata": {},
   "outputs": [
    {
     "name": "stdout",
     "output_type": "stream",
     "text": [
      "743.9938800489596\n",
      "832.3450331125828\n"
     ]
    }
   ],
   "source": [
    "def count_words(text):\n",
    "    return len(text.split())\n",
    "\n",
    "# Calculate the word count for each text entry\n",
    "print(np.mean(true['text'].apply(count_words)))\n",
    "print(np.mean(fake['text'].apply(count_words)))\n"
   ]
  },
  {
   "cell_type": "code",
   "execution_count": 136,
   "metadata": {},
   "outputs": [],
   "source": [
    "from spicy import stats\n",
    "import seaborn as sns\n"
   ]
  },
  {
   "cell_type": "code",
   "execution_count": 135,
   "metadata": {},
   "outputs": [
    {
     "name": "stdout",
     "output_type": "stream",
     "text": [
      "ModeResult(mode=505, count=31)\n",
      "ModeResult(mode=510, count=37)\n"
     ]
    }
   ],
   "source": [
    "print(stats.mode(true['text'].apply(count_words)))\n",
    "print(stats.mode(fake['text'].apply(count_words)))\n"
   ]
  },
  {
   "cell_type": "code",
   "execution_count": 137,
   "metadata": {},
   "outputs": [
    {
     "data": {
      "text/plain": [
       "<Axes: ylabel='Count'>"
      ]
     },
     "execution_count": 137,
     "metadata": {},
     "output_type": "execute_result"
    },
    {
     "data": {
      "image/png": "[encoded data removed]",
      "text/plain": [
       "<Figure size 640x480 with 1 Axes>"
      ]
     },
     "metadata": {},
     "output_type": "display_data"
    }
   ],
   "source": [
    "t_text_len= [len(texts.split()) for texts in true['text']]\n",
    "f_text_len= [len(texts.split()) for texts in fake['text']]\n",
    "sns.histplot(t_text_len, bins=50)\n"
   ]
  },
  {
   "cell_type": "code",
   "execution_count": 138,
   "metadata": {},
   "outputs": [
    {
     "data": {
      "text/plain": [
       "<Axes: ylabel='Count'>"
      ]
     },
     "execution_count": 138,
     "metadata": {},
     "output_type": "execute_result"
    },
    {
     "data": {
      "image/png": "[encoded data removed]",
      "text/plain": [
       "<Figure size 640x480 with 1 Axes>"
      ]
     },
     "metadata": {},
     "output_type": "display_data"
    }
   ],
   "source": [
    "sns.histplot(f_text_len, bins=50)\n"
   ]
  },
  {
   "cell_type": "code",
   "execution_count": 119,
   "metadata": {},
   "outputs": [
    {
     "data": {
      "text/plain": [
       "'Bill Clinton was falsely confident in his plan to end North Korea s nuclear threat with diplomacy. Over 20 years later, his efforts, along with those of every president succeeding him, have been futile.Every president since Clinton has allowed North Korea s nuclear ambitions to go unchecked. Perhaps now that North Korea allegedly has the capability of striking our mainland, America really needs is a president who is willing to stand up to North Korea s brutal dictator and let him know he s not playing with Barack Obama anymore.Will President Trump be the one to finally put an end to North Korea s threatening rhetoric by refusing to ignore Kim Jong Un s threats?North Korea now has an intercontinental ballistic missile that can range most of the continental U.S., and a new Defense Intelligence Agency assessment suggests that North Korea has successfully miniaturized nuclear warheads for its missiles.In the early 1990s, Clinton faced a growing nuclear threat from North Korea, but he ultimately chose diplomacy and deals over the application of military force. I was determined to prevent North Korea from developing a nuclear arsenal, even at the risk of war,  Clinton wrote in his memoirs. He decided to change course after receiving  a sobering estimate of the staggering losses both sides would suffer if war broke out. Watch Clinton brag about his great success with North Korea:NKorea Flashback: Bill Clinton on his deal with North Korea \"The world will be safer.\" Whoops. pic.twitter.com/HDf86yqbEq  Mark Dice (@MarkDice) August 8, 2017Clinton chose the Agreed Framework, promising billions of dollars in aid for a North Korean nuclear freeze. This is a good deal for the United States,  he said at the time.  North Korea will freeze and then dismantle its nuclear program. South Korea and our other allies will be better protected. The entire world will be safer as we slow the spread of nuclear weapons. The North Koreans negotiated in bad faith, however, offering false promises to convince the U.S. to unwittingly subsidize their nuclear program. The country began enriching nuclear material, and North Korea conducted its first nuclear test a little over a decade later. North Korea has since continued its steady march to becoming a fully-armed nuclear power. Evidence suggests that North Korea will achieve its nuclear weapons goals much sooner than analysts and experts previously expected.North Korea advanced its program throughout the Bush and Obama administrations, bringing the U.S. to the risky situation it now faces. North Korea best not make any more threats to the United States,  Donald Trump declared to the White House press pool Tuesday.  They will be met with the fire and fury like the world has never seen. He has been very threatening beyond a normal state, and as I said, they will be met with the fire and fury and, frankly, power the likes of which this world has never seen before. While the casualty count in a North Korean crisis might have been high in the 1990s, the cost of a conflict now that North Korea has nuclear weapons would be in the millions.  The Daily Caller'"
      ]
     },
     "execution_count": 119,
     "metadata": {},
     "output_type": "execute_result"
    }
   ],
   "source": [
    "data.text[8456]\n"
   ]
  },
  {
   "cell_type": "markdown",
   "metadata": {},
   "source": [
    "## Query Preprocessing"
   ]
  },
  {
   "cell_type": "code",
   "execution_count": 120,
   "metadata": {},
   "outputs": [],
   "source": [
    "import string\n",
    "from nltk.tokenize import word_tokenize\n",
    "from nltk.corpus import stopwords\n",
    "from nltk.stem import WordNetLemmatizer\n"
   ]
  },
  {
   "cell_type": "code",
   "execution_count": 121,
   "metadata": {},
   "outputs": [],
   "source": [
    "def cleaning(query):\n",
    "\n",
    "    pattern = r'(?:[A-Z]+(?:[ \\/][A-Z]+)* )?\\(Reuters\\) - '\n",
    "    query= re.sub(pattern, '', query)\n",
    "\n",
    "    query = query.strip()\n",
    "    query = query.lower()\n",
    "    query = ''.join(char for char in query if not char.isdigit())\n",
    "\n",
    "    for punctuation in string.punctuation:\n",
    "        query = query.replace(punctuation, '')\n",
    "\n",
    "\n",
    "    tokenized_query = word_tokenize(query)\n",
    "    stop_words = set(stopwords.words('english'))\n",
    "\n",
    "    tokenized_query_cleaned = [\n",
    "        w for w in tokenized_query if not w in stop_words\n",
    "    ]\n",
    "\n",
    "    lemmatized = [\n",
    "        WordNetLemmatizer().lemmatize(word, pos = \"v\")\n",
    "        for word in tokenized_query_cleaned\n",
    "    ]\n",
    "\n",
    "    cleaned_query= ' '.join(word for word in lemmatized)\n",
    "\n",
    "    return cleaned_query\n"
   ]
  },
  {
   "cell_type": "code",
   "execution_count": 122,
   "metadata": {},
   "outputs": [],
   "source": [
    "data['text']= data['text'].apply(cleaning)\n"
   ]
  },
  {
   "cell_type": "code",
   "execution_count": 123,
   "metadata": {},
   "outputs": [
    {
     "data": {
      "text/plain": [
       "'bill clinton falsely confident plan end north korea nuclear threat diplomacy years later efforts along every president succeed futileevery president since clinton allow north korea nuclear ambition go unchecked perhaps north korea allegedly capability strike mainland america really need president will stand north korea brutal dictator let know play barack obama anymorewill president trump one finally put end north korea threaten rhetoric refuse ignore kim jong un threatsnorth korea intercontinental ballistic missile range continental us new defense intelligence agency assessment suggest north korea successfully miniaturize nuclear warheads missilesin early clinton face grow nuclear threat north korea ultimately choose diplomacy deal application military force determine prevent north korea develop nuclear arsenal even risk war clinton write memoirs decide change course receive sober estimate stagger losses side would suffer war break watch clinton brag great success north koreankorea flashback bill clinton deal north korea world safer whoop pictwittercomhdfyqbeq mark dice markdice august clinton choose agree framework promise billions dollars aid north korean nuclear freeze good deal unite state say time north korea freeze dismantle nuclear program south korea ally better protect entire world safer slow spread nuclear weapons north koreans negotiate bad faith however offer false promise convince us unwittingly subsidize nuclear program country begin enrich nuclear material north korea conduct first nuclear test little decade later north korea since continue steady march become fullyarmed nuclear power evidence suggest north korea achieve nuclear weapons goals much sooner analysts experts previously expectednorth korea advance program throughout bush obama administrations bring us risky situation face north korea best make threats unite state donald trump declare white house press pool tuesday meet fire fury like world never see threaten beyond normal state say meet fire fury frankly power like world never see casualty count north korean crisis might high cost conflict north korea nuclear weapons would millions daily caller'"
      ]
     },
     "execution_count": 123,
     "metadata": {},
     "output_type": "execute_result"
    }
   ],
   "source": [
    "data.text[8456]\n"
   ]
  },
  {
   "cell_type": "code",
   "execution_count": 124,
   "metadata": {},
   "outputs": [
    {
     "data": {
      "text/plain": [
       "'us congress allow deadline reimpose sanction iran pass week congressional white house aid say tuesday leave pact world power tehran intact least temporarily october trump decline certify iran comply nuclear agreement reach among tehran unite state others decision trigger day window congress decide whether bring back sanction iran congressional leaders announce plan introduce resolution reimpose sanction wednesday ’ deadline aid say lawmakers let deadline pass without action congress pass ball back trump must decide midjanuary want continue waive energy sanction iran trump ’ failure would blow apart deal course oppose european ally russia china party accord iran get sanction relief return curb nuclear ambition iran say nuclear program peaceful purpose deny aim build atomic bomb say stick accord long signatories respect “ shred ” deal washington pull white house spokeswoman sarah sanders say administration ask sanction reimpose “ administration continue make encourage progress congress fix us–iran deal address longterm proliferation issue ” tell daily press brief efforts find common grind europe iran deal complicate last week trump announce washington would recognize jerusalem israel ’ capital break international consensus trump call iran pact “ worst deal ever ” threaten pull unite state fellow republicans control chamber congress senate majority small need democratic support advance legislation senate democrats even oppose two years ago want tear nuclear accord republican senator bob corker chairman senate foreign relations committee decline say whether think trump would carry threat tear nuclear pact january congress pass legislation clamp iran corker tell reporters democratic senator ben cardin meet national security adviser hr mcmaster last week see “ ’ language fit bill within congress also keep europeans table us feel like ’ go different direction ” corker decline elaborate specifics discussions trump threaten withdraw nuclear agreement lawmakers toughen amend iran nuclear agreement review act inara us law open possibility bring sanction back cardin senior democrat senate foreign relations panel say would support change nuclear pact support europe democrats also insist sanction impose iran ’ ballistic missiles program human right violations must separate nuclear agreement'"
      ]
     },
     "execution_count": 124,
     "metadata": {},
     "output_type": "execute_result"
    }
   ],
   "source": [
    "data.text[55]\n"
   ]
  },
  {
   "cell_type": "code",
   "execution_count": 125,
   "metadata": {},
   "outputs": [],
   "source": [
    "data.to_csv('data/data.csv', index=False)\n"
   ]
  },
  {
   "cell_type": "markdown",
   "metadata": {},
   "source": [
    "## 2nd Dataset"
   ]
  },
  {
   "cell_type": "code",
   "execution_count": 164,
   "metadata": {},
   "outputs": [],
   "source": [
    "d_set= pd.read_csv('data/WELFake_Dataset.csv')\n"
   ]
  },
  {
   "cell_type": "code",
   "execution_count": 140,
   "metadata": {},
   "outputs": [
    {
     "data": {
      "text/html": [
       "<div>\n",
       "<style scoped>\n",
       "    .dataframe tbody tr th:only-of-type {\n",
       "        vertical-align: middle;\n",
       "    }\n",
       "\n",
       "    .dataframe tbody tr th {\n",
       "        vertical-align: top;\n",
       "    }\n",
       "\n",
       "    .dataframe thead th {\n",
       "        text-align: right;\n",
       "    }\n",
       "</style>\n",
       "<table border=\"1\" class=\"dataframe\">\n",
       "  <thead>\n",
       "    <tr style=\"text-align: right;\">\n",
       "      <th></th>\n",
       "      <th>Unnamed: 0</th>\n",
       "      <th>title</th>\n",
       "      <th>text</th>\n",
       "      <th>label</th>\n",
       "    </tr>\n",
       "  </thead>\n",
       "  <tbody>\n",
       "    <tr>\n",
       "      <th>0</th>\n",
       "      <td>0</td>\n",
       "      <td>LAW ENFORCEMENT ON HIGH ALERT Following Threat...</td>\n",
       "      <td>No comment is expected from Barack Obama Membe...</td>\n",
       "      <td>1</td>\n",
       "    </tr>\n",
       "    <tr>\n",
       "      <th>1</th>\n",
       "      <td>1</td>\n",
       "      <td>NaN</td>\n",
       "      <td>Did they post their votes for Hillary already?</td>\n",
       "      <td>1</td>\n",
       "    </tr>\n",
       "    <tr>\n",
       "      <th>2</th>\n",
       "      <td>2</td>\n",
       "      <td>UNBELIEVABLE! OBAMA’S ATTORNEY GENERAL SAYS MO...</td>\n",
       "      <td>Now, most of the demonstrators gathered last ...</td>\n",
       "      <td>1</td>\n",
       "    </tr>\n",
       "    <tr>\n",
       "      <th>3</th>\n",
       "      <td>3</td>\n",
       "      <td>Bobby Jindal, raised Hindu, uses story of Chri...</td>\n",
       "      <td>A dozen politically active pastors came here f...</td>\n",
       "      <td>0</td>\n",
       "    </tr>\n",
       "    <tr>\n",
       "      <th>4</th>\n",
       "      <td>4</td>\n",
       "      <td>SATAN 2: Russia unvelis an image of its terrif...</td>\n",
       "      <td>The RS-28 Sarmat missile, dubbed Satan 2, will...</td>\n",
       "      <td>1</td>\n",
       "    </tr>\n",
       "    <tr>\n",
       "      <th>...</th>\n",
       "      <td>...</td>\n",
       "      <td>...</td>\n",
       "      <td>...</td>\n",
       "      <td>...</td>\n",
       "    </tr>\n",
       "    <tr>\n",
       "      <th>72129</th>\n",
       "      <td>72129</td>\n",
       "      <td>Russians steal research on Trump in hack of U....</td>\n",
       "      <td>WASHINGTON (Reuters) - Hackers believed to be ...</td>\n",
       "      <td>0</td>\n",
       "    </tr>\n",
       "    <tr>\n",
       "      <th>72130</th>\n",
       "      <td>72130</td>\n",
       "      <td>WATCH: Giuliani Demands That Democrats Apolog...</td>\n",
       "      <td>You know, because in fantasyland Republicans n...</td>\n",
       "      <td>1</td>\n",
       "    </tr>\n",
       "    <tr>\n",
       "      <th>72131</th>\n",
       "      <td>72131</td>\n",
       "      <td>Migrants Refuse To Leave Train At Refugee Camp...</td>\n",
       "      <td>Migrants Refuse To Leave Train At Refugee Camp...</td>\n",
       "      <td>0</td>\n",
       "    </tr>\n",
       "    <tr>\n",
       "      <th>72132</th>\n",
       "      <td>72132</td>\n",
       "      <td>Trump tussle gives unpopular Mexican leader mu...</td>\n",
       "      <td>MEXICO CITY (Reuters) - Donald Trump’s combati...</td>\n",
       "      <td>0</td>\n",
       "    </tr>\n",
       "    <tr>\n",
       "      <th>72133</th>\n",
       "      <td>72133</td>\n",
       "      <td>Goldman Sachs Endorses Hillary Clinton For Pre...</td>\n",
       "      <td>Goldman Sachs Endorses Hillary Clinton For Pre...</td>\n",
       "      <td>1</td>\n",
       "    </tr>\n",
       "  </tbody>\n",
       "</table>\n",
       "<p>72134 rows × 4 columns</p>\n",
       "</div>"
      ],
      "text/plain": [
       "       Unnamed: 0                                              title  \\\n",
       "0               0  LAW ENFORCEMENT ON HIGH ALERT Following Threat...   \n",
       "1               1                                                NaN   \n",
       "2               2  UNBELIEVABLE! OBAMA’S ATTORNEY GENERAL SAYS MO...   \n",
       "3               3  Bobby Jindal, raised Hindu, uses story of Chri...   \n",
       "4               4  SATAN 2: Russia unvelis an image of its terrif...   \n",
       "...           ...                                                ...   \n",
       "72129       72129  Russians steal research on Trump in hack of U....   \n",
       "72130       72130   WATCH: Giuliani Demands That Democrats Apolog...   \n",
       "72131       72131  Migrants Refuse To Leave Train At Refugee Camp...   \n",
       "72132       72132  Trump tussle gives unpopular Mexican leader mu...   \n",
       "72133       72133  Goldman Sachs Endorses Hillary Clinton For Pre...   \n",
       "\n",
       "                                                    text  label  \n",
       "0      No comment is expected from Barack Obama Membe...      1  \n",
       "1         Did they post their votes for Hillary already?      1  \n",
       "2       Now, most of the demonstrators gathered last ...      1  \n",
       "3      A dozen politically active pastors came here f...      0  \n",
       "4      The RS-28 Sarmat missile, dubbed Satan 2, will...      1  \n",
       "...                                                  ...    ...  \n",
       "72129  WASHINGTON (Reuters) - Hackers believed to be ...      0  \n",
       "72130  You know, because in fantasyland Republicans n...      1  \n",
       "72131  Migrants Refuse To Leave Train At Refugee Camp...      0  \n",
       "72132  MEXICO CITY (Reuters) - Donald Trump’s combati...      0  \n",
       "72133  Goldman Sachs Endorses Hillary Clinton For Pre...      1  \n",
       "\n",
       "[72134 rows x 4 columns]"
      ]
     },
     "execution_count": 140,
     "metadata": {},
     "output_type": "execute_result"
    }
   ],
   "source": [
    "d_set\n"
   ]
  },
  {
   "cell_type": "code",
   "execution_count": 165,
   "metadata": {},
   "outputs": [],
   "source": [
    "d_set= d_set.rename(columns={'label':'isfake'})\n"
   ]
  },
  {
   "cell_type": "code",
   "execution_count": 166,
   "metadata": {},
   "outputs": [
    {
     "name": "stdout",
     "output_type": "stream",
     "text": [
      "<class 'pandas.core.frame.DataFrame'>\n",
      "RangeIndex: 72134 entries, 0 to 72133\n",
      "Data columns (total 4 columns):\n",
      " #   Column      Non-Null Count  Dtype \n",
      "---  ------      --------------  ----- \n",
      " 0   Unnamed: 0  72134 non-null  int64 \n",
      " 1   title       71576 non-null  object\n",
      " 2   text        72095 non-null  object\n",
      " 3   isfake      72134 non-null  int64 \n",
      "dtypes: int64(2), object(2)\n",
      "memory usage: 2.2+ MB\n"
     ]
    }
   ],
   "source": [
    "d_set.info()\n"
   ]
  },
  {
   "cell_type": "code",
   "execution_count": 168,
   "metadata": {},
   "outputs": [],
   "source": [
    "d_set['text']= d_set['text'].astype('str')\n"
   ]
  },
  {
   "cell_type": "code",
   "execution_count": 175,
   "metadata": {},
   "outputs": [],
   "source": [
    "\n",
    "d_set.drop_duplicates(inplace=True)\n",
    "\n",
    "d_count=[]\n",
    "for n in d_set['text']:\n",
    "    d_count.append(len(n.split()))\n",
    "\n",
    "d_set['count']= d_count\n",
    "d_set=  d_set[d_set['count'] > 500]\n",
    "\n",
    "\n",
    "\n",
    "#Dropping columns\n",
    "\n",
    "d_set= d_set.drop(columns=['Unnamed: 0', 'title', 'count'])\n"
   ]
  },
  {
   "cell_type": "code",
   "execution_count": 296,
   "metadata": {},
   "outputs": [],
   "source": [
    "d_set['text']= d_set['text'].apply(cleaning)\n"
   ]
  },
  {
   "cell_type": "code",
   "execution_count": null,
   "metadata": {},
   "outputs": [],
   "source": []
  },
  {
   "cell_type": "code",
   "execution_count": null,
   "metadata": {},
   "outputs": [],
   "source": [
    "d_set.to_csv('data/data_2.csv', index=False)\n"
   ]
  },
  {
   "cell_type": "code",
   "execution_count": 200,
   "metadata": {},
   "outputs": [
    {
     "data": {
      "text/plain": [
       "isfake\n",
       "0    15058\n",
       "1    11583\n",
       "Name: count, dtype: int64"
      ]
     },
     "execution_count": 200,
     "metadata": {},
     "output_type": "execute_result"
    }
   ],
   "source": [
    "d_set['isfake'].value_counts()\n"
   ]
  },
  {
   "cell_type": "code",
   "execution_count": 258,
   "metadata": {},
   "outputs": [],
   "source": [
    "d_set.drop_duplicates(inplace=True)\n"
   ]
  },
  {
   "cell_type": "code",
   "execution_count": 262,
   "metadata": {},
   "outputs": [
    {
     "data": {
      "text/plain": [
       "isfake\n",
       "0    14963\n",
       "1     8811\n",
       "Name: count, dtype: int64"
      ]
     },
     "execution_count": 262,
     "metadata": {},
     "output_type": "execute_result"
    }
   ],
   "source": [
    "d_set['isfake'].value_counts()\n"
   ]
  },
  {
   "cell_type": "code",
   "execution_count": 183,
   "metadata": {},
   "outputs": [
    {
     "name": "stdout",
     "output_type": "stream",
     "text": [
      "<class 'pandas.core.frame.DataFrame'>\n",
      "RangeIndex: 11759 entries, 0 to 11758\n",
      "Data columns (total 3 columns):\n",
      " #   Column  Non-Null Count  Dtype \n",
      "---  ------  --------------  ----- \n",
      " 0   index   11759 non-null  int64 \n",
      " 1   text    11759 non-null  object\n",
      " 2   isfake  11759 non-null  int64 \n",
      "dtypes: int64(2), object(1)\n",
      "memory usage: 275.7+ KB\n"
     ]
    }
   ],
   "source": [
    "data.info()\n"
   ]
  },
  {
   "cell_type": "code",
   "execution_count": 263,
   "metadata": {},
   "outputs": [],
   "source": [
    "data_new= pd.concat([d_set, data], axis=0, ignore_index=True)\n"
   ]
  },
  {
   "cell_type": "code",
   "execution_count": 265,
   "metadata": {},
   "outputs": [
    {
     "data": {
      "text/plain": [
       "isfake\n",
       "0    20682\n",
       "1    14851\n",
       "Name: count, dtype: int64"
      ]
     },
     "execution_count": 265,
     "metadata": {},
     "output_type": "execute_result"
    }
   ],
   "source": [
    "data_new['isfake'].value_counts()\n"
   ]
  },
  {
   "cell_type": "code",
   "execution_count": 266,
   "metadata": {},
   "outputs": [],
   "source": [
    "data_new.drop(columns=['index'], inplace=True)\n",
    "data_new.drop_duplicates(inplace=True)\n"
   ]
  },
  {
   "cell_type": "code",
   "execution_count": 267,
   "metadata": {},
   "outputs": [
    {
     "data": {
      "text/plain": [
       "(23774, 2)"
      ]
     },
     "execution_count": 267,
     "metadata": {},
     "output_type": "execute_result"
    }
   ],
   "source": [
    "data_new.shape\n"
   ]
  },
  {
   "cell_type": "code",
   "execution_count": 268,
   "metadata": {},
   "outputs": [
    {
     "data": {
      "text/plain": [
       "isfake\n",
       "0    14963\n",
       "1     8811\n",
       "Name: count, dtype: int64"
      ]
     },
     "execution_count": 268,
     "metadata": {},
     "output_type": "execute_result"
    }
   ],
   "source": [
    "data_new['isfake'].value_counts()\n"
   ]
  },
  {
   "cell_type": "code",
   "execution_count": 287,
   "metadata": {},
   "outputs": [],
   "source": [
    "df= data_new.copy()\n"
   ]
  },
  {
   "cell_type": "code",
   "execution_count": 288,
   "metadata": {},
   "outputs": [
    {
     "data": {
      "text/plain": [
       "isfake\n",
       "0    14963\n",
       "1     8811\n",
       "Name: count, dtype: int64"
      ]
     },
     "execution_count": 288,
     "metadata": {},
     "output_type": "execute_result"
    }
   ],
   "source": [
    "df['isfake'].value_counts()\n"
   ]
  },
  {
   "cell_type": "code",
   "execution_count": 291,
   "metadata": {},
   "outputs": [],
   "source": [
    "d_count=[]\n",
    "for n in df['text']:\n",
    "    d_count.append(len(n.split()))\n",
    "\n",
    "df['count']= d_count\n",
    "df=  df[df['count'] < 600]\n"
   ]
  },
  {
   "cell_type": "code",
   "execution_count": 292,
   "metadata": {},
   "outputs": [
    {
     "data": {
      "text/plain": [
       "isfake\n",
       "0    8611\n",
       "1    6078\n",
       "Name: count, dtype: int64"
      ]
     },
     "execution_count": 292,
     "metadata": {},
     "output_type": "execute_result"
    }
   ],
   "source": [
    "df['isfake'].value_counts()\n"
   ]
  },
  {
   "cell_type": "code",
   "execution_count": 282,
   "metadata": {},
   "outputs": [
    {
     "data": {
      "text/plain": [
       "isfake\n",
       "1    6040\n",
       "0    5719\n",
       "Name: count, dtype: int64"
      ]
     },
     "execution_count": 282,
     "metadata": {},
     "output_type": "execute_result"
    }
   ],
   "source": [
    "data['isfake'].value_counts()\n"
   ]
  },
  {
   "cell_type": "code",
   "execution_count": 293,
   "metadata": {},
   "outputs": [
    {
     "name": "stdout",
     "output_type": "stream",
     "text": [
      "<class 'pandas.core.frame.DataFrame'>\n",
      "Index: 23774 entries, 0 to 72132\n",
      "Data columns (total 2 columns):\n",
      " #   Column  Non-Null Count  Dtype \n",
      "---  ------  --------------  ----- \n",
      " 0   text    23774 non-null  object\n",
      " 1   isfake  23774 non-null  int64 \n",
      "dtypes: int64(1), object(1)\n",
      "memory usage: 557.2+ KB\n"
     ]
    }
   ],
   "source": [
    "d_set.info()\n"
   ]
  },
  {
   "cell_type": "code",
   "execution_count": 294,
   "metadata": {},
   "outputs": [
    {
     "data": {
      "text/plain": [
       "isfake\n",
       "0    14963\n",
       "1     8811\n",
       "Name: count, dtype: int64"
      ]
     },
     "execution_count": 294,
     "metadata": {},
     "output_type": "execute_result"
    }
   ],
   "source": [
    "d_set['isfake'].value_counts()\n"
   ]
  },
  {
   "cell_type": "code",
   "execution_count": 295,
   "metadata": {},
   "outputs": [],
   "source": [
    "d_set.to_csv('data/data_2.csv', index=False)\n"
   ]
  },
  {
   "cell_type": "markdown",
   "metadata": {},
   "source": [
    "## Pipeline Contruction"
   ]
  },
  {
   "cell_type": "code",
   "execution_count": null,
   "metadata": {},
   "outputs": [],
   "source": []
  },
  {
   "cell_type": "code",
   "execution_count": null,
   "metadata": {},
   "outputs": [],
   "source": []
  },
  {
   "cell_type": "code",
   "execution_count": 126,
   "metadata": {},
   "outputs": [],
   "source": [
    "pipeline= make_pipeline()\n"
   ]
  }
 ],
 "metadata": {
  "environment": {
   "kernel": "python3",
   "name": "tf2-cpu.2-11.m113",
   "type": "gcloud",
   "uri": "gcr.io/deeplearning-platform-release/tf2-cpu.2-11:m113"
  },
  "kernelspec": {
   "display_name": "Python 3",
   "language": "python",
   "name": "python3"
  },
  "language_info": {
   "codemirror_mode": {
    "name": "ipython",
    "version": 3
   },
   "file_extension": ".py",
   "mimetype": "text/x-python",
   "name": "python",
   "nbconvert_exporter": "python",
   "pygments_lexer": "ipython3",
   "version": "3.10.6"
  }
 },
 "nbformat": 4,
 "nbformat_minor": 4
}
