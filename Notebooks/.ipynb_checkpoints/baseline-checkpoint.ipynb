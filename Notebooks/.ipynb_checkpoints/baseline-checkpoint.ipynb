{
 "cells": [
  {
   "cell_type": "code",
   "execution_count": 1,
   "id": "126a0ce4-7daa-4cfc-b694-fb7c66748cb6",
   "metadata": {},
   "outputs": [
    {
     "name": "stderr",
     "output_type": "stream",
     "text": [
      "2023-12-06 17:47:30.842018: I tensorflow/core/platform/cpu_feature_guard.cc:193] This TensorFlow binary is optimized with oneAPI Deep Neural Network Library (oneDNN) to use the following CPU instructions in performance-critical operations:  AVX2 AVX512F AVX512_VNNI FMA\n",
      "To enable them in other operations, rebuild TensorFlow with the appropriate compiler flags.\n",
      "2023-12-06 17:47:30.990699: I tensorflow/core/util/port.cc:104] oneDNN custom operations are on. You may see slightly different numerical results due to floating-point round-off errors from different computation orders. To turn them off, set the environment variable `TF_ENABLE_ONEDNN_OPTS=0`.\n",
      "2023-12-06 17:47:31.903994: W tensorflow/compiler/xla/stream_executor/platform/default/dso_loader.cc:64] Could not load dynamic library 'libnvinfer.so.7'; dlerror: libnvinfer.so.7: cannot open shared object file: No such file or directory; LD_LIBRARY_PATH: /usr/local/cuda/lib64:/usr/local/nccl2/lib:/usr/local/cuda/extras/CUPTI/lib64\n",
      "2023-12-06 17:47:31.904093: W tensorflow/compiler/xla/stream_executor/platform/default/dso_loader.cc:64] Could not load dynamic library 'libnvinfer_plugin.so.7'; dlerror: libnvinfer_plugin.so.7: cannot open shared object file: No such file or directory; LD_LIBRARY_PATH: /usr/local/cuda/lib64:/usr/local/nccl2/lib:/usr/local/cuda/extras/CUPTI/lib64\n",
      "2023-12-06 17:47:31.904102: W tensorflow/compiler/tf2tensorrt/utils/py_utils.cc:38] TF-TRT Warning: Cannot dlopen some TensorRT libraries. If you would like to use Nvidia GPU with TensorRT, please make sure the missing libraries mentioned above are installed properly.\n"
     ]
    }
   ],
   "source": [
    "import numpy as np\n",
    "import pandas as pd\n",
    "import tensorflow as tf\n",
    "from gensim.models import Word2Vec\n",
    "import matplotlib.pyplot as plt\n",
    "import seaborn as sns\n",
    "from tensorflow import keras\n",
    "from keras import layers\n",
    "from sklearn.model_selection import train_test_split\n",
    "from keras.preprocessing.text import Tokenizer, text_to_word_sequence\n",
    "from keras.utils import pad_sequences\n",
    "from keras.preprocessing import sequence\n",
    "from keras.models import Sequential\n",
    "from keras.layers import Embedding, LSTM, Dense, Masking\n"
   ]
  },
  {
   "cell_type": "markdown",
   "id": "7c57be40",
   "metadata": {},
   "source": [
    "## Data"
   ]
  },
  {
   "cell_type": "code",
   "execution_count": 2,
   "id": "f2c4ad58",
   "metadata": {},
   "outputs": [
    {
     "data": {
      "text/html": [
       "<div>\n",
       "<style scoped>\n",
       "    .dataframe tbody tr th:only-of-type {\n",
       "        vertical-align: middle;\n",
       "    }\n",
       "\n",
       "    .dataframe tbody tr th {\n",
       "        vertical-align: top;\n",
       "    }\n",
       "\n",
       "    .dataframe thead th {\n",
       "        text-align: right;\n",
       "    }\n",
       "</style>\n",
       "<table border=\"1\" class=\"dataframe\">\n",
       "  <thead>\n",
       "    <tr style=\"text-align: right;\">\n",
       "      <th></th>\n",
       "      <th>text</th>\n",
       "      <th>is_fake</th>\n",
       "    </tr>\n",
       "  </thead>\n",
       "  <tbody>\n",
       "    <tr>\n",
       "      <th>0</th>\n",
       "      <td>Donald Trump just couldn t wish all Americans ...</td>\n",
       "      <td>1</td>\n",
       "    </tr>\n",
       "    <tr>\n",
       "      <th>1</th>\n",
       "      <td>House Intelligence Committee Chairman Devin Nu...</td>\n",
       "      <td>1</td>\n",
       "    </tr>\n",
       "    <tr>\n",
       "      <th>2</th>\n",
       "      <td>On Friday, it was revealed that former Milwauk...</td>\n",
       "      <td>1</td>\n",
       "    </tr>\n",
       "    <tr>\n",
       "      <th>3</th>\n",
       "      <td>On Christmas day, Donald Trump announced that ...</td>\n",
       "      <td>1</td>\n",
       "    </tr>\n",
       "    <tr>\n",
       "      <th>4</th>\n",
       "      <td>Pope Francis used his annual Christmas Day mes...</td>\n",
       "      <td>1</td>\n",
       "    </tr>\n",
       "  </tbody>\n",
       "</table>\n",
       "</div>"
      ],
      "text/plain": [
       "                                                text  is_fake\n",
       "0  Donald Trump just couldn t wish all Americans ...        1\n",
       "1  House Intelligence Committee Chairman Devin Nu...        1\n",
       "2  On Friday, it was revealed that former Milwauk...        1\n",
       "3  On Christmas day, Donald Trump announced that ...        1\n",
       "4  Pope Francis used his annual Christmas Day mes...        1"
      ]
     },
     "execution_count": 2,
     "metadata": {},
     "output_type": "execute_result"
    }
   ],
   "source": [
    "data= pd.read_csv('data/merged.csv')\n",
    "data.head(5)\n"
   ]
  },
  {
   "cell_type": "markdown",
   "id": "ad16ff69",
   "metadata": {},
   "source": [
    "## Preprocess"
   ]
  },
  {
   "cell_type": "code",
   "execution_count": 3,
   "id": "5e2d3cfe",
   "metadata": {},
   "outputs": [],
   "source": [
    "X= data.text\n",
    "y= data.is_fake\n"
   ]
  },
  {
   "cell_type": "code",
   "execution_count": 4,
   "id": "c27dfec3",
   "metadata": {},
   "outputs": [
    {
     "data": {
      "text/plain": [
       "<Axes: ylabel='Count'>"
      ]
     },
     "execution_count": 4,
     "metadata": {},
     "output_type": "execute_result"
    },
    {
     "data": {
      "image/png": "[encoded data removed]",
      "text/plain": [
       "<Figure size 640x480 with 1 Axes>"
      ]
     },
     "metadata": {},
     "output_type": "display_data"
    }
   ],
   "source": [
    "text_len= [len(texts.split()) for texts in data['text']]\n",
    "sns.histplot(text_len, bins=50)\n"
   ]
  },
  {
   "cell_type": "code",
   "execution_count": 5,
   "id": "f3035125",
   "metadata": {},
   "outputs": [],
   "source": [
    "X_train, X_test, y_train, y_test= train_test_split(X, y, test_size= 0.3, random_state=42)\n"
   ]
  },
  {
   "cell_type": "code",
   "execution_count": 6,
   "id": "8918bbe9",
   "metadata": {},
   "outputs": [
    {
     "data": {
      "text/plain": [
       "34170    Germany will wait for Israeli prosecutors to c...\n",
       "32020    Two Maldivians suspected of having links to Is...\n",
       "9181     This bombshell just in is more evidence of the...\n",
       "35507    LONDONDERRY, Northern Ireland William Jackson ...\n",
       "13614    Donald Trump won the state of Indiana in a lan...\n",
       "Name: text, dtype: object"
      ]
     },
     "execution_count": 6,
     "metadata": {},
     "output_type": "execute_result"
    }
   ],
   "source": [
    "X_train.head(5)\n"
   ]
  },
  {
   "cell_type": "code",
   "execution_count": 7,
   "id": "aeb36cff",
   "metadata": {},
   "outputs": [],
   "source": [
    "X_train_split= [text_to_word_sequence(t) for t in X_train]\n"
   ]
  },
  {
   "cell_type": "code",
   "execution_count": 8,
   "id": "ab82bdee",
   "metadata": {},
   "outputs": [],
   "source": [
    "X_test_split= [text_to_word_sequence(t) for t in X_test]\n"
   ]
  },
  {
   "cell_type": "code",
   "execution_count": 9,
   "id": "f3ce0a33",
   "metadata": {},
   "outputs": [
    {
     "data": {
      "text/plain": [
       "27060"
      ]
     },
     "execution_count": 9,
     "metadata": {},
     "output_type": "execute_result"
    }
   ],
   "source": [
    "len(X_train_split)\n"
   ]
  },
  {
   "cell_type": "code",
   "execution_count": 10,
   "id": "155c5910",
   "metadata": {},
   "outputs": [],
   "source": [
    "X_trial= X_test_split[0:100]\n"
   ]
  },
  {
   "cell_type": "code",
   "execution_count": 11,
   "id": "55fafc51",
   "metadata": {},
   "outputs": [],
   "source": [
    "w2v= Word2Vec(sentences= X_train_split, vector_size=50, window=3)\n",
    "word= w2v.wv\n"
   ]
  },
  {
   "cell_type": "code",
   "execution_count": 12,
   "id": "8ed73aa5",
   "metadata": {},
   "outputs": [],
   "source": [
    "#word.most_similar('germany')\n"
   ]
  },
  {
   "cell_type": "code",
   "execution_count": 13,
   "id": "7053326d",
   "metadata": {},
   "outputs": [],
   "source": [
    "#len(word.key_to_index)\n"
   ]
  },
  {
   "cell_type": "code",
   "execution_count": 15,
   "id": "7b520915",
   "metadata": {},
   "outputs": [
    {
     "data": {
      "text/plain": [
       "array([-1.0904212e+00, -1.1166930e+00, -2.1644680e-01,  1.0979851e-01,\n",
       "        6.3740742e-01,  5.1237446e-01, -3.2019036e+00, -9.4369054e-01,\n",
       "       -4.4362275e-03, -1.2661978e+00, -3.2077935e+00,  7.3227870e-01,\n",
       "       -4.2353485e-02, -2.5122290e+00, -5.3537685e-01, -2.5612447e+00,\n",
       "       -3.8377267e-01, -2.4498012e+00, -6.5419036e-01, -4.2750615e-01,\n",
       "       -3.8106880e-01,  2.5917119e-01, -1.5136760e-01,  2.5822586e-01,\n",
       "       -3.3896968e-01,  2.7223983e+00, -2.7344327e+00,  6.0505468e-01,\n",
       "        1.4128008e+00,  2.7106245e+00,  1.9781609e+00,  1.8477416e+00,\n",
       "       -4.0246177e-01,  9.2065394e-01, -3.4333441e-01, -7.8640425e-01,\n",
       "       -1.8388469e+00,  1.3310367e+00,  2.3092821e+00,  1.7648098e+00,\n",
       "        2.1149480e+00,  3.7186716e+00,  7.7547073e-01,  2.1616264e-01,\n",
       "        1.2355202e+00, -4.3487284e-01,  5.7772942e+00, -5.6806266e-01,\n",
       "        5.2215617e-02, -3.7404628e+00], dtype=float32)"
      ]
     },
     "execution_count": 15,
     "metadata": {},
     "output_type": "execute_result"
    }
   ],
   "source": [
    "word['make']\n"
   ]
  },
  {
   "cell_type": "code",
   "execution_count": 16,
   "id": "e3139a45",
   "metadata": {},
   "outputs": [],
   "source": [
    "# Convert the text into a matrix of the words in the embedding space\n",
    "def embed_sentence(w2v, text):\n",
    "    embedded_text = []\n",
    "    for words in text:\n",
    "        if words in w2v.wv:\n",
    "            embedded_text.append(w2v.wv[words])\n",
    "\n",
    "    return np.array(embedded_text)\n",
    "\n",
    "# Function that converts a list of sentences into a list of matrices\n",
    "def embedding(w2v, texts):\n",
    "    embed = []\n",
    "\n",
    "    for text in texts:\n",
    "        embedded_text = embed_sentence(w2v, text)\n",
    "        embed.append(embedded_text)\n",
    "\n",
    "    return embed\n",
    "\n",
    "# Embed the training and test sentences\n",
    "X_train_embed = embedding(w2v, X_train_split)\n",
    "X_test_embed = embedding(w2v, X_test_split)\n"
   ]
  },
  {
   "cell_type": "code",
   "execution_count": 17,
   "id": "3bf42477",
   "metadata": {},
   "outputs": [
    {
     "data": {
      "text/plain": [
       "5471"
      ]
     },
     "execution_count": 17,
     "metadata": {},
     "output_type": "execute_result"
    }
   ],
   "source": [
    "max(text_len)\n"
   ]
  },
  {
   "cell_type": "code",
   "execution_count": 18,
   "id": "9f641a58",
   "metadata": {},
   "outputs": [
    {
     "data": {
      "text/plain": [
       "0"
      ]
     },
     "execution_count": 18,
     "metadata": {},
     "output_type": "execute_result"
    }
   ],
   "source": [
    "min(text_len)\n"
   ]
  },
  {
   "cell_type": "code",
   "execution_count": null,
   "id": "7329bb1d-abcc-4bdd-b56d-ec5d32e35118",
   "metadata": {},
   "outputs": [],
   "source": []
  },
  {
   "cell_type": "code",
   "execution_count": 19,
   "id": "3782904d",
   "metadata": {},
   "outputs": [],
   "source": [
    "# Pad the training and test embedded sentences\n",
    "X_train_pad = pad_sequences(X_train_embed,truncating='post', maxlen=50)\n",
    "X_test_pad = pad_sequences(X_test_embed, truncating='post', maxlen=50)\n"
   ]
  },
  {
   "cell_type": "code",
   "execution_count": 65,
   "id": "e4ab0d5c-eb3f-4e27-a7c0-1527d7e71bc7",
   "metadata": {
    "tags": []
   },
   "outputs": [
    {
     "data": {
      "text/plain": [
       "(27060, 50, 50)"
      ]
     },
     "execution_count": 65,
     "metadata": {},
     "output_type": "execute_result"
    }
   ],
   "source": [
    "X_train_pad.shape"
   ]
  },
  {
   "cell_type": "code",
   "execution_count": 37,
   "id": "7b111304",
   "metadata": {},
   "outputs": [],
   "source": [
    "model= Sequential()\n",
    "model.add(layers.Masking(mask_value=0, input_shape=(50,50))\n",
    "model.add(LSTM(15, activation='tanh'))\n",
    "model.add(Dense(1, activation='sigmoid'))\n",
    "model.compile(loss='binary_crossentropy',\n",
    "                  optimizer='adam',\n",
    "                  metrics=['accuracy'])\n"
   ]
  },
  {
   "cell_type": "code",
   "execution_count": 21,
   "id": "771a3dfa",
   "metadata": {},
   "outputs": [
    {
     "data": {
      "text/plain": [
       "27060"
      ]
     },
     "execution_count": 21,
     "metadata": {},
     "output_type": "execute_result"
    }
   ],
   "source": [
    "len(y_train)\n"
   ]
  },
  {
   "cell_type": "code",
   "execution_count": 22,
   "id": "380aed26",
   "metadata": {},
   "outputs": [
    {
     "data": {
      "text/plain": [
       "pandas.core.series.Series"
      ]
     },
     "execution_count": 22,
     "metadata": {},
     "output_type": "execute_result"
    }
   ],
   "source": [
    "type(y_train)\n"
   ]
  },
  {
   "cell_type": "code",
   "execution_count": null,
   "id": "87e40f0e",
   "metadata": {},
   "outputs": [],
   "source": []
  },
  {
   "cell_type": "code",
   "execution_count": 49,
   "id": "b777ba99",
   "metadata": {},
   "outputs": [],
   "source": [
    "y_new_train = [int(x) for x in y_train]\n"
   ]
  },
  {
   "cell_type": "code",
   "execution_count": 50,
   "id": "076959c9",
   "metadata": {},
   "outputs": [
    {
     "data": {
      "text/plain": [
       "0"
      ]
     },
     "execution_count": 50,
     "metadata": {},
     "output_type": "execute_result"
    }
   ],
   "source": [
    "y_new_train[5]\n"
   ]
  },
  {
   "cell_type": "code",
   "execution_count": 54,
   "id": "3a1c3ffb",
   "metadata": {},
   "outputs": [],
   "source": [
    "y_new= np.array(y_new_train)\n"
   ]
  },
  {
   "cell_type": "code",
   "execution_count": 55,
   "id": "3bc7c425-db9a-4d01-99f3-bbb3a08cbd28",
   "metadata": {
    "tags": []
   },
   "outputs": [],
   "source": [
    "y_new= np.floor(y_new)"
   ]
  },
  {
   "cell_type": "code",
   "execution_count": 56,
   "id": "fe8d53ff-b3ae-4ea5-b0d2-8a841177322b",
   "metadata": {
    "tags": []
   },
   "outputs": [
    {
     "data": {
      "text/plain": [
       "array([0., 0., 1., ..., 0., 1., 1.])"
      ]
     },
     "execution_count": 56,
     "metadata": {},
     "output_type": "execute_result"
    }
   ],
   "source": [
    "y_new"
   ]
  },
  {
   "cell_type": "code",
   "execution_count": 58,
   "id": "5c8c9609-0be7-4e33-9a04-7d1397272534",
   "metadata": {
    "tags": []
   },
   "outputs": [],
   "source": [
    "y_new= y_new.astype(np.int32)"
   ]
  },
  {
   "cell_type": "code",
   "execution_count": 59,
   "id": "ac098fe1-effc-4ba5-9211-62563280b844",
   "metadata": {
    "tags": []
   },
   "outputs": [],
   "source": [
    "df= pd.DataFrame(y_new)"
   ]
  },
  {
   "cell_type": "code",
   "execution_count": 62,
   "id": "9c763bc1-a33c-455e-887f-b72e56dc8161",
   "metadata": {
    "tags": []
   },
   "outputs": [
    {
     "data": {
      "text/plain": [
       "0    14812\n",
       "1    12248\n",
       "Name: count, dtype: int64"
      ]
     },
     "execution_count": 62,
     "metadata": {},
     "output_type": "execute_result"
    }
   ],
   "source": [
    "df.value_counts()"
   ]
  },
  {
   "cell_type": "code",
   "execution_count": 57,
   "id": "59e9d8e7",
   "metadata": {},
   "outputs": [
    {
     "name": "stdout",
     "output_type": "stream",
     "text": [
      "Epoch 1/10\n"
     ]
    },
    {
     "ename": "TypeError",
     "evalue": "in user code:\n\n    File \"/opt/conda/lib/python3.10/site-packages/keras/engine/training.py\", line 1249, in train_function  *\n        return step_function(self, iterator)\n    File \"/opt/conda/lib/python3.10/site-packages/keras/engine/training.py\", line 1233, in step_function  **\n        outputs = model.distribute_strategy.run(run_step, args=(data,))\n    File \"/opt/conda/lib/python3.10/site-packages/keras/engine/training.py\", line 1222, in run_step  **\n        outputs = model.train_step(data)\n    File \"/opt/conda/lib/python3.10/site-packages/keras/engine/training.py\", line 1023, in train_step\n        y_pred = self(x, training=True)\n    File \"/opt/conda/lib/python3.10/site-packages/keras/utils/traceback_utils.py\", line 70, in error_handler\n        raise e.with_traceback(filtered_tb) from None\n\n    TypeError: Exception encountered when calling layer 'masking_2' (type Masking).\n    \n    Expected int32 passed to parameter 'y' of op 'NotEqual', got 0.0 of type 'float' instead. Error: Expected int32, but got 0.0 of type 'float'.\n    \n    Call arguments received by layer 'masking_2' (type Masking):\n      • inputs=tf.Tensor(shape=(None, 50, 50), dtype=int32)\n",
     "output_type": "error",
     "traceback": [
      "\u001b[0;31m---------------------------------------------------------------------------\u001b[0m",
      "\u001b[0;31mTypeError\u001b[0m                                 Traceback (most recent call last)",
      "Cell \u001b[0;32mIn[57], line 1\u001b[0m\n\u001b[0;32m----> 1\u001b[0m \u001b[43mmodel\u001b[49m\u001b[38;5;241;43m.\u001b[39;49m\u001b[43mfit\u001b[49m\u001b[43m(\u001b[49m\u001b[43mX_train_pad\u001b[49m\u001b[43m,\u001b[49m\u001b[43m \u001b[49m\u001b[43my_new\u001b[49m\u001b[43m,\u001b[49m\u001b[43m \u001b[49m\u001b[43mbatch_size\u001b[49m\u001b[38;5;241;43m=\u001b[39;49m\u001b[38;5;241;43m32\u001b[39;49m\u001b[43m,\u001b[49m\u001b[43m \u001b[49m\u001b[43mepochs\u001b[49m\u001b[38;5;241;43m=\u001b[39;49m\u001b[38;5;241;43m10\u001b[39;49m\u001b[43m)\u001b[49m\n",
      "File \u001b[0;32m/opt/conda/lib/python3.10/site-packages/keras/utils/traceback_utils.py:70\u001b[0m, in \u001b[0;36mfilter_traceback.<locals>.error_handler\u001b[0;34m(*args, **kwargs)\u001b[0m\n\u001b[1;32m     67\u001b[0m     filtered_tb \u001b[38;5;241m=\u001b[39m _process_traceback_frames(e\u001b[38;5;241m.\u001b[39m__traceback__)\n\u001b[1;32m     68\u001b[0m     \u001b[38;5;66;03m# To get the full stack trace, call:\u001b[39;00m\n\u001b[1;32m     69\u001b[0m     \u001b[38;5;66;03m# `tf.debugging.disable_traceback_filtering()`\u001b[39;00m\n\u001b[0;32m---> 70\u001b[0m     \u001b[38;5;28;01mraise\u001b[39;00m e\u001b[38;5;241m.\u001b[39mwith_traceback(filtered_tb) \u001b[38;5;28;01mfrom\u001b[39;00m \u001b[38;5;28;01mNone\u001b[39;00m\n\u001b[1;32m     71\u001b[0m \u001b[38;5;28;01mfinally\u001b[39;00m:\n\u001b[1;32m     72\u001b[0m     \u001b[38;5;28;01mdel\u001b[39;00m filtered_tb\n",
      "File \u001b[0;32m/var/tmp/__autograph_generated_file6q53nfly.py:15\u001b[0m, in \u001b[0;36mouter_factory.<locals>.inner_factory.<locals>.tf__train_function\u001b[0;34m(iterator)\u001b[0m\n\u001b[1;32m     13\u001b[0m \u001b[38;5;28;01mtry\u001b[39;00m:\n\u001b[1;32m     14\u001b[0m     do_return \u001b[38;5;241m=\u001b[39m \u001b[38;5;28;01mTrue\u001b[39;00m\n\u001b[0;32m---> 15\u001b[0m     retval_ \u001b[38;5;241m=\u001b[39m ag__\u001b[38;5;241m.\u001b[39mconverted_call(ag__\u001b[38;5;241m.\u001b[39mld(step_function), (ag__\u001b[38;5;241m.\u001b[39mld(\u001b[38;5;28mself\u001b[39m), ag__\u001b[38;5;241m.\u001b[39mld(iterator)), \u001b[38;5;28;01mNone\u001b[39;00m, fscope)\n\u001b[1;32m     16\u001b[0m \u001b[38;5;28;01mexcept\u001b[39;00m:\n\u001b[1;32m     17\u001b[0m     do_return \u001b[38;5;241m=\u001b[39m \u001b[38;5;28;01mFalse\u001b[39;00m\n",
      "\u001b[0;31mTypeError\u001b[0m: in user code:\n\n    File \"/opt/conda/lib/python3.10/site-packages/keras/engine/training.py\", line 1249, in train_function  *\n        return step_function(self, iterator)\n    File \"/opt/conda/lib/python3.10/site-packages/keras/engine/training.py\", line 1233, in step_function  **\n        outputs = model.distribute_strategy.run(run_step, args=(data,))\n    File \"/opt/conda/lib/python3.10/site-packages/keras/engine/training.py\", line 1222, in run_step  **\n        outputs = model.train_step(data)\n    File \"/opt/conda/lib/python3.10/site-packages/keras/engine/training.py\", line 1023, in train_step\n        y_pred = self(x, training=True)\n    File \"/opt/conda/lib/python3.10/site-packages/keras/utils/traceback_utils.py\", line 70, in error_handler\n        raise e.with_traceback(filtered_tb) from None\n\n    TypeError: Exception encountered when calling layer 'masking_2' (type Masking).\n    \n    Expected int32 passed to parameter 'y' of op 'NotEqual', got 0.0 of type 'float' instead. Error: Expected int32, but got 0.0 of type 'float'.\n    \n    Call arguments received by layer 'masking_2' (type Masking):\n      • inputs=tf.Tensor(shape=(None, 50, 50), dtype=int32)\n"
     ]
    }
   ],
   "source": [
    "model.fit(X_train_pad, y_new, batch_size=32, epochs=10)\n"
   ]
  },
  {
   "cell_type": "raw",
   "id": "9299df8c-61d6-425b-a771-a2e73a704345",
   "metadata": {},
   "source": []
  },
  {
   "cell_type": "code",
   "execution_count": null,
   "id": "955b334f",
   "metadata": {},
   "outputs": [],
   "source": []
  },
  {
   "cell_type": "code",
   "execution_count": null,
   "id": "c4ec8a08",
   "metadata": {},
   "outputs": [],
   "source": []
  },
  {
   "cell_type": "code",
   "execution_count": null,
   "id": "737b12a5-88da-4d80-bcb1-b3cb45136a62",
   "metadata": {
    "tags": []
   },
   "outputs": [],
   "source": [
    "#def Intialized_Model(modedl):\n",
    "\n",
    "#    model= Sequential()\n"
   ]
  }
 ],
 "metadata": {
  "environment": {
   "kernel": "python3",
   "name": "tf2-cpu.2-11.m113",
   "type": "gcloud",
   "uri": "gcr.io/deeplearning-platform-release/tf2-cpu.2-11:m113"
  },
  "kernelspec": {
   "display_name": "Python 3",
   "language": "python",
   "name": "python3"
  },
  "language_info": {
   "codemirror_mode": {
    "name": "ipython",
    "version": 3
   },
   "file_extension": ".py",
   "mimetype": "text/x-python",
   "name": "python",
   "nbconvert_exporter": "python",
   "pygments_lexer": "ipython3",
   "version": "3.10.13"
  }
 },
 "nbformat": 4,
 "nbformat_minor": 5
}
