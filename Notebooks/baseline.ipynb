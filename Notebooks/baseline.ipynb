{
 "cells": [
  {
   "cell_type": "code",
   "execution_count": 1,
   "id": "126a0ce4-7daa-4cfc-b694-fb7c66748cb6",
   "metadata": {},
   "outputs": [
    {
     "name": "stderr",
     "output_type": "stream",
     "text": [
      "2023-12-06 17:47:30.842018: I tensorflow/core/platform/cpu_feature_guard.cc:193] This TensorFlow binary is optimized with oneAPI Deep Neural Network Library (oneDNN) to use the following CPU instructions in performance-critical operations:  AVX2 AVX512F AVX512_VNNI FMA\n",
      "To enable them in other operations, rebuild TensorFlow with the appropriate compiler flags.\n",
      "2023-12-06 17:47:30.990699: I tensorflow/core/util/port.cc:104] oneDNN custom operations are on. You may see slightly different numerical results due to floating-point round-off errors from different computation orders. To turn them off, set the environment variable `TF_ENABLE_ONEDNN_OPTS=0`.\n",
      "2023-12-06 17:47:31.903994: W tensorflow/compiler/xla/stream_executor/platform/default/dso_loader.cc:64] Could not load dynamic library 'libnvinfer.so.7'; dlerror: libnvinfer.so.7: cannot open shared object file: No such file or directory; LD_LIBRARY_PATH: /usr/local/cuda/lib64:/usr/local/nccl2/lib:/usr/local/cuda/extras/CUPTI/lib64\n",
      "2023-12-06 17:47:31.904093: W tensorflow/compiler/xla/stream_executor/platform/default/dso_loader.cc:64] Could not load dynamic library 'libnvinfer_plugin.so.7'; dlerror: libnvinfer_plugin.so.7: cannot open shared object file: No such file or directory; LD_LIBRARY_PATH: /usr/local/cuda/lib64:/usr/local/nccl2/lib:/usr/local/cuda/extras/CUPTI/lib64\n",
      "2023-12-06 17:47:31.904102: W tensorflow/compiler/tf2tensorrt/utils/py_utils.cc:38] TF-TRT Warning: Cannot dlopen some TensorRT libraries. If you would like to use Nvidia GPU with TensorRT, please make sure the missing libraries mentioned above are installed properly.\n"
     ]
    }
   ],
   "source": [
    "import numpy as np\n",
    "import pandas as pd\n",
    "import tensorflow as tf\n",
    "from gensim.models import Word2Vec\n",
    "import matplotlib.pyplot as plt\n",
    "import seaborn as sns\n",
    "from tensorflow import keras\n",
    "from keras import layers\n",
    "from sklearn.model_selection import train_test_split\n",
    "from keras.preprocessing.text import Tokenizer, text_to_word_sequence\n",
    "from keras.utils import pad_sequences\n",
    "from keras.preprocessing import sequence\n",
    "from keras.models import Sequential\n",
    "from keras.layers import Embedding, LSTM, Dense, Masking\n"
   ]
  },
  {
   "cell_type": "markdown",
   "id": "7c57be40",
   "metadata": {},
   "source": [
    "## Data"
   ]
  },
  {
   "cell_type": "code",
   "execution_count": 2,
   "id": "f2c4ad58",
   "metadata": {},
   "outputs": [
    {
     "data": {
      "text/html": [
       "<div>\n",
       "<style scoped>\n",
       "    .dataframe tbody tr th:only-of-type {\n",
       "        vertical-align: middle;\n",
       "    }\n",
       "\n",
       "    .dataframe tbody tr th {\n",
       "        vertical-align: top;\n",
       "    }\n",
       "\n",
       "    .dataframe thead th {\n",
       "        text-align: right;\n",
       "    }\n",
       "</style>\n",
       "<table border=\"1\" class=\"dataframe\">\n",
       "  <thead>\n",
       "    <tr style=\"text-align: right;\">\n",
       "      <th></th>\n",
       "      <th>text</th>\n",
       "      <th>is_fake</th>\n",
       "    </tr>\n",
       "  </thead>\n",
       "  <tbody>\n",
       "    <tr>\n",
       "      <th>0</th>\n",
       "      <td>Donald Trump just couldn t wish all Americans ...</td>\n",
       "      <td>1</td>\n",
       "    </tr>\n",
       "    <tr>\n",
       "      <th>1</th>\n",
       "      <td>House Intelligence Committee Chairman Devin Nu...</td>\n",
       "      <td>1</td>\n",
       "    </tr>\n",
       "    <tr>\n",
       "      <th>2</th>\n",
       "      <td>On Friday, it was revealed that former Milwauk...</td>\n",
       "      <td>1</td>\n",
       "    </tr>\n",
       "    <tr>\n",
       "      <th>3</th>\n",
       "      <td>On Christmas day, Donald Trump announced that ...</td>\n",
       "      <td>1</td>\n",
       "    </tr>\n",
       "    <tr>\n",
       "      <th>4</th>\n",
       "      <td>Pope Francis used his annual Christmas Day mes...</td>\n",
       "      <td>1</td>\n",
       "    </tr>\n",
       "  </tbody>\n",
       "</table>\n",
       "</div>"
      ],
      "text/plain": [
       "                                                text  is_fake\n",
       "0  Donald Trump just couldn t wish all Americans ...        1\n",
       "1  House Intelligence Committee Chairman Devin Nu...        1\n",
       "2  On Friday, it was revealed that former Milwauk...        1\n",
       "3  On Christmas day, Donald Trump announced that ...        1\n",
       "4  Pope Francis used his annual Christmas Day mes...        1"
      ]
     },
     "execution_count": 2,
     "metadata": {},
     "output_type": "execute_result"
    }
   ],
   "source": [
    "data= pd.read_csv('data/merged.csv')\n",
    "data.head(5)\n"
   ]
  },
  {
   "cell_type": "markdown",
   "id": "ad16ff69",
   "metadata": {},
   "source": [
    "## Preprocess"
   ]
  },
  {
   "cell_type": "code",
   "execution_count": 3,
   "id": "5e2d3cfe",
   "metadata": {},
   "outputs": [],
   "source": [
    "X= data.text\n",
    "y= data.is_fake\n"
   ]
  },
  {
   "cell_type": "code",
   "execution_count": 4,
   "id": "c27dfec3",
   "metadata": {},
   "outputs": [
    {
     "data": {
      "text/plain": [
       "<Axes: ylabel='Count'>"
      ]
     },
     "execution_count": 4,
     "metadata": {},
     "output_type": "execute_result"
    },
    {
     "data": {
      "image/png": "[encoded data removed]",
      "text/plain": [
       "<Figure size 640x480 with 1 Axes>"
      ]
     },
     "metadata": {},
     "output_type": "display_data"
    }
   ],
   "source": [
    "text_len= [len(texts.split()) for texts in data['text']]\n",
    "sns.histplot(text_len, bins=50)\n"
   ]
  },
  {
   "cell_type": "code",
   "execution_count": 5,
   "id": "f3035125",
   "metadata": {},
   "outputs": [],
   "source": [
    "X_train, X_test, y_train, y_test= train_test_split(X, y, test_size= 0.3, random_state=42)\n"
   ]
  },
  {
   "cell_type": "code",
   "execution_count": 6,
   "id": "8918bbe9",
   "metadata": {},
   "outputs": [
    {
     "data": {
      "text/plain": [
       "34170    Germany will wait for Israeli prosecutors to c...\n",
       "32020    Two Maldivians suspected of having links to Is...\n",
       "9181     This bombshell just in is more evidence of the...\n",
       "35507    LONDONDERRY, Northern Ireland William Jackson ...\n",
       "13614    Donald Trump won the state of Indiana in a lan...\n",
       "Name: text, dtype: object"
      ]
     },
     "execution_count": 6,
     "metadata": {},
     "output_type": "execute_result"
    }
   ],
   "source": [
    "X_train.head(5)\n"
   ]
  },
  {
   "cell_type": "code",
   "execution_count": 7,
   "id": "aeb36cff",
   "metadata": {},
   "outputs": [],
   "source": [
    "X_train_split= [text_to_word_sequence(t) for t in X_train]\n"
   ]
  },
  {
   "cell_type": "code",
   "execution_count": 8,
   "id": "ab82bdee",
   "metadata": {},
   "outputs": [],
   "source": [
    "X_test_split= [text_to_word_sequence(t) for t in X_test]\n"
   ]
  },
  {
   "cell_type": "code",
   "execution_count": 9,
   "id": "f3ce0a33",
   "metadata": {},
   "outputs": [
    {
     "data": {
      "text/plain": [
       "27060"
      ]
     },
     "execution_count": 9,
     "metadata": {},
     "output_type": "execute_result"
    }
   ],
   "source": [
    "len(X_train_split)\n"
   ]
  },
  {
   "cell_type": "code",
   "execution_count": 10,
   "id": "155c5910",
   "metadata": {},
   "outputs": [],
   "source": [
    "X_trial= X_test_split[0:100]\n"
   ]
  },
  {
   "cell_type": "code",
   "execution_count": 73,
   "id": "55fafc51",
   "metadata": {},
   "outputs": [],
   "source": [
    "w2v= Word2Vec(sentences= X_train_split, vector_size=100, window=5)\n",
    "word= w2v.wv\n"
   ]
  },
  {
   "cell_type": "code",
   "execution_count": 12,
   "id": "8ed73aa5",
   "metadata": {},
   "outputs": [],
   "source": [
    "#word.most_similar('germany')\n"
   ]
  },
  {
   "cell_type": "code",
   "execution_count": 13,
   "id": "7053326d",
   "metadata": {},
   "outputs": [],
   "source": [
    "#len(word.key_to_index)\n"
   ]
  },
  {
   "cell_type": "code",
   "execution_count": 15,
   "id": "7b520915",
   "metadata": {},
   "outputs": [
    {
     "data": {
      "text/plain": [
       "array([-1.0904212e+00, -1.1166930e+00, -2.1644680e-01,  1.0979851e-01,\n",
       "        6.3740742e-01,  5.1237446e-01, -3.2019036e+00, -9.4369054e-01,\n",
       "       -4.4362275e-03, -1.2661978e+00, -3.2077935e+00,  7.3227870e-01,\n",
       "       -4.2353485e-02, -2.5122290e+00, -5.3537685e-01, -2.5612447e+00,\n",
       "       -3.8377267e-01, -2.4498012e+00, -6.5419036e-01, -4.2750615e-01,\n",
       "       -3.8106880e-01,  2.5917119e-01, -1.5136760e-01,  2.5822586e-01,\n",
       "       -3.3896968e-01,  2.7223983e+00, -2.7344327e+00,  6.0505468e-01,\n",
       "        1.4128008e+00,  2.7106245e+00,  1.9781609e+00,  1.8477416e+00,\n",
       "       -4.0246177e-01,  9.2065394e-01, -3.4333441e-01, -7.8640425e-01,\n",
       "       -1.8388469e+00,  1.3310367e+00,  2.3092821e+00,  1.7648098e+00,\n",
       "        2.1149480e+00,  3.7186716e+00,  7.7547073e-01,  2.1616264e-01,\n",
       "        1.2355202e+00, -4.3487284e-01,  5.7772942e+00, -5.6806266e-01,\n",
       "        5.2215617e-02, -3.7404628e+00], dtype=float32)"
      ]
     },
     "execution_count": 15,
     "metadata": {},
     "output_type": "execute_result"
    }
   ],
   "source": [
    "word['make']\n"
   ]
  },
  {
   "cell_type": "code",
   "execution_count": 74,
   "id": "e3139a45",
   "metadata": {},
   "outputs": [],
   "source": [
    "# Convert the text into a matrix of the words in the embedding space\n",
    "def embed_sentence(w2v, text):\n",
    "    embedded_text = []\n",
    "    for words in text:\n",
    "        if words in w2v.wv:\n",
    "            embedded_text.append(w2v.wv[words])\n",
    "\n",
    "    return np.array(embedded_text)\n",
    "\n",
    "# Function that converts a list of sentences into a list of matrices\n",
    "def embedding(w2v, texts):\n",
    "    embed = []\n",
    "\n",
    "    for text in texts:\n",
    "        embedded_text = embed_sentence(w2v, text)\n",
    "        embed.append(embedded_text)\n",
    "\n",
    "    return embed\n",
    "\n",
    "# Embed the training and test sentences\n",
    "X_train_embed = embedding(w2v, X_train_split)\n",
    "X_test_embed = embedding(w2v, X_test_split)\n"
   ]
  },
  {
   "cell_type": "code",
   "execution_count": 17,
   "id": "3bf42477",
   "metadata": {},
   "outputs": [
    {
     "data": {
      "text/plain": [
       "5471"
      ]
     },
     "execution_count": 17,
     "metadata": {},
     "output_type": "execute_result"
    }
   ],
   "source": [
    "#eemax(text_len)\n"
   ]
  },
  {
   "cell_type": "code",
   "execution_count": 18,
   "id": "9f641a58",
   "metadata": {},
   "outputs": [
    {
     "data": {
      "text/plain": [
       "0"
      ]
     },
     "execution_count": 18,
     "metadata": {},
     "output_type": "execute_result"
    }
   ],
   "source": [
    "#min(text_len)\n"
   ]
  },
  {
   "cell_type": "code",
   "execution_count": null,
   "id": "7329bb1d-abcc-4bdd-b56d-ec5d32e35118",
   "metadata": {},
   "outputs": [],
   "source": []
  },
  {
   "cell_type": "code",
   "execution_count": 78,
   "id": "3782904d",
   "metadata": {},
   "outputs": [],
   "source": [
    "# Pad the training and test embedded sentences\n",
    "X_train_pad = pad_sequences(X_train_embed,truncating='post', maxlen=500)\n",
    "X_test_pad = pad_sequences(X_test_embed, truncating='post', maxlen=500)\n"
   ]
  },
  {
   "cell_type": "code",
   "execution_count": 79,
   "id": "e4ab0d5c-eb3f-4e27-a7c0-1527d7e71bc7",
   "metadata": {
    "tags": []
   },
   "outputs": [
    {
     "data": {
      "text/plain": [
       "(27060, 500, 100)"
      ]
     },
     "execution_count": 79,
     "metadata": {},
     "output_type": "execute_result"
    }
   ],
   "source": [
    "X_train_pad.shape"
   ]
  },
  {
   "cell_type": "code",
   "execution_count": 80,
   "id": "7b111304",
   "metadata": {},
   "outputs": [],
   "source": [
    "model= Sequential()\n",
    "model.add(layers.Masking(mask_value=0, input_shape=(500,100)))\n",
    "model.add(LSTM(15, activation='tanh'))\n",
    "model.add(Dense(1, activation='sigmoid'))\n",
    "model.compile(loss='binary_crossentropy',\n",
    "                  optimizer='adam',\n",
    "                  metrics=['accuracy'])\n"
   ]
  },
  {
   "cell_type": "code",
   "execution_count": 81,
   "id": "59e9d8e7",
   "metadata": {},
   "outputs": [
    {
     "name": "stdout",
     "output_type": "stream",
     "text": [
      "Epoch 1/10\n",
      "846/846 [==============================] - 165s 190ms/step - loss: 0.1992 - accuracy: 0.9314\n",
      "Epoch 2/10\n",
      "846/846 [==============================] - 161s 190ms/step - loss: 0.1182 - accuracy: 0.9658\n",
      "Epoch 3/10\n",
      "846/846 [==============================] - 161s 190ms/step - loss: 0.1483 - accuracy: 0.9542\n",
      "Epoch 4/10\n",
      "846/846 [==============================] - 161s 191ms/step - loss: 0.1214 - accuracy: 0.9604\n",
      "Epoch 5/10\n",
      "846/846 [==============================] - 162s 191ms/step - loss: 0.0833 - accuracy: 0.9746\n",
      "Epoch 6/10\n",
      "846/846 [==============================] - 162s 191ms/step - loss: 0.0855 - accuracy: 0.9724\n",
      "Epoch 7/10\n",
      "846/846 [==============================] - 162s 192ms/step - loss: 0.0741 - accuracy: 0.9780\n",
      "Epoch 8/10\n",
      "846/846 [==============================] - 162s 191ms/step - loss: 0.0694 - accuracy: 0.9787\n",
      "Epoch 9/10\n",
      "846/846 [==============================] - 162s 192ms/step - loss: 0.0791 - accuracy: 0.9754\n",
      "Epoch 10/10\n",
      "846/846 [==============================] - 162s 192ms/step - loss: 0.0581 - accuracy: 0.9843\n"
     ]
    },
    {
     "data": {
      "text/plain": [
       "<keras.callbacks.History at 0x7f253e736890>"
      ]
     },
     "execution_count": 81,
     "metadata": {},
     "output_type": "execute_result"
    }
   ],
   "source": [
    "model.fit(X_train_pad, y_new, batch_size=32, epochs=10)\n"
   ]
  },
  {
   "cell_type": "code",
   "execution_count": 82,
   "id": "955b334f",
   "metadata": {
    "tags": []
   },
   "outputs": [
    {
     "name": "stdout",
     "output_type": "stream",
     "text": [
      "363/363 [==============================] - 18s 46ms/step - loss: 0.0643 - accuracy: 0.9797\n"
     ]
    },
    {
     "data": {
      "text/plain": [
       "[0.06429438292980194, 0.9797378778457642]"
      ]
     },
     "execution_count": 82,
     "metadata": {},
     "output_type": "execute_result"
    }
   ],
   "source": [
    "model.evaluate(X_test_pad, y_test)"
   ]
  },
  {
   "cell_type": "code",
   "execution_count": 95,
   "id": "49387009-cd3f-4e11-ae18-bf0f70e432a9",
   "metadata": {},
   "outputs": [],
   "source": [
    "data= pd.read_csv('data/merged.csv')\n",
    "\n",
    "X= data.text\n",
    "y= data.is_fake"
   ]
  },
  {
   "cell_type": "code",
   "execution_count": 96,
   "id": "4ede0c0b-60eb-44a0-aef1-202f0214a42d",
   "metadata": {},
   "outputs": [],
   "source": [
    "X_train, X_test, y_train, y_test= train_test_split(X, y, test_size= 0.3, random_state=42)\n",
    "\n",
    "X_train_split= [text_to_word_sequence(t) for t in X_train]\n",
    "X_train_split= [text_to_word_sequence(t) for t in X_train]"
   ]
  },
  {
   "cell_type": "code",
   "execution_count": null,
   "id": "a14e10dc-7f7f-4142-93db-92deb66ffc2f",
   "metadata": {},
   "outputs": [],
   "source": []
  },
  {
   "cell_type": "code",
   "execution_count": 97,
   "id": "2920130c-4038-4cf1-b876-049d1f4ec88d",
   "metadata": {},
   "outputs": [],
   "source": [
    "w2v= Word2Vec(sentences= X_train_split, vector_size=100, window=5)\n",
    "word= w2v.wv\n"
   ]
  },
  {
   "cell_type": "code",
   "execution_count": 99,
   "id": "cd49c6b4-53e4-4e95-9c8b-efc4ecd7c8d5",
   "metadata": {
    "tags": []
   },
   "outputs": [],
   "source": [
    "X_train_embed = embedding(w2v, X_train_split)\n",
    "X_test_embed = embedding(w2v, X_test_split)\n",
    "\n",
    "X_train_pad = pad_sequences(X_train_embed,truncating='post', maxlen=500)\n",
    "X_test_pad = pad_sequences(X_test_embed, truncating='post', maxlen=500)\n"
   ]
  },
  {
   "cell_type": "code",
   "execution_count": 100,
   "id": "c4ec8a08",
   "metadata": {
    "tags": []
   },
   "outputs": [
    {
     "name": "stdout",
     "output_type": "stream",
     "text": [
      "Epoch 1/1000\n",
      "677/677 [==============================] - 141s 208ms/step - loss: 0.0893 - accuracy: 0.9737 - val_loss: 0.0814 - val_accuracy: 0.9756\n",
      "Epoch 2/1000\n",
      "677/677 [==============================] - 140s 207ms/step - loss: 0.0594 - accuracy: 0.9832 - val_loss: 0.0669 - val_accuracy: 0.9790\n",
      "Epoch 3/1000\n",
      "677/677 [==============================] - 140s 207ms/step - loss: 0.0611 - accuracy: 0.9830 - val_loss: 0.0740 - val_accuracy: 0.9809\n",
      "Epoch 4/1000\n",
      "677/677 [==============================] - 141s 208ms/step - loss: 0.0697 - accuracy: 0.9810 - val_loss: 0.0755 - val_accuracy: 0.9805\n",
      "Epoch 5/1000\n",
      "677/677 [==============================] - 140s 207ms/step - loss: 0.0718 - accuracy: 0.9808 - val_loss: 0.0927 - val_accuracy: 0.9746\n",
      "Epoch 6/1000\n",
      "677/677 [==============================] - 141s 208ms/step - loss: 0.0758 - accuracy: 0.9787 - val_loss: 0.1026 - val_accuracy: 0.9724\n",
      "Epoch 7/1000\n",
      "677/677 [==============================] - 141s 209ms/step - loss: 0.0775 - accuracy: 0.9773 - val_loss: 0.0715 - val_accuracy: 0.9812\n"
     ]
    },
    {
     "data": {
      "text/plain": [
       "<keras.callbacks.History at 0x7f253e9e2d70>"
      ]
     },
     "execution_count": 100,
     "metadata": {},
     "output_type": "execute_result"
    }
   ],
   "source": [
    "from keras.callbacks import History, EarlyStopping\n",
    "\n",
    "history= History()\n",
    "es= EarlyStopping(patience=5, restore_best_weights=True)\n",
    "\n",
    "model.fit(X_train_pad, y_new, batch_size=32, epochs=1000, validation_split=0.2, callbacks=[history, es])"
   ]
  },
  {
   "cell_type": "code",
   "execution_count": 101,
   "id": "737b12a5-88da-4d80-bcb1-b3cb45136a62",
   "metadata": {
    "tags": []
   },
   "outputs": [
    {
     "data": {
      "image/png": "[encoded data removed]",
      "text/plain": [
       "<Figure size 1200x600 with 2 Axes>"
      ]
     },
     "metadata": {},
     "output_type": "display_data"
    }
   ],
   "source": [
    "# Plotting the learning curve\n",
    "def plot_learning_curve(history):\n",
    "    # Extract training and validation loss and accuracy from the history object\n",
    "    train_loss = history.history['loss']\n",
    "    val_loss = history.history['val_loss']\n",
    "    train_accuracy = history.history['accuracy']\n",
    "    val_accuracy = history.history['val_accuracy']\n",
    "\n",
    "    # Plotting training and validation loss\n",
    "    plt.figure(figsize=(12, 6))\n",
    "    plt.subplot(1, 2, 1)\n",
    "    plt.plot(train_loss, label='Training Loss')\n",
    "    plt.plot(val_loss, label='Validation Loss')\n",
    "    plt.title('Training and Validation Loss')\n",
    "    plt.xlabel('Epoch')\n",
    "    plt.ylabel('Loss')\n",
    "    plt.legend()\n",
    "\n",
    "    # Plotting training and validation accuracy\n",
    "    plt.subplot(1, 2, 2)\n",
    "    plt.plot(train_accuracy, label='Training Accuracy')\n",
    "    plt.plot(val_accuracy, label='Validation Accuracy')\n",
    "    plt.title('Training and Validation Accuracy')\n",
    "    plt.xlabel('Epoch')\n",
    "    plt.ylabel('Accuracy')\n",
    "    plt.legend()\n",
    "\n",
    "    # Display the plots\n",
    "    plt.tight_layout()\n",
    "    plt.show()\n",
    "\n",
    "# Plot the learning curve\n",
    "plot_learning_curve(history)"
   ]
  },
  {
   "cell_type": "code",
   "execution_count": 102,
   "id": "1e08071f-e095-446f-b158-4197742e5026",
   "metadata": {
    "tags": []
   },
   "outputs": [],
   "source": [
    "df = pd.read_csv('fake_update.csv', quotechar='\"')"
   ]
  },
  {
   "cell_type": "code",
   "execution_count": null,
   "id": "eeebc78f-fe23-415c-b9a5-d116bdd72ff7",
   "metadata": {},
   "outputs": [],
   "source": []
  }
 ],
 "metadata": {
  "environment": {
   "kernel": "python3",
   "name": "tf2-cpu.2-11.m113",
   "type": "gcloud",
   "uri": "gcr.io/deeplearning-platform-release/tf2-cpu.2-11:m113"
  },
  "kernelspec": {
   "display_name": "Python 3",
   "language": "python",
   "name": "python3"
  },
  "language_info": {
   "codemirror_mode": {
    "name": "ipython",
    "version": 3
   },
   "file_extension": ".py",
   "mimetype": "text/x-python",
   "name": "python",
   "nbconvert_exporter": "python",
   "pygments_lexer": "ipython3",
   "version": "3.10.13"
  }
 },
 "nbformat": 4,
 "nbformat_minor": 5
}
