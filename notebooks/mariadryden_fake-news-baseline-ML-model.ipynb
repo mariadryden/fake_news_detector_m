{
 "cells": [
  {
   "cell_type": "markdown",
   "id": "0fde9533",
   "metadata": {},
   "source": [
    "# Creating Baseline ML Model"
   ]
  },
  {
   "cell_type": "markdown",
   "id": "439de378",
   "metadata": {},
   "source": [
    "### Imports"
   ]
  },
  {
   "cell_type": "code",
   "execution_count": null,
   "id": "9d0fca97",
   "metadata": {
    "hideCode": true
   },
   "outputs": [],
   "source": [
    "import pandas as pd\n",
    "from sklearn.model_selection import train_test_split\n",
    "from sklearn.feature_extraction.text import CountVectorizer, TfidfVectorizer\n",
    "from sklearn.naive_bayes import MultinomialNB\n",
    "from sklearn.metrics import accuracy_score, classification_report"
   ]
  },
  {
   "cell_type": "markdown",
   "id": "19a793c7",
   "metadata": {},
   "source": [
    "## Loading datasets"
   ]
  },
  {
   "cell_type": "code",
   "execution_count": 2,
   "id": "4d10ec03",
   "metadata": {},
   "outputs": [],
   "source": [
    "truth = pd.read_csv('../raw_data/True.csv')\n",
    "fake = pd.read_csv('../raw_data/Fake.csv')"
   ]
  },
  {
   "cell_type": "markdown",
   "id": "ed53cbc2",
   "metadata": {},
   "source": [
    "## Cleaning Data"
   ]
  },
  {
   "cell_type": "code",
   "execution_count": 3,
   "id": "3965d1ff",
   "metadata": {},
   "outputs": [],
   "source": [
    "# Dropping unnecessary columns\n",
    "\n",
    "truth = truth.drop(columns=['title', 'subject', 'date'])\n",
    "fake = fake.drop(columns=['title', 'subject', 'date'])"
   ]
  },
  {
   "cell_type": "code",
   "execution_count": 4,
   "id": "6ae4a128",
   "metadata": {},
   "outputs": [],
   "source": [
    "# Creating 'isfake' column (0 = truth, 1 = fake)\n",
    "\n",
    "truth['isfake'] = 0\n",
    "fake['isfake'] = 1"
   ]
  },
  {
   "cell_type": "code",
   "execution_count": 5,
   "id": "989fe00b",
   "metadata": {},
   "outputs": [
    {
     "data": {
      "text/html": [
       "<div>\n",
       "<style scoped>\n",
       "    .dataframe tbody tr th:only-of-type {\n",
       "        vertical-align: middle;\n",
       "    }\n",
       "\n",
       "    .dataframe tbody tr th {\n",
       "        vertical-align: top;\n",
       "    }\n",
       "\n",
       "    .dataframe thead th {\n",
       "        text-align: right;\n",
       "    }\n",
       "</style>\n",
       "<table border=\"1\" class=\"dataframe\">\n",
       "  <thead>\n",
       "    <tr style=\"text-align: right;\">\n",
       "      <th></th>\n",
       "      <th>text</th>\n",
       "      <th>isfake</th>\n",
       "    </tr>\n",
       "  </thead>\n",
       "  <tbody>\n",
       "    <tr>\n",
       "      <th>0</th>\n",
       "      <td>WASHINGTON (Reuters) - The head of a conservat...</td>\n",
       "      <td>0</td>\n",
       "    </tr>\n",
       "    <tr>\n",
       "      <th>1</th>\n",
       "      <td>WASHINGTON (Reuters) - Transgender people will...</td>\n",
       "      <td>0</td>\n",
       "    </tr>\n",
       "    <tr>\n",
       "      <th>2</th>\n",
       "      <td>WASHINGTON (Reuters) - The special counsel inv...</td>\n",
       "      <td>0</td>\n",
       "    </tr>\n",
       "    <tr>\n",
       "      <th>3</th>\n",
       "      <td>WASHINGTON (Reuters) - Trump campaign adviser ...</td>\n",
       "      <td>0</td>\n",
       "    </tr>\n",
       "    <tr>\n",
       "      <th>4</th>\n",
       "      <td>SEATTLE/WASHINGTON (Reuters) - President Donal...</td>\n",
       "      <td>0</td>\n",
       "    </tr>\n",
       "    <tr>\n",
       "      <th>...</th>\n",
       "      <td>...</td>\n",
       "      <td>...</td>\n",
       "    </tr>\n",
       "    <tr>\n",
       "      <th>44893</th>\n",
       "      <td>21st Century Wire says As 21WIRE reported earl...</td>\n",
       "      <td>1</td>\n",
       "    </tr>\n",
       "    <tr>\n",
       "      <th>44894</th>\n",
       "      <td>21st Century Wire says It s a familiar theme. ...</td>\n",
       "      <td>1</td>\n",
       "    </tr>\n",
       "    <tr>\n",
       "      <th>44895</th>\n",
       "      <td>Patrick Henningsen  21st Century WireRemember ...</td>\n",
       "      <td>1</td>\n",
       "    </tr>\n",
       "    <tr>\n",
       "      <th>44896</th>\n",
       "      <td>21st Century Wire says Al Jazeera America will...</td>\n",
       "      <td>1</td>\n",
       "    </tr>\n",
       "    <tr>\n",
       "      <th>44897</th>\n",
       "      <td>21st Century Wire says As 21WIRE predicted in ...</td>\n",
       "      <td>1</td>\n",
       "    </tr>\n",
       "  </tbody>\n",
       "</table>\n",
       "<p>44898 rows × 2 columns</p>\n",
       "</div>"
      ],
      "text/plain": [
       "                                                    text  isfake\n",
       "0      WASHINGTON (Reuters) - The head of a conservat...       0\n",
       "1      WASHINGTON (Reuters) - Transgender people will...       0\n",
       "2      WASHINGTON (Reuters) - The special counsel inv...       0\n",
       "3      WASHINGTON (Reuters) - Trump campaign adviser ...       0\n",
       "4      SEATTLE/WASHINGTON (Reuters) - President Donal...       0\n",
       "...                                                  ...     ...\n",
       "44893  21st Century Wire says As 21WIRE reported earl...       1\n",
       "44894  21st Century Wire says It s a familiar theme. ...       1\n",
       "44895  Patrick Henningsen  21st Century WireRemember ...       1\n",
       "44896  21st Century Wire says Al Jazeera America will...       1\n",
       "44897  21st Century Wire says As 21WIRE predicted in ...       1\n",
       "\n",
       "[44898 rows x 2 columns]"
      ]
     },
     "execution_count": 5,
     "metadata": {},
     "output_type": "execute_result"
    }
   ],
   "source": [
    "# Concatenating both df's\n",
    "\n",
    "news = pd.concat([truth, fake], axis=0, ignore_index=True)\n",
    "news"
   ]
  },
  {
   "cell_type": "markdown",
   "id": "8e7c5ce1",
   "metadata": {},
   "source": [
    "## Preprocessing Data"
   ]
  },
  {
   "cell_type": "code",
   "execution_count": 6,
   "id": "c1c691cc",
   "metadata": {},
   "outputs": [],
   "source": [
    "# ID features and target\n",
    "\n",
    "X = news.text\n",
    "y = news.isfake"
   ]
  },
  {
   "cell_type": "code",
   "execution_count": 8,
   "id": "bf5e50ca",
   "metadata": {},
   "outputs": [],
   "source": [
    "# Split the dataset into training and testing sets\n",
    "X_train, X_test, y_train, y_test = train_test_split(X, y, test_size=0.2, random_state=42)\n",
    "\n",
    "vectorizer = TfidfVectorizer(max_features=5000)  \n",
    "X_train_vectorized = vectorizer.fit_transform(X_train)\n",
    "X_test_vectorized = vectorizer.transform(X_test)"
   ]
  },
  {
   "cell_type": "markdown",
   "id": "b6f6a274",
   "metadata": {},
   "source": [
    "## Train MultinomialNB Model"
   ]
  },
  {
   "cell_type": "code",
   "execution_count": 9,
   "id": "166166c4",
   "metadata": {},
   "outputs": [
    {
     "name": "stdout",
     "output_type": "stream",
     "text": [
      "Accuracy: 0.9347\n",
      "              precision    recall  f1-score   support\n",
      "\n",
      "           0       0.93      0.93      0.93      4330\n",
      "           1       0.93      0.94      0.94      4650\n",
      "\n",
      "    accuracy                           0.93      8980\n",
      "   macro avg       0.93      0.93      0.93      8980\n",
      "weighted avg       0.93      0.93      0.93      8980\n",
      "\n"
     ]
    }
   ],
   "source": [
    "# Train the Multinomial Naive Bayes model\n",
    "clf = MultinomialNB()\n",
    "clf.fit(X_train_vectorized, y_train)\n",
    "\n",
    "# Make predictions on the test set\n",
    "y_pred = clf.predict(X_test_vectorized)\n",
    "\n",
    "# Evaluate the model\n",
    "accuracy = accuracy_score(y_test, y_pred)\n",
    "print(f'Accuracy: {accuracy:.4f}')\n",
    "\n",
    "# Print classification report\n",
    "print(classification_report(y_test, y_pred))"
   ]
  },
  {
   "cell_type": "markdown",
   "id": "1e95948e",
   "metadata": {},
   "source": [
    "## New Article"
   ]
  },
  {
   "cell_type": "code",
   "execution_count": 12,
   "id": "984317b1",
   "metadata": {},
   "outputs": [
    {
     "name": "stdout",
     "output_type": "stream",
     "text": [
      "The text is classified as fake.\n"
     ]
    }
   ],
   "source": [
    "# New text to classify\n",
    "new_text = '''Former President Donald J. Trump, who has been indicted by federal prosecutors for conspiracy to defraud the United States in connection with a plot to overturn the 2020 election, repeatedly claimed to supporters in Iowa on Saturday that it was President Biden who posed a severe threat to American democracy.\n",
    "\n",
    "While Mr. Trump shattered democratic norms throughout his presidency and has faced voter concerns that he would do so again in a second term, the former president in his speech repeatedly accused Mr. Biden of corrupting politics and waging a repressive “all-out war” on America.\n",
    "\n",
    "”Joe Biden is not the defender of American democracy,” he said. “Joe Biden is the destroyer of American democracy.”\n",
    "\n",
    "Mr. Trump has made similar attacks on Mr. Biden a staple of his speeches in Iowa and elsewhere. He frequently accuses the president broadly of corruption and of weaponizing the Justice Department to influence the 2024 election.\n",
    "\n",
    "But in his second of two Iowa speeches on Saturday, held at a community college gym in Cedar Rapids, Mr. Trump sharpened that line of attack, suggesting a more concerted effort by his campaign to defend against accusations that Mr. Trump has an anti-democratic bent — by going on offense.\n",
    "\n",
    "Polls have shown that significant percentages of voters in both parties are concerned about threats to democracy. During the midterm elections, candidates who embraced Mr. Trump’s lie that the 2020 election was stolen from him were defeated, even in races in which voters did not rank “democracy” as a top concern.\n",
    "\n",
    "Mr. Biden’s re-election campaign has frequently attacked Mr. Trump along those lines. In recent weeks, Biden aides and allies have called attention to news reports about plans being made by Mr. Trump and his allies that would undermine central elements of American democracy, governing and the rule of law.\n",
    "\n",
    "Mr. Trump and his campaign have sought to dismiss such concerns as a concoction to scare voters. But on Saturday, they tried to turn the Biden campaign’s arguments back against the president.\n",
    "\n",
    "At the Cedar Rapids event, aides and volunteers left placards with bold black-and-white lettering reading “Biden attacks democracy” on the seats and bleachers. At the start of Mr. Trump's speech, that message was broadcast on a screen above the stage.\n",
    "\n",
    "Mr. Trump has a history of accusing his opponents of behavior that he himself is guilty of, the political equivalent of a “No, you are” playground retort. In a 2016 debate, when Hillary Clinton accused Mr. Trump of being a Russian puppet, Mr. Trump fired back with “You’re the puppet,” a comment he never explained.\n",
    "\n",
    "Mr. Trump’s accusations against Mr. Biden, which he referenced repeatedly throughout his speech, veered toward the conspiratorial. He claimed the president and his allies were seeking to control Americans’ speech, their behavior on social media and their purchases of cars and dishwashers.\n",
    "\n",
    "Without evidence, he accused Mr. Biden of being behind a nationwide effort to get Mr. Trump removed from the ballot in several states. And, as he has before, he claimed, again without evidence, that Mr. Biden was the mastermind behind the four criminal cases against him.\n",
    "\n",
    "Here, too, Mr. Trump conjured a nefarious-sounding presidential conspiracy, one with dark ramifications for ordinary Americans, not just for the former president being prosecuted. Mr. Biden and his allies “think they can do whatever they want,” Mr. Trump said — “break any law, tell any lie, ruin any life, trash any norm, and get away with anything they want. Anything they want.”\n",
    "\n",
    "Democrats suggested that the former president was projecting again.\n",
    "\n",
    "“Donald Trump’s America in 2025 is one where the government is his personal weapon to lock up his political enemies,” Ammar Moussa, a spokesman for Mr. Biden’s re-election campaign, said in a statement. “You don’t have to take our word for it — Trump has admitted it himself.”\n",
    "\n",
    "Even as he was insisting that Mr. Biden threatens democracy, Mr. Trump underscored his most antidemocratic campaign themes.\n",
    "\n",
    "Having said that he would use the Justice Department to “go after” the Biden family,  on Saturday, he swore that he would “investigate every Marxist prosecutor in America for their illegal, racist-in-reverse enforcement of the law.”\n",
    "\n",
    "Mr. Trump has frequently decried the cases brought him against by Black prosecutors in New York and Atlanta as racist. (He does not apply that charge to the white special counsel in his two federal criminal cases, who he instead calls “deranged.”)\n",
    "\n",
    "Yet Mr. Trump himself has a history of racist statements.\n",
    "\n",
    "At an earlier event on Saturday, where he sought to undermine confidence in election integrity well before the 2024 election, he urged supporters in Ankeny, a predominantly white suburb of Des Moines, to take a closer look at election results next year in Detroit, Philadelphia and Atlanta, three cities with large Black populations in swing states that he lost in 2020.\n",
    "\n",
    "“You should go into some of these places, and we’ve got to watch those votes when they come in,” Mr. Trump said. “When they’re being, you know, shoved around in wheelbarrows and dumped on the floor and everyone’s saying, ‘What’s going on?’\n",
    "\n",
    "“We’re like a third-world nation,” he added.\n",
    "\n",
    "Mr. Trump’s speeches on Saturday reflected how sharply he is focused on the general election rather than the Republican primary contest, in which he holds a commanding lead.\n",
    "\n",
    "With just over six weeks until the Iowa caucus, Mr. Trump dismissed his Republican rivals, mocking them for polling well behind him and denouncing Gov. Ron DeSantis of Florida as disloyal for deciding to run against him.\n",
    "\n",
    "He also attacked Iowa’s Republican governor, Kim Reynolds, for endorsing Mr. DeSantis and suggested her popularity had tumbled after she had spurned Mr. Trump.\n",
    "\n",
    "“You know, with your governor we had an issue,” Mr. Trump said, prompting a chorus of boos.'''\n",
    "\n",
    "# Vectorize the new text using the same vectorizer\n",
    "new_text_vectorized = vectorizer.transform([new_text])\n",
    "\n",
    "# Make predictions using the trained Multinomial Naive Bayes model\n",
    "prediction = clf.predict(new_text_vectorized)\n",
    "\n",
    "# Interpret the prediction\n",
    "if prediction[0] == 1:\n",
    "    print(\"The text is classified as fake.\")\n",
    "else:\n",
    "    print(\"The text is classified as real.\")"
   ]
  },
  {
   "cell_type": "code",
   "execution_count": null,
   "id": "f68b52e9",
   "metadata": {},
   "outputs": [],
   "source": []
  }
 ],
 "metadata": {
  "kernelspec": {
   "display_name": "Python 3 (ipykernel)",
   "language": "python",
   "name": "python3"
  },
  "language_info": {
   "codemirror_mode": {
    "name": "ipython",
    "version": 3
   },
   "file_extension": ".py",
   "mimetype": "text/x-python",
   "name": "python",
   "nbconvert_exporter": "python",
   "pygments_lexer": "ipython3",
   "version": "3.10.6"
  },
  "toc": {
   "base_numbering": 1,
   "nav_menu": {},
   "number_sections": true,
   "sideBar": true,
   "skip_h1_title": false,
   "title_cell": "Table of Contents",
   "title_sidebar": "Contents",
   "toc_cell": false,
   "toc_position": {},
   "toc_section_display": true,
   "toc_window_display": false
  },
  "varInspector": {
   "cols": {
    "lenName": 16,
    "lenType": 16,
    "lenVar": 40
   },
   "kernels_config": {
    "python": {
     "delete_cmd_postfix": "",
     "delete_cmd_prefix": "del ",
     "library": "var_list.py",
     "varRefreshCmd": "print(var_dic_list())"
    },
    "r": {
     "delete_cmd_postfix": ") ",
     "delete_cmd_prefix": "rm(",
     "library": "var_list.r",
     "varRefreshCmd": "cat(var_dic_list()) "
    }
   },
   "types_to_exclude": [
    "module",
    "function",
    "builtin_function_or_method",
    "instance",
    "_Feature"
   ],
   "window_display": false
  }
 },
 "nbformat": 4,
 "nbformat_minor": 5
}
