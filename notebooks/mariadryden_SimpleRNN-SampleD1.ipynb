{
 "cells": [
  {
   "cell_type": "code",
   "execution_count": 1,
   "id": "91cc2664",
   "metadata": {},
   "outputs": [
    {
     "name": "stderr",
     "output_type": "stream",
     "text": [
      "2023-12-07 15:37:35.628829: I tensorflow/core/platform/cpu_feature_guard.cc:193] This TensorFlow binary is optimized with oneAPI Deep Neural Network Library (oneDNN) to use the following CPU instructions in performance-critical operations:  AVX2 FMA\n",
      "To enable them in other operations, rebuild TensorFlow with the appropriate compiler flags.\n"
     ]
    }
   ],
   "source": [
    "import pandas as pd\n",
    "import matplotlib.pyplot as plt\n",
    "from sklearn.model_selection import train_test_split\n",
    "from keras.preprocessing.text import Tokenizer\n",
    "from keras.utils import pad_sequences\n",
    "from keras.models import Sequential\n",
    "from keras.layers import Embedding, LSTM, Dense, Dropout, SimpleRNN, Flatten\n",
    "from tensorflow.keras.regularizers import l2"
   ]
  },
  {
   "cell_type": "code",
   "execution_count": 2,
   "id": "3af6af79",
   "metadata": {},
   "outputs": [
    {
     "data": {
      "text/html": [
       "<div>\n",
       "<style scoped>\n",
       "    .dataframe tbody tr th:only-of-type {\n",
       "        vertical-align: middle;\n",
       "    }\n",
       "\n",
       "    .dataframe tbody tr th {\n",
       "        vertical-align: top;\n",
       "    }\n",
       "\n",
       "    .dataframe thead th {\n",
       "        text-align: right;\n",
       "    }\n",
       "</style>\n",
       "<table border=\"1\" class=\"dataframe\">\n",
       "  <thead>\n",
       "    <tr style=\"text-align: right;\">\n",
       "      <th></th>\n",
       "      <th>text</th>\n",
       "      <th>is_fake</th>\n",
       "    </tr>\n",
       "  </thead>\n",
       "  <tbody>\n",
       "    <tr>\n",
       "      <th>0</th>\n",
       "      <td>Donald Trump just couldn t wish all Americans ...</td>\n",
       "      <td>1</td>\n",
       "    </tr>\n",
       "    <tr>\n",
       "      <th>1</th>\n",
       "      <td>House Intelligence Committee Chairman Devin Nu...</td>\n",
       "      <td>1</td>\n",
       "    </tr>\n",
       "    <tr>\n",
       "      <th>2</th>\n",
       "      <td>On Friday, it was revealed that former Milwauk...</td>\n",
       "      <td>1</td>\n",
       "    </tr>\n",
       "    <tr>\n",
       "      <th>3</th>\n",
       "      <td>On Christmas day, Donald Trump announced that ...</td>\n",
       "      <td>1</td>\n",
       "    </tr>\n",
       "    <tr>\n",
       "      <th>4</th>\n",
       "      <td>Pope Francis used his annual Christmas Day mes...</td>\n",
       "      <td>1</td>\n",
       "    </tr>\n",
       "    <tr>\n",
       "      <th>...</th>\n",
       "      <td>...</td>\n",
       "      <td>...</td>\n",
       "    </tr>\n",
       "    <tr>\n",
       "      <th>38653</th>\n",
       "      <td>NATO allies on Tuesday welcomed President Dona...</td>\n",
       "      <td>0</td>\n",
       "    </tr>\n",
       "    <tr>\n",
       "      <th>38654</th>\n",
       "      <td>LexisNexis, a provider of legal, regulatory an...</td>\n",
       "      <td>0</td>\n",
       "    </tr>\n",
       "    <tr>\n",
       "      <th>38655</th>\n",
       "      <td>In the shadow of disused Soviet-era factories ...</td>\n",
       "      <td>0</td>\n",
       "    </tr>\n",
       "    <tr>\n",
       "      <th>38656</th>\n",
       "      <td>Vatican Secretary of State Cardinal Pietro Par...</td>\n",
       "      <td>0</td>\n",
       "    </tr>\n",
       "    <tr>\n",
       "      <th>38657</th>\n",
       "      <td>Indonesia will buy 11 Sukhoi fighter jets wort...</td>\n",
       "      <td>0</td>\n",
       "    </tr>\n",
       "  </tbody>\n",
       "</table>\n",
       "<p>38658 rows × 2 columns</p>\n",
       "</div>"
      ],
      "text/plain": [
       "                                                    text  is_fake\n",
       "0      Donald Trump just couldn t wish all Americans ...        1\n",
       "1      House Intelligence Committee Chairman Devin Nu...        1\n",
       "2      On Friday, it was revealed that former Milwauk...        1\n",
       "3      On Christmas day, Donald Trump announced that ...        1\n",
       "4      Pope Francis used his annual Christmas Day mes...        1\n",
       "...                                                  ...      ...\n",
       "38653  NATO allies on Tuesday welcomed President Dona...        0\n",
       "38654  LexisNexis, a provider of legal, regulatory an...        0\n",
       "38655  In the shadow of disused Soviet-era factories ...        0\n",
       "38656  Vatican Secretary of State Cardinal Pietro Par...        0\n",
       "38657  Indonesia will buy 11 Sukhoi fighter jets wort...        0\n",
       "\n",
       "[38658 rows x 2 columns]"
      ]
     },
     "execution_count": 2,
     "metadata": {},
     "output_type": "execute_result"
    }
   ],
   "source": [
    "data = pd.read_csv('../raw_data/merged_data.csv')\n",
    "data"
   ]
  },
  {
   "cell_type": "code",
   "execution_count": 3,
   "id": "0390721c",
   "metadata": {},
   "outputs": [],
   "source": [
    "import string\n",
    "from nltk.tokenize import word_tokenize\n",
    "from nltk.corpus import stopwords\n",
    "from nltk.stem import WordNetLemmatizer\n",
    "\n",
    "def cleaning(sentence):\n",
    "    \n",
    "    # Basic cleaning\n",
    "    sentence = sentence.strip() ## remove whitespaces\n",
    "    sentence = sentence.lower() ## lowercase \n",
    "    sentence = ''.join(char for char in sentence if not char.isdigit()) ## remove numbers\n",
    "    \n",
    "    # Advanced cleaning\n",
    "    for punctuation in string.punctuation:\n",
    "        sentence = sentence.replace(punctuation, '') ## remove punctuation\n",
    "    \n",
    "    tokenized_sentence = word_tokenize(sentence) ## tokenize \n",
    "    stop_words = set(stopwords.words('english')) ## define stopwords\n",
    "    \n",
    "    tokenized_sentence_cleaned = [ ## remove stopwords\n",
    "        w for w in tokenized_sentence if not w in stop_words\n",
    "    ]\n",
    "\n",
    "    lemmatized = [\n",
    "        WordNetLemmatizer().lemmatize(word, pos = \"v\") \n",
    "        for word in tokenized_sentence_cleaned\n",
    "    ]\n",
    "    \n",
    "    cleaned_sentence = ' '.join(word for word in lemmatized)\n",
    "    \n",
    "    return cleaned_sentence"
   ]
  },
  {
   "cell_type": "code",
   "execution_count": 4,
   "id": "00a2f2ad",
   "metadata": {},
   "outputs": [
    {
     "name": "stdout",
     "output_type": "stream",
     "text": [
      "CPU times: user 2min 44s, sys: 5.52 s, total: 2min 49s\n",
      "Wall time: 2min 55s\n"
     ]
    },
    {
     "data": {
      "text/html": [
       "<div>\n",
       "<style scoped>\n",
       "    .dataframe tbody tr th:only-of-type {\n",
       "        vertical-align: middle;\n",
       "    }\n",
       "\n",
       "    .dataframe tbody tr th {\n",
       "        vertical-align: top;\n",
       "    }\n",
       "\n",
       "    .dataframe thead th {\n",
       "        text-align: right;\n",
       "    }\n",
       "</style>\n",
       "<table border=\"1\" class=\"dataframe\">\n",
       "  <thead>\n",
       "    <tr style=\"text-align: right;\">\n",
       "      <th></th>\n",
       "      <th>text</th>\n",
       "      <th>is_fake</th>\n",
       "      <th>text_clean</th>\n",
       "    </tr>\n",
       "  </thead>\n",
       "  <tbody>\n",
       "    <tr>\n",
       "      <th>0</th>\n",
       "      <td>Donald Trump just couldn t wish all Americans ...</td>\n",
       "      <td>1</td>\n",
       "      <td>donald trump wish americans happy new year lea...</td>\n",
       "    </tr>\n",
       "    <tr>\n",
       "      <th>1</th>\n",
       "      <td>House Intelligence Committee Chairman Devin Nu...</td>\n",
       "      <td>1</td>\n",
       "      <td>house intelligence committee chairman devin nu...</td>\n",
       "    </tr>\n",
       "    <tr>\n",
       "      <th>2</th>\n",
       "      <td>On Friday, it was revealed that former Milwauk...</td>\n",
       "      <td>1</td>\n",
       "      <td>friday reveal former milwaukee sheriff david c...</td>\n",
       "    </tr>\n",
       "    <tr>\n",
       "      <th>3</th>\n",
       "      <td>On Christmas day, Donald Trump announced that ...</td>\n",
       "      <td>1</td>\n",
       "      <td>christmas day donald trump announce would back...</td>\n",
       "    </tr>\n",
       "    <tr>\n",
       "      <th>4</th>\n",
       "      <td>Pope Francis used his annual Christmas Day mes...</td>\n",
       "      <td>1</td>\n",
       "      <td>pope francis use annual christmas day message ...</td>\n",
       "    </tr>\n",
       "    <tr>\n",
       "      <th>...</th>\n",
       "      <td>...</td>\n",
       "      <td>...</td>\n",
       "      <td>...</td>\n",
       "    </tr>\n",
       "    <tr>\n",
       "      <th>38653</th>\n",
       "      <td>NATO allies on Tuesday welcomed President Dona...</td>\n",
       "      <td>0</td>\n",
       "      <td>nato ally tuesday welcome president donald tru...</td>\n",
       "    </tr>\n",
       "    <tr>\n",
       "      <th>38654</th>\n",
       "      <td>LexisNexis, a provider of legal, regulatory an...</td>\n",
       "      <td>0</td>\n",
       "      <td>lexisnexis provider legal regulatory business ...</td>\n",
       "    </tr>\n",
       "    <tr>\n",
       "      <th>38655</th>\n",
       "      <td>In the shadow of disused Soviet-era factories ...</td>\n",
       "      <td>0</td>\n",
       "      <td>shadow disused sovietera factories minsk stree...</td>\n",
       "    </tr>\n",
       "    <tr>\n",
       "      <th>38656</th>\n",
       "      <td>Vatican Secretary of State Cardinal Pietro Par...</td>\n",
       "      <td>0</td>\n",
       "      <td>vatican secretary state cardinal pietro paroli...</td>\n",
       "    </tr>\n",
       "    <tr>\n",
       "      <th>38657</th>\n",
       "      <td>Indonesia will buy 11 Sukhoi fighter jets wort...</td>\n",
       "      <td>0</td>\n",
       "      <td>indonesia buy sukhoi fighter jet worth billion...</td>\n",
       "    </tr>\n",
       "  </tbody>\n",
       "</table>\n",
       "<p>38658 rows × 3 columns</p>\n",
       "</div>"
      ],
      "text/plain": [
       "                                                    text  is_fake  \\\n",
       "0      Donald Trump just couldn t wish all Americans ...        1   \n",
       "1      House Intelligence Committee Chairman Devin Nu...        1   \n",
       "2      On Friday, it was revealed that former Milwauk...        1   \n",
       "3      On Christmas day, Donald Trump announced that ...        1   \n",
       "4      Pope Francis used his annual Christmas Day mes...        1   \n",
       "...                                                  ...      ...   \n",
       "38653  NATO allies on Tuesday welcomed President Dona...        0   \n",
       "38654  LexisNexis, a provider of legal, regulatory an...        0   \n",
       "38655  In the shadow of disused Soviet-era factories ...        0   \n",
       "38656  Vatican Secretary of State Cardinal Pietro Par...        0   \n",
       "38657  Indonesia will buy 11 Sukhoi fighter jets wort...        0   \n",
       "\n",
       "                                              text_clean  \n",
       "0      donald trump wish americans happy new year lea...  \n",
       "1      house intelligence committee chairman devin nu...  \n",
       "2      friday reveal former milwaukee sheriff david c...  \n",
       "3      christmas day donald trump announce would back...  \n",
       "4      pope francis use annual christmas day message ...  \n",
       "...                                                  ...  \n",
       "38653  nato ally tuesday welcome president donald tru...  \n",
       "38654  lexisnexis provider legal regulatory business ...  \n",
       "38655  shadow disused sovietera factories minsk stree...  \n",
       "38656  vatican secretary state cardinal pietro paroli...  \n",
       "38657  indonesia buy sukhoi fighter jet worth billion...  \n",
       "\n",
       "[38658 rows x 3 columns]"
      ]
     },
     "execution_count": 4,
     "metadata": {},
     "output_type": "execute_result"
    }
   ],
   "source": [
    "%%time\n",
    "\n",
    "data['text_clean'] = data['text'].apply(cleaning)\n",
    "data"
   ]
  },
  {
   "cell_type": "code",
   "execution_count": 5,
   "id": "154edb72",
   "metadata": {},
   "outputs": [],
   "source": [
    "# SAMPLE DATA (10%)\n",
    "\n",
    "sampled_data = data.sample(frac=0.1, random_state=42)"
   ]
  },
  {
   "cell_type": "code",
   "execution_count": 6,
   "id": "fb32e81f",
   "metadata": {},
   "outputs": [
    {
     "data": {
      "text/html": [
       "<div>\n",
       "<style scoped>\n",
       "    .dataframe tbody tr th:only-of-type {\n",
       "        vertical-align: middle;\n",
       "    }\n",
       "\n",
       "    .dataframe tbody tr th {\n",
       "        vertical-align: top;\n",
       "    }\n",
       "\n",
       "    .dataframe thead th {\n",
       "        text-align: right;\n",
       "    }\n",
       "</style>\n",
       "<table border=\"1\" class=\"dataframe\">\n",
       "  <thead>\n",
       "    <tr style=\"text-align: right;\">\n",
       "      <th></th>\n",
       "      <th>text</th>\n",
       "      <th>is_fake</th>\n",
       "      <th>text_clean</th>\n",
       "    </tr>\n",
       "  </thead>\n",
       "  <tbody>\n",
       "    <tr>\n",
       "      <th>2115</th>\n",
       "      <td>Sean Hannity might be one of the most disliked...</td>\n",
       "      <td>1</td>\n",
       "      <td>sean hannity might one dislike people televisi...</td>\n",
       "    </tr>\n",
       "    <tr>\n",
       "      <th>34938</th>\n",
       "      <td>Russia may send more Iskander tactical missile...</td>\n",
       "      <td>0</td>\n",
       "      <td>russia may send iskander tactical missiles kal...</td>\n",
       "    </tr>\n",
       "    <tr>\n",
       "      <th>13252</th>\n",
       "      <td>Ted Cruz has no interest in playing  Mr Nice G...</td>\n",
       "      <td>1</td>\n",
       "      <td>ted cruz interest play mr nice guy obama will ...</td>\n",
       "    </tr>\n",
       "    <tr>\n",
       "      <th>18238</th>\n",
       "      <td>A peace activist who laughed at then U.S. Sena...</td>\n",
       "      <td>0</td>\n",
       "      <td>peace activist laugh us senator jeff sessions ...</td>\n",
       "    </tr>\n",
       "    <tr>\n",
       "      <th>3931</th>\n",
       "      <td>Bill Maher surprisingly thanked Donald Trump o...</td>\n",
       "      <td>1</td>\n",
       "      <td>bill maher surprisingly thank donald trump fri...</td>\n",
       "    </tr>\n",
       "    <tr>\n",
       "      <th>...</th>\n",
       "      <td>...</td>\n",
       "      <td>...</td>\n",
       "      <td>...</td>\n",
       "    </tr>\n",
       "    <tr>\n",
       "      <th>13849</th>\n",
       "      <td>Every parent in the United States of America s...</td>\n",
       "      <td>1</td>\n",
       "      <td>every parent unite state america alarm covert ...</td>\n",
       "    </tr>\n",
       "    <tr>\n",
       "      <th>1959</th>\n",
       "      <td>It was just this morning that Donald Trump onc...</td>\n",
       "      <td>1</td>\n",
       "      <td>morning donald trump try ignore mount failures...</td>\n",
       "    </tr>\n",
       "    <tr>\n",
       "      <th>22220</th>\n",
       "      <td>An overhaul of Fannie Mae and Freddie Mac is h...</td>\n",
       "      <td>0</td>\n",
       "      <td>overhaul fannie mae freddie mac highly unlikel...</td>\n",
       "    </tr>\n",
       "    <tr>\n",
       "      <th>29477</th>\n",
       "      <td>Israeli troops shot dead four Palestinians and...</td>\n",
       "      <td>0</td>\n",
       "      <td>israeli troop shoot dead four palestinians wou...</td>\n",
       "    </tr>\n",
       "    <tr>\n",
       "      <th>36894</th>\n",
       "      <td>The United States hopes to find a diplomatic s...</td>\n",
       "      <td>0</td>\n",
       "      <td>unite state hop find diplomatic solution situa...</td>\n",
       "    </tr>\n",
       "  </tbody>\n",
       "</table>\n",
       "<p>3866 rows × 3 columns</p>\n",
       "</div>"
      ],
      "text/plain": [
       "                                                    text  is_fake  \\\n",
       "2115   Sean Hannity might be one of the most disliked...        1   \n",
       "34938  Russia may send more Iskander tactical missile...        0   \n",
       "13252  Ted Cruz has no interest in playing  Mr Nice G...        1   \n",
       "18238  A peace activist who laughed at then U.S. Sena...        0   \n",
       "3931   Bill Maher surprisingly thanked Donald Trump o...        1   \n",
       "...                                                  ...      ...   \n",
       "13849  Every parent in the United States of America s...        1   \n",
       "1959   It was just this morning that Donald Trump onc...        1   \n",
       "22220  An overhaul of Fannie Mae and Freddie Mac is h...        0   \n",
       "29477  Israeli troops shot dead four Palestinians and...        0   \n",
       "36894  The United States hopes to find a diplomatic s...        0   \n",
       "\n",
       "                                              text_clean  \n",
       "2115   sean hannity might one dislike people televisi...  \n",
       "34938  russia may send iskander tactical missiles kal...  \n",
       "13252  ted cruz interest play mr nice guy obama will ...  \n",
       "18238  peace activist laugh us senator jeff sessions ...  \n",
       "3931   bill maher surprisingly thank donald trump fri...  \n",
       "...                                                  ...  \n",
       "13849  every parent unite state america alarm covert ...  \n",
       "1959   morning donald trump try ignore mount failures...  \n",
       "22220  overhaul fannie mae freddie mac highly unlikel...  \n",
       "29477  israeli troop shoot dead four palestinians wou...  \n",
       "36894  unite state hop find diplomatic solution situa...  \n",
       "\n",
       "[3866 rows x 3 columns]"
      ]
     },
     "execution_count": 6,
     "metadata": {},
     "output_type": "execute_result"
    }
   ],
   "source": [
    "sampled_data"
   ]
  },
  {
   "cell_type": "code",
   "execution_count": 7,
   "id": "2e0d4b02",
   "metadata": {},
   "outputs": [],
   "source": [
    "X = sampled_data.text_clean\n",
    "y = sampled_data.is_fake"
   ]
  },
  {
   "cell_type": "code",
   "execution_count": 8,
   "id": "d0cd92ce",
   "metadata": {},
   "outputs": [],
   "source": [
    "# Perform a 70:30 split for the initial training set and temporary set\n",
    "X_train, X_temp, y_train, y_temp = train_test_split(X, y, test_size=0.3, random_state=42)\n",
    "\n",
    "# Further split the temporary set into validation (50%) and test (50%)\n",
    "X_val, X_test, y_val, y_test = train_test_split(X_temp, y_temp, test_size=0.5, random_state=42)"
   ]
  },
  {
   "cell_type": "code",
   "execution_count": 9,
   "id": "8e55d080",
   "metadata": {},
   "outputs": [
    {
     "name": "stdout",
     "output_type": "stream",
     "text": [
      "CPU times: user 1.29 s, sys: 51.2 ms, total: 1.34 s\n",
      "Wall time: 1.43 s\n"
     ]
    }
   ],
   "source": [
    "%%time\n",
    "# max_words = 10000  \n",
    "# max_sequence_length = 500  \n",
    "\n",
    "# Initialize the tokenizer and fit it on the training data\n",
    "tokenizer = Tokenizer(num_words=10000)\n",
    "tokenizer.fit_on_texts(X_train)\n",
    "word_index = tokenizer.word_index"
   ]
  },
  {
   "cell_type": "code",
   "execution_count": 10,
   "id": "b65183ee",
   "metadata": {},
   "outputs": [
    {
     "data": {
      "text/plain": [
       "36742"
      ]
     },
     "execution_count": 10,
     "metadata": {},
     "output_type": "execute_result"
    }
   ],
   "source": [
    "len(word_index)"
   ]
  },
  {
   "cell_type": "code",
   "execution_count": 11,
   "id": "672f1ecc",
   "metadata": {},
   "outputs": [],
   "source": [
    "# Convert text data to sequences of integers\n",
    "X_train_sequences = tokenizer.texts_to_sequences(X_train)\n",
    "X_val_sequences = tokenizer.texts_to_sequences(X_val)\n",
    "X_test_sequences = tokenizer.texts_to_sequences(X_test)"
   ]
  },
  {
   "cell_type": "code",
   "execution_count": 12,
   "id": "8021f20c",
   "metadata": {},
   "outputs": [],
   "source": [
    "sequences = tokenizer.texts_to_sequences(data.text_clean)\n",
    "\n",
    "lengths_of_texts =  [len(text) for text in sequences]\n",
    "\n",
    "## For length to pad till, we use the average length of all texts \n",
    "avg_length_text = int(np.mean(lengths_of_texts))\n",
    "\n",
    "X_train_pad = pad_sequences(X_train_sequences, maxlen=avg_length_text, padding='post', truncating='post')\n",
    "X_val_pad = pad_sequences(X_val_sequences, maxlen=avg_length_text, padding='pre')\n",
    "X_test_pad = pad_sequences(X_test_sequences, maxlen=avg_length_text, padding='post', truncating='post')"
   ]
  },
  {
   "cell_type": "markdown",
   "id": "d31e868b",
   "metadata": {},
   "source": [
    "---"
   ]
  },
  {
   "cell_type": "markdown",
   "id": "bbbecf9f",
   "metadata": {},
   "source": [
    "## SimpleRNN Model"
   ]
  },
  {
   "cell_type": "code",
   "execution_count": 33,
   "id": "9acfdf42",
   "metadata": {},
   "outputs": [
    {
     "name": "stdout",
     "output_type": "stream",
     "text": [
      "Epoch 1/1000\n",
      "170/170 [==============================] - 15s 73ms/step - loss: 0.6902 - accuracy: 0.5477 - val_loss: 0.6854 - val_accuracy: 0.5552\n",
      "Epoch 2/1000\n",
      "170/170 [==============================] - 11s 66ms/step - loss: 0.6814 - accuracy: 0.5466 - val_loss: 0.6735 - val_accuracy: 0.5586\n",
      "Epoch 3/1000\n",
      "170/170 [==============================] - 11s 66ms/step - loss: 0.6541 - accuracy: 0.5621 - val_loss: 0.6257 - val_accuracy: 0.5759\n",
      "Epoch 4/1000\n",
      "170/170 [==============================] - 12s 68ms/step - loss: 0.5886 - accuracy: 0.6334 - val_loss: 0.5836 - val_accuracy: 0.7690\n",
      "Epoch 5/1000\n",
      "170/170 [==============================] - 12s 69ms/step - loss: 0.5789 - accuracy: 0.6652 - val_loss: 0.4853 - val_accuracy: 0.8155\n",
      "Epoch 6/1000\n",
      "170/170 [==============================] - 12s 68ms/step - loss: 0.4583 - accuracy: 0.7653 - val_loss: 0.5800 - val_accuracy: 0.8517\n",
      "Epoch 7/1000\n",
      "170/170 [==============================] - 13s 75ms/step - loss: 0.3414 - accuracy: 0.8877 - val_loss: 0.2758 - val_accuracy: 0.8931\n",
      "Epoch 8/1000\n",
      "170/170 [==============================] - 12s 68ms/step - loss: 0.2307 - accuracy: 0.9416 - val_loss: 0.3176 - val_accuracy: 0.8845\n",
      "Epoch 9/1000\n",
      "170/170 [==============================] - 12s 72ms/step - loss: 0.2202 - accuracy: 0.9398 - val_loss: 0.2207 - val_accuracy: 0.9034\n",
      "Epoch 10/1000\n",
      "170/170 [==============================] - 11s 67ms/step - loss: 0.1687 - accuracy: 0.9571 - val_loss: 0.1919 - val_accuracy: 0.9310\n",
      "Epoch 11/1000\n",
      "170/170 [==============================] - 13s 74ms/step - loss: 0.1663 - accuracy: 0.9630 - val_loss: 0.1655 - val_accuracy: 0.9397\n",
      "Epoch 12/1000\n",
      "170/170 [==============================] - 13s 75ms/step - loss: 0.1796 - accuracy: 0.9579 - val_loss: 0.1977 - val_accuracy: 0.9276\n",
      "Epoch 13/1000\n",
      "170/170 [==============================] - 12s 70ms/step - loss: 0.1630 - accuracy: 0.9630 - val_loss: 0.1545 - val_accuracy: 0.9483\n",
      "Epoch 14/1000\n",
      "170/170 [==============================] - 11s 68ms/step - loss: 0.1943 - accuracy: 0.9531 - val_loss: 0.3117 - val_accuracy: 0.9000\n",
      "Epoch 15/1000\n",
      "170/170 [==============================] - 12s 73ms/step - loss: 0.4781 - accuracy: 0.7642 - val_loss: 0.2310 - val_accuracy: 0.9155\n",
      "Epoch 16/1000\n",
      "170/170 [==============================] - 13s 76ms/step - loss: 0.2199 - accuracy: 0.9357 - val_loss: 0.3059 - val_accuracy: 0.8862\n",
      "Epoch 17/1000\n",
      "170/170 [==============================] - 13s 78ms/step - loss: 0.1649 - accuracy: 0.9627 - val_loss: 0.2871 - val_accuracy: 0.8983\n",
      "Epoch 18/1000\n",
      "170/170 [==============================] - 12s 72ms/step - loss: 0.1612 - accuracy: 0.9634 - val_loss: 0.2493 - val_accuracy: 0.9190\n",
      "Epoch 19/1000\n",
      "170/170 [==============================] - 13s 78ms/step - loss: 0.1784 - accuracy: 0.9586 - val_loss: 0.2525 - val_accuracy: 0.9172\n",
      "Epoch 20/1000\n",
      "170/170 [==============================] - 13s 74ms/step - loss: 0.1648 - accuracy: 0.9642 - val_loss: 0.1962 - val_accuracy: 0.9276\n",
      "Epoch 21/1000\n",
      "170/170 [==============================] - 13s 77ms/step - loss: 0.1790 - accuracy: 0.9608 - val_loss: 0.3332 - val_accuracy: 0.8810\n",
      "Epoch 22/1000\n",
      "170/170 [==============================] - 18s 107ms/step - loss: 0.1552 - accuracy: 0.9667 - val_loss: 0.1872 - val_accuracy: 0.9362\n",
      "Epoch 23/1000\n",
      "170/170 [==============================] - 16s 97ms/step - loss: 0.1457 - accuracy: 0.9667 - val_loss: 0.1856 - val_accuracy: 0.9328\n",
      "CPU times: user 8min 45s, sys: 2min 19s, total: 11min 5s\n",
      "Wall time: 4min 54s\n"
     ]
    }
   ],
   "source": [
    "%%time\n",
    "from keras.callbacks import EarlyStopping\n",
    "\n",
    "model_rnn = Sequential([\n",
    "    Embedding(input_dim = len(word_index), output_dim = 8, \n",
    "             input_length=avg_length_text), ## recall that we set the post-padding length to be this value\n",
    "    SimpleRNN(16), ## THIS IS THE RECURRENT LAYER \n",
    "    Dropout(0.2),\n",
    "    Dense(8, activation='relu'),\n",
    "    Dropout(0.2), \n",
    "    Dense(1, activation= 'sigmoid') ## final layer for prediction, hence only one node\n",
    "])\n",
    "\n",
    "## compile -- add optim, add loss, add metrics \n",
    "model_rnn.compile(optimizer = 'adam', loss = ['binary_crossentropy'], metrics = ['accuracy'])\n",
    "\n",
    "early_stopping = EarlyStopping(patience=10, restore_best_weights=True)\n",
    "\n",
    "history_rnn = model_rnn.fit(X_train_pad, y_train, epochs=1000, batch_size=16, validation_data=(X_val_pad, y_val), callbacks=[early_stopping])"
   ]
  },
  {
   "cell_type": "code",
   "execution_count": 34,
   "id": "efa5849c",
   "metadata": {
    "scrolled": true
   },
   "outputs": [
    {
     "name": "stdout",
     "output_type": "stream",
     "text": [
      "19/19 [==============================] - 0s 21ms/step - loss: 0.2492 - accuracy: 0.9241\n"
     ]
    }
   ],
   "source": [
    "# Evaluate the model on the test set\n",
    "loss, accuracy = model_rnn.evaluate(X_test_pad, y_test)"
   ]
  },
  {
   "cell_type": "code",
   "execution_count": 35,
   "id": "b89ed85d",
   "metadata": {
    "scrolled": false
   },
   "outputs": [
    {
     "data": {
      "image/png": "[encoded data removed]",
      "text/plain": [
       "<Figure size 640x480 with 1 Axes>"
      ]
     },
     "metadata": {},
     "output_type": "display_data"
    }
   ],
   "source": [
    "# Plot the training and validation loss\n",
    "plt.plot(history_rnn.history['loss'], label='Train Loss')\n",
    "plt.plot(history_rnn.history['val_loss'], label='Validation Loss')\n",
    "plt.title('Training and Validation Loss')\n",
    "plt.xlabel('Epoch')\n",
    "plt.ylabel('Loss')\n",
    "plt.legend()\n",
    "plt.show()"
   ]
  },
  {
   "cell_type": "code",
   "execution_count": 36,
   "id": "9173d9d0",
   "metadata": {},
   "outputs": [
    {
     "data": {
      "image/png": "[encoded data removed]",
      "text/plain": [
       "<Figure size 640x480 with 1 Axes>"
      ]
     },
     "metadata": {},
     "output_type": "display_data"
    }
   ],
   "source": [
    "plt.plot(history_rnn.history['accuracy'], label='Train Accuracy')\n",
    "plt.plot(history_rnn.history['val_accuracy'], label='Validation Accuracy')\n",
    "plt.title('Training and Validation Accuracy')\n",
    "plt.xlabel('Epoch')\n",
    "plt.ylabel('Accuracy')\n",
    "plt.legend()\n",
    "plt.show()"
   ]
  },
  {
   "cell_type": "code",
   "execution_count": 37,
   "id": "69afcf20",
   "metadata": {},
   "outputs": [
    {
     "name": "stdout",
     "output_type": "stream",
     "text": [
      "19/19 [==============================] - 1s 14ms/step\n"
     ]
    }
   ],
   "source": [
    "y_pred = model_rnn.predict(X_test_pad)"
   ]
  },
  {
   "cell_type": "code",
   "execution_count": 38,
   "id": "c3ff71ab",
   "metadata": {},
   "outputs": [
    {
     "data": {
      "text/plain": [
       "<sklearn.metrics._plot.confusion_matrix.ConfusionMatrixDisplay at 0x1664d97b0>"
      ]
     },
     "execution_count": 38,
     "metadata": {},
     "output_type": "execute_result"
    },
    {
     "data": {
      "image/png": "[encoded data removed]",
      "text/plain": [
       "<Figure size 640x480 with 2 Axes>"
      ]
     },
     "metadata": {},
     "output_type": "display_data"
    }
   ],
   "source": [
    "from sklearn.metrics import confusion_matrix,ConfusionMatrixDisplay\n",
    "import tensorflow as tf\n",
    "\n",
    "predicted = tf.squeeze(y_pred)\n",
    "predicted = np.array([1 if x >= 0.5 else 0 for x in predicted])\n",
    "actual = np.array(y_test)\n",
    "conf_mat = confusion_matrix(actual, predicted)\n",
    "displ = ConfusionMatrixDisplay(confusion_matrix=conf_mat)\n",
    "displ.plot()"
   ]
  },
  {
   "cell_type": "markdown",
   "id": "d802ab86",
   "metadata": {},
   "source": [
    "---"
   ]
  },
  {
   "cell_type": "markdown",
   "id": "7b68ff45",
   "metadata": {},
   "source": [
    "## Basic NN Model"
   ]
  },
  {
   "cell_type": "code",
   "execution_count": null,
   "id": "32b3bbff",
   "metadata": {},
   "outputs": [],
   "source": [
    "# model_3 = Sequential([\n",
    "#     Embedding(input_dim=len(word_index), output_dim=8, input_length=avg_length_text),\n",
    "#     Flatten(),\n",
    "#     Dense(8, activation='relu', kernel_regularizer=l2(0.01)),  # L2 regularization\n",
    "#     Dropout(0.5),  # Adding dropout\n",
    "#     Dense(1, activation='sigmoid')\n",
    "# ])\n",
    "\n",
    "# model_3.compile(optimizer='adam', loss='binary_crossentropy', metrics=['accuracy'])\n",
    "\n",
    "# ## Decrease patience, allow restore to best weights during patience\n",
    "# early_stopping = EarlyStopping(monitor='val_loss', patience=5, restore_best_weights=True)\n",
    "\n",
    "# history_3 = model_3.fit(X_train_pad, y_train, epochs=50, batch_size=200, validation_data=(X_val_pad, y_test), callbacks=[early_stopping])"
   ]
  },
  {
   "cell_type": "code",
   "execution_count": null,
   "id": "25f9c0d4",
   "metadata": {},
   "outputs": [],
   "source": [
    "# final_train_loss_3 = history_3.history['loss'][-1]\n",
    "# final_train_accuracy_3 = history_3.history['accuracy'][-1]\n",
    "\n",
    "# final_val_loss_3 = history_3.history['val_loss'][-1]\n",
    "# final_val_accuracy_3 = history_3.history['val_accuracy'][-1]\n",
    "\n",
    "# print(\"Final Training Loss:\", final_train_loss_3)\n",
    "# print(\"Final Training Accuracy:\", final_train_accuracy_3)\n",
    "# print(\"Final Validation Loss:\", final_val_loss_3)\n",
    "# print(\"Final Validation Accuracy:\", final_val_accuracy_3)\n"
   ]
  },
  {
   "cell_type": "code",
   "execution_count": null,
   "id": "42fb60e3",
   "metadata": {},
   "outputs": [],
   "source": [
    "# # Plot the training and validation loss\n",
    "# plt.plot(history_3.history['loss'], label='Train Loss')\n",
    "# plt.plot(history_3.history['val_loss'], label='Validation Loss')\n",
    "# plt.title('Training and Validation Loss')\n",
    "# plt.xlabel('Epoch')\n",
    "# plt.ylabel('Loss')\n",
    "# plt.legend()\n",
    "# plt.show()"
   ]
  },
  {
   "cell_type": "markdown",
   "id": "e0cd02d0",
   "metadata": {},
   "source": [
    "---"
   ]
  },
  {
   "cell_type": "markdown",
   "id": "9887f663",
   "metadata": {},
   "source": [
    "## New Texts on Both Models"
   ]
  },
  {
   "cell_type": "code",
   "execution_count": 39,
   "id": "3edde91a",
   "metadata": {},
   "outputs": [],
   "source": [
    "bbc_snippet = \"\"\"The UK faces another five years of high interest rates to stem rising prices, an influential global group has warned.\n",
    "The International Monetary Fund expects the UK to have the highest inflation and slowest growth next year of any G7 economy including the US, France, Germany, Canada, Italy and Japan.\n",
    "However, the Treasury said recent revisions to UK growth had not been factored in to the IMF's report.\n",
    "The outlook was drawn up before this weekend's developments in Israel.\n",
    "Forecasts are never perfect given the many factors that affect economic growth - from geopolitics to the weather. But such reports can point in the right direction, especially where they align with other forecasts.\n",
    "The IMF, an international organisation with 190 member countries, has said the forecasts it makes for growth the following year in most advanced economies have, more often than not, been within about 1.5 percentage points of what actually happens.\n",
    "In July last year, it forecast that the UK economy would grow by 3.2% in 2022. It revised that upwards to 4.1% at the start of this year.\n",
    "But official UK figures released last month estimated that the country's economy actually expanded by 4.3% in 2022.\n",
    "According to the IMF's latest forecast which it produces every six months, it expects the UK to grow more quickly than Germany in 2023, keeping the UK out of bottom place for growth among the G7.\n",
    "But it downgraded the UK's prospects for growth next year, estimating the economy will grow by 0.6%, making it the slowest growing developed country in 2024 - widely predicted to be a general election year.\"\"\"\n"
   ]
  },
  {
   "cell_type": "code",
   "execution_count": 40,
   "id": "65e5ded0",
   "metadata": {},
   "outputs": [],
   "source": [
    "theonion_snippet = \"\"\"Claiming they had already made up their minds, area man Karl Wooley told reporters Tuesday \n",
    "that he felt like the bystanders who were urging him to put his gun down were arguing in bad faith. “If I’m being \n",
    "honest, it sort of feels like these onlookers are only thinking of themselves when they tell me to drop my pistol,” said Wooley, who observed that no one had even asked him to explain his reasoning for shouting at the top of his lungs and waving around a semiautomatic firearm. “Truth be told, they poisoned the well the second they tried to tackle me and forcibly rip the gun from my hands. But the worst part is how condescending they are—saying things like, ‘Hey, buddy, you don’t really want to do this.’ Maybe if they’d bothered to find out where I’m coming from and what my thoughts on the matter are, they’d know this is exactly what I want to be doing.” At press time, Wooley was reportedly shaking his head at how disrespectful his victims had become when they began resorting to ad hominem attacks like “You’re a monster” as he shot them to death.\"\"\""
   ]
  },
  {
   "cell_type": "code",
   "execution_count": 41,
   "id": "ddf27a87",
   "metadata": {},
   "outputs": [
    {
     "name": "stderr",
     "output_type": "stream",
     "text": [
      "[nltk_data] Downloading package stopwords to /Users/maria/nltk_data...\n",
      "[nltk_data]   Package stopwords is already up-to-date!\n"
     ]
    }
   ],
   "source": [
    "import spacy\n",
    "from spacy.lang.en import English\n",
    "from nltk.corpus import stopwords\n",
    "import nltk\n",
    "import time\n",
    "\n",
    "## download the dictionary for stopwords\n",
    "nltk.download('stopwords')\n",
    "\n",
    "## get the set of stopwords \n",
    "stop_words_set = set(stopwords.words('english'))\n",
    "\n",
    "## Load English tokenizer from spacy\n",
    "nlp = English()\n",
    "spacy_tokenizer = nlp.tokenizer ## make instance \n",
    "\n",
    "## Create function to clean text -- lowercase, remove non alphanumeric, remove stop words\n",
    "def optimized_preprocess(texts): ## Takes in a list of texts, i.e. the entire corpus\n",
    "    result = []\n",
    "    \n",
    "    # Tokenize using spaCy's tokenizer\n",
    "    for text in texts:\n",
    "        tokens = [token.text.lower() for token in spacy_tokenizer(text) if token.text.isalpha() and token.text.lower() not in stop_words_set]\n",
    "        result.append(\" \".join(tokens))\n",
    "    \n",
    "    return result"
   ]
  },
  {
   "cell_type": "code",
   "execution_count": 42,
   "id": "4b862c39",
   "metadata": {},
   "outputs": [],
   "source": [
    "bbc_cleaned = optimized_preprocess([bbc_snippet])\n",
    "theonion_cleaned = optimized_preprocess([theonion_snippet])\n"
   ]
  },
  {
   "cell_type": "code",
   "execution_count": 43,
   "id": "27235ea6",
   "metadata": {},
   "outputs": [],
   "source": [
    "bbc_seq = tokenizer.texts_to_sequences(bbc_cleaned)\n",
    "theonion_seq = tokenizer.texts_to_sequences(theonion_cleaned)\n"
   ]
  },
  {
   "cell_type": "code",
   "execution_count": 44,
   "id": "b74f0ed2",
   "metadata": {},
   "outputs": [],
   "source": [
    "bbc_pad = pad_sequences(bbc_seq, maxlen= avg_length_text, padding = 'post', truncating = 'post')\n",
    "theonion_pad = pad_sequences(theonion_seq, maxlen=  avg_length_text, padding = 'post', truncating = 'post')"
   ]
  },
  {
   "cell_type": "code",
   "execution_count": null,
   "id": "ad1df1aa",
   "metadata": {},
   "outputs": [],
   "source": [
    "# print(model_3.predict(bbc_pad))\n",
    "# print(model_3.predict(theonion_pad))\n",
    "\n",
    "# print('\\n\\n ======================= \\n\\n')"
   ]
  },
  {
   "cell_type": "code",
   "execution_count": 45,
   "id": "30c820f8",
   "metadata": {},
   "outputs": [
    {
     "name": "stdout",
     "output_type": "stream",
     "text": [
      "1/1 [==============================] - 0s 60ms/step\n",
      "[[0.02689297]]\n",
      "1/1 [==============================] - 0s 44ms/step\n",
      "[[0.9233252]]\n"
     ]
    }
   ],
   "source": [
    "print(model_rnn.predict(bbc_pad))\n",
    "print(model_rnn.predict(theonion_pad))"
   ]
  },
  {
   "cell_type": "code",
   "execution_count": 46,
   "id": "551befaf",
   "metadata": {},
   "outputs": [
    {
     "name": "stdout",
     "output_type": "stream",
     "text": [
      "1/1 [==============================] - 0s 40ms/step\n"
     ]
    },
    {
     "data": {
      "text/plain": [
       "array([[0.02689297]], dtype=float32)"
      ]
     },
     "execution_count": 46,
     "metadata": {},
     "output_type": "execute_result"
    }
   ],
   "source": [
    "model_rnn.predict(bbc_pad)"
   ]
  },
  {
   "cell_type": "code",
   "execution_count": 47,
   "id": "b61f0eb5",
   "metadata": {},
   "outputs": [
    {
     "name": "stdout",
     "output_type": "stream",
     "text": [
      "1/1 [==============================] - 0s 41ms/step\n"
     ]
    },
    {
     "data": {
      "text/plain": [
       "array([[0.9233252]], dtype=float32)"
      ]
     },
     "execution_count": 47,
     "metadata": {},
     "output_type": "execute_result"
    }
   ],
   "source": [
    "model_rnn.predict(theonion_pad)"
   ]
  },
  {
   "cell_type": "code",
   "execution_count": null,
   "id": "f74a3f3b",
   "metadata": {},
   "outputs": [],
   "source": []
  }
 ],
 "metadata": {
  "kernelspec": {
   "display_name": "Python 3 (ipykernel)",
   "language": "python",
   "name": "python3"
  },
  "language_info": {
   "codemirror_mode": {
    "name": "ipython",
    "version": 3
   },
   "file_extension": ".py",
   "mimetype": "text/x-python",
   "name": "python",
   "nbconvert_exporter": "python",
   "pygments_lexer": "ipython3",
   "version": "3.10.6"
  },
  "toc": {
   "base_numbering": 1,
   "nav_menu": {},
   "number_sections": true,
   "sideBar": true,
   "skip_h1_title": false,
   "title_cell": "Table of Contents",
   "title_sidebar": "Contents",
   "toc_cell": false,
   "toc_position": {},
   "toc_section_display": true,
   "toc_window_display": false
  },
  "varInspector": {
   "cols": {
    "lenName": 16,
    "lenType": 16,
    "lenVar": 40
   },
   "kernels_config": {
    "python": {
     "delete_cmd_postfix": "",
     "delete_cmd_prefix": "del ",
     "library": "var_list.py",
     "varRefreshCmd": "print(var_dic_list())"
    },
    "r": {
     "delete_cmd_postfix": ") ",
     "delete_cmd_prefix": "rm(",
     "library": "var_list.r",
     "varRefreshCmd": "cat(var_dic_list()) "
    }
   },
   "position": {
    "height": "372.854px",
    "left": "1014.33px",
    "right": "20px",
    "top": "120px",
    "width": "325.667px"
   },
   "types_to_exclude": [
    "module",
    "function",
    "builtin_function_or_method",
    "instance",
    "_Feature"
   ],
   "window_display": false
  }
 },
 "nbformat": 4,
 "nbformat_minor": 5
}
