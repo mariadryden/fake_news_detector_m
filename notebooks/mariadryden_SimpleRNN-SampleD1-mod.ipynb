{
 "cells": [
  {
   "cell_type": "code",
   "execution_count": 2,
   "id": "91cc2664",
   "metadata": {},
   "outputs": [],
   "source": [
    "import pandas as pd\n",
    "import matplotlib.pyplot as plt\n",
    "from sklearn.model_selection import train_test_split\n",
    "from keras.preprocessing.text import Tokenizer\n",
    "from keras.utils import pad_sequences\n",
    "from keras.models import Sequential\n",
    "from keras.layers import Embedding, LSTM, Dense, Dropout, SimpleRNN, Flatten\n",
    "from tensorflow.keras.regularizers import l2"
   ]
  },
  {
   "cell_type": "code",
   "execution_count": 29,
   "id": "cca1b2ec",
   "metadata": {},
   "outputs": [],
   "source": [
    "## Import up sound alert dependencies\n",
    "from IPython.display import Audio, display\n",
    "\n",
    "def allDone():\n",
    "  display(Audio(url='https://sound.peal.io/ps/audios/000/000/537/original/woo_vu_luvub_dub_dub.wav', autoplay=True))\n",
    "## Insert whatever audio file you want above"
   ]
  },
  {
   "cell_type": "code",
   "execution_count": 3,
   "id": "3af6af79",
   "metadata": {},
   "outputs": [
    {
     "data": {
      "text/html": [
       "<div>\n",
       "<style scoped>\n",
       "    .dataframe tbody tr th:only-of-type {\n",
       "        vertical-align: middle;\n",
       "    }\n",
       "\n",
       "    .dataframe tbody tr th {\n",
       "        vertical-align: top;\n",
       "    }\n",
       "\n",
       "    .dataframe thead th {\n",
       "        text-align: right;\n",
       "    }\n",
       "</style>\n",
       "<table border=\"1\" class=\"dataframe\">\n",
       "  <thead>\n",
       "    <tr style=\"text-align: right;\">\n",
       "      <th></th>\n",
       "      <th>text</th>\n",
       "      <th>is_fake</th>\n",
       "    </tr>\n",
       "  </thead>\n",
       "  <tbody>\n",
       "    <tr>\n",
       "      <th>0</th>\n",
       "      <td>Donald Trump just couldn t wish all Americans ...</td>\n",
       "      <td>1</td>\n",
       "    </tr>\n",
       "    <tr>\n",
       "      <th>1</th>\n",
       "      <td>House Intelligence Committee Chairman Devin Nu...</td>\n",
       "      <td>1</td>\n",
       "    </tr>\n",
       "    <tr>\n",
       "      <th>2</th>\n",
       "      <td>On Friday, it was revealed that former Milwauk...</td>\n",
       "      <td>1</td>\n",
       "    </tr>\n",
       "    <tr>\n",
       "      <th>3</th>\n",
       "      <td>On Christmas day, Donald Trump announced that ...</td>\n",
       "      <td>1</td>\n",
       "    </tr>\n",
       "    <tr>\n",
       "      <th>4</th>\n",
       "      <td>Pope Francis used his annual Christmas Day mes...</td>\n",
       "      <td>1</td>\n",
       "    </tr>\n",
       "    <tr>\n",
       "      <th>...</th>\n",
       "      <td>...</td>\n",
       "      <td>...</td>\n",
       "    </tr>\n",
       "    <tr>\n",
       "      <th>37312</th>\n",
       "      <td>NATO allies on Tuesday welcomed President Dona...</td>\n",
       "      <td>0</td>\n",
       "    </tr>\n",
       "    <tr>\n",
       "      <th>37313</th>\n",
       "      <td>LexisNexis, a provider of legal, regulatory an...</td>\n",
       "      <td>0</td>\n",
       "    </tr>\n",
       "    <tr>\n",
       "      <th>37314</th>\n",
       "      <td>In the shadow of disused Soviet-era factories ...</td>\n",
       "      <td>0</td>\n",
       "    </tr>\n",
       "    <tr>\n",
       "      <th>37315</th>\n",
       "      <td>Vatican Secretary of State Cardinal Pietro Par...</td>\n",
       "      <td>0</td>\n",
       "    </tr>\n",
       "    <tr>\n",
       "      <th>37316</th>\n",
       "      <td>Indonesia will buy 11 Sukhoi fighter jets wort...</td>\n",
       "      <td>0</td>\n",
       "    </tr>\n",
       "  </tbody>\n",
       "</table>\n",
       "<p>37317 rows × 2 columns</p>\n",
       "</div>"
      ],
      "text/plain": [
       "                                                    text  is_fake\n",
       "0      Donald Trump just couldn t wish all Americans ...        1\n",
       "1      House Intelligence Committee Chairman Devin Nu...        1\n",
       "2      On Friday, it was revealed that former Milwauk...        1\n",
       "3      On Christmas day, Donald Trump announced that ...        1\n",
       "4      Pope Francis used his annual Christmas Day mes...        1\n",
       "...                                                  ...      ...\n",
       "37312  NATO allies on Tuesday welcomed President Dona...        0\n",
       "37313  LexisNexis, a provider of legal, regulatory an...        0\n",
       "37314  In the shadow of disused Soviet-era factories ...        0\n",
       "37315  Vatican Secretary of State Cardinal Pietro Par...        0\n",
       "37316  Indonesia will buy 11 Sukhoi fighter jets wort...        0\n",
       "\n",
       "[37317 rows x 2 columns]"
      ]
     },
     "execution_count": 3,
     "metadata": {},
     "output_type": "execute_result"
    }
   ],
   "source": [
    "data = pd.read_csv('../raw_data/marged_df_update.csv')\n",
    "data"
   ]
  },
  {
   "cell_type": "code",
   "execution_count": 4,
   "id": "0390721c",
   "metadata": {},
   "outputs": [],
   "source": [
    "import string\n",
    "from nltk.tokenize import word_tokenize\n",
    "from nltk.corpus import stopwords\n",
    "from nltk.stem import WordNetLemmatizer\n",
    "\n",
    "def cleaning(sentence):\n",
    "    \n",
    "    # Basic cleaning\n",
    "    sentence = sentence.strip() ## remove whitespaces\n",
    "    sentence = sentence.lower() ## lowercase \n",
    "    sentence = ''.join(char for char in sentence if not char.isdigit()) ## remove numbers\n",
    "    \n",
    "    # Advanced cleaning\n",
    "    for punctuation in string.punctuation:\n",
    "        sentence = sentence.replace(punctuation, '') ## remove punctuation\n",
    "    \n",
    "    tokenized_sentence = word_tokenize(sentence) ## tokenize \n",
    "    stop_words = set(stopwords.words('english')) ## define stopwords\n",
    "    \n",
    "    tokenized_sentence_cleaned = [ ## remove stopwords\n",
    "        w for w in tokenized_sentence if not w in stop_words\n",
    "    ]\n",
    "\n",
    "    lemmatized = [\n",
    "        WordNetLemmatizer().lemmatize(word, pos = \"v\") \n",
    "        for word in tokenized_sentence_cleaned\n",
    "    ]\n",
    "    \n",
    "    cleaned_sentence = ' '.join(word for word in lemmatized)\n",
    "    \n",
    "    return cleaned_sentence"
   ]
  },
  {
   "cell_type": "code",
   "execution_count": 5,
   "id": "00a2f2ad",
   "metadata": {},
   "outputs": [
    {
     "name": "stdout",
     "output_type": "stream",
     "text": [
      "CPU times: user 1min 53s, sys: 2.54 s, total: 1min 55s\n",
      "Wall time: 1min 56s\n"
     ]
    },
    {
     "data": {
      "text/html": [
       "<div>\n",
       "<style scoped>\n",
       "    .dataframe tbody tr th:only-of-type {\n",
       "        vertical-align: middle;\n",
       "    }\n",
       "\n",
       "    .dataframe tbody tr th {\n",
       "        vertical-align: top;\n",
       "    }\n",
       "\n",
       "    .dataframe thead th {\n",
       "        text-align: right;\n",
       "    }\n",
       "</style>\n",
       "<table border=\"1\" class=\"dataframe\">\n",
       "  <thead>\n",
       "    <tr style=\"text-align: right;\">\n",
       "      <th></th>\n",
       "      <th>text</th>\n",
       "      <th>is_fake</th>\n",
       "      <th>text_clean</th>\n",
       "    </tr>\n",
       "  </thead>\n",
       "  <tbody>\n",
       "    <tr>\n",
       "      <th>0</th>\n",
       "      <td>Donald Trump just couldn t wish all Americans ...</td>\n",
       "      <td>1</td>\n",
       "      <td>donald trump wish americans happy new year lea...</td>\n",
       "    </tr>\n",
       "    <tr>\n",
       "      <th>1</th>\n",
       "      <td>House Intelligence Committee Chairman Devin Nu...</td>\n",
       "      <td>1</td>\n",
       "      <td>house intelligence committee chairman devin nu...</td>\n",
       "    </tr>\n",
       "    <tr>\n",
       "      <th>2</th>\n",
       "      <td>On Friday, it was revealed that former Milwauk...</td>\n",
       "      <td>1</td>\n",
       "      <td>friday reveal former milwaukee sheriff david c...</td>\n",
       "    </tr>\n",
       "    <tr>\n",
       "      <th>3</th>\n",
       "      <td>On Christmas day, Donald Trump announced that ...</td>\n",
       "      <td>1</td>\n",
       "      <td>christmas day donald trump announce would back...</td>\n",
       "    </tr>\n",
       "    <tr>\n",
       "      <th>4</th>\n",
       "      <td>Pope Francis used his annual Christmas Day mes...</td>\n",
       "      <td>1</td>\n",
       "      <td>pope francis use annual christmas day message ...</td>\n",
       "    </tr>\n",
       "    <tr>\n",
       "      <th>...</th>\n",
       "      <td>...</td>\n",
       "      <td>...</td>\n",
       "      <td>...</td>\n",
       "    </tr>\n",
       "    <tr>\n",
       "      <th>37312</th>\n",
       "      <td>NATO allies on Tuesday welcomed President Dona...</td>\n",
       "      <td>0</td>\n",
       "      <td>nato ally tuesday welcome president donald tru...</td>\n",
       "    </tr>\n",
       "    <tr>\n",
       "      <th>37313</th>\n",
       "      <td>LexisNexis, a provider of legal, regulatory an...</td>\n",
       "      <td>0</td>\n",
       "      <td>lexisnexis provider legal regulatory business ...</td>\n",
       "    </tr>\n",
       "    <tr>\n",
       "      <th>37314</th>\n",
       "      <td>In the shadow of disused Soviet-era factories ...</td>\n",
       "      <td>0</td>\n",
       "      <td>shadow disused sovietera factories minsk stree...</td>\n",
       "    </tr>\n",
       "    <tr>\n",
       "      <th>37315</th>\n",
       "      <td>Vatican Secretary of State Cardinal Pietro Par...</td>\n",
       "      <td>0</td>\n",
       "      <td>vatican secretary state cardinal pietro paroli...</td>\n",
       "    </tr>\n",
       "    <tr>\n",
       "      <th>37316</th>\n",
       "      <td>Indonesia will buy 11 Sukhoi fighter jets wort...</td>\n",
       "      <td>0</td>\n",
       "      <td>indonesia buy sukhoi fighter jet worth billion...</td>\n",
       "    </tr>\n",
       "  </tbody>\n",
       "</table>\n",
       "<p>37317 rows × 3 columns</p>\n",
       "</div>"
      ],
      "text/plain": [
       "                                                    text  is_fake  \\\n",
       "0      Donald Trump just couldn t wish all Americans ...        1   \n",
       "1      House Intelligence Committee Chairman Devin Nu...        1   \n",
       "2      On Friday, it was revealed that former Milwauk...        1   \n",
       "3      On Christmas day, Donald Trump announced that ...        1   \n",
       "4      Pope Francis used his annual Christmas Day mes...        1   \n",
       "...                                                  ...      ...   \n",
       "37312  NATO allies on Tuesday welcomed President Dona...        0   \n",
       "37313  LexisNexis, a provider of legal, regulatory an...        0   \n",
       "37314  In the shadow of disused Soviet-era factories ...        0   \n",
       "37315  Vatican Secretary of State Cardinal Pietro Par...        0   \n",
       "37316  Indonesia will buy 11 Sukhoi fighter jets wort...        0   \n",
       "\n",
       "                                              text_clean  \n",
       "0      donald trump wish americans happy new year lea...  \n",
       "1      house intelligence committee chairman devin nu...  \n",
       "2      friday reveal former milwaukee sheriff david c...  \n",
       "3      christmas day donald trump announce would back...  \n",
       "4      pope francis use annual christmas day message ...  \n",
       "...                                                  ...  \n",
       "37312  nato ally tuesday welcome president donald tru...  \n",
       "37313  lexisnexis provider legal regulatory business ...  \n",
       "37314  shadow disused sovietera factories minsk stree...  \n",
       "37315  vatican secretary state cardinal pietro paroli...  \n",
       "37316  indonesia buy sukhoi fighter jet worth billion...  \n",
       "\n",
       "[37317 rows x 3 columns]"
      ]
     },
     "execution_count": 5,
     "metadata": {},
     "output_type": "execute_result"
    }
   ],
   "source": [
    "%%time\n",
    "\n",
    "data['text_clean'] = data['text'].apply(cleaning)\n",
    "data"
   ]
  },
  {
   "cell_type": "code",
   "execution_count": 6,
   "id": "154edb72",
   "metadata": {},
   "outputs": [
    {
     "data": {
      "text/html": [
       "<div>\n",
       "<style scoped>\n",
       "    .dataframe tbody tr th:only-of-type {\n",
       "        vertical-align: middle;\n",
       "    }\n",
       "\n",
       "    .dataframe tbody tr th {\n",
       "        vertical-align: top;\n",
       "    }\n",
       "\n",
       "    .dataframe thead th {\n",
       "        text-align: right;\n",
       "    }\n",
       "</style>\n",
       "<table border=\"1\" class=\"dataframe\">\n",
       "  <thead>\n",
       "    <tr style=\"text-align: right;\">\n",
       "      <th></th>\n",
       "      <th>text</th>\n",
       "      <th>is_fake</th>\n",
       "      <th>text_clean</th>\n",
       "    </tr>\n",
       "  </thead>\n",
       "  <tbody>\n",
       "    <tr>\n",
       "      <th>17151</th>\n",
       "      <td>President Donald Trump and the U.S. House of R...</td>\n",
       "      <td>0</td>\n",
       "      <td>president donald trump us house representative...</td>\n",
       "    </tr>\n",
       "    <tr>\n",
       "      <th>14946</th>\n",
       "      <td>Leave your cowboy boots and Hawaiian leis at h...</td>\n",
       "      <td>1</td>\n",
       "      <td>leave cowboy boot hawaiian leis home halloween...</td>\n",
       "    </tr>\n",
       "    <tr>\n",
       "      <th>7916</th>\n",
       "      <td>Watching a good old-fashioned troll perpetrate...</td>\n",
       "      <td>1</td>\n",
       "      <td>watch good oldfashioned troll perpetrate uninf...</td>\n",
       "    </tr>\n",
       "    <tr>\n",
       "      <th>24387</th>\n",
       "      <td>Mexican President Enrique Pena Nieto on Wednes...</td>\n",
       "      <td>0</td>\n",
       "      <td>mexican president enrique pena nieto wednesday...</td>\n",
       "    </tr>\n",
       "    <tr>\n",
       "      <th>9128</th>\n",
       "      <td>On December 5, 2017, Circa s Sara Carter warne...</td>\n",
       "      <td>1</td>\n",
       "      <td>december circa sara carter warn would major sh...</td>\n",
       "    </tr>\n",
       "    <tr>\n",
       "      <th>...</th>\n",
       "      <td>...</td>\n",
       "      <td>...</td>\n",
       "      <td>...</td>\n",
       "    </tr>\n",
       "    <tr>\n",
       "      <th>30212</th>\n",
       "      <td>Turkey has not been given crucial data to help...</td>\n",
       "      <td>0</td>\n",
       "      <td>turkey give crucial data help identify islamic...</td>\n",
       "    </tr>\n",
       "    <tr>\n",
       "      <th>37053</th>\n",
       "      <td>Australia s military watchdog has issued a pub...</td>\n",
       "      <td>0</td>\n",
       "      <td>australia military watchdog issue public plea ...</td>\n",
       "    </tr>\n",
       "    <tr>\n",
       "      <th>1305</th>\n",
       "      <td>Most of us tend to be quite selective about wh...</td>\n",
       "      <td>1</td>\n",
       "      <td>us tend quite selective give phone number woul...</td>\n",
       "    </tr>\n",
       "    <tr>\n",
       "      <th>4082</th>\n",
       "      <td>While the controversy over Trump s personal ta...</td>\n",
       "      <td>1</td>\n",
       "      <td>controversy trump personal tax return continue...</td>\n",
       "    </tr>\n",
       "    <tr>\n",
       "      <th>1347</th>\n",
       "      <td>Jared Kushner, one of Trump s senior advisers ...</td>\n",
       "      <td>1</td>\n",
       "      <td>jar kushner one trump senior advisers soninlaw...</td>\n",
       "    </tr>\n",
       "  </tbody>\n",
       "</table>\n",
       "<p>3732 rows × 3 columns</p>\n",
       "</div>"
      ],
      "text/plain": [
       "                                                    text  is_fake  \\\n",
       "17151  President Donald Trump and the U.S. House of R...        0   \n",
       "14946  Leave your cowboy boots and Hawaiian leis at h...        1   \n",
       "7916   Watching a good old-fashioned troll perpetrate...        1   \n",
       "24387  Mexican President Enrique Pena Nieto on Wednes...        0   \n",
       "9128   On December 5, 2017, Circa s Sara Carter warne...        1   \n",
       "...                                                  ...      ...   \n",
       "30212  Turkey has not been given crucial data to help...        0   \n",
       "37053  Australia s military watchdog has issued a pub...        0   \n",
       "1305   Most of us tend to be quite selective about wh...        1   \n",
       "4082   While the controversy over Trump s personal ta...        1   \n",
       "1347   Jared Kushner, one of Trump s senior advisers ...        1   \n",
       "\n",
       "                                              text_clean  \n",
       "17151  president donald trump us house representative...  \n",
       "14946  leave cowboy boot hawaiian leis home halloween...  \n",
       "7916   watch good oldfashioned troll perpetrate uninf...  \n",
       "24387  mexican president enrique pena nieto wednesday...  \n",
       "9128   december circa sara carter warn would major sh...  \n",
       "...                                                  ...  \n",
       "30212  turkey give crucial data help identify islamic...  \n",
       "37053  australia military watchdog issue public plea ...  \n",
       "1305   us tend quite selective give phone number woul...  \n",
       "4082   controversy trump personal tax return continue...  \n",
       "1347   jar kushner one trump senior advisers soninlaw...  \n",
       "\n",
       "[3732 rows x 3 columns]"
      ]
     },
     "execution_count": 6,
     "metadata": {},
     "output_type": "execute_result"
    }
   ],
   "source": [
    "# SAMPLE DATA (10%)\n",
    "\n",
    "sampled_data = data.sample(frac=0.1, random_state=42)\n",
    "sampled_data"
   ]
  },
  {
   "cell_type": "code",
   "execution_count": 7,
   "id": "2e0d4b02",
   "metadata": {},
   "outputs": [],
   "source": [
    "X = sampled_data.text_clean\n",
    "y = sampled_data.is_fake"
   ]
  },
  {
   "cell_type": "code",
   "execution_count": 8,
   "id": "d0cd92ce",
   "metadata": {},
   "outputs": [],
   "source": [
    "# Perform a 70:30 split for the initial training set and temporary set\n",
    "X_train, X_temp, y_train, y_temp = train_test_split(X, y, test_size=0.3, random_state=42)\n",
    "\n",
    "# Further split the temporary set into validation (50%) and test (50%)\n",
    "X_val, X_test, y_val, y_test = train_test_split(X_temp, y_temp, test_size=0.5, random_state=42)"
   ]
  },
  {
   "cell_type": "code",
   "execution_count": 9,
   "id": "8e55d080",
   "metadata": {},
   "outputs": [
    {
     "name": "stdout",
     "output_type": "stream",
     "text": [
      "CPU times: user 855 ms, sys: 14 ms, total: 869 ms\n",
      "Wall time: 870 ms\n"
     ]
    }
   ],
   "source": [
    "%%time\n",
    "# max_words = 10000  \n",
    "# max_sequence_length = 500  \n",
    "\n",
    "# Initialize the tokenizer and fit it on the training data\n",
    "tokenizer = Tokenizer(num_words=10000)\n",
    "tokenizer.fit_on_texts(X_train)\n",
    "word_index = tokenizer.word_index"
   ]
  },
  {
   "cell_type": "code",
   "execution_count": 10,
   "id": "b65183ee",
   "metadata": {},
   "outputs": [
    {
     "data": {
      "text/plain": [
       "37425"
      ]
     },
     "execution_count": 10,
     "metadata": {},
     "output_type": "execute_result"
    }
   ],
   "source": [
    "len(word_index)"
   ]
  },
  {
   "cell_type": "code",
   "execution_count": 11,
   "id": "672f1ecc",
   "metadata": {},
   "outputs": [],
   "source": [
    "# Convert text data to sequences of integers\n",
    "X_train_sequences = tokenizer.texts_to_sequences(X_train)\n",
    "X_val_sequences = tokenizer.texts_to_sequences(X_val)\n",
    "X_test_sequences = tokenizer.texts_to_sequences(X_test)"
   ]
  },
  {
   "cell_type": "code",
   "execution_count": 12,
   "id": "8021f20c",
   "metadata": {},
   "outputs": [],
   "source": [
    "sequences = tokenizer.texts_to_sequences(data.text_clean)\n",
    "\n",
    "lengths_of_texts =  [len(text) for text in sequences]\n",
    "\n",
    "## For length to pad till, we use the average length of all texts \n",
    "avg_length_text = int(np.mean(lengths_of_texts))\n",
    "\n",
    "X_train_pad = pad_sequences(X_train_sequences, maxlen=avg_length_text, padding='post', truncating='post')\n",
    "X_val_pad = pad_sequences(X_val_sequences, maxlen=avg_length_text, padding='pre')\n",
    "X_test_pad = pad_sequences(X_test_sequences, maxlen=avg_length_text, padding='post', truncating='post')"
   ]
  },
  {
   "cell_type": "markdown",
   "id": "d31e868b",
   "metadata": {},
   "source": [
    "---"
   ]
  },
  {
   "cell_type": "markdown",
   "id": "bbbecf9f",
   "metadata": {},
   "source": [
    "## SimpleRNN Model"
   ]
  },
  {
   "cell_type": "code",
   "execution_count": 34,
   "id": "9acfdf42",
   "metadata": {},
   "outputs": [
    {
     "name": "stdout",
     "output_type": "stream",
     "text": [
      "Epoch 1/1000\n",
      "164/164 [==============================] - 8s 42ms/step - loss: 0.6895 - accuracy: 0.5479 - val_loss: 0.6814 - val_accuracy: 0.5768\n",
      "Epoch 2/1000\n",
      "164/164 [==============================] - 6s 39ms/step - loss: 0.6724 - accuracy: 0.5823 - val_loss: 0.6811 - val_accuracy: 0.5821\n",
      "Epoch 3/1000\n",
      "164/164 [==============================] - 6s 39ms/step - loss: 0.6289 - accuracy: 0.6432 - val_loss: 0.6696 - val_accuracy: 0.6000\n",
      "Epoch 4/1000\n",
      "164/164 [==============================] - 6s 39ms/step - loss: 0.5478 - accuracy: 0.7182 - val_loss: 0.6975 - val_accuracy: 0.5857\n",
      "Epoch 5/1000\n",
      "164/164 [==============================] - 6s 39ms/step - loss: 0.4904 - accuracy: 0.7676 - val_loss: 0.6859 - val_accuracy: 0.6161\n",
      "Epoch 6/1000\n",
      "164/164 [==============================] - 6s 39ms/step - loss: 0.4199 - accuracy: 0.8178 - val_loss: 0.8427 - val_accuracy: 0.5589\n",
      "Epoch 7/1000\n",
      "164/164 [==============================] - 7s 40ms/step - loss: 0.4270 - accuracy: 0.7802 - val_loss: 0.8700 - val_accuracy: 0.5982\n",
      "Epoch 8/1000\n",
      "164/164 [==============================] - 6s 39ms/step - loss: 0.3391 - accuracy: 0.8687 - val_loss: 0.9801 - val_accuracy: 0.5714\n",
      "Epoch 9/1000\n",
      "164/164 [==============================] - 7s 41ms/step - loss: 0.2523 - accuracy: 0.9188 - val_loss: 1.1657 - val_accuracy: 0.5500\n",
      "Epoch 10/1000\n",
      "164/164 [==============================] - 7s 40ms/step - loss: 0.2197 - accuracy: 0.9303 - val_loss: 1.1722 - val_accuracy: 0.5464\n",
      "Epoch 11/1000\n",
      "164/164 [==============================] - 7s 42ms/step - loss: 0.1680 - accuracy: 0.9479 - val_loss: 1.2868 - val_accuracy: 0.5589\n",
      "Epoch 12/1000\n",
      "164/164 [==============================] - 7s 41ms/step - loss: 0.1331 - accuracy: 0.9625 - val_loss: 1.3786 - val_accuracy: 0.5696\n",
      "Epoch 13/1000\n",
      "164/164 [==============================] - 7s 41ms/step - loss: 0.1423 - accuracy: 0.9533 - val_loss: 1.4537 - val_accuracy: 0.5679\n"
     ]
    },
    {
     "data": {
      "text/html": [
       "\n",
       "                <audio  controls=\"controls\" autoplay=\"autoplay\">\n",
       "                    <source src=\"https://sound.peal.io/ps/audios/000/000/537/original/woo_vu_luvub_dub_dub.wav\" type=\"audio/x-wav\" />\n",
       "                    Your browser does not support the audio element.\n",
       "                </audio>\n",
       "              "
      ],
      "text/plain": [
       "<IPython.lib.display.Audio object>"
      ]
     },
     "metadata": {},
     "output_type": "display_data"
    },
    {
     "name": "stdout",
     "output_type": "stream",
     "text": [
      "CPU times: user 3min 7s, sys: 48.8 s, total: 3min 56s\n",
      "Wall time: 1min 27s\n"
     ]
    }
   ],
   "source": [
    "%%time\n",
    "from keras.callbacks import EarlyStopping\n",
    "\n",
    "model_rnn = Sequential([\n",
    "    Embedding(input_dim = len(word_index), output_dim = 8, \n",
    "             input_length=avg_length_text), ## recall that we set the post-padding length to be this value\n",
    "    SimpleRNN(16), ## THIS IS THE RECURRENT LAYER \n",
    "    Dropout(0.2),\n",
    "    Dense(8, activation='relu'),\n",
    "    Dropout(0.2), \n",
    "    Dense(1, activation= 'sigmoid') ## final layer for prediction, hence only one node\n",
    "])\n",
    "\n",
    "## compile -- add optim, add loss, add metrics \n",
    "model_rnn.compile(optimizer = 'adam', loss = ['binary_crossentropy'], metrics = ['accuracy'])\n",
    "\n",
    "early_stopping = EarlyStopping(patience=10, restore_best_weights=True)\n",
    "\n",
    "history_rnn = model_rnn.fit(X_train_pad, y_train, epochs=1000, batch_size=16, validation_data=(X_val_pad, y_val), callbacks=[early_stopping])\n",
    "\n",
    "allDone()"
   ]
  },
  {
   "cell_type": "code",
   "execution_count": 35,
   "id": "efa5849c",
   "metadata": {
    "scrolled": true
   },
   "outputs": [
    {
     "name": "stdout",
     "output_type": "stream",
     "text": [
      "18/18 [==============================] - 0s 8ms/step - loss: 0.6942 - accuracy: 0.5661\n"
     ]
    }
   ],
   "source": [
    "# Evaluate the model on the test set\n",
    "loss, accuracy = model_rnn.evaluate(X_test_pad, y_test)"
   ]
  },
  {
   "cell_type": "code",
   "execution_count": 36,
   "id": "b89ed85d",
   "metadata": {
    "scrolled": false
   },
   "outputs": [
    {
     "data": {
      "image/png": "[encoded data removed]",
      "text/plain": [
       "<Figure size 640x480 with 1 Axes>"
      ]
     },
     "metadata": {},
     "output_type": "display_data"
    }
   ],
   "source": [
    "# Plot the training and validation loss\n",
    "plt.plot(history_rnn.history['loss'], label='Train Loss')\n",
    "plt.plot(history_rnn.history['val_loss'], label='Validation Loss')\n",
    "plt.title('Training and Validation Loss')\n",
    "plt.xlabel('Epoch')\n",
    "plt.ylabel('Loss')\n",
    "plt.legend()\n",
    "plt.show()"
   ]
  },
  {
   "cell_type": "code",
   "execution_count": 37,
   "id": "9173d9d0",
   "metadata": {},
   "outputs": [
    {
     "data": {
      "image/png": "[encoded data removed]",
      "text/plain": [
       "<Figure size 640x480 with 1 Axes>"
      ]
     },
     "metadata": {},
     "output_type": "display_data"
    }
   ],
   "source": [
    "plt.plot(history_rnn.history['accuracy'], label='Train Accuracy')\n",
    "plt.plot(history_rnn.history['val_accuracy'], label='Validation Accuracy')\n",
    "plt.title('Training and Validation Accuracy')\n",
    "plt.xlabel('Epoch')\n",
    "plt.ylabel('Accuracy')\n",
    "plt.legend()\n",
    "plt.show()"
   ]
  },
  {
   "cell_type": "code",
   "execution_count": null,
   "id": "69afcf20",
   "metadata": {},
   "outputs": [],
   "source": [
    "y_pred = model_rnn.predict(X_test_pad)"
   ]
  },
  {
   "cell_type": "code",
   "execution_count": null,
   "id": "c3ff71ab",
   "metadata": {},
   "outputs": [],
   "source": [
    "from sklearn.metrics import confusion_matrix,ConfusionMatrixDisplay\n",
    "import tensorflow as tf\n",
    "\n",
    "predicted = tf.squeeze(y_pred)\n",
    "predicted = np.array([1 if x >= 0.5 else 0 for x in predicted])\n",
    "actual = np.array(y_test)\n",
    "conf_mat = confusion_matrix(actual, predicted)\n",
    "displ = ConfusionMatrixDisplay(confusion_matrix=conf_mat)\n",
    "displ.plot()"
   ]
  },
  {
   "cell_type": "markdown",
   "id": "d802ab86",
   "metadata": {},
   "source": [
    "---"
   ]
  },
  {
   "cell_type": "markdown",
   "id": "7b68ff45",
   "metadata": {},
   "source": [
    "## Basic NN Model"
   ]
  },
  {
   "cell_type": "code",
   "execution_count": null,
   "id": "32b3bbff",
   "metadata": {},
   "outputs": [],
   "source": [
    "# model_3 = Sequential([\n",
    "#     Embedding(input_dim=len(word_index), output_dim=8, input_length=avg_length_text),\n",
    "#     Flatten(),\n",
    "#     Dense(8, activation='relu', kernel_regularizer=l2(0.01)),  # L2 regularization\n",
    "#     Dropout(0.5),  # Adding dropout\n",
    "#     Dense(1, activation='sigmoid')\n",
    "# ])\n",
    "\n",
    "# model_3.compile(optimizer='adam', loss='binary_crossentropy', metrics=['accuracy'])\n",
    "\n",
    "# ## Decrease patience, allow restore to best weights during patience\n",
    "# early_stopping = EarlyStopping(monitor='val_loss', patience=5, restore_best_weights=True)\n",
    "\n",
    "# history_3 = model_3.fit(X_train_pad, y_train, epochs=50, batch_size=200, validation_data=(X_val_pad, y_test), callbacks=[early_stopping])"
   ]
  },
  {
   "cell_type": "code",
   "execution_count": null,
   "id": "25f9c0d4",
   "metadata": {},
   "outputs": [],
   "source": [
    "# final_train_loss_3 = history_3.history['loss'][-1]\n",
    "# final_train_accuracy_3 = history_3.history['accuracy'][-1]\n",
    "\n",
    "# final_val_loss_3 = history_3.history['val_loss'][-1]\n",
    "# final_val_accuracy_3 = history_3.history['val_accuracy'][-1]\n",
    "\n",
    "# print(\"Final Training Loss:\", final_train_loss_3)\n",
    "# print(\"Final Training Accuracy:\", final_train_accuracy_3)\n",
    "# print(\"Final Validation Loss:\", final_val_loss_3)\n",
    "# print(\"Final Validation Accuracy:\", final_val_accuracy_3)\n"
   ]
  },
  {
   "cell_type": "code",
   "execution_count": null,
   "id": "42fb60e3",
   "metadata": {},
   "outputs": [],
   "source": [
    "# # Plot the training and validation loss\n",
    "# plt.plot(history_3.history['loss'], label='Train Loss')\n",
    "# plt.plot(history_3.history['val_loss'], label='Validation Loss')\n",
    "# plt.title('Training and Validation Loss')\n",
    "# plt.xlabel('Epoch')\n",
    "# plt.ylabel('Loss')\n",
    "# plt.legend()\n",
    "# plt.show()"
   ]
  },
  {
   "cell_type": "markdown",
   "id": "e0cd02d0",
   "metadata": {},
   "source": [
    "---"
   ]
  },
  {
   "cell_type": "markdown",
   "id": "9887f663",
   "metadata": {},
   "source": [
    "## New Texts on Both Models"
   ]
  },
  {
   "cell_type": "code",
   "execution_count": null,
   "id": "3edde91a",
   "metadata": {},
   "outputs": [],
   "source": [
    "bbc_snippet = \"\"\"The UK faces another five years of high interest rates to stem rising prices, an influential global group has warned.\n",
    "The International Monetary Fund expects the UK to have the highest inflation and slowest growth next year of any G7 economy including the US, France, Germany, Canada, Italy and Japan.\n",
    "However, the Treasury said recent revisions to UK growth had not been factored in to the IMF's report.\n",
    "The outlook was drawn up before this weekend's developments in Israel.\n",
    "Forecasts are never perfect given the many factors that affect economic growth - from geopolitics to the weather. But such reports can point in the right direction, especially where they align with other forecasts.\n",
    "The IMF, an international organisation with 190 member countries, has said the forecasts it makes for growth the following year in most advanced economies have, more often than not, been within about 1.5 percentage points of what actually happens.\n",
    "In July last year, it forecast that the UK economy would grow by 3.2% in 2022. It revised that upwards to 4.1% at the start of this year.\n",
    "But official UK figures released last month estimated that the country's economy actually expanded by 4.3% in 2022.\n",
    "According to the IMF's latest forecast which it produces every six months, it expects the UK to grow more quickly than Germany in 2023, keeping the UK out of bottom place for growth among the G7.\n",
    "But it downgraded the UK's prospects for growth next year, estimating the economy will grow by 0.6%, making it the slowest growing developed country in 2024 - widely predicted to be a general election year.\"\"\"\n"
   ]
  },
  {
   "cell_type": "code",
   "execution_count": null,
   "id": "65e5ded0",
   "metadata": {},
   "outputs": [],
   "source": [
    "theonion_snippet = \"\"\"Claiming they had already made up their minds, area man Karl Wooley told reporters Tuesday \n",
    "that he felt like the bystanders who were urging him to put his gun down were arguing in bad faith. “If I’m being \n",
    "honest, it sort of feels like these onlookers are only thinking of themselves when they tell me to drop my pistol,” said Wooley, who observed that no one had even asked him to explain his reasoning for shouting at the top of his lungs and waving around a semiautomatic firearm. “Truth be told, they poisoned the well the second they tried to tackle me and forcibly rip the gun from my hands. But the worst part is how condescending they are—saying things like, ‘Hey, buddy, you don’t really want to do this.’ Maybe if they’d bothered to find out where I’m coming from and what my thoughts on the matter are, they’d know this is exactly what I want to be doing.” At press time, Wooley was reportedly shaking his head at how disrespectful his victims had become when they began resorting to ad hominem attacks like “You’re a monster” as he shot them to death.\"\"\""
   ]
  },
  {
   "cell_type": "code",
   "execution_count": null,
   "id": "ddf27a87",
   "metadata": {},
   "outputs": [],
   "source": [
    "import spacy\n",
    "from spacy.lang.en import English\n",
    "from nltk.corpus import stopwords\n",
    "import nltk\n",
    "import time\n",
    "\n",
    "## download the dictionary for stopwords\n",
    "nltk.download('stopwords')\n",
    "\n",
    "## get the set of stopwords \n",
    "stop_words_set = set(stopwords.words('english'))\n",
    "\n",
    "## Load English tokenizer from spacy\n",
    "nlp = English()\n",
    "spacy_tokenizer = nlp.tokenizer ## make instance \n",
    "\n",
    "## Create function to clean text -- lowercase, remove non alphanumeric, remove stop words\n",
    "def optimized_preprocess(texts): ## Takes in a list of texts, i.e. the entire corpus\n",
    "    result = []\n",
    "    \n",
    "    # Tokenize using spaCy's tokenizer\n",
    "    for text in texts:\n",
    "        tokens = [token.text.lower() for token in spacy_tokenizer(text) if token.text.isalpha() and token.text.lower() not in stop_words_set]\n",
    "        result.append(\" \".join(tokens))\n",
    "    \n",
    "    return result"
   ]
  },
  {
   "cell_type": "code",
   "execution_count": null,
   "id": "4b862c39",
   "metadata": {},
   "outputs": [],
   "source": [
    "bbc_cleaned = optimized_preprocess([bbc_snippet])\n",
    "theonion_cleaned = optimized_preprocess([theonion_snippet])\n"
   ]
  },
  {
   "cell_type": "code",
   "execution_count": null,
   "id": "27235ea6",
   "metadata": {},
   "outputs": [],
   "source": [
    "bbc_seq = tokenizer.texts_to_sequences(bbc_cleaned)\n",
    "theonion_seq = tokenizer.texts_to_sequences(theonion_cleaned)\n"
   ]
  },
  {
   "cell_type": "code",
   "execution_count": null,
   "id": "b74f0ed2",
   "metadata": {},
   "outputs": [],
   "source": [
    "bbc_pad = pad_sequences(bbc_seq, maxlen= avg_length_text, padding = 'post', truncating = 'post')\n",
    "theonion_pad = pad_sequences(theonion_seq, maxlen=  avg_length_text, padding = 'post', truncating = 'post')"
   ]
  },
  {
   "cell_type": "code",
   "execution_count": null,
   "id": "ad1df1aa",
   "metadata": {},
   "outputs": [],
   "source": [
    "# print(model_3.predict(bbc_pad))\n",
    "# print(model_3.predict(theonion_pad))\n",
    "\n",
    "# print('\\n\\n ======================= \\n\\n')"
   ]
  },
  {
   "cell_type": "code",
   "execution_count": null,
   "id": "30c820f8",
   "metadata": {},
   "outputs": [],
   "source": [
    "print(model_rnn.predict(bbc_pad))\n",
    "print(model_rnn.predict(theonion_pad))"
   ]
  },
  {
   "cell_type": "code",
   "execution_count": null,
   "id": "551befaf",
   "metadata": {},
   "outputs": [],
   "source": [
    "model_rnn.predict(bbc_pad)"
   ]
  },
  {
   "cell_type": "code",
   "execution_count": null,
   "id": "b61f0eb5",
   "metadata": {},
   "outputs": [],
   "source": [
    "model_rnn.predict(theonion_pad)"
   ]
  },
  {
   "cell_type": "code",
   "execution_count": null,
   "id": "f74a3f3b",
   "metadata": {},
   "outputs": [],
   "source": []
  }
 ],
 "metadata": {
  "kernelspec": {
   "display_name": "Python 3 (ipykernel)",
   "language": "python",
   "name": "python3"
  },
  "language_info": {
   "codemirror_mode": {
    "name": "ipython",
    "version": 3
   },
   "file_extension": ".py",
   "mimetype": "text/x-python",
   "name": "python",
   "nbconvert_exporter": "python",
   "pygments_lexer": "ipython3",
   "version": "3.10.6"
  },
  "toc": {
   "base_numbering": 1,
   "nav_menu": {},
   "number_sections": true,
   "sideBar": true,
   "skip_h1_title": false,
   "title_cell": "Table of Contents",
   "title_sidebar": "Contents",
   "toc_cell": false,
   "toc_position": {},
   "toc_section_display": true,
   "toc_window_display": false
  },
  "varInspector": {
   "cols": {
    "lenName": 16,
    "lenType": 16,
    "lenVar": 40
   },
   "kernels_config": {
    "python": {
     "delete_cmd_postfix": "",
     "delete_cmd_prefix": "del ",
     "library": "var_list.py",
     "varRefreshCmd": "print(var_dic_list())"
    },
    "r": {
     "delete_cmd_postfix": ") ",
     "delete_cmd_prefix": "rm(",
     "library": "var_list.r",
     "varRefreshCmd": "cat(var_dic_list()) "
    }
   },
   "position": {
    "height": "372.854px",
    "left": "1014.33px",
    "right": "20px",
    "top": "120px",
    "width": "325.667px"
   },
   "types_to_exclude": [
    "module",
    "function",
    "builtin_function_or_method",
    "instance",
    "_Feature"
   ],
   "window_display": false
  }
 },
 "nbformat": 4,
 "nbformat_minor": 5
}
