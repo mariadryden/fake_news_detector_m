{
 "cells": [
  {
   "cell_type": "code",
   "execution_count": 14,
   "id": "f2416a9a",
   "metadata": {},
   "outputs": [],
   "source": [
    "import pandas as pd\n",
    "import matplotlib.pyplot as plt\n",
    "from sklearn.model_selection import train_test_split\n",
    "from keras.preprocessing.text import Tokenizer\n",
    "from keras.utils import pad_sequences\n",
    "from keras.models import Sequential\n",
    "from keras.layers import Embedding, LSTM, Dense, Dropout, SimpleRNN, Flatten\n",
    "from tensorflow.keras.regularizers import l2"
   ]
  },
  {
   "cell_type": "code",
   "execution_count": 15,
   "id": "490da0ad",
   "metadata": {},
   "outputs": [
    {
     "data": {
      "text/html": [
       "<div>\n",
       "<style scoped>\n",
       "    .dataframe tbody tr th:only-of-type {\n",
       "        vertical-align: middle;\n",
       "    }\n",
       "\n",
       "    .dataframe tbody tr th {\n",
       "        vertical-align: top;\n",
       "    }\n",
       "\n",
       "    .dataframe thead th {\n",
       "        text-align: right;\n",
       "    }\n",
       "</style>\n",
       "<table border=\"1\" class=\"dataframe\">\n",
       "  <thead>\n",
       "    <tr style=\"text-align: right;\">\n",
       "      <th></th>\n",
       "      <th>text</th>\n",
       "      <th>is_fake</th>\n",
       "    </tr>\n",
       "  </thead>\n",
       "  <tbody>\n",
       "    <tr>\n",
       "      <th>0</th>\n",
       "      <td>Donald Trump just couldn t wish all Americans ...</td>\n",
       "      <td>1</td>\n",
       "    </tr>\n",
       "    <tr>\n",
       "      <th>1</th>\n",
       "      <td>House Intelligence Committee Chairman Devin Nu...</td>\n",
       "      <td>1</td>\n",
       "    </tr>\n",
       "    <tr>\n",
       "      <th>2</th>\n",
       "      <td>On Friday, it was revealed that former Milwauk...</td>\n",
       "      <td>1</td>\n",
       "    </tr>\n",
       "    <tr>\n",
       "      <th>3</th>\n",
       "      <td>On Christmas day, Donald Trump announced that ...</td>\n",
       "      <td>1</td>\n",
       "    </tr>\n",
       "    <tr>\n",
       "      <th>4</th>\n",
       "      <td>Pope Francis used his annual Christmas Day mes...</td>\n",
       "      <td>1</td>\n",
       "    </tr>\n",
       "    <tr>\n",
       "      <th>...</th>\n",
       "      <td>...</td>\n",
       "      <td>...</td>\n",
       "    </tr>\n",
       "    <tr>\n",
       "      <th>38653</th>\n",
       "      <td>NATO allies on Tuesday welcomed President Dona...</td>\n",
       "      <td>0</td>\n",
       "    </tr>\n",
       "    <tr>\n",
       "      <th>38654</th>\n",
       "      <td>LexisNexis, a provider of legal, regulatory an...</td>\n",
       "      <td>0</td>\n",
       "    </tr>\n",
       "    <tr>\n",
       "      <th>38655</th>\n",
       "      <td>In the shadow of disused Soviet-era factories ...</td>\n",
       "      <td>0</td>\n",
       "    </tr>\n",
       "    <tr>\n",
       "      <th>38656</th>\n",
       "      <td>Vatican Secretary of State Cardinal Pietro Par...</td>\n",
       "      <td>0</td>\n",
       "    </tr>\n",
       "    <tr>\n",
       "      <th>38657</th>\n",
       "      <td>Indonesia will buy 11 Sukhoi fighter jets wort...</td>\n",
       "      <td>0</td>\n",
       "    </tr>\n",
       "  </tbody>\n",
       "</table>\n",
       "<p>38658 rows × 2 columns</p>\n",
       "</div>"
      ],
      "text/plain": [
       "                                                    text  is_fake\n",
       "0      Donald Trump just couldn t wish all Americans ...        1\n",
       "1      House Intelligence Committee Chairman Devin Nu...        1\n",
       "2      On Friday, it was revealed that former Milwauk...        1\n",
       "3      On Christmas day, Donald Trump announced that ...        1\n",
       "4      Pope Francis used his annual Christmas Day mes...        1\n",
       "...                                                  ...      ...\n",
       "38653  NATO allies on Tuesday welcomed President Dona...        0\n",
       "38654  LexisNexis, a provider of legal, regulatory an...        0\n",
       "38655  In the shadow of disused Soviet-era factories ...        0\n",
       "38656  Vatican Secretary of State Cardinal Pietro Par...        0\n",
       "38657  Indonesia will buy 11 Sukhoi fighter jets wort...        0\n",
       "\n",
       "[38658 rows x 2 columns]"
      ]
     },
     "execution_count": 15,
     "metadata": {},
     "output_type": "execute_result"
    }
   ],
   "source": [
    "data = pd.read_csv('../raw_data/merged_data.csv')\n",
    "data"
   ]
  },
  {
   "cell_type": "code",
   "execution_count": 16,
   "id": "0a9746ae",
   "metadata": {},
   "outputs": [],
   "source": [
    "import string\n",
    "from nltk.tokenize import word_tokenize\n",
    "from nltk.corpus import stopwords\n",
    "from nltk.stem import WordNetLemmatizer\n",
    "\n",
    "def cleaning(sentence):\n",
    "    \n",
    "    # Basic cleaning\n",
    "    sentence = sentence.strip() ## remove whitespaces\n",
    "    sentence = sentence.lower() ## lowercase \n",
    "    sentence = ''.join(char for char in sentence if not char.isdigit()) ## remove numbers\n",
    "    \n",
    "    # Advanced cleaning\n",
    "    for punctuation in string.punctuation:\n",
    "        sentence = sentence.replace(punctuation, '') ## remove punctuation\n",
    "    \n",
    "    tokenized_sentence = word_tokenize(sentence) ## tokenize \n",
    "    stop_words = set(stopwords.words('english')) ## define stopwords\n",
    "    \n",
    "    tokenized_sentence_cleaned = [ ## remove stopwords\n",
    "        w for w in tokenized_sentence if not w in stop_words\n",
    "    ]\n",
    "\n",
    "    lemmatized = [\n",
    "        WordNetLemmatizer().lemmatize(word, pos = \"v\") \n",
    "        for word in tokenized_sentence_cleaned\n",
    "    ]\n",
    "    \n",
    "    cleaned_sentence = ' '.join(word for word in lemmatized)\n",
    "    \n",
    "    return cleaned_sentence"
   ]
  },
  {
   "cell_type": "code",
   "execution_count": 17,
   "id": "babad564",
   "metadata": {},
   "outputs": [
    {
     "name": "stdout",
     "output_type": "stream",
     "text": [
      "CPU times: user 1min 52s, sys: 2.52 s, total: 1min 55s\n",
      "Wall time: 1min 55s\n"
     ]
    },
    {
     "data": {
      "text/html": [
       "<div>\n",
       "<style scoped>\n",
       "    .dataframe tbody tr th:only-of-type {\n",
       "        vertical-align: middle;\n",
       "    }\n",
       "\n",
       "    .dataframe tbody tr th {\n",
       "        vertical-align: top;\n",
       "    }\n",
       "\n",
       "    .dataframe thead th {\n",
       "        text-align: right;\n",
       "    }\n",
       "</style>\n",
       "<table border=\"1\" class=\"dataframe\">\n",
       "  <thead>\n",
       "    <tr style=\"text-align: right;\">\n",
       "      <th></th>\n",
       "      <th>text</th>\n",
       "      <th>is_fake</th>\n",
       "      <th>text_clean</th>\n",
       "    </tr>\n",
       "  </thead>\n",
       "  <tbody>\n",
       "    <tr>\n",
       "      <th>0</th>\n",
       "      <td>Donald Trump just couldn t wish all Americans ...</td>\n",
       "      <td>1</td>\n",
       "      <td>donald trump wish americans happy new year lea...</td>\n",
       "    </tr>\n",
       "    <tr>\n",
       "      <th>1</th>\n",
       "      <td>House Intelligence Committee Chairman Devin Nu...</td>\n",
       "      <td>1</td>\n",
       "      <td>house intelligence committee chairman devin nu...</td>\n",
       "    </tr>\n",
       "    <tr>\n",
       "      <th>2</th>\n",
       "      <td>On Friday, it was revealed that former Milwauk...</td>\n",
       "      <td>1</td>\n",
       "      <td>friday reveal former milwaukee sheriff david c...</td>\n",
       "    </tr>\n",
       "    <tr>\n",
       "      <th>3</th>\n",
       "      <td>On Christmas day, Donald Trump announced that ...</td>\n",
       "      <td>1</td>\n",
       "      <td>christmas day donald trump announce would back...</td>\n",
       "    </tr>\n",
       "    <tr>\n",
       "      <th>4</th>\n",
       "      <td>Pope Francis used his annual Christmas Day mes...</td>\n",
       "      <td>1</td>\n",
       "      <td>pope francis use annual christmas day message ...</td>\n",
       "    </tr>\n",
       "    <tr>\n",
       "      <th>...</th>\n",
       "      <td>...</td>\n",
       "      <td>...</td>\n",
       "      <td>...</td>\n",
       "    </tr>\n",
       "    <tr>\n",
       "      <th>38653</th>\n",
       "      <td>NATO allies on Tuesday welcomed President Dona...</td>\n",
       "      <td>0</td>\n",
       "      <td>nato ally tuesday welcome president donald tru...</td>\n",
       "    </tr>\n",
       "    <tr>\n",
       "      <th>38654</th>\n",
       "      <td>LexisNexis, a provider of legal, regulatory an...</td>\n",
       "      <td>0</td>\n",
       "      <td>lexisnexis provider legal regulatory business ...</td>\n",
       "    </tr>\n",
       "    <tr>\n",
       "      <th>38655</th>\n",
       "      <td>In the shadow of disused Soviet-era factories ...</td>\n",
       "      <td>0</td>\n",
       "      <td>shadow disused sovietera factories minsk stree...</td>\n",
       "    </tr>\n",
       "    <tr>\n",
       "      <th>38656</th>\n",
       "      <td>Vatican Secretary of State Cardinal Pietro Par...</td>\n",
       "      <td>0</td>\n",
       "      <td>vatican secretary state cardinal pietro paroli...</td>\n",
       "    </tr>\n",
       "    <tr>\n",
       "      <th>38657</th>\n",
       "      <td>Indonesia will buy 11 Sukhoi fighter jets wort...</td>\n",
       "      <td>0</td>\n",
       "      <td>indonesia buy sukhoi fighter jet worth billion...</td>\n",
       "    </tr>\n",
       "  </tbody>\n",
       "</table>\n",
       "<p>38658 rows × 3 columns</p>\n",
       "</div>"
      ],
      "text/plain": [
       "                                                    text  is_fake  \\\n",
       "0      Donald Trump just couldn t wish all Americans ...        1   \n",
       "1      House Intelligence Committee Chairman Devin Nu...        1   \n",
       "2      On Friday, it was revealed that former Milwauk...        1   \n",
       "3      On Christmas day, Donald Trump announced that ...        1   \n",
       "4      Pope Francis used his annual Christmas Day mes...        1   \n",
       "...                                                  ...      ...   \n",
       "38653  NATO allies on Tuesday welcomed President Dona...        0   \n",
       "38654  LexisNexis, a provider of legal, regulatory an...        0   \n",
       "38655  In the shadow of disused Soviet-era factories ...        0   \n",
       "38656  Vatican Secretary of State Cardinal Pietro Par...        0   \n",
       "38657  Indonesia will buy 11 Sukhoi fighter jets wort...        0   \n",
       "\n",
       "                                              text_clean  \n",
       "0      donald trump wish americans happy new year lea...  \n",
       "1      house intelligence committee chairman devin nu...  \n",
       "2      friday reveal former milwaukee sheriff david c...  \n",
       "3      christmas day donald trump announce would back...  \n",
       "4      pope francis use annual christmas day message ...  \n",
       "...                                                  ...  \n",
       "38653  nato ally tuesday welcome president donald tru...  \n",
       "38654  lexisnexis provider legal regulatory business ...  \n",
       "38655  shadow disused sovietera factories minsk stree...  \n",
       "38656  vatican secretary state cardinal pietro paroli...  \n",
       "38657  indonesia buy sukhoi fighter jet worth billion...  \n",
       "\n",
       "[38658 rows x 3 columns]"
      ]
     },
     "execution_count": 17,
     "metadata": {},
     "output_type": "execute_result"
    }
   ],
   "source": [
    "%%time\n",
    "\n",
    "data['text_clean'] = data['text'].apply(cleaning)\n",
    "data"
   ]
  },
  {
   "cell_type": "code",
   "execution_count": 18,
   "id": "97dae035",
   "metadata": {},
   "outputs": [],
   "source": [
    "X = data.text_clean\n",
    "y = data.is_fake"
   ]
  },
  {
   "cell_type": "code",
   "execution_count": 19,
   "id": "9dd10a84",
   "metadata": {},
   "outputs": [],
   "source": [
    "# Perform a 70:30 split for the initial training set and temporary set\n",
    "X_train, X_temp, y_train, y_temp = train_test_split(X, y, test_size=0.3, random_state=42)\n",
    "\n",
    "# Further split the temporary set into validation (50%) and test (50%)\n",
    "X_val, X_test, y_val, y_test = train_test_split(X_temp, y_temp, test_size=0.5, random_state=42)"
   ]
  },
  {
   "cell_type": "code",
   "execution_count": 20,
   "id": "0eb852a1",
   "metadata": {},
   "outputs": [
    {
     "name": "stdout",
     "output_type": "stream",
     "text": [
      "CPU times: user 6.82 s, sys: 75.7 ms, total: 6.9 s\n",
      "Wall time: 6.94 s\n"
     ]
    }
   ],
   "source": [
    "%%time\n",
    "# max_words = 10000  \n",
    "# max_sequence_length = 500  \n",
    "\n",
    "# Initialize the tokenizer and fit it on the training data\n",
    "tokenizer = Tokenizer(num_words=10000)\n",
    "tokenizer.fit_on_texts(X_train)\n",
    "word_index = tokenizer.word_index"
   ]
  },
  {
   "cell_type": "code",
   "execution_count": 21,
   "id": "85de354b",
   "metadata": {},
   "outputs": [
    {
     "data": {
      "text/plain": [
       "156905"
      ]
     },
     "execution_count": 21,
     "metadata": {},
     "output_type": "execute_result"
    }
   ],
   "source": [
    "len(word_index)"
   ]
  },
  {
   "cell_type": "code",
   "execution_count": 22,
   "id": "062088b0",
   "metadata": {},
   "outputs": [],
   "source": [
    "# Convert text data to sequences of integers\n",
    "X_train_sequences = tokenizer.texts_to_sequences(X_train)\n",
    "X_val_sequences = tokenizer.texts_to_sequences(X_val)\n",
    "X_test_sequences = tokenizer.texts_to_sequences(X_test)"
   ]
  },
  {
   "cell_type": "code",
   "execution_count": 23,
   "id": "9e03178f",
   "metadata": {},
   "outputs": [],
   "source": [
    "sequences = tokenizer.texts_to_sequences(data.text_clean)\n",
    "\n",
    "lengths_of_texts =  [len(text) for text in sequences]\n",
    "\n",
    "## For length to pad till, we use the average length of all texts \n",
    "avg_length_text = int(np.mean(lengths_of_texts))\n",
    "\n",
    "X_train_pad = pad_sequences(X_train_sequences, maxlen=avg_length_text, padding='post', truncating='post')\n",
    "X_val_pad = pad_sequences(X_val_sequences, maxlen=avg_length_text, padding='pre')\n",
    "X_test_pad = pad_sequences(X_test_sequences, maxlen=avg_length_text, padding='post', truncating='post')"
   ]
  },
  {
   "cell_type": "markdown",
   "id": "4096c50d",
   "metadata": {},
   "source": [
    "---"
   ]
  },
  {
   "cell_type": "markdown",
   "id": "918517e2",
   "metadata": {},
   "source": [
    "## SimpleRNN Model"
   ]
  },
  {
   "cell_type": "code",
   "execution_count": 45,
   "id": "8b3c302f",
   "metadata": {},
   "outputs": [
    {
     "name": "stdout",
     "output_type": "stream",
     "text": [
      "Epoch 1/1000\n",
      "846/846 [==============================] - 39s 44ms/step - loss: 0.6505 - accuracy: 0.5985 - val_loss: 0.6683 - val_accuracy: 0.5515\n",
      "Epoch 2/1000\n",
      "846/846 [==============================] - 47s 55ms/step - loss: 0.6429 - accuracy: 0.5962 - val_loss: 0.6415 - val_accuracy: 0.5603\n",
      "Epoch 3/1000\n",
      "846/846 [==============================] - 54s 63ms/step - loss: 0.4464 - accuracy: 0.7943 - val_loss: 0.6274 - val_accuracy: 0.7322\n",
      "Epoch 4/1000\n",
      "846/846 [==============================] - 45s 53ms/step - loss: 0.3957 - accuracy: 0.8425 - val_loss: 0.4010 - val_accuracy: 0.7934\n",
      "Epoch 5/1000\n",
      "846/846 [==============================] - 53s 62ms/step - loss: 0.3018 - accuracy: 0.9017 - val_loss: 0.2158 - val_accuracy: 0.9300\n",
      "Epoch 6/1000\n",
      "846/846 [==============================] - 48s 56ms/step - loss: 0.1999 - accuracy: 0.9496 - val_loss: 0.1723 - val_accuracy: 0.9464\n",
      "Epoch 7/1000\n",
      "846/846 [==============================] - 47s 56ms/step - loss: 0.2840 - accuracy: 0.9052 - val_loss: 0.2825 - val_accuracy: 0.8765\n",
      "Epoch 8/1000\n",
      "846/846 [==============================] - 49s 58ms/step - loss: 0.1976 - accuracy: 0.9504 - val_loss: 0.1903 - val_accuracy: 0.9258\n",
      "Epoch 9/1000\n",
      "846/846 [==============================] - 53s 62ms/step - loss: 0.1596 - accuracy: 0.9596 - val_loss: 0.1012 - val_accuracy: 0.9674\n",
      "Epoch 10/1000\n",
      "846/846 [==============================] - 45s 53ms/step - loss: 0.2124 - accuracy: 0.9384 - val_loss: 0.2784 - val_accuracy: 0.8969\n",
      "Epoch 11/1000\n",
      "846/846 [==============================] - 45s 53ms/step - loss: 0.3384 - accuracy: 0.8850 - val_loss: 0.5285 - val_accuracy: 0.7589\n",
      "Epoch 12/1000\n",
      "846/846 [==============================] - 50s 60ms/step - loss: 0.3505 - accuracy: 0.8842 - val_loss: 0.4550 - val_accuracy: 0.8053\n",
      "Epoch 13/1000\n",
      "846/846 [==============================] - 47s 55ms/step - loss: 0.2791 - accuracy: 0.9114 - val_loss: 0.2527 - val_accuracy: 0.8964\n",
      "Epoch 14/1000\n",
      "846/846 [==============================] - 48s 56ms/step - loss: 0.1766 - accuracy: 0.9566 - val_loss: 0.1584 - val_accuracy: 0.9443\n",
      "Epoch 15/1000\n",
      "846/846 [==============================] - 43s 51ms/step - loss: 0.1529 - accuracy: 0.9638 - val_loss: 0.1501 - val_accuracy: 0.9488\n",
      "Epoch 16/1000\n",
      "846/846 [==============================] - 52s 61ms/step - loss: 0.1735 - accuracy: 0.9574 - val_loss: 0.1585 - val_accuracy: 0.9495\n",
      "Epoch 17/1000\n",
      "846/846 [==============================] - 56s 66ms/step - loss: 0.1427 - accuracy: 0.9657 - val_loss: 0.1073 - val_accuracy: 0.9665\n",
      "Epoch 18/1000\n",
      "846/846 [==============================] - 52s 61ms/step - loss: 0.1223 - accuracy: 0.9695 - val_loss: 0.1116 - val_accuracy: 0.9631\n",
      "Epoch 19/1000\n",
      "846/846 [==============================] - 51s 60ms/step - loss: 0.1198 - accuracy: 0.9680 - val_loss: 0.1126 - val_accuracy: 0.9593\n",
      "Epoch 20/1000\n",
      "846/846 [==============================] - 55s 65ms/step - loss: 0.1303 - accuracy: 0.9654 - val_loss: 0.1353 - val_accuracy: 0.9517\n",
      "Epoch 21/1000\n",
      "846/846 [==============================] - 50s 59ms/step - loss: 0.1255 - accuracy: 0.9695 - val_loss: 0.1848 - val_accuracy: 0.9426\n",
      "Epoch 22/1000\n",
      "846/846 [==============================] - 48s 57ms/step - loss: 0.1213 - accuracy: 0.9707 - val_loss: 0.1852 - val_accuracy: 0.9407\n",
      "Epoch 23/1000\n",
      "846/846 [==============================] - 43s 50ms/step - loss: 0.1233 - accuracy: 0.9713 - val_loss: 0.2536 - val_accuracy: 0.9343\n",
      "Epoch 24/1000\n",
      "846/846 [==============================] - 46s 55ms/step - loss: 0.1415 - accuracy: 0.9663 - val_loss: 0.2234 - val_accuracy: 0.9352\n",
      "Epoch 25/1000\n",
      "846/846 [==============================] - 48s 57ms/step - loss: 0.1656 - accuracy: 0.9593 - val_loss: 0.2393 - val_accuracy: 0.9286\n",
      "Epoch 26/1000\n",
      "846/846 [==============================] - 48s 56ms/step - loss: 0.2256 - accuracy: 0.9371 - val_loss: 0.3357 - val_accuracy: 0.8786\n",
      "Epoch 27/1000\n",
      "846/846 [==============================] - 49s 58ms/step - loss: 0.1471 - accuracy: 0.9644 - val_loss: 0.2908 - val_accuracy: 0.9148\n",
      "Epoch 28/1000\n",
      "846/846 [==============================] - 49s 57ms/step - loss: 0.1308 - accuracy: 0.9705 - val_loss: 0.3316 - val_accuracy: 0.9038\n",
      "Epoch 29/1000\n",
      "846/846 [==============================] - 47s 55ms/step - loss: 0.1826 - accuracy: 0.9524 - val_loss: 0.5036 - val_accuracy: 0.8331\n",
      "Epoch 30/1000\n",
      "846/846 [==============================] - 48s 56ms/step - loss: 0.1716 - accuracy: 0.9551 - val_loss: 0.3865 - val_accuracy: 0.8858\n",
      "Epoch 31/1000\n",
      "846/846 [==============================] - 53s 63ms/step - loss: 0.1397 - accuracy: 0.9649 - val_loss: 0.4703 - val_accuracy: 0.8755\n",
      "Epoch 32/1000\n",
      "846/846 [==============================] - 50s 59ms/step - loss: 0.1292 - accuracy: 0.9698 - val_loss: 0.4035 - val_accuracy: 0.8943\n",
      "Epoch 33/1000\n",
      "846/846 [==============================] - 44s 52ms/step - loss: 0.1320 - accuracy: 0.9677 - val_loss: 0.4207 - val_accuracy: 0.8926\n",
      "Epoch 34/1000\n",
      "846/846 [==============================] - 44s 52ms/step - loss: 0.1713 - accuracy: 0.9446 - val_loss: 0.5164 - val_accuracy: 0.8270\n",
      "CPU times: user 1h 1min 8s, sys: 16min, total: 1h 17min 9s\n",
      "Wall time: 27min 22s\n"
     ]
    }
   ],
   "source": [
    "%%time\n",
    "from keras.callbacks import EarlyStopping\n",
    "\n",
    "model_rnn = Sequential([\n",
    "    Embedding(input_dim = len(word_index), output_dim = 8, \n",
    "             input_length=avg_length_text), ## recall that we set the post-padding length to be this value \n",
    "    SimpleRNN(16), ## THIS IS THE RECURRENT LAYER \n",
    "    Dropout(0.2),\n",
    "    Dense(8, activation='relu'),\n",
    "    Dropout(0.2), \n",
    "    Dense(1, activation= 'sigmoid') ## final layer for prediction, hence only one node\n",
    "])\n",
    "\n",
    "## compile -- add optim, add loss, add metrics \n",
    "model_rnn.compile(optimizer = 'adam', loss = ['binary_crossentropy'], metrics = ['accuracy'])\n",
    "\n",
    "early_stopping = EarlyStopping(patience=25, restore_best_weights=True)\n",
    "\n",
    "history_rnn = model_rnn.fit(X_train_pad, y_train, epochs=1000, batch_size=32, validation_data=(X_val_pad, y_val), callbacks=[early_stopping])"
   ]
  },
  {
   "cell_type": "code",
   "execution_count": 46,
   "id": "7471db9a",
   "metadata": {
    "scrolled": true
   },
   "outputs": [
    {
     "name": "stdout",
     "output_type": "stream",
     "text": [
      "182/182 [==============================] - 2s 10ms/step - loss: 0.1250 - accuracy: 0.9595\n"
     ]
    }
   ],
   "source": [
    "# Evaluate the model on the test set\n",
    "loss, accuracy = model_rnn.evaluate(X_test_pad, y_test)"
   ]
  },
  {
   "cell_type": "code",
   "execution_count": 47,
   "id": "d94a0a70",
   "metadata": {
    "scrolled": false
   },
   "outputs": [
    {
     "data": {
      "image/png": "[encoded data removed]",
      "text/plain": [
       "<Figure size 640x480 with 1 Axes>"
      ]
     },
     "metadata": {},
     "output_type": "display_data"
    }
   ],
   "source": [
    "# Plot the training and validation loss\n",
    "plt.plot(history_rnn.history['loss'], label='Train Loss')\n",
    "plt.plot(history_rnn.history['val_loss'], label='Validation Loss')\n",
    "plt.title('Training and Validation Loss')\n",
    "plt.xlabel('Epoch')\n",
    "plt.ylabel('Loss')\n",
    "plt.legend()\n",
    "plt.show()"
   ]
  },
  {
   "cell_type": "code",
   "execution_count": 48,
   "id": "d8aea2a4",
   "metadata": {},
   "outputs": [
    {
     "data": {
      "image/png": "[encoded data removed]",
      "text/plain": [
       "<Figure size 640x480 with 1 Axes>"
      ]
     },
     "metadata": {},
     "output_type": "display_data"
    }
   ],
   "source": [
    "plt.plot(history_rnn.history['accuracy'], label='Train Accuracy')\n",
    "plt.plot(history_rnn.history['val_accuracy'], label='Validation Accuracy')\n",
    "plt.title('Training and Validation Accuracy')\n",
    "plt.xlabel('Epoch')\n",
    "plt.ylabel('Accuracy')\n",
    "plt.legend()\n",
    "plt.show()"
   ]
  },
  {
   "cell_type": "code",
   "execution_count": 49,
   "id": "44cadfc0",
   "metadata": {},
   "outputs": [
    {
     "name": "stdout",
     "output_type": "stream",
     "text": [
      "182/182 [==============================] - 2s 9ms/step\n"
     ]
    }
   ],
   "source": [
    "y_pred = model_rnn.predict(X_test_pad)"
   ]
  },
  {
   "cell_type": "code",
   "execution_count": 50,
   "id": "75643984",
   "metadata": {},
   "outputs": [
    {
     "data": {
      "text/plain": [
       "<sklearn.metrics._plot.confusion_matrix.ConfusionMatrixDisplay at 0x169ce2e90>"
      ]
     },
     "execution_count": 50,
     "metadata": {},
     "output_type": "execute_result"
    },
    {
     "data": {
      "image/png": "[encoded data removed]",
      "text/plain": [
       "<Figure size 640x480 with 2 Axes>"
      ]
     },
     "metadata": {},
     "output_type": "display_data"
    }
   ],
   "source": [
    "from sklearn.metrics import confusion_matrix,ConfusionMatrixDisplay\n",
    "import tensorflow as tf\n",
    "\n",
    "predicted = tf.squeeze(y_pred)\n",
    "predicted = np.array([1 if x >= 0.5 else 0 for x in predicted])\n",
    "actual = np.array(y_test)\n",
    "conf_mat = confusion_matrix(actual, predicted)\n",
    "displ = ConfusionMatrixDisplay(confusion_matrix=conf_mat)\n",
    "displ.plot()"
   ]
  },
  {
   "cell_type": "markdown",
   "id": "18b6b0c1",
   "metadata": {},
   "source": [
    "---"
   ]
  },
  {
   "cell_type": "markdown",
   "id": "8241d2b4",
   "metadata": {},
   "source": [
    "## Basic NN Model"
   ]
  },
  {
   "cell_type": "code",
   "execution_count": 30,
   "id": "49572a15",
   "metadata": {},
   "outputs": [],
   "source": [
    "# model_3 = Sequential([\n",
    "#     Embedding(input_dim=len(word_index), output_dim=8, input_length=avg_length_text),\n",
    "#     Flatten(),\n",
    "#     Dense(8, activation='relu', kernel_regularizer=l2(0.01)),  # L2 regularization\n",
    "#     Dropout(0.5),  # Adding dropout\n",
    "#     Dense(1, activation='sigmoid')\n",
    "# ])\n",
    "\n",
    "# model_3.compile(optimizer='adam', loss='binary_crossentropy', metrics=['accuracy'])\n",
    "\n",
    "# ## Decrease patience, allow restore to best weights during patience\n",
    "# early_stopping = EarlyStopping(monitor='val_loss', patience=5, restore_best_weights=True)\n",
    "\n",
    "# history_3 = model_3.fit(X_train_pad, y_train, epochs=50, batch_size=200, validation_data=(X_val_pad, y_test), callbacks=[early_stopping])"
   ]
  },
  {
   "cell_type": "code",
   "execution_count": 31,
   "id": "3cfe5039",
   "metadata": {},
   "outputs": [],
   "source": [
    "# final_train_loss_3 = history_3.history['loss'][-1]\n",
    "# final_train_accuracy_3 = history_3.history['accuracy'][-1]\n",
    "\n",
    "# final_val_loss_3 = history_3.history['val_loss'][-1]\n",
    "# final_val_accuracy_3 = history_3.history['val_accuracy'][-1]\n",
    "\n",
    "# print(\"Final Training Loss:\", final_train_loss_3)\n",
    "# print(\"Final Training Accuracy:\", final_train_accuracy_3)\n",
    "# print(\"Final Validation Loss:\", final_val_loss_3)\n",
    "# print(\"Final Validation Accuracy:\", final_val_accuracy_3)\n"
   ]
  },
  {
   "cell_type": "code",
   "execution_count": 32,
   "id": "11bdd62c",
   "metadata": {},
   "outputs": [],
   "source": [
    "# # Plot the training and validation loss\n",
    "# plt.plot(history_3.history['loss'], label='Train Loss')\n",
    "# plt.plot(history_3.history['val_loss'], label='Validation Loss')\n",
    "# plt.title('Training and Validation Loss')\n",
    "# plt.xlabel('Epoch')\n",
    "# plt.ylabel('Loss')\n",
    "# plt.legend()\n",
    "# plt.show()"
   ]
  },
  {
   "cell_type": "code",
   "execution_count": 71,
   "id": "5d4202cd",
   "metadata": {},
   "outputs": [
    {
     "name": "stdout",
     "output_type": "stream",
     "text": [
      "Training on fold 1...\n",
      "Epoch 1/1000\n",
      "677/677 [==============================] - 43s 62ms/step - loss: 0.6291 - accuracy: 0.6420 - val_loss: 0.5293 - val_accuracy: 0.7515\n",
      "Epoch 2/1000\n",
      "677/677 [==============================] - 35s 52ms/step - loss: 0.3251 - accuracy: 0.8854 - val_loss: 0.1744 - val_accuracy: 0.9549\n",
      "Epoch 3/1000\n",
      "677/677 [==============================] - 41s 60ms/step - loss: 0.2915 - accuracy: 0.9158 - val_loss: 0.2274 - val_accuracy: 0.9350\n",
      "Epoch 4/1000\n",
      "677/677 [==============================] - 41s 61ms/step - loss: 0.2126 - accuracy: 0.9490 - val_loss: 0.2232 - val_accuracy: 0.9359\n",
      "Epoch 5/1000\n",
      "677/677 [==============================] - 36s 53ms/step - loss: 0.1867 - accuracy: 0.9569 - val_loss: 0.2092 - val_accuracy: 0.9420\n",
      "Epoch 6/1000\n",
      "677/677 [==============================] - 36s 53ms/step - loss: 0.2860 - accuracy: 0.8848 - val_loss: 0.1687 - val_accuracy: 0.9599\n",
      "Epoch 7/1000\n",
      "677/677 [==============================] - 36s 53ms/step - loss: 0.1600 - accuracy: 0.9648 - val_loss: 0.1636 - val_accuracy: 0.9593\n",
      "Epoch 8/1000\n",
      "677/677 [==============================] - 33s 49ms/step - loss: 0.1966 - accuracy: 0.9511 - val_loss: 0.1875 - val_accuracy: 0.9525\n",
      "Epoch 9/1000\n",
      "677/677 [==============================] - 35s 51ms/step - loss: 0.2061 - accuracy: 0.9469 - val_loss: 0.2142 - val_accuracy: 0.9438\n",
      "Epoch 10/1000\n",
      "677/677 [==============================] - 37s 55ms/step - loss: 0.1571 - accuracy: 0.9645 - val_loss: 0.1793 - val_accuracy: 0.9555\n",
      "Epoch 11/1000\n",
      "677/677 [==============================] - 32s 48ms/step - loss: 0.3005 - accuracy: 0.8944 - val_loss: 0.2844 - val_accuracy: 0.9026\n",
      "Epoch 12/1000\n",
      "677/677 [==============================] - 30s 44ms/step - loss: 0.2138 - accuracy: 0.9365 - val_loss: 0.2150 - val_accuracy: 0.9411\n",
      "Epoch 13/1000\n",
      "677/677 [==============================] - 30s 44ms/step - loss: 0.1494 - accuracy: 0.9659 - val_loss: 0.2086 - val_accuracy: 0.9453\n",
      "Epoch 14/1000\n",
      "677/677 [==============================] - 38s 57ms/step - loss: 0.1737 - accuracy: 0.9574 - val_loss: 0.2484 - val_accuracy: 0.9250\n",
      "Epoch 15/1000\n",
      "677/677 [==============================] - 48s 71ms/step - loss: 0.2080 - accuracy: 0.9388 - val_loss: 0.2895 - val_accuracy: 0.9144\n",
      "Epoch 16/1000\n",
      "677/677 [==============================] - 48s 72ms/step - loss: 0.1481 - accuracy: 0.9654 - val_loss: 0.2207 - val_accuracy: 0.9387\n",
      "Epoch 17/1000\n",
      "677/677 [==============================] - 31s 46ms/step - loss: 0.1660 - accuracy: 0.9596 - val_loss: 0.2900 - val_accuracy: 0.9024\n",
      "Epoch 18/1000\n",
      "677/677 [==============================] - 30s 44ms/step - loss: 0.1630 - accuracy: 0.9590 - val_loss: 0.2617 - val_accuracy: 0.9226\n",
      "Epoch 19/1000\n",
      "677/677 [==============================] - 30s 44ms/step - loss: 0.1324 - accuracy: 0.9713 - val_loss: 0.2606 - val_accuracy: 0.9287\n",
      "Epoch 20/1000\n",
      "677/677 [==============================] - 30s 44ms/step - loss: 0.1351 - accuracy: 0.9689 - val_loss: 0.2476 - val_accuracy: 0.9278\n",
      "Epoch 21/1000\n",
      "677/677 [==============================] - 30s 44ms/step - loss: 0.1390 - accuracy: 0.9673 - val_loss: 0.4917 - val_accuracy: 0.8633\n",
      "Epoch 22/1000\n",
      "677/677 [==============================] - 30s 44ms/step - loss: 0.1940 - accuracy: 0.9480 - val_loss: 0.4554 - val_accuracy: 0.8579\n",
      "Epoch 23/1000\n",
      "677/677 [==============================] - 29s 43ms/step - loss: 0.2699 - accuracy: 0.9163 - val_loss: 0.3948 - val_accuracy: 0.8751\n",
      "Epoch 24/1000\n",
      "677/677 [==============================] - 30s 44ms/step - loss: 0.1950 - accuracy: 0.9486 - val_loss: 0.4198 - val_accuracy: 0.8742\n",
      "Epoch 25/1000\n",
      "677/677 [==============================] - 30s 44ms/step - loss: 0.1760 - accuracy: 0.9546 - val_loss: 0.4120 - val_accuracy: 0.8814\n",
      "Epoch 26/1000\n",
      "677/677 [==============================] - 30s 44ms/step - loss: 0.1660 - accuracy: 0.9588 - val_loss: 0.2898 - val_accuracy: 0.9126\n",
      "Epoch 27/1000\n",
      "677/677 [==============================] - 30s 44ms/step - loss: 0.1895 - accuracy: 0.9479 - val_loss: 0.4288 - val_accuracy: 0.8561\n",
      "Epoch 28/1000\n",
      "677/677 [==============================] - 30s 45ms/step - loss: 0.2063 - accuracy: 0.9405 - val_loss: 0.4394 - val_accuracy: 0.8662\n",
      "Epoch 29/1000\n",
      "677/677 [==============================] - 30s 45ms/step - loss: 0.1669 - accuracy: 0.9563 - val_loss: 0.4597 - val_accuracy: 0.8633\n",
      "Epoch 30/1000\n",
      "677/677 [==============================] - 30s 44ms/step - loss: 0.1669 - accuracy: 0.9575 - val_loss: 0.4964 - val_accuracy: 0.8509\n",
      "Epoch 31/1000\n",
      "677/677 [==============================] - 30s 44ms/step - loss: 0.1605 - accuracy: 0.9569 - val_loss: 0.4959 - val_accuracy: 0.8546\n",
      "Epoch 32/1000\n",
      "677/677 [==============================] - 30s 44ms/step - loss: 0.1484 - accuracy: 0.9618 - val_loss: 0.4843 - val_accuracy: 0.8660\n",
      "Training on fold 2...\n",
      "Epoch 1/1000\n",
      "677/677 [==============================] - 32s 44ms/step - loss: 0.6897 - accuracy: 0.5411 - val_loss: 0.6875 - val_accuracy: 0.5475\n",
      "Epoch 2/1000\n",
      "677/677 [==============================] - 30s 44ms/step - loss: 0.6059 - accuracy: 0.6465 - val_loss: 0.6298 - val_accuracy: 0.6441\n",
      "Epoch 3/1000\n",
      "677/677 [==============================] - 30s 44ms/step - loss: 0.5698 - accuracy: 0.7116 - val_loss: 0.4333 - val_accuracy: 0.8161\n",
      "Epoch 4/1000\n",
      "677/677 [==============================] - 30s 44ms/step - loss: 0.3837 - accuracy: 0.8585 - val_loss: 0.4367 - val_accuracy: 0.8210\n",
      "Epoch 5/1000\n",
      "677/677 [==============================] - 31s 45ms/step - loss: 0.2290 - accuracy: 0.9245 - val_loss: 0.1343 - val_accuracy: 0.9536\n",
      "Epoch 6/1000\n",
      "677/677 [==============================] - 30s 44ms/step - loss: 0.1120 - accuracy: 0.9672 - val_loss: 0.0889 - val_accuracy: 0.9671\n",
      "Epoch 7/1000\n",
      "677/677 [==============================] - 30s 44ms/step - loss: 0.0914 - accuracy: 0.9726 - val_loss: 0.2005 - val_accuracy: 0.9309\n",
      "Epoch 8/1000\n",
      "677/677 [==============================] - 31s 46ms/step - loss: 0.0616 - accuracy: 0.9834 - val_loss: 0.1066 - val_accuracy: 0.9634\n",
      "Epoch 9/1000\n",
      "677/677 [==============================] - 31s 46ms/step - loss: 0.0481 - accuracy: 0.9868 - val_loss: 0.0939 - val_accuracy: 0.9703\n",
      "Epoch 10/1000\n",
      "677/677 [==============================] - 32s 47ms/step - loss: 0.0385 - accuracy: 0.9891 - val_loss: 0.1083 - val_accuracy: 0.9706\n",
      "Epoch 11/1000\n",
      "677/677 [==============================] - 34s 50ms/step - loss: 0.0520 - accuracy: 0.9863 - val_loss: 0.0944 - val_accuracy: 0.9708\n",
      "Epoch 12/1000\n",
      "677/677 [==============================] - 31s 46ms/step - loss: 0.0348 - accuracy: 0.9908 - val_loss: 0.1025 - val_accuracy: 0.9719\n",
      "Epoch 13/1000\n",
      "677/677 [==============================] - 44s 66ms/step - loss: 0.0247 - accuracy: 0.9938 - val_loss: 0.1151 - val_accuracy: 0.9686\n",
      "Epoch 14/1000\n",
      "677/677 [==============================] - 49s 73ms/step - loss: 0.0766 - accuracy: 0.9830 - val_loss: 0.1166 - val_accuracy: 0.9690\n",
      "Epoch 15/1000\n",
      "677/677 [==============================] - 38s 57ms/step - loss: 0.0205 - accuracy: 0.9958 - val_loss: 0.2971 - val_accuracy: 0.9320\n",
      "Epoch 16/1000\n",
      "677/677 [==============================] - 30s 44ms/step - loss: 0.0187 - accuracy: 0.9953 - val_loss: 0.1824 - val_accuracy: 0.9523\n",
      "Epoch 17/1000\n",
      "677/677 [==============================] - 30s 44ms/step - loss: 0.0331 - accuracy: 0.9912 - val_loss: 0.1183 - val_accuracy: 0.9704\n",
      "Epoch 18/1000\n",
      "677/677 [==============================] - 30s 44ms/step - loss: 0.0157 - accuracy: 0.9961 - val_loss: 1.9913 - val_accuracy: 0.6894\n",
      "Epoch 19/1000\n",
      "677/677 [==============================] - 30s 44ms/step - loss: 0.0368 - accuracy: 0.9908 - val_loss: 0.1464 - val_accuracy: 0.9597\n",
      "Epoch 20/1000\n",
      "677/677 [==============================] - 30s 44ms/step - loss: 0.0529 - accuracy: 0.9860 - val_loss: 0.1067 - val_accuracy: 0.9708\n",
      "Epoch 21/1000\n",
      "677/677 [==============================] - 30s 44ms/step - loss: 0.0076 - accuracy: 0.9989 - val_loss: 0.1182 - val_accuracy: 0.9725\n",
      "Epoch 22/1000\n",
      "677/677 [==============================] - 30s 44ms/step - loss: 0.0153 - accuracy: 0.9958 - val_loss: 0.1743 - val_accuracy: 0.9568\n",
      "Epoch 23/1000\n",
      "677/677 [==============================] - 33s 48ms/step - loss: 0.0440 - accuracy: 0.9881 - val_loss: 0.0970 - val_accuracy: 0.9725\n",
      "Epoch 24/1000\n"
     ]
    },
    {
     "name": "stdout",
     "output_type": "stream",
     "text": [
      "677/677 [==============================] - 36s 53ms/step - loss: 0.0181 - accuracy: 0.9945 - val_loss: 0.1306 - val_accuracy: 0.9666\n",
      "Epoch 25/1000\n",
      "677/677 [==============================] - 51s 75ms/step - loss: 0.0094 - accuracy: 0.9979 - val_loss: 0.1309 - val_accuracy: 0.9712\n",
      "Epoch 26/1000\n",
      "677/677 [==============================] - 36s 53ms/step - loss: 0.0462 - accuracy: 0.9894 - val_loss: 0.1320 - val_accuracy: 0.9690\n",
      "Epoch 27/1000\n",
      "677/677 [==============================] - 38s 56ms/step - loss: 0.0045 - accuracy: 0.9997 - val_loss: 0.1392 - val_accuracy: 0.9691\n",
      "Epoch 28/1000\n",
      "677/677 [==============================] - 48s 72ms/step - loss: 0.0164 - accuracy: 0.9958 - val_loss: 0.1465 - val_accuracy: 0.9656\n",
      "Epoch 29/1000\n",
      "677/677 [==============================] - 39s 57ms/step - loss: 0.0455 - accuracy: 0.9898 - val_loss: 0.1157 - val_accuracy: 0.9649\n",
      "Epoch 30/1000\n",
      "677/677 [==============================] - 31s 46ms/step - loss: 0.0147 - accuracy: 0.9973 - val_loss: 0.1140 - val_accuracy: 0.9693\n",
      "Epoch 31/1000\n",
      "677/677 [==============================] - 39s 57ms/step - loss: 0.0077 - accuracy: 0.9983 - val_loss: 0.1488 - val_accuracy: 0.9610\n",
      "Training on fold 3...\n",
      "Epoch 1/1000\n",
      "677/677 [==============================] - 50s 72ms/step - loss: 0.6874 - accuracy: 0.5411 - val_loss: 0.6766 - val_accuracy: 0.5479\n",
      "Epoch 2/1000\n",
      "677/677 [==============================] - 49s 72ms/step - loss: 0.4336 - accuracy: 0.8205 - val_loss: 0.5131 - val_accuracy: 0.7458\n",
      "Epoch 3/1000\n",
      "677/677 [==============================] - 49s 73ms/step - loss: 0.3359 - accuracy: 0.8932 - val_loss: 0.3741 - val_accuracy: 0.8625\n",
      "Epoch 4/1000\n",
      "677/677 [==============================] - 51s 75ms/step - loss: 0.3324 - accuracy: 0.8892 - val_loss: 0.2206 - val_accuracy: 0.9401\n",
      "Epoch 5/1000\n",
      "677/677 [==============================] - 56s 83ms/step - loss: 0.1926 - accuracy: 0.9533 - val_loss: 0.1953 - val_accuracy: 0.9475\n",
      "Epoch 6/1000\n",
      "677/677 [==============================] - 59s 87ms/step - loss: 0.2044 - accuracy: 0.9452 - val_loss: 0.1954 - val_accuracy: 0.9499\n",
      "Epoch 7/1000\n",
      "677/677 [==============================] - 36s 53ms/step - loss: 0.1613 - accuracy: 0.9628 - val_loss: 0.1935 - val_accuracy: 0.9503\n",
      "Epoch 8/1000\n",
      "677/677 [==============================] - 42s 62ms/step - loss: 0.1552 - accuracy: 0.9642 - val_loss: 0.1903 - val_accuracy: 0.9508\n",
      "Epoch 9/1000\n",
      "677/677 [==============================] - 40s 59ms/step - loss: 0.2329 - accuracy: 0.9094 - val_loss: 0.6632 - val_accuracy: 0.5867\n",
      "Epoch 10/1000\n",
      "677/677 [==============================] - 35s 52ms/step - loss: 0.3197 - accuracy: 0.8285 - val_loss: 0.3607 - val_accuracy: 0.8930\n",
      "Epoch 11/1000\n",
      "677/677 [==============================] - 41s 60ms/step - loss: 0.1587 - accuracy: 0.9615 - val_loss: 0.3165 - val_accuracy: 0.8982\n",
      "Epoch 12/1000\n",
      "677/677 [==============================] - 31s 46ms/step - loss: 0.1806 - accuracy: 0.9512 - val_loss: 0.2799 - val_accuracy: 0.9159\n",
      "Epoch 13/1000\n",
      "677/677 [==============================] - 40s 59ms/step - loss: 0.1297 - accuracy: 0.9704 - val_loss: 0.3377 - val_accuracy: 0.9002\n",
      "Epoch 14/1000\n",
      "677/677 [==============================] - 40s 59ms/step - loss: 0.1169 - accuracy: 0.9733 - val_loss: 0.3023 - val_accuracy: 0.9159\n",
      "Epoch 15/1000\n",
      "677/677 [==============================] - 38s 56ms/step - loss: 0.1134 - accuracy: 0.9749 - val_loss: 0.3272 - val_accuracy: 0.9085\n",
      "Epoch 16/1000\n",
      "677/677 [==============================] - 36s 53ms/step - loss: 0.2588 - accuracy: 0.8853 - val_loss: 0.3586 - val_accuracy: 0.8880\n",
      "Epoch 17/1000\n",
      "677/677 [==============================] - 35s 51ms/step - loss: 0.1332 - accuracy: 0.9641 - val_loss: 0.4248 - val_accuracy: 0.8860\n",
      "Epoch 18/1000\n",
      "677/677 [==============================] - 31s 46ms/step - loss: 0.1251 - accuracy: 0.9714 - val_loss: 0.3587 - val_accuracy: 0.8912\n",
      "Epoch 19/1000\n",
      "677/677 [==============================] - 33s 49ms/step - loss: 0.1161 - accuracy: 0.9736 - val_loss: 0.3754 - val_accuracy: 0.8917\n",
      "Epoch 20/1000\n",
      "677/677 [==============================] - 39s 58ms/step - loss: 0.1163 - accuracy: 0.9730 - val_loss: 0.3793 - val_accuracy: 0.8962\n",
      "Epoch 21/1000\n",
      "677/677 [==============================] - 32s 47ms/step - loss: 0.1446 - accuracy: 0.9599 - val_loss: 0.3946 - val_accuracy: 0.8928\n",
      "Epoch 22/1000\n",
      "677/677 [==============================] - 36s 53ms/step - loss: 0.1169 - accuracy: 0.9698 - val_loss: 0.4521 - val_accuracy: 0.8812\n",
      "Epoch 23/1000\n",
      "677/677 [==============================] - 41s 61ms/step - loss: 0.1054 - accuracy: 0.9750 - val_loss: 0.4216 - val_accuracy: 0.9013\n",
      "Epoch 24/1000\n",
      "677/677 [==============================] - 41s 61ms/step - loss: 0.0985 - accuracy: 0.9761 - val_loss: 0.4077 - val_accuracy: 0.9037\n",
      "Epoch 25/1000\n",
      "677/677 [==============================] - 37s 55ms/step - loss: 0.1450 - accuracy: 0.9527 - val_loss: 1.0220 - val_accuracy: 0.5473\n",
      "Epoch 26/1000\n",
      "677/677 [==============================] - 32s 47ms/step - loss: 0.3849 - accuracy: 0.7780 - val_loss: 0.8765 - val_accuracy: 0.6426\n",
      "Epoch 27/1000\n",
      "677/677 [==============================] - 30s 45ms/step - loss: 0.1841 - accuracy: 0.9346 - val_loss: 0.5412 - val_accuracy: 0.8629\n",
      "Epoch 28/1000\n",
      "677/677 [==============================] - 31s 45ms/step - loss: 0.1320 - accuracy: 0.9685 - val_loss: 0.5221 - val_accuracy: 0.8738\n",
      "Epoch 29/1000\n",
      "677/677 [==============================] - 31s 45ms/step - loss: 0.1094 - accuracy: 0.9727 - val_loss: 0.4737 - val_accuracy: 0.8819\n",
      "Epoch 30/1000\n",
      "677/677 [==============================] - 31s 46ms/step - loss: 0.1174 - accuracy: 0.9709 - val_loss: 0.6801 - val_accuracy: 0.8431\n",
      "Epoch 31/1000\n",
      "677/677 [==============================] - 31s 45ms/step - loss: 0.1079 - accuracy: 0.9731 - val_loss: 0.6502 - val_accuracy: 0.8485\n",
      "Epoch 32/1000\n",
      "677/677 [==============================] - 30s 44ms/step - loss: 0.1060 - accuracy: 0.9731 - val_loss: 0.4648 - val_accuracy: 0.8814\n",
      "Epoch 33/1000\n",
      "677/677 [==============================] - 33s 49ms/step - loss: 0.1022 - accuracy: 0.9754 - val_loss: 0.4963 - val_accuracy: 0.8771\n",
      "Training on fold 4...\n",
      "Epoch 1/1000\n",
      "677/677 [==============================] - 38s 54ms/step - loss: 0.6509 - accuracy: 0.6003 - val_loss: 0.5229 - val_accuracy: 0.7271\n",
      "Epoch 2/1000\n",
      "677/677 [==============================] - 31s 46ms/step - loss: 0.3470 - accuracy: 0.8786 - val_loss: 0.2442 - val_accuracy: 0.9235\n",
      "Epoch 3/1000\n",
      "677/677 [==============================] - 30s 44ms/step - loss: 0.2670 - accuracy: 0.9219 - val_loss: 0.2792 - val_accuracy: 0.8986\n",
      "Epoch 4/1000\n",
      "677/677 [==============================] - 30s 45ms/step - loss: 0.1929 - accuracy: 0.9522 - val_loss: 0.1709 - val_accuracy: 0.9573\n",
      "Epoch 5/1000\n",
      "677/677 [==============================] - 30s 44ms/step - loss: 0.1794 - accuracy: 0.9575 - val_loss: 0.2059 - val_accuracy: 0.9464\n",
      "Epoch 6/1000\n",
      "677/677 [==============================] - 30s 45ms/step - loss: 0.2450 - accuracy: 0.9269 - val_loss: 0.4160 - val_accuracy: 0.8198\n",
      "Epoch 7/1000\n",
      "677/677 [==============================] - 30s 44ms/step - loss: 0.3402 - accuracy: 0.8759 - val_loss: 0.3375 - val_accuracy: 0.8795\n",
      "Epoch 8/1000\n",
      "677/677 [==============================] - 30s 45ms/step - loss: 0.2256 - accuracy: 0.9354 - val_loss: 0.2489 - val_accuracy: 0.9274\n",
      "Epoch 9/1000\n",
      "677/677 [==============================] - 30s 45ms/step - loss: 0.1689 - accuracy: 0.9579 - val_loss: 0.2330 - val_accuracy: 0.9329\n",
      "Epoch 10/1000\n",
      "677/677 [==============================] - 30s 45ms/step - loss: 0.4537 - accuracy: 0.7397 - val_loss: 0.3702 - val_accuracy: 0.8827\n",
      "Epoch 11/1000\n",
      "677/677 [==============================] - 30s 45ms/step - loss: 0.5012 - accuracy: 0.7295 - val_loss: 0.6751 - val_accuracy: 0.5843\n",
      "Epoch 12/1000\n",
      "677/677 [==============================] - 30s 44ms/step - loss: 0.4648 - accuracy: 0.7015 - val_loss: 0.7370 - val_accuracy: 0.5887\n",
      "Epoch 13/1000\n",
      "677/677 [==============================] - 30s 44ms/step - loss: 0.4280 - accuracy: 0.7153 - val_loss: 0.8388 - val_accuracy: 0.5830\n",
      "Epoch 14/1000\n",
      "677/677 [==============================] - 30s 44ms/step - loss: 0.4018 - accuracy: 0.7328 - val_loss: 0.8610 - val_accuracy: 0.6125\n",
      "Epoch 15/1000\n"
     ]
    },
    {
     "name": "stdout",
     "output_type": "stream",
     "text": [
      "677/677 [==============================] - 30s 44ms/step - loss: 0.3774 - accuracy: 0.7603 - val_loss: 0.5674 - val_accuracy: 0.8975\n",
      "Epoch 16/1000\n",
      "677/677 [==============================] - 30s 44ms/step - loss: 0.1664 - accuracy: 0.9609 - val_loss: 0.4026 - val_accuracy: 0.8877\n",
      "Epoch 17/1000\n",
      "677/677 [==============================] - 30s 44ms/step - loss: 0.1527 - accuracy: 0.9622 - val_loss: 0.3033 - val_accuracy: 0.9187\n",
      "Epoch 18/1000\n",
      "677/677 [==============================] - 30s 44ms/step - loss: 0.3903 - accuracy: 0.8468 - val_loss: 0.4551 - val_accuracy: 0.8082\n",
      "Epoch 19/1000\n",
      "677/677 [==============================] - 30s 44ms/step - loss: 0.3490 - accuracy: 0.8695 - val_loss: 0.4285 - val_accuracy: 0.8337\n",
      "Epoch 20/1000\n",
      "677/677 [==============================] - 30s 44ms/step - loss: 0.2776 - accuracy: 0.9078 - val_loss: 0.4156 - val_accuracy: 0.8468\n",
      "Epoch 21/1000\n",
      "677/677 [==============================] - 30s 44ms/step - loss: 0.2215 - accuracy: 0.9270 - val_loss: 0.4312 - val_accuracy: 0.8555\n",
      "Epoch 22/1000\n",
      "677/677 [==============================] - 30s 44ms/step - loss: 0.1795 - accuracy: 0.9430 - val_loss: 0.4509 - val_accuracy: 0.8601\n",
      "Epoch 23/1000\n",
      "677/677 [==============================] - 30s 44ms/step - loss: 0.1763 - accuracy: 0.9493 - val_loss: 0.4359 - val_accuracy: 0.8801\n",
      "Epoch 24/1000\n",
      "677/677 [==============================] - 30s 44ms/step - loss: 0.1469 - accuracy: 0.9618 - val_loss: 0.4587 - val_accuracy: 0.8749\n",
      "Epoch 25/1000\n",
      "677/677 [==============================] - 30s 44ms/step - loss: 0.1431 - accuracy: 0.9639 - val_loss: 0.4059 - val_accuracy: 0.8862\n",
      "Epoch 26/1000\n",
      "677/677 [==============================] - 30s 44ms/step - loss: 0.1396 - accuracy: 0.9645 - val_loss: 0.4605 - val_accuracy: 0.8725\n",
      "Epoch 27/1000\n",
      "677/677 [==============================] - 30s 44ms/step - loss: 0.1349 - accuracy: 0.9650 - val_loss: 0.4901 - val_accuracy: 0.8720\n",
      "Epoch 28/1000\n",
      "677/677 [==============================] - 30s 44ms/step - loss: 0.1335 - accuracy: 0.9652 - val_loss: 0.4048 - val_accuracy: 0.8834\n",
      "Epoch 29/1000\n",
      "677/677 [==============================] - 30s 44ms/step - loss: 0.1315 - accuracy: 0.9654 - val_loss: 0.4912 - val_accuracy: 0.8723\n",
      "Training on fold 5...\n",
      "Epoch 1/1000\n",
      "677/677 [==============================] - 30s 43ms/step - loss: 0.5914 - accuracy: 0.6766 - val_loss: 0.4646 - val_accuracy: 0.8121\n",
      "Epoch 2/1000\n",
      "677/677 [==============================] - 29s 42ms/step - loss: 0.3142 - accuracy: 0.8756 - val_loss: 0.1018 - val_accuracy: 0.9662\n",
      "Epoch 3/1000\n",
      "677/677 [==============================] - 29s 42ms/step - loss: 0.1147 - accuracy: 0.9633 - val_loss: 0.5589 - val_accuracy: 0.6574\n",
      "Epoch 4/1000\n",
      "677/677 [==============================] - 29s 42ms/step - loss: 0.1317 - accuracy: 0.9564 - val_loss: 0.0718 - val_accuracy: 0.9778\n",
      "Epoch 5/1000\n",
      "677/677 [==============================] - 29s 43ms/step - loss: 0.1008 - accuracy: 0.9666 - val_loss: 0.0738 - val_accuracy: 0.9782\n",
      "Epoch 6/1000\n",
      "677/677 [==============================] - 29s 43ms/step - loss: 0.0506 - accuracy: 0.9856 - val_loss: 0.1648 - val_accuracy: 0.9477\n",
      "Epoch 7/1000\n",
      "677/677 [==============================] - 29s 42ms/step - loss: 0.0479 - accuracy: 0.9854 - val_loss: 0.0926 - val_accuracy: 0.9752\n",
      "Epoch 8/1000\n",
      "677/677 [==============================] - 29s 42ms/step - loss: 0.0495 - accuracy: 0.9846 - val_loss: 0.2836 - val_accuracy: 0.9239\n",
      "Epoch 9/1000\n",
      "677/677 [==============================] - 29s 42ms/step - loss: 0.0464 - accuracy: 0.9859 - val_loss: 0.1470 - val_accuracy: 0.9564\n",
      "Epoch 10/1000\n",
      "677/677 [==============================] - 29s 43ms/step - loss: 0.0413 - accuracy: 0.9882 - val_loss: 0.0826 - val_accuracy: 0.9800\n",
      "Epoch 11/1000\n",
      "677/677 [==============================] - 29s 43ms/step - loss: 0.0355 - accuracy: 0.9890 - val_loss: 0.0864 - val_accuracy: 0.9763\n",
      "Epoch 12/1000\n",
      "677/677 [==============================] - 29s 43ms/step - loss: 0.0295 - accuracy: 0.9912 - val_loss: 0.1306 - val_accuracy: 0.9642\n",
      "Epoch 13/1000\n",
      "677/677 [==============================] - 29s 43ms/step - loss: 0.0490 - accuracy: 0.9849 - val_loss: 0.1164 - val_accuracy: 0.9642\n",
      "Epoch 14/1000\n",
      "677/677 [==============================] - 29s 42ms/step - loss: 0.0427 - accuracy: 0.9873 - val_loss: 0.0904 - val_accuracy: 0.9749\n",
      "Epoch 15/1000\n",
      "677/677 [==============================] - 29s 43ms/step - loss: 0.0395 - accuracy: 0.9909 - val_loss: 0.2213 - val_accuracy: 0.9385\n",
      "Epoch 16/1000\n",
      "677/677 [==============================] - 29s 43ms/step - loss: 0.0311 - accuracy: 0.9909 - val_loss: 0.2081 - val_accuracy: 0.9448\n",
      "Epoch 17/1000\n",
      "677/677 [==============================] - 29s 43ms/step - loss: 0.0303 - accuracy: 0.9929 - val_loss: 0.1070 - val_accuracy: 0.9732\n",
      "Epoch 18/1000\n",
      "677/677 [==============================] - 29s 43ms/step - loss: 0.0146 - accuracy: 0.9955 - val_loss: 0.1728 - val_accuracy: 0.9612\n",
      "Epoch 19/1000\n",
      "677/677 [==============================] - 29s 43ms/step - loss: 0.2701 - accuracy: 0.9218 - val_loss: 0.4336 - val_accuracy: 0.8040\n",
      "Epoch 20/1000\n",
      "677/677 [==============================] - 30s 44ms/step - loss: 0.5713 - accuracy: 0.6684 - val_loss: 0.6676 - val_accuracy: 0.5780\n",
      "Epoch 21/1000\n",
      "677/677 [==============================] - 30s 45ms/step - loss: 0.6813 - accuracy: 0.5686 - val_loss: 0.6887 - val_accuracy: 0.5473\n",
      "Epoch 22/1000\n",
      "677/677 [==============================] - 30s 44ms/step - loss: 0.6886 - accuracy: 0.5474 - val_loss: 0.6886 - val_accuracy: 0.5473\n",
      "Epoch 23/1000\n",
      "677/677 [==============================] - 30s 44ms/step - loss: 0.6917 - accuracy: 0.5495 - val_loss: 0.7007 - val_accuracy: 0.5501\n",
      "Epoch 24/1000\n",
      "677/677 [==============================] - 30s 44ms/step - loss: 0.6644 - accuracy: 0.5895 - val_loss: 0.6490 - val_accuracy: 0.5935\n",
      "Epoch 25/1000\n",
      "677/677 [==============================] - 31s 46ms/step - loss: 0.6567 - accuracy: 0.5921 - val_loss: 0.6387 - val_accuracy: 0.5968\n",
      "Epoch 26/1000\n",
      "677/677 [==============================] - 29s 43ms/step - loss: 0.6376 - accuracy: 0.5967 - val_loss: 0.6086 - val_accuracy: 0.6022\n",
      "Epoch 27/1000\n",
      "677/677 [==============================] - 29s 43ms/step - loss: 0.5785 - accuracy: 0.6254 - val_loss: 0.5465 - val_accuracy: 0.6493\n",
      "Epoch 28/1000\n",
      "677/677 [==============================] - 29s 43ms/step - loss: 0.5153 - accuracy: 0.6903 - val_loss: 0.3021 - val_accuracy: 0.9562\n",
      "Epoch 29/1000\n",
      "677/677 [==============================] - 29s 43ms/step - loss: 0.3749 - accuracy: 0.8570 - val_loss: 0.5624 - val_accuracy: 0.6282\n"
     ]
    },
    {
     "ename": "ValueError",
     "evalue": "setting an array element with a sequence. The requested array has an inhomogeneous shape after 1 dimensions. The detected shape was (5,) + inhomogeneous part.",
     "output_type": "error",
     "traceback": [
      "\u001b[0;31m---------------------------------------------------------------------------\u001b[0m",
      "\u001b[0;31mValueError\u001b[0m                                Traceback (most recent call last)",
      "Cell \u001b[0;32mIn [71], line 55\u001b[0m\n\u001b[1;32m     52\u001b[0m     all_val_histories\u001b[38;5;241m.\u001b[39mappend(history_rnn\u001b[38;5;241m.\u001b[39mhistory[\u001b[38;5;124m'\u001b[39m\u001b[38;5;124mval_loss\u001b[39m\u001b[38;5;124m'\u001b[39m])\n\u001b[1;32m     54\u001b[0m \u001b[38;5;66;03m# Calculate the average training and validation loss over folds\u001b[39;00m\n\u001b[0;32m---> 55\u001b[0m avg_train_loss \u001b[38;5;241m=\u001b[39m \u001b[43mnp\u001b[49m\u001b[38;5;241;43m.\u001b[39;49m\u001b[43mmean\u001b[49m\u001b[43m(\u001b[49m\u001b[43mall_train_histories\u001b[49m\u001b[43m,\u001b[49m\u001b[43m \u001b[49m\u001b[43maxis\u001b[49m\u001b[38;5;241;43m=\u001b[39;49m\u001b[38;5;241;43m0\u001b[39;49m\u001b[43m)\u001b[49m\n\u001b[1;32m     56\u001b[0m avg_val_loss \u001b[38;5;241m=\u001b[39m np\u001b[38;5;241m.\u001b[39mmean(all_val_histories, axis\u001b[38;5;241m=\u001b[39m\u001b[38;5;241m0\u001b[39m)\n\u001b[1;32m     58\u001b[0m \u001b[38;5;66;03m# Plot the average training and validation loss over epochs\u001b[39;00m\n",
      "File \u001b[0;32m<__array_function__ internals>:200\u001b[0m, in \u001b[0;36mmean\u001b[0;34m(*args, **kwargs)\u001b[0m\n",
      "File \u001b[0;32m~/.pyenv/versions/3.10.6/envs/lewagon/lib/python3.10/site-packages/numpy/core/fromnumeric.py:3464\u001b[0m, in \u001b[0;36mmean\u001b[0;34m(a, axis, dtype, out, keepdims, where)\u001b[0m\n\u001b[1;32m   3461\u001b[0m     \u001b[38;5;28;01melse\u001b[39;00m:\n\u001b[1;32m   3462\u001b[0m         \u001b[38;5;28;01mreturn\u001b[39;00m mean(axis\u001b[38;5;241m=\u001b[39maxis, dtype\u001b[38;5;241m=\u001b[39mdtype, out\u001b[38;5;241m=\u001b[39mout, \u001b[38;5;241m*\u001b[39m\u001b[38;5;241m*\u001b[39mkwargs)\n\u001b[0;32m-> 3464\u001b[0m \u001b[38;5;28;01mreturn\u001b[39;00m \u001b[43m_methods\u001b[49m\u001b[38;5;241;43m.\u001b[39;49m\u001b[43m_mean\u001b[49m\u001b[43m(\u001b[49m\u001b[43ma\u001b[49m\u001b[43m,\u001b[49m\u001b[43m \u001b[49m\u001b[43maxis\u001b[49m\u001b[38;5;241;43m=\u001b[39;49m\u001b[43maxis\u001b[49m\u001b[43m,\u001b[49m\u001b[43m \u001b[49m\u001b[43mdtype\u001b[49m\u001b[38;5;241;43m=\u001b[39;49m\u001b[43mdtype\u001b[49m\u001b[43m,\u001b[49m\n\u001b[1;32m   3465\u001b[0m \u001b[43m                      \u001b[49m\u001b[43mout\u001b[49m\u001b[38;5;241;43m=\u001b[39;49m\u001b[43mout\u001b[49m\u001b[43m,\u001b[49m\u001b[43m \u001b[49m\u001b[38;5;241;43m*\u001b[39;49m\u001b[38;5;241;43m*\u001b[39;49m\u001b[43mkwargs\u001b[49m\u001b[43m)\u001b[49m\n",
      "File \u001b[0;32m~/.pyenv/versions/3.10.6/envs/lewagon/lib/python3.10/site-packages/numpy/core/_methods.py:165\u001b[0m, in \u001b[0;36m_mean\u001b[0;34m(a, axis, dtype, out, keepdims, where)\u001b[0m\n\u001b[1;32m    164\u001b[0m \u001b[38;5;28;01mdef\u001b[39;00m \u001b[38;5;21m_mean\u001b[39m(a, axis\u001b[38;5;241m=\u001b[39m\u001b[38;5;28;01mNone\u001b[39;00m, dtype\u001b[38;5;241m=\u001b[39m\u001b[38;5;28;01mNone\u001b[39;00m, out\u001b[38;5;241m=\u001b[39m\u001b[38;5;28;01mNone\u001b[39;00m, keepdims\u001b[38;5;241m=\u001b[39m\u001b[38;5;28;01mFalse\u001b[39;00m, \u001b[38;5;241m*\u001b[39m, where\u001b[38;5;241m=\u001b[39m\u001b[38;5;28;01mTrue\u001b[39;00m):\n\u001b[0;32m--> 165\u001b[0m     arr \u001b[38;5;241m=\u001b[39m \u001b[43masanyarray\u001b[49m\u001b[43m(\u001b[49m\u001b[43ma\u001b[49m\u001b[43m)\u001b[49m\n\u001b[1;32m    167\u001b[0m     is_float16_result \u001b[38;5;241m=\u001b[39m \u001b[38;5;28;01mFalse\u001b[39;00m\n\u001b[1;32m    169\u001b[0m     rcount \u001b[38;5;241m=\u001b[39m _count_reduce_items(arr, axis, keepdims\u001b[38;5;241m=\u001b[39mkeepdims, where\u001b[38;5;241m=\u001b[39mwhere)\n",
      "\u001b[0;31mValueError\u001b[0m: setting an array element with a sequence. The requested array has an inhomogeneous shape after 1 dimensions. The detected shape was (5,) + inhomogeneous part."
     ]
    }
   ],
   "source": [
    "from sklearn.model_selection import StratifiedKFold\n",
    "from keras.utils import to_categorical\n",
    "\n",
    "# Assuming y_train is your target variable\n",
    "# Convert to one-hot encoding if it's binary classification\n",
    "y_train_onehot = to_categorical(y_train)\n",
    "\n",
    "# Define the number of folds\n",
    "n_folds = 5\n",
    "\n",
    "# Initialize StratifiedKFold\n",
    "stratkf = StratifiedKFold(n_splits=n_folds, shuffle=True, random_state=42)\n",
    "\n",
    "# Lists to store results from each fold\n",
    "all_train_histories = []\n",
    "all_val_histories = []\n",
    "\n",
    "# Loop over the folds\n",
    "for fold, (train_index, val_index) in enumerate(stratkf.split(X_train_pad, y_train)):\n",
    "    print(f\"Training on fold {fold + 1}...\")\n",
    "\n",
    "    # Split the data into training and validation sets for this fold\n",
    "    X_train_fold, X_val_fold = X_train_pad[train_index], X_train_pad[val_index]\n",
    "    y_train_fold, y_val_fold = y_train_onehot[train_index], y_train_onehot[val_index]\n",
    "\n",
    "    # Build your model (same as before)\n",
    "    model_rnn = Sequential([\n",
    "        Embedding(input_dim=len(word_index), output_dim=8, input_length=avg_length_text),\n",
    "        SimpleRNN(16),\n",
    "        Dropout(0.2),\n",
    "        Dense(8, activation='relu'),\n",
    "        Dropout(0.2),\n",
    "        Dense(2, activation='softmax')  # Adjust for one-hot encoded labels\n",
    "    ])\n",
    "\n",
    "    # Compile the model\n",
    "    model_rnn.compile(optimizer='adam', loss='categorical_crossentropy', metrics=['accuracy'])\n",
    "\n",
    "    # Define EarlyStopping callback\n",
    "    early_stopping = EarlyStopping(patience=25, restore_best_weights=True)\n",
    "\n",
    "    # Train the model on this fold\n",
    "    history_rnn = model_rnn.fit(\n",
    "        X_train_fold, y_train_fold,\n",
    "        epochs=1000, batch_size=32,\n",
    "        validation_data=(X_val_fold, y_val_fold),\n",
    "        callbacks=[early_stopping]\n",
    "    )\n",
    "\n",
    "    # Store training history for this fold\n",
    "    all_train_histories.append(history_rnn.history['loss'])\n",
    "    all_val_histories.append(history_rnn.history['val_loss'])"
   ]
  },
  {
   "cell_type": "code",
   "execution_count": 79,
   "id": "4b03af25",
   "metadata": {
    "scrolled": true
   },
   "outputs": [
    {
     "data": {
      "image/png": "[encoded data removed]",
      "text/plain": [
       "<Figure size 640x480 with 1 Axes>"
      ]
     },
     "metadata": {},
     "output_type": "display_data"
    }
   ],
   "source": [
    "# Pad the training and validation histories to a common length\n",
    "padded_train_histories = pad_sequences(all_train_histories, padding='post', truncating='post', dtype='float32')\n",
    "padded_val_histories = pad_sequences(all_val_histories, padding='post', truncating='post', dtype='float32')\n",
    "\n",
    "# Calculate the average training and validation loss over folds\n",
    "avg_train_loss = np.mean(padded_train_histories, axis=0)\n",
    "avg_val_loss = np.mean(padded_val_histories, axis=0)\n",
    "\n",
    "# Plot the average training and validation loss over epochs\n",
    "import matplotlib.pyplot as plt\n",
    "\n",
    "plt.plot(avg_train_loss, label='Average Training Loss')\n",
    "plt.plot(avg_val_loss, label='Average Validation Loss')\n",
    "plt.xlabel('Epochs')\n",
    "plt.ylabel('Loss')\n",
    "plt.legend()\n",
    "plt.show()"
   ]
  },
  {
   "cell_type": "markdown",
   "id": "8e78cfa0",
   "metadata": {},
   "source": [
    "---"
   ]
  },
  {
   "cell_type": "markdown",
   "id": "05bddb44",
   "metadata": {},
   "source": [
    "## New Texts on Both Models"
   ]
  },
  {
   "cell_type": "code",
   "execution_count": 51,
   "id": "04a1307c",
   "metadata": {},
   "outputs": [],
   "source": [
    "bbc_snippet = \"\"\"The UK faces another five years of high interest rates to stem rising prices, an influential global group has warned.\n",
    "The International Monetary Fund expects the UK to have the highest inflation and slowest growth next year of any G7 economy including the US, France, Germany, Canada, Italy and Japan.\n",
    "However, the Treasury said recent revisions to UK growth had not been factored in to the IMF's report.\n",
    "The outlook was drawn up before this weekend's developments in Israel.\n",
    "Forecasts are never perfect given the many factors that affect economic growth - from geopolitics to the weather. But such reports can point in the right direction, especially where they align with other forecasts.\n",
    "The IMF, an international organisation with 190 member countries, has said the forecasts it makes for growth the following year in most advanced economies have, more often than not, been within about 1.5 percentage points of what actually happens.\n",
    "In July last year, it forecast that the UK economy would grow by 3.2% in 2022. It revised that upwards to 4.1% at the start of this year.\n",
    "But official UK figures released last month estimated that the country's economy actually expanded by 4.3% in 2022.\n",
    "According to the IMF's latest forecast which it produces every six months, it expects the UK to grow more quickly than Germany in 2023, keeping the UK out of bottom place for growth among the G7.\n",
    "But it downgraded the UK's prospects for growth next year, estimating the economy will grow by 0.6%, making it the slowest growing developed country in 2024 - widely predicted to be a general election year.\"\"\"\n"
   ]
  },
  {
   "cell_type": "code",
   "execution_count": 52,
   "id": "6edd7275",
   "metadata": {},
   "outputs": [],
   "source": [
    "theonion_snippet = \"\"\"Claiming they had already made up their minds, area man Karl Wooley told reporters Tuesday \n",
    "that he felt like the bystanders who were urging him to put his gun down were arguing in bad faith. “If I’m being \n",
    "honest, it sort of feels like these onlookers are only thinking of themselves when they tell me to drop my pistol,” said Wooley, who observed that no one had even asked him to explain his reasoning for shouting at the top of his lungs and waving around a semiautomatic firearm. “Truth be told, they poisoned the well the second they tried to tackle me and forcibly rip the gun from my hands. But the worst part is how condescending they are—saying things like, ‘Hey, buddy, you don’t really want to do this.’ Maybe if they’d bothered to find out where I’m coming from and what my thoughts on the matter are, they’d know this is exactly what I want to be doing.” At press time, Wooley was reportedly shaking his head at how disrespectful his victims had become when they began resorting to ad hominem attacks like “You’re a monster” as he shot them to death.\"\"\""
   ]
  },
  {
   "cell_type": "code",
   "execution_count": 58,
   "id": "b70f4d23",
   "metadata": {},
   "outputs": [
    {
     "name": "stderr",
     "output_type": "stream",
     "text": [
      "[nltk_data] Downloading package stopwords to /Users/maria/nltk_data...\n",
      "[nltk_data]   Package stopwords is already up-to-date!\n"
     ]
    }
   ],
   "source": [
    "import spacy\n",
    "from spacy.lang.en import English\n",
    "from nltk.corpus import stopwords\n",
    "import nltk\n",
    "import time\n",
    "\n",
    "## download the dictionary for stopwords\n",
    "nltk.download('stopwords')\n",
    "\n",
    "## get the set of stopwords \n",
    "stop_words_set = set(stopwords.words('english'))\n",
    "\n",
    "## Load English tokenizer from spacy\n",
    "nlp = English()\n",
    "spacy_tokenizer = nlp.tokenizer ## make instance \n",
    "\n",
    "## Create function to clean text -- lowercase, remove non alphanumeric, remove stop words\n",
    "def optimized_preprocess(texts): ## Takes in a list of texts, i.e. the entire corpus\n",
    "    result = []\n",
    "    \n",
    "    # Tokenize using spaCy's tokenizer\n",
    "    for text in texts:\n",
    "        tokens = [token.text.lower() for token in spacy_tokenizer(text) if token.text.isalpha() and token.text.lower() not in stop_words_set]\n",
    "        result.append(\" \".join(tokens))\n",
    "    \n",
    "    return result"
   ]
  },
  {
   "cell_type": "code",
   "execution_count": 59,
   "id": "c4cd7fad",
   "metadata": {},
   "outputs": [],
   "source": [
    "bbc_cleaned = optimized_preprocess([bbc_snippet])\n",
    "theonion_cleaned = optimized_preprocess([theonion_snippet])\n"
   ]
  },
  {
   "cell_type": "code",
   "execution_count": 53,
   "id": "477b48cd",
   "metadata": {},
   "outputs": [],
   "source": [
    "# bbc = pd.Series([bbc_snippet])\n",
    "# onion = pd.Series([theonion_snippet])"
   ]
  },
  {
   "cell_type": "code",
   "execution_count": 54,
   "id": "806b8137",
   "metadata": {},
   "outputs": [],
   "source": [
    "# bbc_clean = bbc.apply(cleaning)\n",
    "# onion_clean = onion.apply(cleaning)"
   ]
  },
  {
   "cell_type": "code",
   "execution_count": 60,
   "id": "148ef739",
   "metadata": {},
   "outputs": [],
   "source": [
    "bbc_cleaned = optimized_preprocess([bbc_snippet])\n",
    "theonion_cleaned = optimized_preprocess([theonion_snippet])\n"
   ]
  },
  {
   "cell_type": "code",
   "execution_count": 62,
   "id": "badbbadb",
   "metadata": {},
   "outputs": [],
   "source": [
    "bbc_seq = tokenizer.texts_to_sequences(bbc_cleaned)\n",
    "theonion_seq = tokenizer.texts_to_sequences(theonion_cleaned)\n"
   ]
  },
  {
   "cell_type": "code",
   "execution_count": 63,
   "id": "d871319e",
   "metadata": {},
   "outputs": [],
   "source": [
    "bbc_pad = pad_sequences(bbc_seq, maxlen= avg_length_text, padding = 'post', truncating = 'post')\n",
    "theonion_pad = pad_sequences(theonion_seq, maxlen=  avg_length_text, padding = 'post', truncating = 'post')"
   ]
  },
  {
   "cell_type": "code",
   "execution_count": 64,
   "id": "ccab3448",
   "metadata": {},
   "outputs": [
    {
     "name": "stdout",
     "output_type": "stream",
     "text": [
      "1/1 [==============================] - 0s 31ms/step\n",
      "[[0.01258292]]\n",
      "1/1 [==============================] - 0s 30ms/step\n",
      "[[0.9770421]]\n"
     ]
    }
   ],
   "source": [
    "# print(model_3.predict(bbc_pad))\n",
    "# print(model_3.predict(theonion_pad))\n",
    "\n",
    "# print('\\n\\n ======================= \\n\\n')\n",
    "\n",
    "print(model_rnn.predict(bbc_pad))\n",
    "print(model_rnn.predict(theonion_pad))\n"
   ]
  },
  {
   "cell_type": "code",
   "execution_count": null,
   "id": "ac76a616",
   "metadata": {},
   "outputs": [],
   "source": []
  }
 ],
 "metadata": {
  "kernelspec": {
   "display_name": "Python 3 (ipykernel)",
   "language": "python",
   "name": "python3"
  },
  "language_info": {
   "codemirror_mode": {
    "name": "ipython",
    "version": 3
   },
   "file_extension": ".py",
   "mimetype": "text/x-python",
   "name": "python",
   "nbconvert_exporter": "python",
   "pygments_lexer": "ipython3",
   "version": "3.10.6"
  },
  "toc": {
   "base_numbering": 1,
   "nav_menu": {},
   "number_sections": true,
   "sideBar": true,
   "skip_h1_title": false,
   "title_cell": "Table of Contents",
   "title_sidebar": "Contents",
   "toc_cell": false,
   "toc_position": {},
   "toc_section_display": true,
   "toc_window_display": false
  },
  "varInspector": {
   "cols": {
    "lenName": 16,
    "lenType": 16,
    "lenVar": 40
   },
   "kernels_config": {
    "python": {
     "delete_cmd_postfix": "",
     "delete_cmd_prefix": "del ",
     "library": "var_list.py",
     "varRefreshCmd": "print(var_dic_list())"
    },
    "r": {
     "delete_cmd_postfix": ") ",
     "delete_cmd_prefix": "rm(",
     "library": "var_list.r",
     "varRefreshCmd": "cat(var_dic_list()) "
    }
   },
   "position": {
    "height": "372.854px",
    "left": "1014.33px",
    "right": "20px",
    "top": "120px",
    "width": "325.667px"
   },
   "types_to_exclude": [
    "module",
    "function",
    "builtin_function_or_method",
    "instance",
    "_Feature"
   ],
   "window_display": false
  }
 },
 "nbformat": 4,
 "nbformat_minor": 5
}
