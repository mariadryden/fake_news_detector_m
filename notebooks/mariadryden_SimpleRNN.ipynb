{
 "cells": [
  {
   "cell_type": "code",
   "execution_count": 22,
   "id": "3c59b6c8",
   "metadata": {},
   "outputs": [],
   "source": [
    "import pandas as pd\n",
    "import matplotlib.pyplot as plt\n",
    "from sklearn.model_selection import train_test_split\n",
    "from keras.preprocessing.text import Tokenizer\n",
    "from keras.utils import pad_sequences\n",
    "from keras.models import Sequential\n",
    "from keras.layers import Embedding, LSTM, Dense, Dropout, SimpleRNN, Flatten\n",
    "from tensorflow.keras.regularizers import l2"
   ]
  },
  {
   "cell_type": "code",
   "execution_count": 2,
   "id": "d61af28c",
   "metadata": {},
   "outputs": [
    {
     "data": {
      "text/html": [
       "<div>\n",
       "<style scoped>\n",
       "    .dataframe tbody tr th:only-of-type {\n",
       "        vertical-align: middle;\n",
       "    }\n",
       "\n",
       "    .dataframe tbody tr th {\n",
       "        vertical-align: top;\n",
       "    }\n",
       "\n",
       "    .dataframe thead th {\n",
       "        text-align: right;\n",
       "    }\n",
       "</style>\n",
       "<table border=\"1\" class=\"dataframe\">\n",
       "  <thead>\n",
       "    <tr style=\"text-align: right;\">\n",
       "      <th></th>\n",
       "      <th>text</th>\n",
       "      <th>is_fake</th>\n",
       "    </tr>\n",
       "  </thead>\n",
       "  <tbody>\n",
       "    <tr>\n",
       "      <th>0</th>\n",
       "      <td>Donald Trump just couldn t wish all Americans ...</td>\n",
       "      <td>1</td>\n",
       "    </tr>\n",
       "    <tr>\n",
       "      <th>1</th>\n",
       "      <td>House Intelligence Committee Chairman Devin Nu...</td>\n",
       "      <td>1</td>\n",
       "    </tr>\n",
       "    <tr>\n",
       "      <th>2</th>\n",
       "      <td>On Friday, it was revealed that former Milwauk...</td>\n",
       "      <td>1</td>\n",
       "    </tr>\n",
       "    <tr>\n",
       "      <th>3</th>\n",
       "      <td>On Christmas day, Donald Trump announced that ...</td>\n",
       "      <td>1</td>\n",
       "    </tr>\n",
       "    <tr>\n",
       "      <th>4</th>\n",
       "      <td>Pope Francis used his annual Christmas Day mes...</td>\n",
       "      <td>1</td>\n",
       "    </tr>\n",
       "    <tr>\n",
       "      <th>...</th>\n",
       "      <td>...</td>\n",
       "      <td>...</td>\n",
       "    </tr>\n",
       "    <tr>\n",
       "      <th>38653</th>\n",
       "      <td>NATO allies on Tuesday welcomed President Dona...</td>\n",
       "      <td>0</td>\n",
       "    </tr>\n",
       "    <tr>\n",
       "      <th>38654</th>\n",
       "      <td>LexisNexis, a provider of legal, regulatory an...</td>\n",
       "      <td>0</td>\n",
       "    </tr>\n",
       "    <tr>\n",
       "      <th>38655</th>\n",
       "      <td>In the shadow of disused Soviet-era factories ...</td>\n",
       "      <td>0</td>\n",
       "    </tr>\n",
       "    <tr>\n",
       "      <th>38656</th>\n",
       "      <td>Vatican Secretary of State Cardinal Pietro Par...</td>\n",
       "      <td>0</td>\n",
       "    </tr>\n",
       "    <tr>\n",
       "      <th>38657</th>\n",
       "      <td>Indonesia will buy 11 Sukhoi fighter jets wort...</td>\n",
       "      <td>0</td>\n",
       "    </tr>\n",
       "  </tbody>\n",
       "</table>\n",
       "<p>38658 rows × 2 columns</p>\n",
       "</div>"
      ],
      "text/plain": [
       "                                                    text  is_fake\n",
       "0      Donald Trump just couldn t wish all Americans ...        1\n",
       "1      House Intelligence Committee Chairman Devin Nu...        1\n",
       "2      On Friday, it was revealed that former Milwauk...        1\n",
       "3      On Christmas day, Donald Trump announced that ...        1\n",
       "4      Pope Francis used his annual Christmas Day mes...        1\n",
       "...                                                  ...      ...\n",
       "38653  NATO allies on Tuesday welcomed President Dona...        0\n",
       "38654  LexisNexis, a provider of legal, regulatory an...        0\n",
       "38655  In the shadow of disused Soviet-era factories ...        0\n",
       "38656  Vatican Secretary of State Cardinal Pietro Par...        0\n",
       "38657  Indonesia will buy 11 Sukhoi fighter jets wort...        0\n",
       "\n",
       "[38658 rows x 2 columns]"
      ]
     },
     "execution_count": 2,
     "metadata": {},
     "output_type": "execute_result"
    }
   ],
   "source": [
    "data = pd.read_csv('../raw_data/merged_data.csv')\n",
    "data"
   ]
  },
  {
   "cell_type": "code",
   "execution_count": 3,
   "id": "1c358d52",
   "metadata": {},
   "outputs": [],
   "source": [
    "import string\n",
    "from nltk.tokenize import word_tokenize\n",
    "from nltk.corpus import stopwords\n",
    "from nltk.stem import WordNetLemmatizer\n",
    "\n",
    "def cleaning(sentence):\n",
    "    \n",
    "    # Basic cleaning\n",
    "    sentence = sentence.strip() ## remove whitespaces\n",
    "    sentence = sentence.lower() ## lowercase \n",
    "    sentence = ''.join(char for char in sentence if not char.isdigit()) ## remove numbers\n",
    "    \n",
    "    # Advanced cleaning\n",
    "    for punctuation in string.punctuation:\n",
    "        sentence = sentence.replace(punctuation, '') ## remove punctuation\n",
    "    \n",
    "    tokenized_sentence = word_tokenize(sentence) ## tokenize \n",
    "    stop_words = set(stopwords.words('english')) ## define stopwords\n",
    "    \n",
    "    tokenized_sentence_cleaned = [ ## remove stopwords\n",
    "        w for w in tokenized_sentence if not w in stop_words\n",
    "    ]\n",
    "\n",
    "    lemmatized = [\n",
    "        WordNetLemmatizer().lemmatize(word, pos = \"v\") \n",
    "        for word in tokenized_sentence_cleaned\n",
    "    ]\n",
    "    \n",
    "    cleaned_sentence = ' '.join(word for word in lemmatized)\n",
    "    \n",
    "    return cleaned_sentence"
   ]
  },
  {
   "cell_type": "code",
   "execution_count": 4,
   "id": "56ccee73",
   "metadata": {},
   "outputs": [
    {
     "name": "stdout",
     "output_type": "stream",
     "text": [
      "CPU times: user 1min 54s, sys: 2.57 s, total: 1min 56s\n",
      "Wall time: 1min 57s\n"
     ]
    },
    {
     "data": {
      "text/html": [
       "<div>\n",
       "<style scoped>\n",
       "    .dataframe tbody tr th:only-of-type {\n",
       "        vertical-align: middle;\n",
       "    }\n",
       "\n",
       "    .dataframe tbody tr th {\n",
       "        vertical-align: top;\n",
       "    }\n",
       "\n",
       "    .dataframe thead th {\n",
       "        text-align: right;\n",
       "    }\n",
       "</style>\n",
       "<table border=\"1\" class=\"dataframe\">\n",
       "  <thead>\n",
       "    <tr style=\"text-align: right;\">\n",
       "      <th></th>\n",
       "      <th>text</th>\n",
       "      <th>is_fake</th>\n",
       "      <th>text_clean</th>\n",
       "    </tr>\n",
       "  </thead>\n",
       "  <tbody>\n",
       "    <tr>\n",
       "      <th>0</th>\n",
       "      <td>Donald Trump just couldn t wish all Americans ...</td>\n",
       "      <td>1</td>\n",
       "      <td>donald trump wish americans happy new year lea...</td>\n",
       "    </tr>\n",
       "    <tr>\n",
       "      <th>1</th>\n",
       "      <td>House Intelligence Committee Chairman Devin Nu...</td>\n",
       "      <td>1</td>\n",
       "      <td>house intelligence committee chairman devin nu...</td>\n",
       "    </tr>\n",
       "    <tr>\n",
       "      <th>2</th>\n",
       "      <td>On Friday, it was revealed that former Milwauk...</td>\n",
       "      <td>1</td>\n",
       "      <td>friday reveal former milwaukee sheriff david c...</td>\n",
       "    </tr>\n",
       "    <tr>\n",
       "      <th>3</th>\n",
       "      <td>On Christmas day, Donald Trump announced that ...</td>\n",
       "      <td>1</td>\n",
       "      <td>christmas day donald trump announce would back...</td>\n",
       "    </tr>\n",
       "    <tr>\n",
       "      <th>4</th>\n",
       "      <td>Pope Francis used his annual Christmas Day mes...</td>\n",
       "      <td>1</td>\n",
       "      <td>pope francis use annual christmas day message ...</td>\n",
       "    </tr>\n",
       "    <tr>\n",
       "      <th>...</th>\n",
       "      <td>...</td>\n",
       "      <td>...</td>\n",
       "      <td>...</td>\n",
       "    </tr>\n",
       "    <tr>\n",
       "      <th>38653</th>\n",
       "      <td>NATO allies on Tuesday welcomed President Dona...</td>\n",
       "      <td>0</td>\n",
       "      <td>nato ally tuesday welcome president donald tru...</td>\n",
       "    </tr>\n",
       "    <tr>\n",
       "      <th>38654</th>\n",
       "      <td>LexisNexis, a provider of legal, regulatory an...</td>\n",
       "      <td>0</td>\n",
       "      <td>lexisnexis provider legal regulatory business ...</td>\n",
       "    </tr>\n",
       "    <tr>\n",
       "      <th>38655</th>\n",
       "      <td>In the shadow of disused Soviet-era factories ...</td>\n",
       "      <td>0</td>\n",
       "      <td>shadow disused sovietera factories minsk stree...</td>\n",
       "    </tr>\n",
       "    <tr>\n",
       "      <th>38656</th>\n",
       "      <td>Vatican Secretary of State Cardinal Pietro Par...</td>\n",
       "      <td>0</td>\n",
       "      <td>vatican secretary state cardinal pietro paroli...</td>\n",
       "    </tr>\n",
       "    <tr>\n",
       "      <th>38657</th>\n",
       "      <td>Indonesia will buy 11 Sukhoi fighter jets wort...</td>\n",
       "      <td>0</td>\n",
       "      <td>indonesia buy sukhoi fighter jet worth billion...</td>\n",
       "    </tr>\n",
       "  </tbody>\n",
       "</table>\n",
       "<p>38658 rows × 3 columns</p>\n",
       "</div>"
      ],
      "text/plain": [
       "                                                    text  is_fake  \\\n",
       "0      Donald Trump just couldn t wish all Americans ...        1   \n",
       "1      House Intelligence Committee Chairman Devin Nu...        1   \n",
       "2      On Friday, it was revealed that former Milwauk...        1   \n",
       "3      On Christmas day, Donald Trump announced that ...        1   \n",
       "4      Pope Francis used his annual Christmas Day mes...        1   \n",
       "...                                                  ...      ...   \n",
       "38653  NATO allies on Tuesday welcomed President Dona...        0   \n",
       "38654  LexisNexis, a provider of legal, regulatory an...        0   \n",
       "38655  In the shadow of disused Soviet-era factories ...        0   \n",
       "38656  Vatican Secretary of State Cardinal Pietro Par...        0   \n",
       "38657  Indonesia will buy 11 Sukhoi fighter jets wort...        0   \n",
       "\n",
       "                                              text_clean  \n",
       "0      donald trump wish americans happy new year lea...  \n",
       "1      house intelligence committee chairman devin nu...  \n",
       "2      friday reveal former milwaukee sheriff david c...  \n",
       "3      christmas day donald trump announce would back...  \n",
       "4      pope francis use annual christmas day message ...  \n",
       "...                                                  ...  \n",
       "38653  nato ally tuesday welcome president donald tru...  \n",
       "38654  lexisnexis provider legal regulatory business ...  \n",
       "38655  shadow disused sovietera factories minsk stree...  \n",
       "38656  vatican secretary state cardinal pietro paroli...  \n",
       "38657  indonesia buy sukhoi fighter jet worth billion...  \n",
       "\n",
       "[38658 rows x 3 columns]"
      ]
     },
     "execution_count": 4,
     "metadata": {},
     "output_type": "execute_result"
    }
   ],
   "source": [
    "%%time\n",
    "\n",
    "data['text_clean'] = data['text'].apply(cleaning)\n",
    "data"
   ]
  },
  {
   "cell_type": "code",
   "execution_count": 5,
   "id": "13e669f1",
   "metadata": {},
   "outputs": [],
   "source": [
    "X = data.text_clean\n",
    "y = data.is_fake"
   ]
  },
  {
   "cell_type": "code",
   "execution_count": 6,
   "id": "41f6b683",
   "metadata": {},
   "outputs": [],
   "source": [
    "# Perform a 70:30 split for the initial training set and temporary set\n",
    "X_train, X_temp, y_train, y_temp = train_test_split(X, y, test_size=0.3, random_state=42)\n",
    "\n",
    "# Further split the temporary set into validation (50%) and test (50%)\n",
    "X_val, X_test, y_val, y_test = train_test_split(X_temp, y_temp, test_size=0.5, random_state=42)"
   ]
  },
  {
   "cell_type": "code",
   "execution_count": 7,
   "id": "833b62d7",
   "metadata": {},
   "outputs": [
    {
     "name": "stdout",
     "output_type": "stream",
     "text": [
      "CPU times: user 6.58 s, sys: 62.7 ms, total: 6.65 s\n",
      "Wall time: 6.67 s\n"
     ]
    }
   ],
   "source": [
    "%%time\n",
    "# max_words = 10000  \n",
    "# max_sequence_length = 500  \n",
    "\n",
    "# Initialize the tokenizer and fit it on the training data\n",
    "tokenizer = Tokenizer(num_words=10000)\n",
    "tokenizer.fit_on_texts(X_train)\n",
    "word_index = tokenizer.word_index"
   ]
  },
  {
   "cell_type": "code",
   "execution_count": 40,
   "id": "8df3871b",
   "metadata": {},
   "outputs": [
    {
     "data": {
      "text/plain": [
       "156905"
      ]
     },
     "execution_count": 40,
     "metadata": {},
     "output_type": "execute_result"
    }
   ],
   "source": [
    "len(word_index)"
   ]
  },
  {
   "cell_type": "code",
   "execution_count": 8,
   "id": "e9f28f09",
   "metadata": {},
   "outputs": [],
   "source": [
    "# Convert text data to sequences of integers\n",
    "X_train_sequences = tokenizer.texts_to_sequences(X_train)\n",
    "X_val_sequences = tokenizer.texts_to_sequences(X_val)\n",
    "X_test_sequences = tokenizer.texts_to_sequences(X_test)"
   ]
  },
  {
   "cell_type": "code",
   "execution_count": 15,
   "id": "1198459b",
   "metadata": {},
   "outputs": [],
   "source": [
    "sequences = tokenizer.texts_to_sequences(data.text_clean)\n",
    "\n",
    "lengths_of_texts =  [len(text) for text in sequences]\n",
    "\n",
    "## For length to pad till, we use the average length of all texts \n",
    "avg_length_text = int(np.mean(lengths_of_texts))\n",
    "\n",
    "X_train_pad = pad_sequences(X_train_sequences, maxlen=avg_length_text, padding='post', truncating='post')\n",
    "X_val_pad = pad_sequences(X_val_sequences, maxlen=avg_length_text, padding='pre')\n",
    "X_test_pad = pad_sequences(X_test_sequences, maxlen=avg_length_text, padding='post', truncating='post')"
   ]
  },
  {
   "cell_type": "markdown",
   "id": "5a602860",
   "metadata": {},
   "source": [
    "---"
   ]
  },
  {
   "cell_type": "markdown",
   "id": "11efb3ed",
   "metadata": {},
   "source": [
    "## SimpleRNN Model"
   ]
  },
  {
   "cell_type": "code",
   "execution_count": 59,
   "id": "4d4d7199",
   "metadata": {},
   "outputs": [
    {
     "name": "stdout",
     "output_type": "stream",
     "text": [
      "Epoch 1/1000\n",
      "846/846 [==============================] - 103s 119ms/step - loss: 0.6803 - accuracy: 0.5537 - val_loss: 0.6904 - val_accuracy: 0.5730\n",
      "Epoch 2/1000\n",
      "846/846 [==============================] - 112s 133ms/step - loss: 0.4660 - accuracy: 0.7929 - val_loss: 0.5877 - val_accuracy: 0.7679\n",
      "Epoch 3/1000\n",
      "846/846 [==============================] - 100s 118ms/step - loss: 0.2595 - accuracy: 0.9295 - val_loss: 0.1854 - val_accuracy: 0.9353\n",
      "Epoch 4/1000\n",
      "846/846 [==============================] - 40s 47ms/step - loss: 0.2951 - accuracy: 0.9074 - val_loss: 0.2107 - val_accuracy: 0.9167\n",
      "Epoch 5/1000\n",
      "846/846 [==============================] - 40s 47ms/step - loss: 0.2316 - accuracy: 0.9426 - val_loss: 0.1995 - val_accuracy: 0.9260\n",
      "Epoch 6/1000\n",
      "846/846 [==============================] - 40s 47ms/step - loss: 0.2204 - accuracy: 0.9452 - val_loss: 0.3261 - val_accuracy: 0.8612\n",
      "Epoch 7/1000\n",
      "846/846 [==============================] - 40s 47ms/step - loss: 0.2024 - accuracy: 0.9507 - val_loss: 0.1780 - val_accuracy: 0.9412\n",
      "Epoch 8/1000\n",
      "846/846 [==============================] - 40s 47ms/step - loss: 0.1631 - accuracy: 0.9651 - val_loss: 0.2361 - val_accuracy: 0.9267\n",
      "Epoch 9/1000\n",
      "846/846 [==============================] - 42s 50ms/step - loss: 0.2964 - accuracy: 0.8943 - val_loss: 0.2112 - val_accuracy: 0.9127\n",
      "Epoch 10/1000\n",
      "846/846 [==============================] - 41s 49ms/step - loss: 0.1854 - accuracy: 0.9517 - val_loss: 0.1704 - val_accuracy: 0.9472\n",
      "Epoch 11/1000\n",
      "846/846 [==============================] - 40s 47ms/step - loss: 0.1874 - accuracy: 0.9558 - val_loss: 0.2041 - val_accuracy: 0.9360\n",
      "Epoch 12/1000\n",
      "846/846 [==============================] - 45s 54ms/step - loss: 0.1547 - accuracy: 0.9663 - val_loss: 0.1758 - val_accuracy: 0.9390\n",
      "Epoch 13/1000\n",
      "846/846 [==============================] - 43s 51ms/step - loss: 0.1628 - accuracy: 0.9626 - val_loss: 0.1842 - val_accuracy: 0.9396\n",
      "Epoch 14/1000\n",
      "846/846 [==============================] - 43s 51ms/step - loss: 0.1458 - accuracy: 0.9681 - val_loss: 0.2248 - val_accuracy: 0.9391\n",
      "Epoch 15/1000\n",
      "846/846 [==============================] - 40s 47ms/step - loss: 0.1632 - accuracy: 0.9623 - val_loss: 0.1666 - val_accuracy: 0.9472\n",
      "Epoch 16/1000\n",
      "846/846 [==============================] - 37s 44ms/step - loss: 0.1818 - accuracy: 0.9537 - val_loss: 0.1811 - val_accuracy: 0.9391\n",
      "Epoch 17/1000\n",
      "846/846 [==============================] - 43s 51ms/step - loss: 0.1278 - accuracy: 0.9730 - val_loss: 0.1750 - val_accuracy: 0.9410\n",
      "Epoch 18/1000\n",
      "846/846 [==============================] - 39s 46ms/step - loss: 0.1301 - accuracy: 0.9722 - val_loss: 0.1801 - val_accuracy: 0.9459\n",
      "Epoch 19/1000\n",
      "846/846 [==============================] - 45s 53ms/step - loss: 0.1278 - accuracy: 0.9734 - val_loss: 0.1992 - val_accuracy: 0.9371\n",
      "Epoch 20/1000\n",
      "846/846 [==============================] - 40s 48ms/step - loss: 0.4307 - accuracy: 0.7609 - val_loss: 0.2552 - val_accuracy: 0.9108\n",
      "Epoch 21/1000\n",
      "846/846 [==============================] - 40s 48ms/step - loss: 0.4183 - accuracy: 0.7375 - val_loss: 0.2762 - val_accuracy: 0.9145\n",
      "Epoch 22/1000\n",
      "846/846 [==============================] - 49s 57ms/step - loss: 0.2316 - accuracy: 0.9102 - val_loss: 0.2819 - val_accuracy: 0.9064\n",
      "Epoch 23/1000\n",
      "846/846 [==============================] - 48s 57ms/step - loss: 0.1651 - accuracy: 0.9627 - val_loss: 0.1809 - val_accuracy: 0.9424\n",
      "Epoch 24/1000\n",
      "846/846 [==============================] - 44s 52ms/step - loss: 0.1557 - accuracy: 0.9634 - val_loss: 0.2092 - val_accuracy: 0.9345\n",
      "Epoch 25/1000\n",
      "846/846 [==============================] - 51s 60ms/step - loss: 0.1453 - accuracy: 0.9680 - val_loss: 0.1929 - val_accuracy: 0.9446\n",
      "CPU times: user 45min 30s, sys: 12min 29s, total: 57min 59s\n",
      "Wall time: 20min 45s\n"
     ]
    }
   ],
   "source": [
    "%%time\n",
    "from keras.callbacks import EarlyStopping\n",
    "\n",
    "model_rnn = Sequential([\n",
    "    Embedding(input_dim = len(word_index), output_dim = 8, \n",
    "             input_length=avg_length_text), ## recall that we set the post-padding length to be this value \n",
    "    SimpleRNN(16), ## THIS IS THE RECURRENT LAYER \n",
    "    Dropout(0.2),\n",
    "    Dense(8, activation='relu'),\n",
    "    Dropout(0.2), \n",
    "    Dense(1, activation= 'sigmoid') ## final layer for prediction, hence only one node\n",
    "])\n",
    "\n",
    "## compile -- add optim, add loss, add metrics \n",
    "model_rnn.compile(optimizer = 'adam', loss = ['binary_crossentropy'], metrics = ['accuracy'])\n",
    "\n",
    "early_stopping = EarlyStopping(patience=10, restore_best_weights=True)\n",
    "\n",
    "history_rnn = model_rnn.fit(X_train_pad, y_train, epochs=1000, batch_size=32, validation_data=(X_val_pad, y_val), callbacks=[early_stopping])"
   ]
  },
  {
   "cell_type": "code",
   "execution_count": 60,
   "id": "2a896fc1",
   "metadata": {
    "scrolled": true
   },
   "outputs": [
    {
     "name": "stdout",
     "output_type": "stream",
     "text": [
      "182/182 [==============================] - 2s 13ms/step - loss: 0.1749 - accuracy: 0.9534\n"
     ]
    }
   ],
   "source": [
    "# Evaluate the model on the test set\n",
    "loss, accuracy = model_rnn.evaluate(X_test_pad, y_test)"
   ]
  },
  {
   "cell_type": "code",
   "execution_count": 61,
   "id": "00544a64",
   "metadata": {
    "scrolled": false
   },
   "outputs": [
    {
     "data": {
      "image/png": "[encoded data removed]",
      "text/plain": [
       "<Figure size 640x480 with 1 Axes>"
      ]
     },
     "metadata": {},
     "output_type": "display_data"
    }
   ],
   "source": [
    "# Plot the training and validation loss\n",
    "plt.plot(history_rnn.history['loss'], label='Train Loss')\n",
    "plt.plot(history_rnn.history['val_loss'], label='Validation Loss')\n",
    "plt.title('Training and Validation Loss')\n",
    "plt.xlabel('Epoch')\n",
    "plt.ylabel('Loss')\n",
    "plt.legend()\n",
    "plt.show()"
   ]
  },
  {
   "cell_type": "code",
   "execution_count": 72,
   "id": "97a2bc3d",
   "metadata": {},
   "outputs": [
    {
     "data": {
      "image/png": "[encoded data removed]",
      "text/plain": [
       "<Figure size 640x480 with 1 Axes>"
      ]
     },
     "metadata": {},
     "output_type": "display_data"
    }
   ],
   "source": [
    "plt.plot(history_rnn.history['accuracy'], label='Train Accuracy')\n",
    "plt.plot(history_rnn.history['val_accuracy'], label='Validation Accuracy')\n",
    "plt.title('Training and Validation Accuracy')\n",
    "plt.xlabel('Epoch')\n",
    "plt.ylabel('Accuracy')\n",
    "plt.legend()\n",
    "plt.show()"
   ]
  },
  {
   "cell_type": "code",
   "execution_count": 69,
   "id": "432f3594",
   "metadata": {},
   "outputs": [
    {
     "name": "stdout",
     "output_type": "stream",
     "text": [
      "182/182 [==============================] - 2s 11ms/step\n"
     ]
    }
   ],
   "source": [
    "y_pred = model_rnn.predict(X_test_pad)"
   ]
  },
  {
   "cell_type": "code",
   "execution_count": 70,
   "id": "1fd16329",
   "metadata": {},
   "outputs": [
    {
     "data": {
      "text/plain": [
       "<sklearn.metrics._plot.confusion_matrix.ConfusionMatrixDisplay at 0x172cc5420>"
      ]
     },
     "execution_count": 70,
     "metadata": {},
     "output_type": "execute_result"
    },
    {
     "data": {
      "image/png": "[encoded data removed]",
      "text/plain": [
       "<Figure size 640x480 with 2 Axes>"
      ]
     },
     "metadata": {},
     "output_type": "display_data"
    }
   ],
   "source": [
    "from sklearn.metrics import confusion_matrix,ConfusionMatrixDisplay\n",
    "import tensorflow as tf\n",
    "\n",
    "predicted = tf.squeeze(y_pred)\n",
    "predicted = np.array([1 if x >= 0.5 else 0 for x in predicted])\n",
    "actual = np.array(y_test)\n",
    "conf_mat = confusion_matrix(actual, predicted)\n",
    "displ = ConfusionMatrixDisplay(confusion_matrix=conf_mat)\n",
    "displ.plot()"
   ]
  },
  {
   "cell_type": "markdown",
   "id": "4bf062a0",
   "metadata": {},
   "source": [
    "---"
   ]
  },
  {
   "cell_type": "markdown",
   "id": "b47ab967",
   "metadata": {},
   "source": [
    "## Basic NN Model"
   ]
  },
  {
   "cell_type": "code",
   "execution_count": 23,
   "id": "27dab8dd",
   "metadata": {},
   "outputs": [
    {
     "name": "stdout",
     "output_type": "stream",
     "text": [
      "Epoch 1/50\n",
      "136/136 [==============================] - 2s 10ms/step - loss: 0.5857 - accuracy: 0.7430 - val_loss: 1.0234 - val_accuracy: 0.5104\n",
      "Epoch 2/50\n",
      "136/136 [==============================] - 1s 8ms/step - loss: 0.2613 - accuracy: 0.9271 - val_loss: 1.3605 - val_accuracy: 0.5047\n",
      "Epoch 3/50\n",
      "136/136 [==============================] - 1s 8ms/step - loss: 0.1964 - accuracy: 0.9585 - val_loss: 1.5870 - val_accuracy: 0.4994\n",
      "Epoch 4/50\n",
      "136/136 [==============================] - 1s 8ms/step - loss: 0.1635 - accuracy: 0.9663 - val_loss: 1.7259 - val_accuracy: 0.5020\n",
      "Epoch 5/50\n",
      "136/136 [==============================] - 1s 8ms/step - loss: 0.1444 - accuracy: 0.9703 - val_loss: 1.8620 - val_accuracy: 0.4970\n",
      "Epoch 6/50\n",
      "136/136 [==============================] - 1s 8ms/step - loss: 0.1289 - accuracy: 0.9744 - val_loss: 2.0294 - val_accuracy: 0.4954\n"
     ]
    }
   ],
   "source": [
    "model_3 = Sequential([\n",
    "    Embedding(input_dim=len(word_index), output_dim=8, input_length=avg_length_text),\n",
    "    Flatten(),\n",
    "    Dense(8, activation='relu', kernel_regularizer=l2(0.01)),  # L2 regularization\n",
    "    Dropout(0.5),  # Adding dropout\n",
    "    Dense(1, activation='sigmoid')\n",
    "])\n",
    "\n",
    "model_3.compile(optimizer='adam', loss='binary_crossentropy', metrics=['accuracy'])\n",
    "\n",
    "## Decrease patience, allow restore to best weights during patience\n",
    "early_stopping = EarlyStopping(monitor='val_loss', patience=5, restore_best_weights=True)\n",
    "\n",
    "history_3 = model_3.fit(X_train_pad, y_train, epochs=50, batch_size=200, validation_data=(X_val_pad, y_test), callbacks=[early_stopping])"
   ]
  },
  {
   "cell_type": "code",
   "execution_count": 24,
   "id": "5f954ff6",
   "metadata": {},
   "outputs": [
    {
     "name": "stdout",
     "output_type": "stream",
     "text": [
      "Final Training Loss: 0.12894344329833984\n",
      "Final Training Accuracy: 0.9743902683258057\n",
      "Final Validation Loss: 2.029386520385742\n",
      "Final Validation Accuracy: 0.49543026089668274\n"
     ]
    }
   ],
   "source": [
    "final_train_loss_3 = history_3.history['loss'][-1]\n",
    "final_train_accuracy_3 = history_3.history['accuracy'][-1]\n",
    "\n",
    "final_val_loss_3 = history_3.history['val_loss'][-1]\n",
    "final_val_accuracy_3 = history_3.history['val_accuracy'][-1]\n",
    "\n",
    "print(\"Final Training Loss:\", final_train_loss_3)\n",
    "print(\"Final Training Accuracy:\", final_train_accuracy_3)\n",
    "print(\"Final Validation Loss:\", final_val_loss_3)\n",
    "print(\"Final Validation Accuracy:\", final_val_accuracy_3)\n"
   ]
  },
  {
   "cell_type": "code",
   "execution_count": 25,
   "id": "016ee4d6",
   "metadata": {},
   "outputs": [
    {
     "data": {
      "image/png": "[encoded data removed]",
      "text/plain": [
       "<Figure size 640x480 with 1 Axes>"
      ]
     },
     "metadata": {},
     "output_type": "display_data"
    }
   ],
   "source": [
    "# Plot the training and validation loss\n",
    "plt.plot(history_3.history['loss'], label='Train Loss')\n",
    "plt.plot(history_3.history['val_loss'], label='Validation Loss')\n",
    "plt.title('Training and Validation Loss')\n",
    "plt.xlabel('Epoch')\n",
    "plt.ylabel('Loss')\n",
    "plt.legend()\n",
    "plt.show()"
   ]
  },
  {
   "cell_type": "markdown",
   "id": "6bd98227",
   "metadata": {},
   "source": [
    "---"
   ]
  },
  {
   "cell_type": "markdown",
   "id": "e9216224",
   "metadata": {},
   "source": [
    "## New Texts on Both Models"
   ]
  },
  {
   "cell_type": "code",
   "execution_count": 26,
   "id": "71713de0",
   "metadata": {},
   "outputs": [],
   "source": [
    "bbc_snippet = \"\"\"The UK faces another five years of high interest rates to stem rising prices, an influential global group has warned.\n",
    "The International Monetary Fund expects the UK to have the highest inflation and slowest growth next year of any G7 economy including the US, France, Germany, Canada, Italy and Japan.\n",
    "However, the Treasury said recent revisions to UK growth had not been factored in to the IMF's report.\n",
    "The outlook was drawn up before this weekend's developments in Israel.\n",
    "Forecasts are never perfect given the many factors that affect economic growth - from geopolitics to the weather. But such reports can point in the right direction, especially where they align with other forecasts.\n",
    "The IMF, an international organisation with 190 member countries, has said the forecasts it makes for growth the following year in most advanced economies have, more often than not, been within about 1.5 percentage points of what actually happens.\n",
    "In July last year, it forecast that the UK economy would grow by 3.2% in 2022. It revised that upwards to 4.1% at the start of this year.\n",
    "But official UK figures released last month estimated that the country's economy actually expanded by 4.3% in 2022.\n",
    "According to the IMF's latest forecast which it produces every six months, it expects the UK to grow more quickly than Germany in 2023, keeping the UK out of bottom place for growth among the G7.\n",
    "But it downgraded the UK's prospects for growth next year, estimating the economy will grow by 0.6%, making it the slowest growing developed country in 2024 - widely predicted to be a general election year.\"\"\"\n"
   ]
  },
  {
   "cell_type": "code",
   "execution_count": 27,
   "id": "78c6ddae",
   "metadata": {},
   "outputs": [],
   "source": [
    "theonion_snippet = \"\"\"Claiming they had already made up their minds, area man Karl Wooley told reporters Tuesday \n",
    "that he felt like the bystanders who were urging him to put his gun down were arguing in bad faith. “If I’m being \n",
    "honest, it sort of feels like these onlookers are only thinking of themselves when they tell me to drop my pistol,” said Wooley, who observed that no one had even asked him to explain his reasoning for shouting at the top of his lungs and waving around a semiautomatic firearm. “Truth be told, they poisoned the well the second they tried to tackle me and forcibly rip the gun from my hands. But the worst part is how condescending they are—saying things like, ‘Hey, buddy, you don’t really want to do this.’ Maybe if they’d bothered to find out where I’m coming from and what my thoughts on the matter are, they’d know this is exactly what I want to be doing.” At press time, Wooley was reportedly shaking his head at how disrespectful his victims had become when they began resorting to ad hominem attacks like “You’re a monster” as he shot them to death.\"\"\""
   ]
  },
  {
   "cell_type": "code",
   "execution_count": 33,
   "id": "ffa04c17",
   "metadata": {},
   "outputs": [
    {
     "name": "stderr",
     "output_type": "stream",
     "text": [
      "[nltk_data] Downloading package stopwords to /Users/maria/nltk_data...\n",
      "[nltk_data]   Package stopwords is already up-to-date!\n"
     ]
    }
   ],
   "source": [
    "import spacy\n",
    "from spacy.lang.en import English\n",
    "from nltk.corpus import stopwords\n",
    "import nltk\n",
    "import time\n",
    "\n",
    "## download the dictionary for stopwords\n",
    "nltk.download('stopwords')\n",
    "\n",
    "## get the set of stopwords \n",
    "stop_words_set = set(stopwords.words('english'))\n",
    "\n",
    "## Load English tokenizer from spacy\n",
    "nlp = English()\n",
    "spacy_tokenizer = nlp.tokenizer ## make instance \n",
    "\n",
    "## Create function to clean text -- lowercase, remove non alphanumeric, remove stop words\n",
    "def optimized_preprocess(texts): ## Takes in a list of texts, i.e. the entire corpus\n",
    "    result = []\n",
    "    \n",
    "    # Tokenize using spaCy's tokenizer\n",
    "    for text in texts:\n",
    "        tokens = [token.text.lower() for token in spacy_tokenizer(text) if token.text.isalpha() and token.text.lower() not in stop_words_set]\n",
    "        result.append(\" \".join(tokens))\n",
    "    \n",
    "    return result"
   ]
  },
  {
   "cell_type": "code",
   "execution_count": 34,
   "id": "bfca682b",
   "metadata": {},
   "outputs": [],
   "source": [
    "bbc_cleaned = optimized_preprocess([bbc_snippet])\n",
    "theonion_cleaned = optimized_preprocess([theonion_snippet])\n"
   ]
  },
  {
   "cell_type": "code",
   "execution_count": 35,
   "id": "0564b246",
   "metadata": {},
   "outputs": [],
   "source": [
    "bbc_seq = tokenizer.texts_to_sequences(bbc_cleaned)\n",
    "theonion_seq = tokenizer.texts_to_sequences(theonion_cleaned)\n"
   ]
  },
  {
   "cell_type": "code",
   "execution_count": 36,
   "id": "1e5c178c",
   "metadata": {},
   "outputs": [],
   "source": [
    "bbc_pad = pad_sequences(bbc_seq, maxlen= avg_length_text, padding = 'post', truncating = 'post')\n",
    "theonion_pad = pad_sequences(theonion_seq, maxlen=  avg_length_text, padding = 'post', truncating = 'post')"
   ]
  },
  {
   "cell_type": "code",
   "execution_count": 80,
   "id": "82f1fbca",
   "metadata": {},
   "outputs": [
    {
     "name": "stdout",
     "output_type": "stream",
     "text": [
      "1/1 [==============================] - 0s 53ms/step\n",
      "[[0.19515367]]\n",
      "1/1 [==============================] - 0s 42ms/step\n",
      "[[0.8288021]]\n",
      "\n",
      "\n",
      " ======================= \n",
      "\n",
      "\n"
     ]
    }
   ],
   "source": [
    "print(model_3.predict(bbc_pad))\n",
    "print(model_3.predict(theonion_pad))\n",
    "\n",
    "print('\\n\\n ======================= \\n\\n')"
   ]
  },
  {
   "cell_type": "code",
   "execution_count": 81,
   "id": "ee4d4825",
   "metadata": {},
   "outputs": [
    {
     "name": "stdout",
     "output_type": "stream",
     "text": [
      "1/1 [==============================] - 0s 52ms/step\n",
      "[[0.01882028]]\n",
      "1/1 [==============================] - 0s 54ms/step\n",
      "[[0.9609214]]\n"
     ]
    }
   ],
   "source": [
    "print(model_rnn.predict(bbc_pad))\n",
    "print(model_rnn.predict(theonion_pad))"
   ]
  },
  {
   "cell_type": "code",
   "execution_count": 83,
   "id": "a6bd90ba",
   "metadata": {},
   "outputs": [
    {
     "name": "stdout",
     "output_type": "stream",
     "text": [
      "1/1 [==============================] - 0s 33ms/step\n"
     ]
    },
    {
     "data": {
      "text/plain": [
       "array([[0.01882028]], dtype=float32)"
      ]
     },
     "execution_count": 83,
     "metadata": {},
     "output_type": "execute_result"
    }
   ],
   "source": [
    "model_rnn.predict(bbc_pad)"
   ]
  },
  {
   "cell_type": "code",
   "execution_count": 84,
   "id": "811e7c81",
   "metadata": {},
   "outputs": [
    {
     "name": "stdout",
     "output_type": "stream",
     "text": [
      "1/1 [==============================] - 0s 33ms/step\n"
     ]
    },
    {
     "data": {
      "text/plain": [
       "array([[0.9609214]], dtype=float32)"
      ]
     },
     "execution_count": 84,
     "metadata": {},
     "output_type": "execute_result"
    }
   ],
   "source": [
    "model_rnn.predict(theonion_pad)"
   ]
  },
  {
   "cell_type": "markdown",
   "id": "60b9846b",
   "metadata": {},
   "source": [
    "---"
   ]
  },
  {
   "cell_type": "code",
   "execution_count": 86,
   "id": "0d244d85",
   "metadata": {},
   "outputs": [],
   "source": [
    "horse = \"Facing a financial dilemma after breaking his leg, a local horse who didn’t have health insurance was reportedly unable to afford being shot in the head, sources confirmed Tuesday. “Unfortunately, I don’t have the money for basic treatment for my injuries,” said Scout, explaining that he used to be on a PPO through his horse-racing job but had been without insurance since getting laid off. “America’s healthcare system is in a sad state when horses like me can’t get access to being shot right between the eyes. The gun they would use to shoot me costs $5,000 alone. I might have to live out the rest of my life in a hospice stable.” At press time, Scout had posted a GoFundMe to help him raise money to get a hole blasted through his skull.\"\n"
   ]
  },
  {
   "cell_type": "code",
   "execution_count": 87,
   "id": "c35a5592",
   "metadata": {},
   "outputs": [],
   "source": [
    "horse_cleaned = optimized_preprocess([horse])\n",
    "horse_seq = tokenizer.texts_to_sequences(horse_cleaned)\n",
    "horse_pad = pad_sequences(horse_seq, maxlen= avg_length_text, padding = 'post', truncating = 'post')"
   ]
  },
  {
   "cell_type": "code",
   "execution_count": 88,
   "id": "44fd1cb1",
   "metadata": {},
   "outputs": [
    {
     "name": "stdout",
     "output_type": "stream",
     "text": [
      "1/1 [==============================] - 0s 55ms/step\n"
     ]
    },
    {
     "data": {
      "text/plain": [
       "array([[0.96092135]], dtype=float32)"
      ]
     },
     "execution_count": 88,
     "metadata": {},
     "output_type": "execute_result"
    }
   ],
   "source": [
    "model_rnn.predict(horse_pad)"
   ]
  },
  {
   "cell_type": "markdown",
   "id": "618d9866",
   "metadata": {},
   "source": [
    "---"
   ]
  },
  {
   "cell_type": "code",
   "execution_count": 89,
   "id": "59ec7d3b",
   "metadata": {},
   "outputs": [],
   "source": [
    "abortion = \"\"\"A Texas judge has granted permission to a woman whose foetus has a fatal abnormality to have an abortion, despite the state's ban on the procedure.\n",
    "The ruling - which Texas may challenge - is thought to be one of the first attempts to seek a court-ordered abortion.\n",
    "Texas law prohibits abortion except to save the life of the pregnant woman.\n",
    "Abortion advocates claim the exception is too vague and puts women at risk.\n",
    "That is the argument of Kate Cox, a 31-year-old mother of two from the Dallas area, who is currently 20 weeks pregnant.\n",
    "Her foetus has been diagnosed with trisomy 18, a lethal condition that, in almost all cases, results in miscarriage, stillbirth or the death of the baby within the first year of life.\n",
    "According to her lawsuit, Ms Cox's physicians told her their \"hands are tied\" as long as the baby had a heartbeat, because of the state abortion ban.\n",
    "Doctors have told her continuing with the pregnancy poses a risk to her health and, potentially, her ability to carry another child. Ms Cox has already had to visit the emergency room four times because of pain and discharge, her lawyers said.\n",
    "\"Kate Cox needs an abortion, and she needs it now,\" her petition reads.\n",
    "On Thursday, Travis County District Judge Maya Guerra Gamble granted that request, handing down a temporary restraining order allowing Ms Cox to terminate her pregnancy, and protecting her doctor from civil and criminal penalties if she performs the procedure.\n",
    "\"The idea that Ms Cox wants desperately to be a parent, and this law might actually cause her to lose that ability, is shocking and would be a genuine miscarriage of justice,\" Judge Gamble, a Democrat, said.\n",
    "Lawyers for the state may ask a higher court to block the order.\n",
    "At the hearing, Jonathan Stone, with the Texas Attorney General's office, argued that Ms Cox \"does not meet all of the elements\" to qualify for a medical exception.\n",
    "A ruling in Ms Cox's case could compel the state to define more clearly when abortions are allowed under the existing law.\n",
    "The emergency appeal comes as the Texas Supreme Court weighs another effort to clarify the state's abortion ban. That one is led by the Center for Reproductive Rights, which is also representing Ms Cox.\n",
    "Molly Duane, a lawyer for the Center, told the conservative court late last month that the near-total ban had left physicians \"terrified\" to use their medical judgment over fear of harsh penalties.\n",
    "Doctors who perform abortions in Texas could risk life in prison, loss of their medical license and hundreds of thousands of dollars in fines.\n",
    "While there are medical exceptions to the Texas ban, \"no one knows what it means and the state won't tell us\", Ms Duane said.\n",
    "A lawyer for the attorney general, Beth Klusmann, said existing standards allowed doctors to use \"reasonable\" medical judgment.\n",
    "That case - Zurawski v State of Texas - could be decided by the state's highest civil court in the coming weeks.\n",
    "After the Supreme Court overturned Roe v Wade in June 2022 - effectively rescinding a nationwide right to an abortion - decisions about the procedure have been left to individual states.\"\"\"\n"
   ]
  },
  {
   "cell_type": "code",
   "execution_count": 90,
   "id": "a24f3efb",
   "metadata": {},
   "outputs": [],
   "source": [
    "abortion_cleaned = optimized_preprocess([abortion])\n",
    "abortion_seq = tokenizer.texts_to_sequences(abortion_cleaned)\n",
    "abortion_pad = pad_sequences(abortion_seq, maxlen= avg_length_text, padding = 'post', truncating = 'post')"
   ]
  },
  {
   "cell_type": "code",
   "execution_count": 92,
   "id": "b9df7823",
   "metadata": {},
   "outputs": [
    {
     "name": "stdout",
     "output_type": "stream",
     "text": [
      "1/1 [==============================] - 0s 79ms/step\n"
     ]
    },
    {
     "data": {
      "text/plain": [
       "array([[0.97170377]], dtype=float32)"
      ]
     },
     "execution_count": 92,
     "metadata": {},
     "output_type": "execute_result"
    }
   ],
   "source": [
    "model_rnn.predict(abortion_pad)"
   ]
  },
  {
   "cell_type": "markdown",
   "id": "39b6760a",
   "metadata": {},
   "source": [
    "---"
   ]
  },
  {
   "cell_type": "code",
   "execution_count": 94,
   "id": "0fe51488",
   "metadata": {},
   "outputs": [],
   "source": [
    "alarm = \"\"\"US lawmakers have voted to formally reprimand New York Democrat Jamaal Bowman for pulling a fire alarm while congress was in session.\n",
    "\n",
    "The Republican-led House of Representatives passed the resolution with 214 votes for and 191 against.\n",
    "The alarm went off and triggered an evacuation as Democrats were trying to stall a vote to avert a government shutdown in September.\n",
    "Mr Bowman had said he activated the alarm by mistake while rushing to vote.\n",
    "The resolution to censure Mr Bowman was introduced by Republican House representative Lisa McClain from Michigan on Tuesday.\n",
    "Ms McClain accused Mr Bowman of \"working nefariously to prevent a vote\" when he set off the alarm, during which lawmakers were working on passing a government spending bill to avert a shutdown.\n",
    "\"It is reprehensible that a Member of Congress would go to such lengths to prevent House Republicans from bringing forth a vote to keep the government operating and Americans receiving their paychecks,\" Ms McClain said in a statement.\n",
    "The congressman was caught on video pulling the fire alarm in the Cannon House Office Building on 30 September. He denied it was on purpose.\n",
    "\"Today, as I was rushing to make a vote, I came to a door that is usually open for votes but today would not open.\n",
    "\"I am embarrassed to admit that I activated the fire alarm, mistakenly thinking it would open the door. I regret this and sincerely apologize for any confusion this caused,\" he said in a statement.\n",
    "\"I want to be very clear, this was not me, in any way trying to delay any vote,\" the left-wing Democrat from the Bronx added.\n",
    "A censure acts as a formal vote of deep disapproval of a Congress member's conduct. It does not act as an expulsion and does not prevent them from carrying out their duties as lawmakers.\n",
    "In October, Mr Bowman was also charged by Washington prosecutors for falsely triggering the alarm and he pleaded guilty to a misdemeanour charge.\n",
    "He also agreed to pay the maximum $1,000 fine.\n",
    "Pulling a fire alarm when there is no emergency is a criminal offence punishable by fines and prison time in Washington.\"\"\""
   ]
  },
  {
   "cell_type": "code",
   "execution_count": 95,
   "id": "8c1619c1",
   "metadata": {},
   "outputs": [],
   "source": [
    "alarm_cleaned = optimized_preprocess([alarm])\n",
    "alarm_seq = tokenizer.texts_to_sequences(alarm_cleaned)\n",
    "alarm_pad = pad_sequences(alarm_seq, maxlen= avg_length_text, padding = 'post', truncating = 'post')"
   ]
  },
  {
   "cell_type": "code",
   "execution_count": 96,
   "id": "8835789c",
   "metadata": {},
   "outputs": [
    {
     "name": "stdout",
     "output_type": "stream",
     "text": [
      "1/1 [==============================] - 0s 48ms/step\n"
     ]
    },
    {
     "data": {
      "text/plain": [
       "array([[0.01890147]], dtype=float32)"
      ]
     },
     "execution_count": 96,
     "metadata": {},
     "output_type": "execute_result"
    }
   ],
   "source": [
    "model_rnn.predict(alarm_pad)"
   ]
  },
  {
   "cell_type": "code",
   "execution_count": null,
   "id": "55cc4611",
   "metadata": {},
   "outputs": [],
   "source": []
  }
 ],
 "metadata": {
  "kernelspec": {
   "display_name": "Python 3 (ipykernel)",
   "language": "python",
   "name": "python3"
  },
  "language_info": {
   "codemirror_mode": {
    "name": "ipython",
    "version": 3
   },
   "file_extension": ".py",
   "mimetype": "text/x-python",
   "name": "python",
   "nbconvert_exporter": "python",
   "pygments_lexer": "ipython3",
   "version": "3.10.6"
  },
  "toc": {
   "base_numbering": 1,
   "nav_menu": {},
   "number_sections": true,
   "sideBar": true,
   "skip_h1_title": false,
   "title_cell": "Table of Contents",
   "title_sidebar": "Contents",
   "toc_cell": false,
   "toc_position": {},
   "toc_section_display": true,
   "toc_window_display": false
  },
  "varInspector": {
   "cols": {
    "lenName": 16,
    "lenType": 16,
    "lenVar": 40
   },
   "kernels_config": {
    "python": {
     "delete_cmd_postfix": "",
     "delete_cmd_prefix": "del ",
     "library": "var_list.py",
     "varRefreshCmd": "print(var_dic_list())"
    },
    "r": {
     "delete_cmd_postfix": ") ",
     "delete_cmd_prefix": "rm(",
     "library": "var_list.r",
     "varRefreshCmd": "cat(var_dic_list()) "
    }
   },
   "position": {
    "height": "372.854px",
    "left": "1014.33px",
    "right": "20px",
    "top": "120px",
    "width": "325.667px"
   },
   "types_to_exclude": [
    "module",
    "function",
    "builtin_function_or_method",
    "instance",
    "_Feature"
   ],
   "window_display": false
  }
 },
 "nbformat": 4,
 "nbformat_minor": 5
}
