{
 "cells": [
  {
   "cell_type": "code",
   "execution_count": 22,
   "id": "2986098e",
   "metadata": {},
   "outputs": [],
   "source": [
    "import pandas as pd\n",
    "import matplotlib.pyplot as plt\n",
    "from sklearn.model_selection import train_test_split\n",
    "from keras.preprocessing.text import Tokenizer\n",
    "from keras.utils import pad_sequences\n",
    "from keras.models import Sequential\n",
    "from keras.layers import Embedding, LSTM, Dense, Dropout, SimpleRNN, Flatten\n",
    "from tensorflow.keras.regularizers import l2"
   ]
  },
  {
   "cell_type": "code",
   "execution_count": 2,
   "id": "8cb32fb0",
   "metadata": {},
   "outputs": [
    {
     "data": {
      "text/html": [
       "<div>\n",
       "<style scoped>\n",
       "    .dataframe tbody tr th:only-of-type {\n",
       "        vertical-align: middle;\n",
       "    }\n",
       "\n",
       "    .dataframe tbody tr th {\n",
       "        vertical-align: top;\n",
       "    }\n",
       "\n",
       "    .dataframe thead th {\n",
       "        text-align: right;\n",
       "    }\n",
       "</style>\n",
       "<table border=\"1\" class=\"dataframe\">\n",
       "  <thead>\n",
       "    <tr style=\"text-align: right;\">\n",
       "      <th></th>\n",
       "      <th>text</th>\n",
       "      <th>is_fake</th>\n",
       "    </tr>\n",
       "  </thead>\n",
       "  <tbody>\n",
       "    <tr>\n",
       "      <th>0</th>\n",
       "      <td>Donald Trump just couldn t wish all Americans ...</td>\n",
       "      <td>1</td>\n",
       "    </tr>\n",
       "    <tr>\n",
       "      <th>1</th>\n",
       "      <td>House Intelligence Committee Chairman Devin Nu...</td>\n",
       "      <td>1</td>\n",
       "    </tr>\n",
       "    <tr>\n",
       "      <th>2</th>\n",
       "      <td>On Friday, it was revealed that former Milwauk...</td>\n",
       "      <td>1</td>\n",
       "    </tr>\n",
       "    <tr>\n",
       "      <th>3</th>\n",
       "      <td>On Christmas day, Donald Trump announced that ...</td>\n",
       "      <td>1</td>\n",
       "    </tr>\n",
       "    <tr>\n",
       "      <th>4</th>\n",
       "      <td>Pope Francis used his annual Christmas Day mes...</td>\n",
       "      <td>1</td>\n",
       "    </tr>\n",
       "    <tr>\n",
       "      <th>...</th>\n",
       "      <td>...</td>\n",
       "      <td>...</td>\n",
       "    </tr>\n",
       "    <tr>\n",
       "      <th>38653</th>\n",
       "      <td>NATO allies on Tuesday welcomed President Dona...</td>\n",
       "      <td>0</td>\n",
       "    </tr>\n",
       "    <tr>\n",
       "      <th>38654</th>\n",
       "      <td>LexisNexis, a provider of legal, regulatory an...</td>\n",
       "      <td>0</td>\n",
       "    </tr>\n",
       "    <tr>\n",
       "      <th>38655</th>\n",
       "      <td>In the shadow of disused Soviet-era factories ...</td>\n",
       "      <td>0</td>\n",
       "    </tr>\n",
       "    <tr>\n",
       "      <th>38656</th>\n",
       "      <td>Vatican Secretary of State Cardinal Pietro Par...</td>\n",
       "      <td>0</td>\n",
       "    </tr>\n",
       "    <tr>\n",
       "      <th>38657</th>\n",
       "      <td>Indonesia will buy 11 Sukhoi fighter jets wort...</td>\n",
       "      <td>0</td>\n",
       "    </tr>\n",
       "  </tbody>\n",
       "</table>\n",
       "<p>38658 rows × 2 columns</p>\n",
       "</div>"
      ],
      "text/plain": [
       "                                                    text  is_fake\n",
       "0      Donald Trump just couldn t wish all Americans ...        1\n",
       "1      House Intelligence Committee Chairman Devin Nu...        1\n",
       "2      On Friday, it was revealed that former Milwauk...        1\n",
       "3      On Christmas day, Donald Trump announced that ...        1\n",
       "4      Pope Francis used his annual Christmas Day mes...        1\n",
       "...                                                  ...      ...\n",
       "38653  NATO allies on Tuesday welcomed President Dona...        0\n",
       "38654  LexisNexis, a provider of legal, regulatory an...        0\n",
       "38655  In the shadow of disused Soviet-era factories ...        0\n",
       "38656  Vatican Secretary of State Cardinal Pietro Par...        0\n",
       "38657  Indonesia will buy 11 Sukhoi fighter jets wort...        0\n",
       "\n",
       "[38658 rows x 2 columns]"
      ]
     },
     "execution_count": 2,
     "metadata": {},
     "output_type": "execute_result"
    }
   ],
   "source": [
    "data = pd.read_csv('../raw_data/merged_data.csv')\n",
    "data"
   ]
  },
  {
   "cell_type": "code",
   "execution_count": 3,
   "id": "016e2918",
   "metadata": {},
   "outputs": [],
   "source": [
    "import string\n",
    "from nltk.tokenize import word_tokenize\n",
    "from nltk.corpus import stopwords\n",
    "from nltk.stem import WordNetLemmatizer\n",
    "\n",
    "def cleaning(sentence):\n",
    "    \n",
    "    # Basic cleaning\n",
    "    sentence = sentence.strip() ## remove whitespaces\n",
    "    sentence = sentence.lower() ## lowercase \n",
    "    sentence = ''.join(char for char in sentence if not char.isdigit()) ## remove numbers\n",
    "    \n",
    "    # Advanced cleaning\n",
    "    for punctuation in string.punctuation:\n",
    "        sentence = sentence.replace(punctuation, '') ## remove punctuation\n",
    "    \n",
    "    tokenized_sentence = word_tokenize(sentence) ## tokenize \n",
    "    stop_words = set(stopwords.words('english')) ## define stopwords\n",
    "    \n",
    "    tokenized_sentence_cleaned = [ ## remove stopwords\n",
    "        w for w in tokenized_sentence if not w in stop_words\n",
    "    ]\n",
    "\n",
    "    lemmatized = [\n",
    "        WordNetLemmatizer().lemmatize(word, pos = \"v\") \n",
    "        for word in tokenized_sentence_cleaned\n",
    "    ]\n",
    "    \n",
    "    cleaned_sentence = ' '.join(word for word in lemmatized)\n",
    "    \n",
    "    return cleaned_sentence"
   ]
  },
  {
   "cell_type": "code",
   "execution_count": 4,
   "id": "90066592",
   "metadata": {},
   "outputs": [
    {
     "name": "stdout",
     "output_type": "stream",
     "text": [
      "CPU times: user 1min 54s, sys: 2.57 s, total: 1min 56s\n",
      "Wall time: 1min 57s\n"
     ]
    },
    {
     "data": {
      "text/html": [
       "<div>\n",
       "<style scoped>\n",
       "    .dataframe tbody tr th:only-of-type {\n",
       "        vertical-align: middle;\n",
       "    }\n",
       "\n",
       "    .dataframe tbody tr th {\n",
       "        vertical-align: top;\n",
       "    }\n",
       "\n",
       "    .dataframe thead th {\n",
       "        text-align: right;\n",
       "    }\n",
       "</style>\n",
       "<table border=\"1\" class=\"dataframe\">\n",
       "  <thead>\n",
       "    <tr style=\"text-align: right;\">\n",
       "      <th></th>\n",
       "      <th>text</th>\n",
       "      <th>is_fake</th>\n",
       "      <th>text_clean</th>\n",
       "    </tr>\n",
       "  </thead>\n",
       "  <tbody>\n",
       "    <tr>\n",
       "      <th>0</th>\n",
       "      <td>Donald Trump just couldn t wish all Americans ...</td>\n",
       "      <td>1</td>\n",
       "      <td>donald trump wish americans happy new year lea...</td>\n",
       "    </tr>\n",
       "    <tr>\n",
       "      <th>1</th>\n",
       "      <td>House Intelligence Committee Chairman Devin Nu...</td>\n",
       "      <td>1</td>\n",
       "      <td>house intelligence committee chairman devin nu...</td>\n",
       "    </tr>\n",
       "    <tr>\n",
       "      <th>2</th>\n",
       "      <td>On Friday, it was revealed that former Milwauk...</td>\n",
       "      <td>1</td>\n",
       "      <td>friday reveal former milwaukee sheriff david c...</td>\n",
       "    </tr>\n",
       "    <tr>\n",
       "      <th>3</th>\n",
       "      <td>On Christmas day, Donald Trump announced that ...</td>\n",
       "      <td>1</td>\n",
       "      <td>christmas day donald trump announce would back...</td>\n",
       "    </tr>\n",
       "    <tr>\n",
       "      <th>4</th>\n",
       "      <td>Pope Francis used his annual Christmas Day mes...</td>\n",
       "      <td>1</td>\n",
       "      <td>pope francis use annual christmas day message ...</td>\n",
       "    </tr>\n",
       "    <tr>\n",
       "      <th>...</th>\n",
       "      <td>...</td>\n",
       "      <td>...</td>\n",
       "      <td>...</td>\n",
       "    </tr>\n",
       "    <tr>\n",
       "      <th>38653</th>\n",
       "      <td>NATO allies on Tuesday welcomed President Dona...</td>\n",
       "      <td>0</td>\n",
       "      <td>nato ally tuesday welcome president donald tru...</td>\n",
       "    </tr>\n",
       "    <tr>\n",
       "      <th>38654</th>\n",
       "      <td>LexisNexis, a provider of legal, regulatory an...</td>\n",
       "      <td>0</td>\n",
       "      <td>lexisnexis provider legal regulatory business ...</td>\n",
       "    </tr>\n",
       "    <tr>\n",
       "      <th>38655</th>\n",
       "      <td>In the shadow of disused Soviet-era factories ...</td>\n",
       "      <td>0</td>\n",
       "      <td>shadow disused sovietera factories minsk stree...</td>\n",
       "    </tr>\n",
       "    <tr>\n",
       "      <th>38656</th>\n",
       "      <td>Vatican Secretary of State Cardinal Pietro Par...</td>\n",
       "      <td>0</td>\n",
       "      <td>vatican secretary state cardinal pietro paroli...</td>\n",
       "    </tr>\n",
       "    <tr>\n",
       "      <th>38657</th>\n",
       "      <td>Indonesia will buy 11 Sukhoi fighter jets wort...</td>\n",
       "      <td>0</td>\n",
       "      <td>indonesia buy sukhoi fighter jet worth billion...</td>\n",
       "    </tr>\n",
       "  </tbody>\n",
       "</table>\n",
       "<p>38658 rows × 3 columns</p>\n",
       "</div>"
      ],
      "text/plain": [
       "                                                    text  is_fake  \\\n",
       "0      Donald Trump just couldn t wish all Americans ...        1   \n",
       "1      House Intelligence Committee Chairman Devin Nu...        1   \n",
       "2      On Friday, it was revealed that former Milwauk...        1   \n",
       "3      On Christmas day, Donald Trump announced that ...        1   \n",
       "4      Pope Francis used his annual Christmas Day mes...        1   \n",
       "...                                                  ...      ...   \n",
       "38653  NATO allies on Tuesday welcomed President Dona...        0   \n",
       "38654  LexisNexis, a provider of legal, regulatory an...        0   \n",
       "38655  In the shadow of disused Soviet-era factories ...        0   \n",
       "38656  Vatican Secretary of State Cardinal Pietro Par...        0   \n",
       "38657  Indonesia will buy 11 Sukhoi fighter jets wort...        0   \n",
       "\n",
       "                                              text_clean  \n",
       "0      donald trump wish americans happy new year lea...  \n",
       "1      house intelligence committee chairman devin nu...  \n",
       "2      friday reveal former milwaukee sheriff david c...  \n",
       "3      christmas day donald trump announce would back...  \n",
       "4      pope francis use annual christmas day message ...  \n",
       "...                                                  ...  \n",
       "38653  nato ally tuesday welcome president donald tru...  \n",
       "38654  lexisnexis provider legal regulatory business ...  \n",
       "38655  shadow disused sovietera factories minsk stree...  \n",
       "38656  vatican secretary state cardinal pietro paroli...  \n",
       "38657  indonesia buy sukhoi fighter jet worth billion...  \n",
       "\n",
       "[38658 rows x 3 columns]"
      ]
     },
     "execution_count": 4,
     "metadata": {},
     "output_type": "execute_result"
    }
   ],
   "source": [
    "%%time\n",
    "\n",
    "data['text_clean'] = data['text'].apply(cleaning)\n",
    "data"
   ]
  },
  {
   "cell_type": "code",
   "execution_count": 5,
   "id": "d2a9b6d6",
   "metadata": {},
   "outputs": [],
   "source": [
    "X = data.text_clean\n",
    "y = data.is_fake"
   ]
  },
  {
   "cell_type": "code",
   "execution_count": 6,
   "id": "9f53a53d",
   "metadata": {},
   "outputs": [],
   "source": [
    "# Perform a 70:30 split for the initial training set and temporary set\n",
    "X_train, X_temp, y_train, y_temp = train_test_split(X, y, test_size=0.3, random_state=42)\n",
    "\n",
    "# Further split the temporary set into validation (50%) and test (50%)\n",
    "X_val, X_test, y_val, y_test = train_test_split(X_temp, y_temp, test_size=0.5, random_state=42)"
   ]
  },
  {
   "cell_type": "code",
   "execution_count": 7,
   "id": "a7c96fea",
   "metadata": {},
   "outputs": [
    {
     "name": "stdout",
     "output_type": "stream",
     "text": [
      "CPU times: user 6.58 s, sys: 62.7 ms, total: 6.65 s\n",
      "Wall time: 6.67 s\n"
     ]
    }
   ],
   "source": [
    "%%time\n",
    "# max_words = 10000  \n",
    "# max_sequence_length = 500  \n",
    "\n",
    "# Initialize the tokenizer and fit it on the training data\n",
    "tokenizer = Tokenizer(num_words=10000)\n",
    "tokenizer.fit_on_texts(X_train)\n",
    "word_index = tokenizer.word_index"
   ]
  },
  {
   "cell_type": "code",
   "execution_count": 40,
   "id": "640f538b",
   "metadata": {},
   "outputs": [
    {
     "data": {
      "text/plain": [
       "156905"
      ]
     },
     "execution_count": 40,
     "metadata": {},
     "output_type": "execute_result"
    }
   ],
   "source": [
    "len(word_index)"
   ]
  },
  {
   "cell_type": "code",
   "execution_count": 8,
   "id": "401ce572",
   "metadata": {},
   "outputs": [],
   "source": [
    "# Convert text data to sequences of integers\n",
    "X_train_sequences = tokenizer.texts_to_sequences(X_train)\n",
    "X_val_sequences = tokenizer.texts_to_sequences(X_val)\n",
    "X_test_sequences = tokenizer.texts_to_sequences(X_test)"
   ]
  },
  {
   "cell_type": "code",
   "execution_count": 15,
   "id": "962b22a2",
   "metadata": {},
   "outputs": [],
   "source": [
    "sequences = tokenizer.texts_to_sequences(data.text_clean)\n",
    "\n",
    "lengths_of_texts =  [len(text) for text in sequences]\n",
    "\n",
    "## For length to pad till, we use the average length of all texts \n",
    "avg_length_text = int(np.mean(lengths_of_texts))\n",
    "\n",
    "X_train_pad = pad_sequences(X_train_sequences, maxlen=avg_length_text, padding='post', truncating='post')\n",
    "X_val_pad = pad_sequences(X_val_sequences, maxlen=avg_length_text, padding='pre')\n",
    "X_test_pad = pad_sequences(X_test_sequences, maxlen=avg_length_text, padding='post', truncating='post')"
   ]
  },
  {
   "cell_type": "markdown",
   "id": "93535a51",
   "metadata": {},
   "source": [
    "---"
   ]
  },
  {
   "cell_type": "markdown",
   "id": "d28effb0",
   "metadata": {},
   "source": [
    "## SimpleRNN Model"
   ]
  },
  {
   "cell_type": "code",
   "execution_count": 59,
   "id": "d223e79f",
   "metadata": {},
   "outputs": [
    {
     "name": "stdout",
     "output_type": "stream",
     "text": [
      "Epoch 1/1000\n",
      "846/846 [==============================] - 103s 119ms/step - loss: 0.6803 - accuracy: 0.5537 - val_loss: 0.6904 - val_accuracy: 0.5730\n",
      "Epoch 2/1000\n",
      "846/846 [==============================] - 112s 133ms/step - loss: 0.4660 - accuracy: 0.7929 - val_loss: 0.5877 - val_accuracy: 0.7679\n",
      "Epoch 3/1000\n",
      "846/846 [==============================] - 100s 118ms/step - loss: 0.2595 - accuracy: 0.9295 - val_loss: 0.1854 - val_accuracy: 0.9353\n",
      "Epoch 4/1000\n",
      "846/846 [==============================] - 40s 47ms/step - loss: 0.2951 - accuracy: 0.9074 - val_loss: 0.2107 - val_accuracy: 0.9167\n",
      "Epoch 5/1000\n",
      "846/846 [==============================] - 40s 47ms/step - loss: 0.2316 - accuracy: 0.9426 - val_loss: 0.1995 - val_accuracy: 0.9260\n",
      "Epoch 6/1000\n",
      "846/846 [==============================] - 40s 47ms/step - loss: 0.2204 - accuracy: 0.9452 - val_loss: 0.3261 - val_accuracy: 0.8612\n",
      "Epoch 7/1000\n",
      "846/846 [==============================] - 40s 47ms/step - loss: 0.2024 - accuracy: 0.9507 - val_loss: 0.1780 - val_accuracy: 0.9412\n",
      "Epoch 8/1000\n",
      "846/846 [==============================] - 40s 47ms/step - loss: 0.1631 - accuracy: 0.9651 - val_loss: 0.2361 - val_accuracy: 0.9267\n",
      "Epoch 9/1000\n",
      "846/846 [==============================] - 42s 50ms/step - loss: 0.2964 - accuracy: 0.8943 - val_loss: 0.2112 - val_accuracy: 0.9127\n",
      "Epoch 10/1000\n",
      "846/846 [==============================] - 41s 49ms/step - loss: 0.1854 - accuracy: 0.9517 - val_loss: 0.1704 - val_accuracy: 0.9472\n",
      "Epoch 11/1000\n",
      "846/846 [==============================] - 40s 47ms/step - loss: 0.1874 - accuracy: 0.9558 - val_loss: 0.2041 - val_accuracy: 0.9360\n",
      "Epoch 12/1000\n",
      "846/846 [==============================] - 45s 54ms/step - loss: 0.1547 - accuracy: 0.9663 - val_loss: 0.1758 - val_accuracy: 0.9390\n",
      "Epoch 13/1000\n",
      "846/846 [==============================] - 43s 51ms/step - loss: 0.1628 - accuracy: 0.9626 - val_loss: 0.1842 - val_accuracy: 0.9396\n",
      "Epoch 14/1000\n",
      "846/846 [==============================] - 43s 51ms/step - loss: 0.1458 - accuracy: 0.9681 - val_loss: 0.2248 - val_accuracy: 0.9391\n",
      "Epoch 15/1000\n",
      "846/846 [==============================] - 40s 47ms/step - loss: 0.1632 - accuracy: 0.9623 - val_loss: 0.1666 - val_accuracy: 0.9472\n",
      "Epoch 16/1000\n",
      "846/846 [==============================] - 37s 44ms/step - loss: 0.1818 - accuracy: 0.9537 - val_loss: 0.1811 - val_accuracy: 0.9391\n",
      "Epoch 17/1000\n",
      "846/846 [==============================] - 43s 51ms/step - loss: 0.1278 - accuracy: 0.9730 - val_loss: 0.1750 - val_accuracy: 0.9410\n",
      "Epoch 18/1000\n",
      "846/846 [==============================] - 39s 46ms/step - loss: 0.1301 - accuracy: 0.9722 - val_loss: 0.1801 - val_accuracy: 0.9459\n",
      "Epoch 19/1000\n",
      "846/846 [==============================] - 45s 53ms/step - loss: 0.1278 - accuracy: 0.9734 - val_loss: 0.1992 - val_accuracy: 0.9371\n",
      "Epoch 20/1000\n",
      "846/846 [==============================] - 40s 48ms/step - loss: 0.4307 - accuracy: 0.7609 - val_loss: 0.2552 - val_accuracy: 0.9108\n",
      "Epoch 21/1000\n",
      "846/846 [==============================] - 40s 48ms/step - loss: 0.4183 - accuracy: 0.7375 - val_loss: 0.2762 - val_accuracy: 0.9145\n",
      "Epoch 22/1000\n",
      "846/846 [==============================] - 49s 57ms/step - loss: 0.2316 - accuracy: 0.9102 - val_loss: 0.2819 - val_accuracy: 0.9064\n",
      "Epoch 23/1000\n",
      "846/846 [==============================] - 48s 57ms/step - loss: 0.1651 - accuracy: 0.9627 - val_loss: 0.1809 - val_accuracy: 0.9424\n",
      "Epoch 24/1000\n",
      "846/846 [==============================] - 44s 52ms/step - loss: 0.1557 - accuracy: 0.9634 - val_loss: 0.2092 - val_accuracy: 0.9345\n",
      "Epoch 25/1000\n",
      "846/846 [==============================] - 51s 60ms/step - loss: 0.1453 - accuracy: 0.9680 - val_loss: 0.1929 - val_accuracy: 0.9446\n",
      "CPU times: user 45min 30s, sys: 12min 29s, total: 57min 59s\n",
      "Wall time: 20min 45s\n"
     ]
    }
   ],
   "source": [
    "%%time\n",
    "from keras.callbacks import EarlyStopping\n",
    "\n",
    "model_rnn = Sequential([\n",
    "    Embedding(input_dim = len(word_index), output_dim = 8, \n",
    "             input_length=avg_length_text), ## recall that we set the post-padding length to be this value \n",
    "    SimpleRNN(16), ## THIS IS THE RECURRENT LAYER \n",
    "    Dropout(0.2),\n",
    "    Dense(8, activation='relu'),\n",
    "    Dropout(0.2), \n",
    "    Dense(1, activation= 'sigmoid') ## final layer for prediction, hence only one node\n",
    "])\n",
    "\n",
    "## compile -- add optim, add loss, add metrics \n",
    "model_rnn.compile(optimizer = 'adam', loss = ['binary_crossentropy'], metrics = ['accuracy'])\n",
    "\n",
    "early_stopping = EarlyStopping(patience=10, restore_best_weights=True)\n",
    "\n",
    "history_rnn = model_rnn.fit(X_train_pad, y_train, epochs=1000, batch_size=32, validation_data=(X_val_pad, y_val), callbacks=[early_stopping])"
   ]
  },
  {
   "cell_type": "code",
   "execution_count": 60,
   "id": "43633d1f",
   "metadata": {
    "scrolled": true
   },
   "outputs": [
    {
     "name": "stdout",
     "output_type": "stream",
     "text": [
      "182/182 [==============================] - 2s 13ms/step - loss: 0.1749 - accuracy: 0.9534\n"
     ]
    }
   ],
   "source": [
    "# Evaluate the model on the test set\n",
    "loss, accuracy = model_rnn.evaluate(X_test_pad, y_test)"
   ]
  },
  {
   "cell_type": "code",
   "execution_count": 61,
   "id": "9757e27f",
   "metadata": {
    "scrolled": false
   },
   "outputs": [
    {
     "data": {
      "image/png": "[encoded data removed]",
      "text/plain": [
       "<Figure size 640x480 with 1 Axes>"
      ]
     },
     "metadata": {},
     "output_type": "display_data"
    }
   ],
   "source": [
    "# Plot the training and validation loss\n",
    "plt.plot(history_rnn.history['loss'], label='Train Loss')\n",
    "plt.plot(history_rnn.history['val_loss'], label='Validation Loss')\n",
    "plt.title('Training and Validation Loss')\n",
    "plt.xlabel('Epoch')\n",
    "plt.ylabel('Loss')\n",
    "plt.legend()\n",
    "plt.show()"
   ]
  },
  {
   "cell_type": "code",
   "execution_count": 65,
   "id": "bc487812",
   "metadata": {},
   "outputs": [
    {
     "data": {
      "text/plain": [
       "<sklearn.metrics._plot.confusion_matrix.ConfusionMatrixDisplay at 0x19aed02b0>"
      ]
     },
     "execution_count": 65,
     "metadata": {},
     "output_type": "execute_result"
    },
    {
     "data": {
      "image/png": "[encoded data removed]",
      "text/plain": [
       "<Figure size 640x480 with 2 Axes>"
      ]
     },
     "metadata": {},
     "output_type": "display_data"
    }
   ],
   "source": [
    "from sklearn.metrics import confusion_matrix,ConfusionMatrixDisplay\n",
    "import tensorflow as tf\n",
    "\n",
    "predicted = tf.squeeze(y_pred)\n",
    "predicted = np.array([1 if x >= 0.5 else 0 for x in predicted])\n",
    "actual = np.array(y_test)\n",
    "conf_mat = confusion_matrix(actual, predicted)\n",
    "displ = ConfusionMatrixDisplay(confusion_matrix=conf_mat)\n",
    "displ.plot()"
   ]
  },
  {
   "cell_type": "markdown",
   "id": "87f49466",
   "metadata": {},
   "source": [
    "---"
   ]
  },
  {
   "cell_type": "markdown",
   "id": "e81482e6",
   "metadata": {},
   "source": [
    "## Basic NN Model"
   ]
  },
  {
   "cell_type": "code",
   "execution_count": 23,
   "id": "d73d23b1",
   "metadata": {},
   "outputs": [
    {
     "name": "stdout",
     "output_type": "stream",
     "text": [
      "Epoch 1/50\n",
      "136/136 [==============================] - 2s 10ms/step - loss: 0.5857 - accuracy: 0.7430 - val_loss: 1.0234 - val_accuracy: 0.5104\n",
      "Epoch 2/50\n",
      "136/136 [==============================] - 1s 8ms/step - loss: 0.2613 - accuracy: 0.9271 - val_loss: 1.3605 - val_accuracy: 0.5047\n",
      "Epoch 3/50\n",
      "136/136 [==============================] - 1s 8ms/step - loss: 0.1964 - accuracy: 0.9585 - val_loss: 1.5870 - val_accuracy: 0.4994\n",
      "Epoch 4/50\n",
      "136/136 [==============================] - 1s 8ms/step - loss: 0.1635 - accuracy: 0.9663 - val_loss: 1.7259 - val_accuracy: 0.5020\n",
      "Epoch 5/50\n",
      "136/136 [==============================] - 1s 8ms/step - loss: 0.1444 - accuracy: 0.9703 - val_loss: 1.8620 - val_accuracy: 0.4970\n",
      "Epoch 6/50\n",
      "136/136 [==============================] - 1s 8ms/step - loss: 0.1289 - accuracy: 0.9744 - val_loss: 2.0294 - val_accuracy: 0.4954\n"
     ]
    }
   ],
   "source": [
    "model_3 = Sequential([\n",
    "    Embedding(input_dim=len(word_index), output_dim=8, input_length=avg_length_text),\n",
    "    Flatten(),\n",
    "    Dense(8, activation='relu', kernel_regularizer=l2(0.01)),  # L2 regularization\n",
    "    Dropout(0.5),  # Adding dropout\n",
    "    Dense(1, activation='sigmoid')\n",
    "])\n",
    "\n",
    "model_3.compile(optimizer='adam', loss='binary_crossentropy', metrics=['accuracy'])\n",
    "\n",
    "## Decrease patience, allow restore to best weights during patience\n",
    "early_stopping = EarlyStopping(monitor='val_loss', patience=5, restore_best_weights=True)\n",
    "\n",
    "history_3 = model_3.fit(X_train_pad, y_train, epochs=50, batch_size=200, validation_data=(X_val_pad, y_test), callbacks=[early_stopping])"
   ]
  },
  {
   "cell_type": "code",
   "execution_count": 24,
   "id": "3d3a8318",
   "metadata": {},
   "outputs": [
    {
     "name": "stdout",
     "output_type": "stream",
     "text": [
      "Final Training Loss: 0.12894344329833984\n",
      "Final Training Accuracy: 0.9743902683258057\n",
      "Final Validation Loss: 2.029386520385742\n",
      "Final Validation Accuracy: 0.49543026089668274\n"
     ]
    }
   ],
   "source": [
    "final_train_loss_3 = history_3.history['loss'][-1]\n",
    "final_train_accuracy_3 = history_3.history['accuracy'][-1]\n",
    "\n",
    "final_val_loss_3 = history_3.history['val_loss'][-1]\n",
    "final_val_accuracy_3 = history_3.history['val_accuracy'][-1]\n",
    "\n",
    "print(\"Final Training Loss:\", final_train_loss_3)\n",
    "print(\"Final Training Accuracy:\", final_train_accuracy_3)\n",
    "print(\"Final Validation Loss:\", final_val_loss_3)\n",
    "print(\"Final Validation Accuracy:\", final_val_accuracy_3)\n"
   ]
  },
  {
   "cell_type": "code",
   "execution_count": 25,
   "id": "a72b28b2",
   "metadata": {},
   "outputs": [
    {
     "data": {
      "image/png": "[encoded data removed]",
      "text/plain": [
       "<Figure size 640x480 with 1 Axes>"
      ]
     },
     "metadata": {},
     "output_type": "display_data"
    }
   ],
   "source": [
    "# Plot the training and validation loss\n",
    "plt.plot(history_3.history['loss'], label='Train Loss')\n",
    "plt.plot(history_3.history['val_loss'], label='Validation Loss')\n",
    "plt.title('Training and Validation Loss')\n",
    "plt.xlabel('Epoch')\n",
    "plt.ylabel('Loss')\n",
    "plt.legend()\n",
    "plt.show()"
   ]
  },
  {
   "cell_type": "markdown",
   "id": "73061a9b",
   "metadata": {},
   "source": [
    "---"
   ]
  },
  {
   "cell_type": "markdown",
   "id": "c2a6aa81",
   "metadata": {},
   "source": [
    "## New Texts on Both Models"
   ]
  },
  {
   "cell_type": "code",
   "execution_count": 26,
   "id": "afe709c1",
   "metadata": {},
   "outputs": [],
   "source": [
    "bbc_snippet = \"\"\"The UK faces another five years of high interest rates to stem rising prices, an influential global group has warned.\n",
    "The International Monetary Fund expects the UK to have the highest inflation and slowest growth next year of any G7 economy including the US, France, Germany, Canada, Italy and Japan.\n",
    "However, the Treasury said recent revisions to UK growth had not been factored in to the IMF's report.\n",
    "The outlook was drawn up before this weekend's developments in Israel.\n",
    "Forecasts are never perfect given the many factors that affect economic growth - from geopolitics to the weather. But such reports can point in the right direction, especially where they align with other forecasts.\n",
    "The IMF, an international organisation with 190 member countries, has said the forecasts it makes for growth the following year in most advanced economies have, more often than not, been within about 1.5 percentage points of what actually happens.\n",
    "In July last year, it forecast that the UK economy would grow by 3.2% in 2022. It revised that upwards to 4.1% at the start of this year.\n",
    "But official UK figures released last month estimated that the country's economy actually expanded by 4.3% in 2022.\n",
    "According to the IMF's latest forecast which it produces every six months, it expects the UK to grow more quickly than Germany in 2023, keeping the UK out of bottom place for growth among the G7.\n",
    "But it downgraded the UK's prospects for growth next year, estimating the economy will grow by 0.6%, making it the slowest growing developed country in 2024 - widely predicted to be a general election year.\"\"\"\n"
   ]
  },
  {
   "cell_type": "code",
   "execution_count": 27,
   "id": "e4c36820",
   "metadata": {},
   "outputs": [],
   "source": [
    "theonion_snippet = \"\"\"Claiming they had already made up their minds, area man Karl Wooley told reporters Tuesday \n",
    "that he felt like the bystanders who were urging him to put his gun down were arguing in bad faith. “If I’m being \n",
    "honest, it sort of feels like these onlookers are only thinking of themselves when they tell me to drop my pistol,” said Wooley, who observed that no one had even asked him to explain his reasoning for shouting at the top of his lungs and waving around a semiautomatic firearm. “Truth be told, they poisoned the well the second they tried to tackle me and forcibly rip the gun from my hands. But the worst part is how condescending they are—saying things like, ‘Hey, buddy, you don’t really want to do this.’ Maybe if they’d bothered to find out where I’m coming from and what my thoughts on the matter are, they’d know this is exactly what I want to be doing.” At press time, Wooley was reportedly shaking his head at how disrespectful his victims had become when they began resorting to ad hominem attacks like “You’re a monster” as he shot them to death.\"\"\""
   ]
  },
  {
   "cell_type": "code",
   "execution_count": 33,
   "id": "cac7786a",
   "metadata": {},
   "outputs": [
    {
     "name": "stderr",
     "output_type": "stream",
     "text": [
      "[nltk_data] Downloading package stopwords to /Users/maria/nltk_data...\n",
      "[nltk_data]   Package stopwords is already up-to-date!\n"
     ]
    }
   ],
   "source": [
    "import spacy\n",
    "from spacy.lang.en import English\n",
    "from nltk.corpus import stopwords\n",
    "import nltk\n",
    "import time\n",
    "\n",
    "## download the dictionary for stopwords\n",
    "nltk.download('stopwords')\n",
    "\n",
    "## get the set of stopwords \n",
    "stop_words_set = set(stopwords.words('english'))\n",
    "\n",
    "## Load English tokenizer from spacy\n",
    "nlp = English()\n",
    "spacy_tokenizer = nlp.tokenizer ## make instance \n",
    "\n",
    "## Create function to clean text -- lowercase, remove non alphanumeric, remove stop words\n",
    "def optimized_preprocess(texts): ## Takes in a list of texts, i.e. the entire corpus\n",
    "    result = []\n",
    "    \n",
    "    # Tokenize using spaCy's tokenizer\n",
    "    for text in texts:\n",
    "        tokens = [token.text.lower() for token in spacy_tokenizer(text) if token.text.isalpha() and token.text.lower() not in stop_words_set]\n",
    "        result.append(\" \".join(tokens))\n",
    "    \n",
    "    return result"
   ]
  },
  {
   "cell_type": "code",
   "execution_count": 34,
   "id": "ac56854e",
   "metadata": {},
   "outputs": [],
   "source": [
    "bbc_cleaned = optimized_preprocess([bbc_snippet])\n",
    "theonion_cleaned = optimized_preprocess([theonion_snippet])\n"
   ]
  },
  {
   "cell_type": "code",
   "execution_count": 35,
   "id": "6b577d4c",
   "metadata": {},
   "outputs": [],
   "source": [
    "bbc_seq = tokenizer.texts_to_sequences(bbc_cleaned)\n",
    "theonion_seq = tokenizer.texts_to_sequences(theonion_cleaned)\n"
   ]
  },
  {
   "cell_type": "code",
   "execution_count": 36,
   "id": "eea03de3",
   "metadata": {},
   "outputs": [],
   "source": [
    "bbc_pad = pad_sequences(bbc_seq, maxlen= avg_length_text, padding = 'post', truncating = 'post')\n",
    "theonion_pad = pad_sequences(theonion_seq, maxlen=  avg_length_text, padding = 'post', truncating = 'post')"
   ]
  },
  {
   "cell_type": "code",
   "execution_count": 37,
   "id": "55a5b110",
   "metadata": {},
   "outputs": [
    {
     "name": "stdout",
     "output_type": "stream",
     "text": [
      "1/1 [==============================] - 1s 723ms/step\n",
      "[[0.19515367]]\n",
      "1/1 [==============================] - 0s 23ms/step\n",
      "[[0.8288021]]\n",
      "\n",
      "\n",
      " ======================= \n",
      "\n",
      "\n",
      "1/1 [==============================] - 0s 239ms/step\n",
      "[[0.0300051]]\n",
      "1/1 [==============================] - 0s 29ms/step\n",
      "[[0.89842373]]\n"
     ]
    }
   ],
   "source": [
    "print(model_3.predict(bbc_pad))\n",
    "print(model_3.predict(theonion_pad))\n",
    "\n",
    "print('\\n\\n ======================= \\n\\n')\n",
    "\n",
    "print(model_rnn.predict(bbc_pad))\n",
    "print(model_rnn.predict(theonion_pad))\n"
   ]
  },
  {
   "cell_type": "code",
   "execution_count": null,
   "id": "1caac74f",
   "metadata": {},
   "outputs": [],
   "source": []
  }
 ],
 "metadata": {
  "kernelspec": {
   "display_name": "Python 3 (ipykernel)",
   "language": "python",
   "name": "python3"
  },
  "language_info": {
   "codemirror_mode": {
    "name": "ipython",
    "version": 3
   },
   "file_extension": ".py",
   "mimetype": "text/x-python",
   "name": "python",
   "nbconvert_exporter": "python",
   "pygments_lexer": "ipython3",
   "version": "3.10.6"
  },
  "toc": {
   "base_numbering": 1,
   "nav_menu": {},
   "number_sections": true,
   "sideBar": true,
   "skip_h1_title": false,
   "title_cell": "Table of Contents",
   "title_sidebar": "Contents",
   "toc_cell": false,
   "toc_position": {},
   "toc_section_display": true,
   "toc_window_display": false
  },
  "varInspector": {
   "cols": {
    "lenName": 16,
    "lenType": 16,
    "lenVar": 40
   },
   "kernels_config": {
    "python": {
     "delete_cmd_postfix": "",
     "delete_cmd_prefix": "del ",
     "library": "var_list.py",
     "varRefreshCmd": "print(var_dic_list())"
    },
    "r": {
     "delete_cmd_postfix": ") ",
     "delete_cmd_prefix": "rm(",
     "library": "var_list.r",
     "varRefreshCmd": "cat(var_dic_list()) "
    }
   },
   "types_to_exclude": [
    "module",
    "function",
    "builtin_function_or_method",
    "instance",
    "_Feature"
   ],
   "window_display": false
  }
 },
 "nbformat": 4,
 "nbformat_minor": 5
}
