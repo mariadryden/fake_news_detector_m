{
 "cells": [
  {
   "cell_type": "markdown",
   "id": "825937f4",
   "metadata": {},
   "source": [
    "# Baseline DL Model"
   ]
  },
  {
   "cell_type": "code",
   "execution_count": 9,
   "id": "93bc1da2",
   "metadata": {},
   "outputs": [],
   "source": [
    "import pandas as pd\n",
    "import matplotlib.pyplot as plt\n",
    "from sklearn.model_selection import train_test_split\n",
    "from keras.preprocessing.text import Tokenizer\n",
    "from keras.utils import pad_sequences\n",
    "from keras.models import Sequential\n",
    "from keras.layers import Embedding, LSTM, Dense, Dropout\n",
    "from tensorflow.keras.regularizers import l2"
   ]
  },
  {
   "cell_type": "markdown",
   "id": "9482769d",
   "metadata": {},
   "source": [
    "## Loading Data"
   ]
  },
  {
   "cell_type": "code",
   "execution_count": 2,
   "id": "c01fd713",
   "metadata": {},
   "outputs": [
    {
     "data": {
      "text/html": [
       "<div>\n",
       "<style scoped>\n",
       "    .dataframe tbody tr th:only-of-type {\n",
       "        vertical-align: middle;\n",
       "    }\n",
       "\n",
       "    .dataframe tbody tr th {\n",
       "        vertical-align: top;\n",
       "    }\n",
       "\n",
       "    .dataframe thead th {\n",
       "        text-align: right;\n",
       "    }\n",
       "</style>\n",
       "<table border=\"1\" class=\"dataframe\">\n",
       "  <thead>\n",
       "    <tr style=\"text-align: right;\">\n",
       "      <th></th>\n",
       "      <th>text</th>\n",
       "      <th>is_fake</th>\n",
       "    </tr>\n",
       "  </thead>\n",
       "  <tbody>\n",
       "    <tr>\n",
       "      <th>0</th>\n",
       "      <td>Donald Trump just couldn t wish all Americans ...</td>\n",
       "      <td>1</td>\n",
       "    </tr>\n",
       "    <tr>\n",
       "      <th>1</th>\n",
       "      <td>House Intelligence Committee Chairman Devin Nu...</td>\n",
       "      <td>1</td>\n",
       "    </tr>\n",
       "    <tr>\n",
       "      <th>2</th>\n",
       "      <td>On Friday, it was revealed that former Milwauk...</td>\n",
       "      <td>1</td>\n",
       "    </tr>\n",
       "    <tr>\n",
       "      <th>3</th>\n",
       "      <td>On Christmas day, Donald Trump announced that ...</td>\n",
       "      <td>1</td>\n",
       "    </tr>\n",
       "    <tr>\n",
       "      <th>4</th>\n",
       "      <td>Pope Francis used his annual Christmas Day mes...</td>\n",
       "      <td>1</td>\n",
       "    </tr>\n",
       "    <tr>\n",
       "      <th>...</th>\n",
       "      <td>...</td>\n",
       "      <td>...</td>\n",
       "    </tr>\n",
       "    <tr>\n",
       "      <th>38653</th>\n",
       "      <td>NATO allies on Tuesday welcomed President Dona...</td>\n",
       "      <td>0</td>\n",
       "    </tr>\n",
       "    <tr>\n",
       "      <th>38654</th>\n",
       "      <td>LexisNexis, a provider of legal, regulatory an...</td>\n",
       "      <td>0</td>\n",
       "    </tr>\n",
       "    <tr>\n",
       "      <th>38655</th>\n",
       "      <td>In the shadow of disused Soviet-era factories ...</td>\n",
       "      <td>0</td>\n",
       "    </tr>\n",
       "    <tr>\n",
       "      <th>38656</th>\n",
       "      <td>Vatican Secretary of State Cardinal Pietro Par...</td>\n",
       "      <td>0</td>\n",
       "    </tr>\n",
       "    <tr>\n",
       "      <th>38657</th>\n",
       "      <td>Indonesia will buy 11 Sukhoi fighter jets wort...</td>\n",
       "      <td>0</td>\n",
       "    </tr>\n",
       "  </tbody>\n",
       "</table>\n",
       "<p>38658 rows × 2 columns</p>\n",
       "</div>"
      ],
      "text/plain": [
       "                                                    text  is_fake\n",
       "0      Donald Trump just couldn t wish all Americans ...        1\n",
       "1      House Intelligence Committee Chairman Devin Nu...        1\n",
       "2      On Friday, it was revealed that former Milwauk...        1\n",
       "3      On Christmas day, Donald Trump announced that ...        1\n",
       "4      Pope Francis used his annual Christmas Day mes...        1\n",
       "...                                                  ...      ...\n",
       "38653  NATO allies on Tuesday welcomed President Dona...        0\n",
       "38654  LexisNexis, a provider of legal, regulatory an...        0\n",
       "38655  In the shadow of disused Soviet-era factories ...        0\n",
       "38656  Vatican Secretary of State Cardinal Pietro Par...        0\n",
       "38657  Indonesia will buy 11 Sukhoi fighter jets wort...        0\n",
       "\n",
       "[38658 rows x 2 columns]"
      ]
     },
     "execution_count": 2,
     "metadata": {},
     "output_type": "execute_result"
    }
   ],
   "source": [
    "data = pd.read_csv('../raw_data/merged_data.csv')\n",
    "data"
   ]
  },
  {
   "cell_type": "markdown",
   "id": "624fd51c",
   "metadata": {},
   "source": [
    "## Preprocessing Data"
   ]
  },
  {
   "cell_type": "code",
   "execution_count": 3,
   "id": "cbe55b14",
   "metadata": {},
   "outputs": [],
   "source": [
    "import string\n",
    "from nltk.tokenize import word_tokenize\n",
    "from nltk.corpus import stopwords\n",
    "from nltk.stem import WordNetLemmatizer\n",
    "\n",
    "def cleaning(sentence):\n",
    "    \n",
    "    # Basic cleaning\n",
    "    sentence = sentence.strip() ## remove whitespaces\n",
    "    sentence = sentence.lower() ## lowercase \n",
    "    sentence = ''.join(char for char in sentence if not char.isdigit()) ## remove numbers\n",
    "    \n",
    "    # Advanced cleaning\n",
    "    for punctuation in string.punctuation:\n",
    "        sentence = sentence.replace(punctuation, '') ## remove punctuation\n",
    "    \n",
    "    tokenized_sentence = word_tokenize(sentence) ## tokenize \n",
    "    stop_words = set(stopwords.words('english')) ## define stopwords\n",
    "    \n",
    "    tokenized_sentence_cleaned = [ ## remove stopwords\n",
    "        w for w in tokenized_sentence if not w in stop_words\n",
    "    ]\n",
    "\n",
    "    lemmatized = [\n",
    "        WordNetLemmatizer().lemmatize(word, pos = \"v\") \n",
    "        for word in tokenized_sentence_cleaned\n",
    "    ]\n",
    "    \n",
    "    cleaned_sentence = ' '.join(word for word in lemmatized)\n",
    "    \n",
    "    return cleaned_sentence"
   ]
  },
  {
   "cell_type": "markdown",
   "id": "ff6f7dd0",
   "metadata": {},
   "source": [
    "### Create new column with clean text"
   ]
  },
  {
   "cell_type": "code",
   "execution_count": 4,
   "id": "9e3a27ac",
   "metadata": {},
   "outputs": [
    {
     "name": "stdout",
     "output_type": "stream",
     "text": [
      "CPU times: user 1min 58s, sys: 3.22 s, total: 2min 1s\n",
      "Wall time: 2min 2s\n"
     ]
    },
    {
     "data": {
      "text/html": [
       "<div>\n",
       "<style scoped>\n",
       "    .dataframe tbody tr th:only-of-type {\n",
       "        vertical-align: middle;\n",
       "    }\n",
       "\n",
       "    .dataframe tbody tr th {\n",
       "        vertical-align: top;\n",
       "    }\n",
       "\n",
       "    .dataframe thead th {\n",
       "        text-align: right;\n",
       "    }\n",
       "</style>\n",
       "<table border=\"1\" class=\"dataframe\">\n",
       "  <thead>\n",
       "    <tr style=\"text-align: right;\">\n",
       "      <th></th>\n",
       "      <th>text</th>\n",
       "      <th>is_fake</th>\n",
       "      <th>text_clean</th>\n",
       "    </tr>\n",
       "  </thead>\n",
       "  <tbody>\n",
       "    <tr>\n",
       "      <th>0</th>\n",
       "      <td>Donald Trump just couldn t wish all Americans ...</td>\n",
       "      <td>1</td>\n",
       "      <td>donald trump wish americans happy new year lea...</td>\n",
       "    </tr>\n",
       "    <tr>\n",
       "      <th>1</th>\n",
       "      <td>House Intelligence Committee Chairman Devin Nu...</td>\n",
       "      <td>1</td>\n",
       "      <td>house intelligence committee chairman devin nu...</td>\n",
       "    </tr>\n",
       "    <tr>\n",
       "      <th>2</th>\n",
       "      <td>On Friday, it was revealed that former Milwauk...</td>\n",
       "      <td>1</td>\n",
       "      <td>friday reveal former milwaukee sheriff david c...</td>\n",
       "    </tr>\n",
       "    <tr>\n",
       "      <th>3</th>\n",
       "      <td>On Christmas day, Donald Trump announced that ...</td>\n",
       "      <td>1</td>\n",
       "      <td>christmas day donald trump announce would back...</td>\n",
       "    </tr>\n",
       "    <tr>\n",
       "      <th>4</th>\n",
       "      <td>Pope Francis used his annual Christmas Day mes...</td>\n",
       "      <td>1</td>\n",
       "      <td>pope francis use annual christmas day message ...</td>\n",
       "    </tr>\n",
       "    <tr>\n",
       "      <th>...</th>\n",
       "      <td>...</td>\n",
       "      <td>...</td>\n",
       "      <td>...</td>\n",
       "    </tr>\n",
       "    <tr>\n",
       "      <th>38653</th>\n",
       "      <td>NATO allies on Tuesday welcomed President Dona...</td>\n",
       "      <td>0</td>\n",
       "      <td>nato ally tuesday welcome president donald tru...</td>\n",
       "    </tr>\n",
       "    <tr>\n",
       "      <th>38654</th>\n",
       "      <td>LexisNexis, a provider of legal, regulatory an...</td>\n",
       "      <td>0</td>\n",
       "      <td>lexisnexis provider legal regulatory business ...</td>\n",
       "    </tr>\n",
       "    <tr>\n",
       "      <th>38655</th>\n",
       "      <td>In the shadow of disused Soviet-era factories ...</td>\n",
       "      <td>0</td>\n",
       "      <td>shadow disused sovietera factories minsk stree...</td>\n",
       "    </tr>\n",
       "    <tr>\n",
       "      <th>38656</th>\n",
       "      <td>Vatican Secretary of State Cardinal Pietro Par...</td>\n",
       "      <td>0</td>\n",
       "      <td>vatican secretary state cardinal pietro paroli...</td>\n",
       "    </tr>\n",
       "    <tr>\n",
       "      <th>38657</th>\n",
       "      <td>Indonesia will buy 11 Sukhoi fighter jets wort...</td>\n",
       "      <td>0</td>\n",
       "      <td>indonesia buy sukhoi fighter jet worth billion...</td>\n",
       "    </tr>\n",
       "  </tbody>\n",
       "</table>\n",
       "<p>38658 rows × 3 columns</p>\n",
       "</div>"
      ],
      "text/plain": [
       "                                                    text  is_fake  \\\n",
       "0      Donald Trump just couldn t wish all Americans ...        1   \n",
       "1      House Intelligence Committee Chairman Devin Nu...        1   \n",
       "2      On Friday, it was revealed that former Milwauk...        1   \n",
       "3      On Christmas day, Donald Trump announced that ...        1   \n",
       "4      Pope Francis used his annual Christmas Day mes...        1   \n",
       "...                                                  ...      ...   \n",
       "38653  NATO allies on Tuesday welcomed President Dona...        0   \n",
       "38654  LexisNexis, a provider of legal, regulatory an...        0   \n",
       "38655  In the shadow of disused Soviet-era factories ...        0   \n",
       "38656  Vatican Secretary of State Cardinal Pietro Par...        0   \n",
       "38657  Indonesia will buy 11 Sukhoi fighter jets wort...        0   \n",
       "\n",
       "                                              text_clean  \n",
       "0      donald trump wish americans happy new year lea...  \n",
       "1      house intelligence committee chairman devin nu...  \n",
       "2      friday reveal former milwaukee sheriff david c...  \n",
       "3      christmas day donald trump announce would back...  \n",
       "4      pope francis use annual christmas day message ...  \n",
       "...                                                  ...  \n",
       "38653  nato ally tuesday welcome president donald tru...  \n",
       "38654  lexisnexis provider legal regulatory business ...  \n",
       "38655  shadow disused sovietera factories minsk stree...  \n",
       "38656  vatican secretary state cardinal pietro paroli...  \n",
       "38657  indonesia buy sukhoi fighter jet worth billion...  \n",
       "\n",
       "[38658 rows x 3 columns]"
      ]
     },
     "execution_count": 4,
     "metadata": {},
     "output_type": "execute_result"
    }
   ],
   "source": [
    "%%time\n",
    "\n",
    "data['text_clean'] = data['text'].apply(cleaning)\n",
    "data"
   ]
  },
  {
   "cell_type": "markdown",
   "id": "577936ff",
   "metadata": {},
   "source": [
    "### Features and Target"
   ]
  },
  {
   "cell_type": "code",
   "execution_count": 5,
   "id": "45acc51a",
   "metadata": {},
   "outputs": [],
   "source": [
    "X = data.text_clean\n",
    "y = data.is_fake"
   ]
  },
  {
   "cell_type": "markdown",
   "id": "f25e3cb7",
   "metadata": {},
   "source": [
    "## Training Data"
   ]
  },
  {
   "cell_type": "markdown",
   "id": "943c0152",
   "metadata": {},
   "source": [
    "### Train Validation Test Split"
   ]
  },
  {
   "cell_type": "code",
   "execution_count": 6,
   "id": "b1daef5c",
   "metadata": {},
   "outputs": [],
   "source": [
    "# Perform a 70:30 split for the initial training set and temporary set\n",
    "X_train, X_temp, y_train, y_temp = train_test_split(X, y, test_size=0.3, random_state=42)\n",
    "\n",
    "# Further split the temporary set into validation (50%) and test (50%)\n",
    "X_val, X_test, y_val, y_test = train_test_split(X_temp, y_temp, test_size=0.5, random_state=42)"
   ]
  },
  {
   "cell_type": "markdown",
   "id": "6252e709",
   "metadata": {},
   "source": [
    "### Tokenize + Pad Data"
   ]
  },
  {
   "cell_type": "code",
   "execution_count": 7,
   "id": "27cf37f3",
   "metadata": {},
   "outputs": [
    {
     "name": "stdout",
     "output_type": "stream",
     "text": [
      "CPU times: user 13.8 s, sys: 186 ms, total: 14 s\n",
      "Wall time: 14 s\n"
     ]
    }
   ],
   "source": [
    "%%time\n",
    "# max_words = 10000  \n",
    "# max_sequence_length = 500  \n",
    "\n",
    "# Initialize the tokenizer and fit it on the training data\n",
    "tokenizer = Tokenizer()\n",
    "tokenizer.fit_on_texts(X_train)\n",
    "\n",
    "# Convert text data to sequences of integers\n",
    "X_train_sequences = tokenizer.texts_to_sequences(X_train)\n",
    "X_val_sequences = tokenizer.texts_to_sequences(X_val)\n",
    "X_test_sequences = tokenizer.texts_to_sequences(X_test)\n",
    "\n",
    "# Pad sequences to ensure uniform length\n",
    "max_sequence_length = 500\n",
    "\n",
    "X_train_padded = pad_sequences(X_train_sequences, maxlen=max_sequence_length, padding='pre')\n",
    "X_val_padded = pad_sequences(X_val_sequences, maxlen=max_sequence_length, padding='pre')\n",
    "X_test_padded = pad_sequences(X_test_sequences, maxlen=max_sequence_length, padding='pre')"
   ]
  },
  {
   "cell_type": "markdown",
   "id": "69cddb91",
   "metadata": {},
   "source": [
    "### Define, Compile, Train Model"
   ]
  },
  {
   "cell_type": "code",
   "execution_count": 13,
   "id": "063b75f2",
   "metadata": {},
   "outputs": [
    {
     "name": "stdout",
     "output_type": "stream",
     "text": [
      "CPU times: user 488 ms, sys: 97.7 ms, total: 586 ms\n",
      "Wall time: 449 ms\n"
     ]
    }
   ],
   "source": [
    "%%time\n",
    "\n",
    "# Define the RNN model\n",
    "embedding_dim = 50 \n",
    "vocab_size = len(tokenizer.word_index) + 1  # Add 1 for the zero-padding index\n",
    "dropout_rate = 0.2\n",
    "l2_strength = 1e-4\n",
    "\n",
    "model = Sequential()\n",
    "model.add(Embedding(input_dim=vocab_size, output_dim=embedding_dim, input_length=max_sequence_length))\n",
    "model.add(LSTM(2, kernel_regularizer=l2(l2_strength)))  # L2 regularization added\n",
    "model.add(Dropout(dropout_rate))  # Dropout regularization added\n",
    "model.add(Dense(1, activation='sigmoid'))"
   ]
  },
  {
   "cell_type": "code",
   "execution_count": 14,
   "id": "25bd4375",
   "metadata": {},
   "outputs": [],
   "source": [
    "# Compile the model\n",
    "model.compile(optimizer='adam', loss='binary_crossentropy', metrics=['accuracy'])"
   ]
  },
  {
   "cell_type": "code",
   "execution_count": 15,
   "id": "3481e8d4",
   "metadata": {
    "scrolled": true
   },
   "outputs": [
    {
     "name": "stdout",
     "output_type": "stream",
     "text": [
      "Epoch 1/5\n",
      "846/846 [==============================] - 140s 162ms/step - loss: 0.3743 - accuracy: 0.9334 - val_loss: 0.1923 - val_accuracy: 0.9736\n",
      "Epoch 2/5\n",
      "846/846 [==============================] - 138s 164ms/step - loss: 0.1714 - accuracy: 0.9630 - val_loss: 0.1258 - val_accuracy: 0.9752\n",
      "Epoch 3/5\n",
      "846/846 [==============================] - 140s 165ms/step - loss: 0.1158 - accuracy: 0.9713 - val_loss: 0.0882 - val_accuracy: 0.9819\n",
      "Epoch 4/5\n",
      "846/846 [==============================] - 139s 165ms/step - loss: 0.0858 - accuracy: 0.9752 - val_loss: 0.0807 - val_accuracy: 0.9819\n",
      "Epoch 5/5\n",
      "846/846 [==============================] - 139s 164ms/step - loss: 0.0770 - accuracy: 0.9755 - val_loss: 0.0909 - val_accuracy: 0.9755\n",
      "CPU times: user 31min 13s, sys: 5min 48s, total: 37min 2s\n",
      "Wall time: 11min 36s\n"
     ]
    }
   ],
   "source": [
    "%%time\n",
    "\n",
    "# Train the model\n",
    "epochs = 5  \n",
    "\n",
    "history = model.fit(X_train_padded, y_train, epochs=epochs, validation_data=(X_val_padded, y_val))"
   ]
  },
  {
   "cell_type": "markdown",
   "id": "4547784c",
   "metadata": {},
   "source": [
    "## Evaluate Model on Test Data"
   ]
  },
  {
   "cell_type": "code",
   "execution_count": 16,
   "id": "c883fd52",
   "metadata": {},
   "outputs": [
    {
     "name": "stdout",
     "output_type": "stream",
     "text": [
      "182/182 [==============================] - 4s 21ms/step - loss: 0.0957 - accuracy: 0.9731\n"
     ]
    }
   ],
   "source": [
    "# Evaluate the model on the test set\n",
    "loss, accuracy = model.evaluate(X_test_padded, y_test)"
   ]
  },
  {
   "cell_type": "code",
   "execution_count": 17,
   "id": "f3aacc04",
   "metadata": {},
   "outputs": [
    {
     "name": "stdout",
     "output_type": "stream",
     "text": [
      "182/182 [==============================] - 4s 20ms/step\n"
     ]
    }
   ],
   "source": [
    "# Make predictions on the test set\n",
    "predictions = model.predict(X_test_padded)\n",
    "\n",
    "# Convert probabilities to class labels (0 or 1 for binary classification)\n",
    "predicted_labels = (predictions > 0.5).astype(int)"
   ]
  },
  {
   "cell_type": "code",
   "execution_count": 18,
   "id": "d8ec7bf5",
   "metadata": {},
   "outputs": [
    {
     "name": "stdout",
     "output_type": "stream",
     "text": [
      "\n",
      "Classification Report:\n",
      "              precision    recall  f1-score   support\n",
      "\n",
      "           0       0.97      0.98      0.98      3209\n",
      "           1       0.97      0.97      0.97      2590\n",
      "\n",
      "    accuracy                           0.97      5799\n",
      "   macro avg       0.97      0.97      0.97      5799\n",
      "weighted avg       0.97      0.97      0.97      5799\n",
      "\n",
      "\n",
      "Confusion Matrix:\n",
      "[[3136   73]\n",
      " [  83 2507]]\n"
     ]
    }
   ],
   "source": [
    "from sklearn.metrics import classification_report, confusion_matrix\n",
    "\n",
    "# Display classification report and confusion matrix\n",
    "print(\"\\nClassification Report:\")\n",
    "print(classification_report(y_test, predicted_labels))\n",
    "\n",
    "print(\"\\nConfusion Matrix:\")\n",
    "print(confusion_matrix(y_test, predicted_labels))"
   ]
  },
  {
   "cell_type": "markdown",
   "id": "74a1c37a",
   "metadata": {},
   "source": [
    "## History + Learning Curves"
   ]
  },
  {
   "cell_type": "code",
   "execution_count": 19,
   "id": "380e2b35",
   "metadata": {},
   "outputs": [
    {
     "data": {
      "image/png": "[encoded data removed]",
      "text/plain": [
       "<Figure size 640x480 with 1 Axes>"
      ]
     },
     "metadata": {},
     "output_type": "display_data"
    },
    {
     "data": {
      "image/png": "[encoded data removed]",
      "text/plain": [
       "<Figure size 640x480 with 1 Axes>"
      ]
     },
     "metadata": {},
     "output_type": "display_data"
    }
   ],
   "source": [
    "# Plot the training and validation loss\n",
    "plt.plot(history.history['loss'], label='Train Loss')\n",
    "plt.plot(history.history['val_loss'], label='Validation Loss')\n",
    "plt.title('Training and Validation Loss')\n",
    "plt.xlabel('Epoch')\n",
    "plt.ylabel('Loss')\n",
    "plt.legend()\n",
    "plt.show()\n",
    "\n",
    "# Plot the training and validation accuracy\n",
    "plt.plot(history.history['accuracy'], label='Train Accuracy')\n",
    "plt.plot(history.history['val_accuracy'], label='Validation Accuracy')\n",
    "plt.title('Training and Validation Accuracy')\n",
    "plt.xlabel('Epoch')\n",
    "plt.ylabel('Accuracy')\n",
    "plt.legend()\n",
    "plt.show()"
   ]
  },
  {
   "cell_type": "markdown",
   "id": "84e6472d",
   "metadata": {},
   "source": [
    "## New Text Prediction"
   ]
  },
  {
   "cell_type": "code",
   "execution_count": 20,
   "id": "1fac07d1",
   "metadata": {},
   "outputs": [],
   "source": [
    "from keras.models import load_model\n",
    "\n",
    "# Save the trained model to a file\n",
    "model.save('rnn_model_adj.h5')\n",
    "\n",
    "# Load the saved RNN model\n",
    "model = load_model('rnn_model_adj.h5')"
   ]
  },
  {
   "cell_type": "code",
   "execution_count": null,
   "id": "1f3f871f",
   "metadata": {},
   "outputs": [],
   "source": [
    "# New text to classify\n",
    "new_text = '''Former President Donald J. Trump, who has been indicted by federal prosecutors for conspiracy to defraud the United States in connection with a plot to overturn the 2020 election, repeatedly claimed to supporters in Iowa on Saturday that it was President Biden who posed a severe threat to American democracy.\n",
    "\n",
    "While Mr. Trump shattered democratic norms throughout his presidency and has faced voter concerns that he would do so again in a second term, the former president in his speech repeatedly accused Mr. Biden of corrupting politics and waging a repressive “all-out war” on America.\n",
    "\n",
    "”Joe Biden is not the defender of American democracy,” he said. “Joe Biden is the destroyer of American democracy.”\n",
    "\n",
    "Mr. Trump has made similar attacks on Mr. Biden a staple of his speeches in Iowa and elsewhere. He frequently accuses the president broadly of corruption and of weaponizing the Justice Department to influence the 2024 election.\n",
    "\n",
    "But in his second of two Iowa speeches on Saturday, held at a community college gym in Cedar Rapids, Mr. Trump sharpened that line of attack, suggesting a more concerted effort by his campaign to defend against accusations that Mr. Trump has an anti-democratic bent — by going on offense.\n",
    "\n",
    "Polls have shown that significant percentages of voters in both parties are concerned about threats to democracy. During the midterm elections, candidates who embraced Mr. Trump’s lie that the 2020 election was stolen from him were defeated, even in races in which voters did not rank “democracy” as a top concern.\n",
    "\n",
    "Mr. Biden’s re-election campaign has frequently attacked Mr. Trump along those lines. In recent weeks, Biden aides and allies have called attention to news reports about plans being made by Mr. Trump and his allies that would undermine central elements of American democracy, governing and the rule of law.\n",
    "\n",
    "Mr. Trump and his campaign have sought to dismiss such concerns as a concoction to scare voters. But on Saturday, they tried to turn the Biden campaign’s arguments back against the president.\n",
    "\n",
    "At the Cedar Rapids event, aides and volunteers left placards with bold black-and-white lettering reading “Biden attacks democracy” on the seats and bleachers. At the start of Mr. Trump's speech, that message was broadcast on a screen above the stage.\n",
    "\n",
    "Mr. Trump has a history of accusing his opponents of behavior that he himself is guilty of, the political equivalent of a “No, you are” playground retort. In a 2016 debate, when Hillary Clinton accused Mr. Trump of being a Russian puppet, Mr. Trump fired back with “You’re the puppet,” a comment he never explained.\n",
    "\n",
    "Mr. Trump’s accusations against Mr. Biden, which he referenced repeatedly throughout his speech, veered toward the conspiratorial. He claimed the president and his allies were seeking to control Americans’ speech, their behavior on social media and their purchases of cars and dishwashers.\n",
    "\n",
    "Without evidence, he accused Mr. Biden of being behind a nationwide effort to get Mr. Trump removed from the ballot in several states. And, as he has before, he claimed, again without evidence, that Mr. Biden was the mastermind behind the four criminal cases against him.\n",
    "\n",
    "Here, too, Mr. Trump conjured a nefarious-sounding presidential conspiracy, one with dark ramifications for ordinary Americans, not just for the former president being prosecuted. Mr. Biden and his allies “think they can do whatever they want,” Mr. Trump said — “break any law, tell any lie, ruin any life, trash any norm, and get away with anything they want. Anything they want.”\n",
    "\n",
    "Democrats suggested that the former president was projecting again.\n",
    "\n",
    "“Donald Trump’s America in 2025 is one where the government is his personal weapon to lock up his political enemies,” Ammar Moussa, a spokesman for Mr. Biden’s re-election campaign, said in a statement. “You don’t have to take our word for it — Trump has admitted it himself.”\n",
    "\n",
    "Even as he was insisting that Mr. Biden threatens democracy, Mr. Trump underscored his most antidemocratic campaign themes.\n",
    "\n",
    "Having said that he would use the Justice Department to “go after” the Biden family,  on Saturday, he swore that he would “investigate every Marxist prosecutor in America for their illegal, racist-in-reverse enforcement of the law.”\n",
    "\n",
    "Mr. Trump has frequently decried the cases brought him against by Black prosecutors in New York and Atlanta as racist. (He does not apply that charge to the white special counsel in his two federal criminal cases, who he instead calls “deranged.”)\n",
    "\n",
    "Yet Mr. Trump himself has a history of racist statements.\n",
    "\n",
    "At an earlier event on Saturday, where he sought to undermine confidence in election integrity well before the 2024 election, he urged supporters in Ankeny, a predominantly white suburb of Des Moines, to take a closer look at election results next year in Detroit, Philadelphia and Atlanta, three cities with large Black populations in swing states that he lost in 2020.\n",
    "\n",
    "“You should go into some of these places, and we’ve got to watch those votes when they come in,” Mr. Trump said. “When they’re being, you know, shoved around in wheelbarrows and dumped on the floor and everyone’s saying, ‘What’s going on?’\n",
    "\n",
    "“We’re like a third-world nation,” he added.\n",
    "\n",
    "Mr. Trump’s speeches on Saturday reflected how sharply he is focused on the general election rather than the Republican primary contest, in which he holds a commanding lead.\n",
    "\n",
    "With just over six weeks until the Iowa caucus, Mr. Trump dismissed his Republican rivals, mocking them for polling well behind him and denouncing Gov. Ron DeSantis of Florida as disloyal for deciding to run against him.\n",
    "\n",
    "He also attacked Iowa’s Republican governor, Kim Reynolds, for endorsing Mr. DeSantis and suggested her popularity had tumbled after she had spurned Mr. Trump.\n",
    "\n",
    "“You know, with your governor we had an issue,” Mr. Trump said, prompting a chorus of boos.'''\n",
    "\n",
    "# Preprocess the new text using the same tokenizer\n",
    "new_text_sequences = tokenizer.texts_to_sequences([new_text])\n",
    "new_text_padded = pad_sequences(new_text_sequences, maxlen=max_sequence_length)\n",
    "\n",
    "# Make predictions using the loaded RNN model\n",
    "prediction = model.predict(new_text_padded)\n",
    "\n",
    "# Interpret the prediction\n",
    "if prediction[0, 0] >= 0.5:\n",
    "    print(\"The text is classified as fake.\")\n",
    "else:\n",
    "    print(\"The text is classified as real.\")"
   ]
  }
 ],
 "metadata": {
  "kernelspec": {
   "display_name": "Python 3 (ipykernel)",
   "language": "python",
   "name": "python3"
  },
  "language_info": {
   "codemirror_mode": {
    "name": "ipython",
    "version": 3
   },
   "file_extension": ".py",
   "mimetype": "text/x-python",
   "name": "python",
   "nbconvert_exporter": "python",
   "pygments_lexer": "ipython3",
   "version": "3.10.6"
  },
  "toc": {
   "base_numbering": 1,
   "nav_menu": {},
   "number_sections": true,
   "sideBar": true,
   "skip_h1_title": false,
   "title_cell": "Table of Contents",
   "title_sidebar": "Contents",
   "toc_cell": false,
   "toc_position": {},
   "toc_section_display": true,
   "toc_window_display": false
  },
  "varInspector": {
   "cols": {
    "lenName": 16,
    "lenType": 16,
    "lenVar": 40
   },
   "kernels_config": {
    "python": {
     "delete_cmd_postfix": "",
     "delete_cmd_prefix": "del ",
     "library": "var_list.py",
     "varRefreshCmd": "print(var_dic_list())"
    },
    "r": {
     "delete_cmd_postfix": ") ",
     "delete_cmd_prefix": "rm(",
     "library": "var_list.r",
     "varRefreshCmd": "cat(var_dic_list()) "
    }
   },
   "types_to_exclude": [
    "module",
    "function",
    "builtin_function_or_method",
    "instance",
    "_Feature"
   ],
   "window_display": false
  }
 },
 "nbformat": 4,
 "nbformat_minor": 5
}
