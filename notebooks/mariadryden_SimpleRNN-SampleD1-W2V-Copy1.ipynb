{
 "cells": [
  {
   "cell_type": "code",
   "execution_count": 1,
   "id": "91cc2664",
   "metadata": {},
   "outputs": [
    {
     "name": "stderr",
     "output_type": "stream",
     "text": [
      "2023-12-08 13:26:11.860524: I tensorflow/core/platform/cpu_feature_guard.cc:193] This TensorFlow binary is optimized with oneAPI Deep Neural Network Library (oneDNN) to use the following CPU instructions in performance-critical operations:  AVX2 FMA\n",
      "To enable them in other operations, rebuild TensorFlow with the appropriate compiler flags.\n"
     ]
    }
   ],
   "source": [
    "import pandas as pd\n",
    "import numpy as np\n",
    "import matplotlib.pyplot as plt\n",
    "from sklearn.model_selection import train_test_split\n",
    "from tensorflow.keras.preprocessing.text import Tokenizer, text_to_word_sequence\n",
    "from tensorflow.keras.utils import pad_sequences\n",
    "from tensorflow.keras.models import Sequential\n",
    "from tensorflow.keras.layers import Embedding, LSTM, Dense, Dropout, SimpleRNN, Flatten, Masking\n",
    "from tensorflow.keras.regularizers import l2\n",
    "import tensorflow as tf\n",
    "from gensim.models import Word2Vec\n",
    "import seaborn as sns\n",
    "from tensorflow import keras\n",
    "from keras.preprocessing import sequence"
   ]
  },
  {
   "cell_type": "code",
   "execution_count": 2,
   "id": "91f8e66c",
   "metadata": {},
   "outputs": [],
   "source": [
    "np.random.seed(42)\n",
    "tf.random.set_seed(42)"
   ]
  },
  {
   "cell_type": "code",
   "execution_count": 3,
   "id": "3af6af79",
   "metadata": {},
   "outputs": [
    {
     "data": {
      "text/html": [
       "<div>\n",
       "<style scoped>\n",
       "    .dataframe tbody tr th:only-of-type {\n",
       "        vertical-align: middle;\n",
       "    }\n",
       "\n",
       "    .dataframe tbody tr th {\n",
       "        vertical-align: top;\n",
       "    }\n",
       "\n",
       "    .dataframe thead th {\n",
       "        text-align: right;\n",
       "    }\n",
       "</style>\n",
       "<table border=\"1\" class=\"dataframe\">\n",
       "  <thead>\n",
       "    <tr style=\"text-align: right;\">\n",
       "      <th></th>\n",
       "      <th>text</th>\n",
       "      <th>is_fake</th>\n",
       "    </tr>\n",
       "  </thead>\n",
       "  <tbody>\n",
       "    <tr>\n",
       "      <th>0</th>\n",
       "      <td>Donald Trump just couldn t wish all Americans ...</td>\n",
       "      <td>1</td>\n",
       "    </tr>\n",
       "    <tr>\n",
       "      <th>1</th>\n",
       "      <td>House Intelligence Committee Chairman Devin Nu...</td>\n",
       "      <td>1</td>\n",
       "    </tr>\n",
       "    <tr>\n",
       "      <th>2</th>\n",
       "      <td>On Friday, it was revealed that former Milwauk...</td>\n",
       "      <td>1</td>\n",
       "    </tr>\n",
       "    <tr>\n",
       "      <th>3</th>\n",
       "      <td>On Christmas day, Donald Trump announced that ...</td>\n",
       "      <td>1</td>\n",
       "    </tr>\n",
       "    <tr>\n",
       "      <th>4</th>\n",
       "      <td>Pope Francis used his annual Christmas Day mes...</td>\n",
       "      <td>1</td>\n",
       "    </tr>\n",
       "    <tr>\n",
       "      <th>...</th>\n",
       "      <td>...</td>\n",
       "      <td>...</td>\n",
       "    </tr>\n",
       "    <tr>\n",
       "      <th>38653</th>\n",
       "      <td>NATO allies on Tuesday welcomed President Dona...</td>\n",
       "      <td>0</td>\n",
       "    </tr>\n",
       "    <tr>\n",
       "      <th>38654</th>\n",
       "      <td>LexisNexis, a provider of legal, regulatory an...</td>\n",
       "      <td>0</td>\n",
       "    </tr>\n",
       "    <tr>\n",
       "      <th>38655</th>\n",
       "      <td>In the shadow of disused Soviet-era factories ...</td>\n",
       "      <td>0</td>\n",
       "    </tr>\n",
       "    <tr>\n",
       "      <th>38656</th>\n",
       "      <td>Vatican Secretary of State Cardinal Pietro Par...</td>\n",
       "      <td>0</td>\n",
       "    </tr>\n",
       "    <tr>\n",
       "      <th>38657</th>\n",
       "      <td>Indonesia will buy 11 Sukhoi fighter jets wort...</td>\n",
       "      <td>0</td>\n",
       "    </tr>\n",
       "  </tbody>\n",
       "</table>\n",
       "<p>38658 rows × 2 columns</p>\n",
       "</div>"
      ],
      "text/plain": [
       "                                                    text  is_fake\n",
       "0      Donald Trump just couldn t wish all Americans ...        1\n",
       "1      House Intelligence Committee Chairman Devin Nu...        1\n",
       "2      On Friday, it was revealed that former Milwauk...        1\n",
       "3      On Christmas day, Donald Trump announced that ...        1\n",
       "4      Pope Francis used his annual Christmas Day mes...        1\n",
       "...                                                  ...      ...\n",
       "38653  NATO allies on Tuesday welcomed President Dona...        0\n",
       "38654  LexisNexis, a provider of legal, regulatory an...        0\n",
       "38655  In the shadow of disused Soviet-era factories ...        0\n",
       "38656  Vatican Secretary of State Cardinal Pietro Par...        0\n",
       "38657  Indonesia will buy 11 Sukhoi fighter jets wort...        0\n",
       "\n",
       "[38658 rows x 2 columns]"
      ]
     },
     "execution_count": 3,
     "metadata": {},
     "output_type": "execute_result"
    }
   ],
   "source": [
    "data = pd.read_csv('../raw_data/merged_data.csv')\n",
    "data"
   ]
  },
  {
   "cell_type": "code",
   "execution_count": 4,
   "id": "0390721c",
   "metadata": {},
   "outputs": [],
   "source": [
    "import string\n",
    "from nltk.tokenize import word_tokenize\n",
    "from nltk.corpus import stopwords\n",
    "from nltk.stem import WordNetLemmatizer\n",
    "\n",
    "def cleaning(sentence):\n",
    "    \n",
    "    # Basic cleaning\n",
    "    sentence = sentence.strip() ## remove whitespaces\n",
    "    sentence = sentence.lower() ## lowercase \n",
    "    sentence = ''.join(char for char in sentence if not char.isdigit()) ## remove numbers\n",
    "    \n",
    "    # Advanced cleaning\n",
    "    for punctuation in string.punctuation:\n",
    "        sentence = sentence.replace(punctuation, '') ## remove punctuation\n",
    "    \n",
    "    tokenized_sentence = word_tokenize(sentence) ## tokenize \n",
    "    stop_words = set(stopwords.words('english')) ## define stopwords\n",
    "    \n",
    "    tokenized_sentence_cleaned = [ ## remove stopwords\n",
    "        w for w in tokenized_sentence if not w in stop_words\n",
    "    ]\n",
    "\n",
    "    lemmatized = [\n",
    "        WordNetLemmatizer().lemmatize(word, pos = \"v\") \n",
    "        for word in tokenized_sentence_cleaned\n",
    "    ]\n",
    "    \n",
    "    cleaned_sentence = ' '.join(word for word in lemmatized)\n",
    "    \n",
    "    return cleaned_sentence"
   ]
  },
  {
   "cell_type": "code",
   "execution_count": 5,
   "id": "00a2f2ad",
   "metadata": {},
   "outputs": [
    {
     "name": "stdout",
     "output_type": "stream",
     "text": [
      "CPU times: user 1min 52s, sys: 2.41 s, total: 1min 55s\n",
      "Wall time: 1min 55s\n"
     ]
    },
    {
     "data": {
      "text/html": [
       "<div>\n",
       "<style scoped>\n",
       "    .dataframe tbody tr th:only-of-type {\n",
       "        vertical-align: middle;\n",
       "    }\n",
       "\n",
       "    .dataframe tbody tr th {\n",
       "        vertical-align: top;\n",
       "    }\n",
       "\n",
       "    .dataframe thead th {\n",
       "        text-align: right;\n",
       "    }\n",
       "</style>\n",
       "<table border=\"1\" class=\"dataframe\">\n",
       "  <thead>\n",
       "    <tr style=\"text-align: right;\">\n",
       "      <th></th>\n",
       "      <th>text</th>\n",
       "      <th>is_fake</th>\n",
       "      <th>text_clean</th>\n",
       "    </tr>\n",
       "  </thead>\n",
       "  <tbody>\n",
       "    <tr>\n",
       "      <th>0</th>\n",
       "      <td>Donald Trump just couldn t wish all Americans ...</td>\n",
       "      <td>1</td>\n",
       "      <td>donald trump wish americans happy new year lea...</td>\n",
       "    </tr>\n",
       "    <tr>\n",
       "      <th>1</th>\n",
       "      <td>House Intelligence Committee Chairman Devin Nu...</td>\n",
       "      <td>1</td>\n",
       "      <td>house intelligence committee chairman devin nu...</td>\n",
       "    </tr>\n",
       "    <tr>\n",
       "      <th>2</th>\n",
       "      <td>On Friday, it was revealed that former Milwauk...</td>\n",
       "      <td>1</td>\n",
       "      <td>friday reveal former milwaukee sheriff david c...</td>\n",
       "    </tr>\n",
       "    <tr>\n",
       "      <th>3</th>\n",
       "      <td>On Christmas day, Donald Trump announced that ...</td>\n",
       "      <td>1</td>\n",
       "      <td>christmas day donald trump announce would back...</td>\n",
       "    </tr>\n",
       "    <tr>\n",
       "      <th>4</th>\n",
       "      <td>Pope Francis used his annual Christmas Day mes...</td>\n",
       "      <td>1</td>\n",
       "      <td>pope francis use annual christmas day message ...</td>\n",
       "    </tr>\n",
       "    <tr>\n",
       "      <th>...</th>\n",
       "      <td>...</td>\n",
       "      <td>...</td>\n",
       "      <td>...</td>\n",
       "    </tr>\n",
       "    <tr>\n",
       "      <th>38653</th>\n",
       "      <td>NATO allies on Tuesday welcomed President Dona...</td>\n",
       "      <td>0</td>\n",
       "      <td>nato ally tuesday welcome president donald tru...</td>\n",
       "    </tr>\n",
       "    <tr>\n",
       "      <th>38654</th>\n",
       "      <td>LexisNexis, a provider of legal, regulatory an...</td>\n",
       "      <td>0</td>\n",
       "      <td>lexisnexis provider legal regulatory business ...</td>\n",
       "    </tr>\n",
       "    <tr>\n",
       "      <th>38655</th>\n",
       "      <td>In the shadow of disused Soviet-era factories ...</td>\n",
       "      <td>0</td>\n",
       "      <td>shadow disused sovietera factories minsk stree...</td>\n",
       "    </tr>\n",
       "    <tr>\n",
       "      <th>38656</th>\n",
       "      <td>Vatican Secretary of State Cardinal Pietro Par...</td>\n",
       "      <td>0</td>\n",
       "      <td>vatican secretary state cardinal pietro paroli...</td>\n",
       "    </tr>\n",
       "    <tr>\n",
       "      <th>38657</th>\n",
       "      <td>Indonesia will buy 11 Sukhoi fighter jets wort...</td>\n",
       "      <td>0</td>\n",
       "      <td>indonesia buy sukhoi fighter jet worth billion...</td>\n",
       "    </tr>\n",
       "  </tbody>\n",
       "</table>\n",
       "<p>38658 rows × 3 columns</p>\n",
       "</div>"
      ],
      "text/plain": [
       "                                                    text  is_fake  \\\n",
       "0      Donald Trump just couldn t wish all Americans ...        1   \n",
       "1      House Intelligence Committee Chairman Devin Nu...        1   \n",
       "2      On Friday, it was revealed that former Milwauk...        1   \n",
       "3      On Christmas day, Donald Trump announced that ...        1   \n",
       "4      Pope Francis used his annual Christmas Day mes...        1   \n",
       "...                                                  ...      ...   \n",
       "38653  NATO allies on Tuesday welcomed President Dona...        0   \n",
       "38654  LexisNexis, a provider of legal, regulatory an...        0   \n",
       "38655  In the shadow of disused Soviet-era factories ...        0   \n",
       "38656  Vatican Secretary of State Cardinal Pietro Par...        0   \n",
       "38657  Indonesia will buy 11 Sukhoi fighter jets wort...        0   \n",
       "\n",
       "                                              text_clean  \n",
       "0      donald trump wish americans happy new year lea...  \n",
       "1      house intelligence committee chairman devin nu...  \n",
       "2      friday reveal former milwaukee sheriff david c...  \n",
       "3      christmas day donald trump announce would back...  \n",
       "4      pope francis use annual christmas day message ...  \n",
       "...                                                  ...  \n",
       "38653  nato ally tuesday welcome president donald tru...  \n",
       "38654  lexisnexis provider legal regulatory business ...  \n",
       "38655  shadow disused sovietera factories minsk stree...  \n",
       "38656  vatican secretary state cardinal pietro paroli...  \n",
       "38657  indonesia buy sukhoi fighter jet worth billion...  \n",
       "\n",
       "[38658 rows x 3 columns]"
      ]
     },
     "execution_count": 5,
     "metadata": {},
     "output_type": "execute_result"
    }
   ],
   "source": [
    "%%time\n",
    "\n",
    "data['text_clean'] = data['text'].apply(cleaning)\n",
    "data"
   ]
  },
  {
   "cell_type": "code",
   "execution_count": 6,
   "id": "fb87355c",
   "metadata": {},
   "outputs": [],
   "source": [
    "# SAMPLE DATA (10%)\n",
    "\n",
    "sampled_data = data.sample(frac=0.1, random_state=42)"
   ]
  },
  {
   "cell_type": "code",
   "execution_count": 7,
   "id": "ffd049ba",
   "metadata": {},
   "outputs": [
    {
     "data": {
      "text/html": [
       "<div>\n",
       "<style scoped>\n",
       "    .dataframe tbody tr th:only-of-type {\n",
       "        vertical-align: middle;\n",
       "    }\n",
       "\n",
       "    .dataframe tbody tr th {\n",
       "        vertical-align: top;\n",
       "    }\n",
       "\n",
       "    .dataframe thead th {\n",
       "        text-align: right;\n",
       "    }\n",
       "</style>\n",
       "<table border=\"1\" class=\"dataframe\">\n",
       "  <thead>\n",
       "    <tr style=\"text-align: right;\">\n",
       "      <th></th>\n",
       "      <th>text</th>\n",
       "      <th>is_fake</th>\n",
       "      <th>text_clean</th>\n",
       "    </tr>\n",
       "  </thead>\n",
       "  <tbody>\n",
       "    <tr>\n",
       "      <th>2115</th>\n",
       "      <td>Sean Hannity might be one of the most disliked...</td>\n",
       "      <td>1</td>\n",
       "      <td>sean hannity might one dislike people televisi...</td>\n",
       "    </tr>\n",
       "    <tr>\n",
       "      <th>34938</th>\n",
       "      <td>Russia may send more Iskander tactical missile...</td>\n",
       "      <td>0</td>\n",
       "      <td>russia may send iskander tactical missiles kal...</td>\n",
       "    </tr>\n",
       "    <tr>\n",
       "      <th>13252</th>\n",
       "      <td>Ted Cruz has no interest in playing  Mr Nice G...</td>\n",
       "      <td>1</td>\n",
       "      <td>ted cruz interest play mr nice guy obama will ...</td>\n",
       "    </tr>\n",
       "    <tr>\n",
       "      <th>18238</th>\n",
       "      <td>A peace activist who laughed at then U.S. Sena...</td>\n",
       "      <td>0</td>\n",
       "      <td>peace activist laugh us senator jeff sessions ...</td>\n",
       "    </tr>\n",
       "    <tr>\n",
       "      <th>3931</th>\n",
       "      <td>Bill Maher surprisingly thanked Donald Trump o...</td>\n",
       "      <td>1</td>\n",
       "      <td>bill maher surprisingly thank donald trump fri...</td>\n",
       "    </tr>\n",
       "    <tr>\n",
       "      <th>...</th>\n",
       "      <td>...</td>\n",
       "      <td>...</td>\n",
       "      <td>...</td>\n",
       "    </tr>\n",
       "    <tr>\n",
       "      <th>13849</th>\n",
       "      <td>Every parent in the United States of America s...</td>\n",
       "      <td>1</td>\n",
       "      <td>every parent unite state america alarm covert ...</td>\n",
       "    </tr>\n",
       "    <tr>\n",
       "      <th>1959</th>\n",
       "      <td>It was just this morning that Donald Trump onc...</td>\n",
       "      <td>1</td>\n",
       "      <td>morning donald trump try ignore mount failures...</td>\n",
       "    </tr>\n",
       "    <tr>\n",
       "      <th>22220</th>\n",
       "      <td>An overhaul of Fannie Mae and Freddie Mac is h...</td>\n",
       "      <td>0</td>\n",
       "      <td>overhaul fannie mae freddie mac highly unlikel...</td>\n",
       "    </tr>\n",
       "    <tr>\n",
       "      <th>29477</th>\n",
       "      <td>Israeli troops shot dead four Palestinians and...</td>\n",
       "      <td>0</td>\n",
       "      <td>israeli troop shoot dead four palestinians wou...</td>\n",
       "    </tr>\n",
       "    <tr>\n",
       "      <th>36894</th>\n",
       "      <td>The United States hopes to find a diplomatic s...</td>\n",
       "      <td>0</td>\n",
       "      <td>unite state hop find diplomatic solution situa...</td>\n",
       "    </tr>\n",
       "  </tbody>\n",
       "</table>\n",
       "<p>3866 rows × 3 columns</p>\n",
       "</div>"
      ],
      "text/plain": [
       "                                                    text  is_fake  \\\n",
       "2115   Sean Hannity might be one of the most disliked...        1   \n",
       "34938  Russia may send more Iskander tactical missile...        0   \n",
       "13252  Ted Cruz has no interest in playing  Mr Nice G...        1   \n",
       "18238  A peace activist who laughed at then U.S. Sena...        0   \n",
       "3931   Bill Maher surprisingly thanked Donald Trump o...        1   \n",
       "...                                                  ...      ...   \n",
       "13849  Every parent in the United States of America s...        1   \n",
       "1959   It was just this morning that Donald Trump onc...        1   \n",
       "22220  An overhaul of Fannie Mae and Freddie Mac is h...        0   \n",
       "29477  Israeli troops shot dead four Palestinians and...        0   \n",
       "36894  The United States hopes to find a diplomatic s...        0   \n",
       "\n",
       "                                              text_clean  \n",
       "2115   sean hannity might one dislike people televisi...  \n",
       "34938  russia may send iskander tactical missiles kal...  \n",
       "13252  ted cruz interest play mr nice guy obama will ...  \n",
       "18238  peace activist laugh us senator jeff sessions ...  \n",
       "3931   bill maher surprisingly thank donald trump fri...  \n",
       "...                                                  ...  \n",
       "13849  every parent unite state america alarm covert ...  \n",
       "1959   morning donald trump try ignore mount failures...  \n",
       "22220  overhaul fannie mae freddie mac highly unlikel...  \n",
       "29477  israeli troop shoot dead four palestinians wou...  \n",
       "36894  unite state hop find diplomatic solution situa...  \n",
       "\n",
       "[3866 rows x 3 columns]"
      ]
     },
     "execution_count": 7,
     "metadata": {},
     "output_type": "execute_result"
    }
   ],
   "source": [
    "sampled_data"
   ]
  },
  {
   "cell_type": "code",
   "execution_count": 8,
   "id": "2e0d4b02",
   "metadata": {},
   "outputs": [],
   "source": [
    "X = sampled_data.text_clean\n",
    "y = sampled_data.is_fake"
   ]
  },
  {
   "cell_type": "code",
   "execution_count": 9,
   "id": "d0cd92ce",
   "metadata": {},
   "outputs": [],
   "source": [
    "X_train, X_test, y_train, y_test = train_test_split(X, y, test_size= 0.3, random_state=42)"
   ]
  },
  {
   "cell_type": "code",
   "execution_count": 10,
   "id": "a7b91abd",
   "metadata": {},
   "outputs": [],
   "source": [
    "X_train_split = [text_to_word_sequence(t) for t in X_train]\n",
    "X_test_split = [text_to_word_sequence(t) for t in X_test]"
   ]
  },
  {
   "cell_type": "code",
   "execution_count": 11,
   "id": "62167a7e",
   "metadata": {},
   "outputs": [
    {
     "data": {
      "text/plain": [
       "2706"
      ]
     },
     "execution_count": 11,
     "metadata": {},
     "output_type": "execute_result"
    }
   ],
   "source": [
    "len(X_train_split)"
   ]
  },
  {
   "cell_type": "code",
   "execution_count": 12,
   "id": "03ff167f",
   "metadata": {},
   "outputs": [],
   "source": [
    "w2v = Word2Vec(sentences = X_train_split, vector_size=100, window=5)\n",
    "word = w2v.wv"
   ]
  },
  {
   "cell_type": "code",
   "execution_count": 13,
   "id": "f9a7153b",
   "metadata": {},
   "outputs": [
    {
     "data": {
      "text/plain": [
       "array([-0.1625599 ,  0.6900947 ,  0.22989495, -0.38370535,  0.04752425,\n",
       "       -0.89518625,  0.29000184,  1.068913  , -0.28827974, -0.52222157,\n",
       "       -0.06355166, -0.10041676, -0.20491773, -0.8651655 ,  0.57219154,\n",
       "       -0.78367245, -0.15421157, -0.11054635, -0.68227327, -1.1804484 ,\n",
       "       -0.05055515, -0.2426553 ,  0.585447  , -0.31788802, -0.31998324,\n",
       "        0.05882979, -0.251647  , -0.15910387, -0.27351832,  0.85664266,\n",
       "        0.11273094, -0.9835563 ,  0.6976711 , -0.55502915,  0.80479884,\n",
       "        0.7973259 ,  0.08288448,  0.3307014 , -0.26248345,  0.83879644,\n",
       "        0.43389833, -0.5131819 , -0.89088196,  0.14852779,  0.37651554,\n",
       "       -0.9484632 , -0.29344237,  0.6374557 , -0.37461516,  0.6828716 ,\n",
       "        0.24995264, -0.22418827, -0.14617044,  0.09045821,  0.21639132,\n",
       "        0.48176676,  0.31801182, -0.03975176,  0.01969865,  1.0469339 ,\n",
       "       -0.04285575, -0.5397036 ,  0.4260556 , -0.14810114, -0.4470834 ,\n",
       "        0.710608  ,  0.5465958 ,  0.3585177 , -0.37824208,  0.5922489 ,\n",
       "       -0.93778604, -0.05051012,  1.1327106 ,  0.07717788,  0.1043091 ,\n",
       "        0.7902693 ,  0.05261156, -0.621073  ,  0.14066358, -0.10241017,\n",
       "       -0.8106764 ,  0.19702253,  0.24774994,  0.50788724, -0.00676799,\n",
       "       -0.05612323, -0.31086367,  0.21449885,  0.0739702 , -0.35091016,\n",
       "        0.525131  ,  0.17155686,  0.3363735 , -0.6183962 ,  0.8972856 ,\n",
       "        0.38487116,  0.14676645, -0.148236  , -0.1182255 , -0.4390902 ],\n",
       "      dtype=float32)"
      ]
     },
     "execution_count": 13,
     "metadata": {},
     "output_type": "execute_result"
    }
   ],
   "source": [
    "word['make']"
   ]
  },
  {
   "cell_type": "code",
   "execution_count": 14,
   "id": "8527a9d7",
   "metadata": {},
   "outputs": [],
   "source": [
    "# Convert the text into a matrix of the words in the embedding space\n",
    "def embed_sentence(w2v, text):\n",
    "    embedded_text = []\n",
    "    for words in text:\n",
    "        if words in w2v.wv:\n",
    "            embedded_text.append(w2v.wv[words])\n",
    "\n",
    "    return np.array(embedded_text)\n",
    "\n",
    "# Function that converts a list of sentences into a list of matrices\n",
    "def embedding(w2v, texts):\n",
    "    embed = []\n",
    "\n",
    "    for text in texts:\n",
    "        embedded_text = embed_sentence(w2v, text)\n",
    "        embed.append(embedded_text)\n",
    "\n",
    "    return embed\n",
    "\n",
    "# Embed the training and test sentences\n",
    "X_train_embed = embedding(w2v, X_train_split)\n",
    "X_test_embed = embedding(w2v, X_test_split)"
   ]
  },
  {
   "cell_type": "code",
   "execution_count": 15,
   "id": "28f19ecb",
   "metadata": {},
   "outputs": [],
   "source": [
    "# Pad the training and test embedded sentences\n",
    "X_train_pad = pad_sequences(X_train_embed,truncating='post', maxlen=500)\n",
    "X_test_pad = pad_sequences(X_test_embed, truncating='post', maxlen=500)"
   ]
  },
  {
   "cell_type": "code",
   "execution_count": 16,
   "id": "32886076",
   "metadata": {},
   "outputs": [
    {
     "data": {
      "text/plain": [
       "(2706, 500, 100)"
      ]
     },
     "execution_count": 16,
     "metadata": {},
     "output_type": "execute_result"
    }
   ],
   "source": [
    "X_train_pad.shape"
   ]
  },
  {
   "cell_type": "code",
   "execution_count": 17,
   "id": "a673aa9c",
   "metadata": {},
   "outputs": [
    {
     "name": "stderr",
     "output_type": "stream",
     "text": [
      "2023-12-08 13:28:20.614918: I tensorflow/core/platform/cpu_feature_guard.cc:193] This TensorFlow binary is optimized with oneAPI Deep Neural Network Library (oneDNN) to use the following CPU instructions in performance-critical operations:  AVX2 FMA\n",
      "To enable them in other operations, rebuild TensorFlow with the appropriate compiler flags.\n"
     ]
    },
    {
     "name": "stdout",
     "output_type": "stream",
     "text": [
      "Epoch 1/1000\n",
      "136/136 [==============================] - 18s 116ms/step - loss: 0.4464 - accuracy: 0.8073 - val_loss: 0.3441 - val_accuracy: 0.8598\n",
      "Epoch 2/1000\n",
      "136/136 [==============================] - 16s 114ms/step - loss: 0.3016 - accuracy: 0.8988 - val_loss: 0.3230 - val_accuracy: 0.8764\n",
      "Epoch 3/1000\n",
      "136/136 [==============================] - 16s 120ms/step - loss: 0.2929 - accuracy: 0.9020 - val_loss: 0.2997 - val_accuracy: 0.8856\n",
      "Epoch 4/1000\n",
      "136/136 [==============================] - 16s 119ms/step - loss: 0.2498 - accuracy: 0.9122 - val_loss: 0.3118 - val_accuracy: 0.8819\n",
      "Epoch 5/1000\n",
      "136/136 [==============================] - 16s 116ms/step - loss: 0.2369 - accuracy: 0.9201 - val_loss: 0.2895 - val_accuracy: 0.8930\n",
      "Epoch 6/1000\n",
      "136/136 [==============================] - 16s 115ms/step - loss: 0.2311 - accuracy: 0.9219 - val_loss: 0.2888 - val_accuracy: 0.8875\n",
      "Epoch 7/1000\n",
      "136/136 [==============================] - 16s 115ms/step - loss: 0.2109 - accuracy: 0.9307 - val_loss: 0.3107 - val_accuracy: 0.8893\n",
      "Epoch 8/1000\n",
      "136/136 [==============================] - 15s 113ms/step - loss: 0.2045 - accuracy: 0.9288 - val_loss: 0.3084 - val_accuracy: 0.8856\n",
      "Epoch 9/1000\n",
      "136/136 [==============================] - 16s 116ms/step - loss: 0.2041 - accuracy: 0.9335 - val_loss: 0.2665 - val_accuracy: 0.9041\n",
      "Epoch 10/1000\n",
      "136/136 [==============================] - 15s 114ms/step - loss: 0.1885 - accuracy: 0.9390 - val_loss: 0.2731 - val_accuracy: 0.8967\n",
      "Epoch 11/1000\n",
      "136/136 [==============================] - 16s 114ms/step - loss: 0.1792 - accuracy: 0.9436 - val_loss: 0.2641 - val_accuracy: 0.9151\n",
      "Epoch 12/1000\n",
      "136/136 [==============================] - 15s 114ms/step - loss: 0.1683 - accuracy: 0.9450 - val_loss: 0.2737 - val_accuracy: 0.9041\n",
      "Epoch 13/1000\n",
      "136/136 [==============================] - 16s 116ms/step - loss: 0.1706 - accuracy: 0.9413 - val_loss: 0.2683 - val_accuracy: 0.9059\n",
      "Epoch 14/1000\n",
      "136/136 [==============================] - 16s 116ms/step - loss: 0.1676 - accuracy: 0.9501 - val_loss: 0.2542 - val_accuracy: 0.9188\n",
      "Epoch 15/1000\n",
      "136/136 [==============================] - 16s 114ms/step - loss: 0.1541 - accuracy: 0.9519 - val_loss: 0.2595 - val_accuracy: 0.9151\n",
      "Epoch 16/1000\n",
      "136/136 [==============================] - 16s 114ms/step - loss: 0.1557 - accuracy: 0.9482 - val_loss: 0.2546 - val_accuracy: 0.9188\n",
      "Epoch 17/1000\n",
      "136/136 [==============================] - 16s 116ms/step - loss: 0.1645 - accuracy: 0.9432 - val_loss: 0.2632 - val_accuracy: 0.9151\n",
      "Epoch 18/1000\n",
      "136/136 [==============================] - 16s 117ms/step - loss: 0.1467 - accuracy: 0.9496 - val_loss: 0.2786 - val_accuracy: 0.9151\n",
      "Epoch 19/1000\n",
      "136/136 [==============================] - 16s 115ms/step - loss: 0.1362 - accuracy: 0.9566 - val_loss: 0.2604 - val_accuracy: 0.9207\n",
      "Epoch 20/1000\n",
      "136/136 [==============================] - 16s 116ms/step - loss: 0.1445 - accuracy: 0.9510 - val_loss: 0.2895 - val_accuracy: 0.9096\n",
      "Epoch 21/1000\n",
      "136/136 [==============================] - 16s 116ms/step - loss: 0.1255 - accuracy: 0.9552 - val_loss: 0.2649 - val_accuracy: 0.9207\n",
      "Epoch 22/1000\n",
      "136/136 [==============================] - 16s 117ms/step - loss: 0.1239 - accuracy: 0.9598 - val_loss: 0.2535 - val_accuracy: 0.9280\n",
      "Epoch 23/1000\n",
      "136/136 [==============================] - 16s 117ms/step - loss: 0.1406 - accuracy: 0.9519 - val_loss: 0.2840 - val_accuracy: 0.9170\n",
      "Epoch 24/1000\n",
      "136/136 [==============================] - 16s 116ms/step - loss: 0.1441 - accuracy: 0.9529 - val_loss: 0.2829 - val_accuracy: 0.9114\n",
      "Epoch 25/1000\n",
      "136/136 [==============================] - 16s 118ms/step - loss: 0.1273 - accuracy: 0.9570 - val_loss: 0.2718 - val_accuracy: 0.9151\n",
      "Epoch 26/1000\n",
      "136/136 [==============================] - 16s 117ms/step - loss: 0.1021 - accuracy: 0.9658 - val_loss: 0.2834 - val_accuracy: 0.9170\n",
      "Epoch 27/1000\n",
      "136/136 [==============================] - 16s 117ms/step - loss: 0.1243 - accuracy: 0.9589 - val_loss: 0.3410 - val_accuracy: 0.8985\n",
      "Epoch 28/1000\n",
      "136/136 [==============================] - 16s 119ms/step - loss: 0.1136 - accuracy: 0.9593 - val_loss: 0.2911 - val_accuracy: 0.9114\n",
      "Epoch 29/1000\n",
      "136/136 [==============================] - 17s 124ms/step - loss: 0.1132 - accuracy: 0.9607 - val_loss: 0.2770 - val_accuracy: 0.9262\n",
      "Epoch 30/1000\n",
      "136/136 [==============================] - 16s 120ms/step - loss: 0.1553 - accuracy: 0.9436 - val_loss: 0.2942 - val_accuracy: 0.9244\n",
      "Epoch 31/1000\n",
      "136/136 [==============================] - 16s 120ms/step - loss: 0.0965 - accuracy: 0.9658 - val_loss: 0.2780 - val_accuracy: 0.9262\n",
      "Epoch 32/1000\n",
      "136/136 [==============================] - 17s 122ms/step - loss: 0.1059 - accuracy: 0.9658 - val_loss: 0.3070 - val_accuracy: 0.9151\n"
     ]
    }
   ],
   "source": [
    "from tensorflow.keras.callbacks import EarlyStopping\n",
    "\n",
    "model_rnn = Sequential([\n",
    "    Masking(mask_value=0, input_shape=(500,100)), \n",
    "    SimpleRNN(16), ## THIS IS THE RECURRENT LAYER \n",
    "    Dropout(0.2),\n",
    "    Dense(8, activation='relu'),\n",
    "    Dropout(0.2), \n",
    "    Dense(1, activation= 'sigmoid') ## final layer for prediction, hence only one node\n",
    "])\n",
    "\n",
    "## compile -- add optim, add loss, add metrics \n",
    "model_rnn.compile(optimizer = 'adam', loss = ['binary_crossentropy'], metrics = ['accuracy'])\n",
    "\n",
    "early_stopping = EarlyStopping(patience=10, restore_best_weights=True)\n",
    "\n",
    "history_rnn = model_rnn.fit(X_train_pad, y_train, epochs=1000, batch_size=16, validation_split=0.2, callbacks=[early_stopping])"
   ]
  },
  {
   "cell_type": "code",
   "execution_count": 18,
   "id": "486112cd",
   "metadata": {},
   "outputs": [
    {
     "name": "stdout",
     "output_type": "stream",
     "text": [
      "37/37 [==============================] - 1s 32ms/step - loss: 0.1918 - accuracy: 0.9405\n"
     ]
    }
   ],
   "source": [
    "# Evaluate the model on the test set\n",
    "loss, accuracy = model_rnn.evaluate(X_test_pad, y_test)"
   ]
  },
  {
   "cell_type": "code",
   "execution_count": 19,
   "id": "44eb2c0c",
   "metadata": {},
   "outputs": [
    {
     "data": {
      "image/png": "[encoded data removed]",
      "text/plain": [
       "<Figure size 640x480 with 1 Axes>"
      ]
     },
     "metadata": {},
     "output_type": "display_data"
    }
   ],
   "source": [
    "# Plot the training and validation loss\n",
    "plt.plot(history_rnn.history['loss'], label='Train Loss')\n",
    "plt.plot(history_rnn.history['val_loss'], label='Validation Loss')\n",
    "plt.title('Training and Validation Loss')\n",
    "plt.xlabel('Epoch')\n",
    "plt.ylabel('Loss')\n",
    "plt.legend()\n",
    "plt.show()"
   ]
  },
  {
   "cell_type": "code",
   "execution_count": 20,
   "id": "aeb2ee23",
   "metadata": {},
   "outputs": [
    {
     "data": {
      "image/png": "[encoded data removed]",
      "text/plain": [
       "<Figure size 640x480 with 1 Axes>"
      ]
     },
     "metadata": {},
     "output_type": "display_data"
    }
   ],
   "source": [
    "plt.plot(history_rnn.history['accuracy'], label='Train Accuracy')\n",
    "plt.plot(history_rnn.history['val_accuracy'], label='Validation Accuracy')\n",
    "plt.title('Training and Validation Accuracy')\n",
    "plt.xlabel('Epoch')\n",
    "plt.ylabel('Accuracy')\n",
    "plt.legend()\n",
    "plt.show()"
   ]
  },
  {
   "cell_type": "markdown",
   "id": "d31e868b",
   "metadata": {},
   "source": [
    "---"
   ]
  },
  {
   "cell_type": "code",
   "execution_count": 21,
   "id": "69afcf20",
   "metadata": {},
   "outputs": [
    {
     "name": "stdout",
     "output_type": "stream",
     "text": [
      "37/37 [==============================] - 1s 30ms/step\n"
     ]
    }
   ],
   "source": [
    "y_pred = model_rnn.predict(X_test_pad)"
   ]
  },
  {
   "cell_type": "code",
   "execution_count": 22,
   "id": "c3ff71ab",
   "metadata": {},
   "outputs": [
    {
     "data": {
      "text/plain": [
       "<sklearn.metrics._plot.confusion_matrix.ConfusionMatrixDisplay at 0x16cffa7a0>"
      ]
     },
     "execution_count": 22,
     "metadata": {},
     "output_type": "execute_result"
    },
    {
     "data": {
      "image/png": "[encoded data removed]",
      "text/plain": [
       "<Figure size 640x480 with 2 Axes>"
      ]
     },
     "metadata": {},
     "output_type": "display_data"
    }
   ],
   "source": [
    "from sklearn.metrics import confusion_matrix,ConfusionMatrixDisplay\n",
    "import tensorflow as tf\n",
    "\n",
    "predicted = tf.squeeze(y_pred)\n",
    "predicted = np.array([1 if x >= 0.5 else 0 for x in predicted])\n",
    "actual = np.array(y_test)\n",
    "conf_mat = confusion_matrix(actual, predicted)\n",
    "displ = ConfusionMatrixDisplay(confusion_matrix=conf_mat)\n",
    "displ.plot()"
   ]
  },
  {
   "cell_type": "markdown",
   "id": "d802ab86",
   "metadata": {},
   "source": [
    "---"
   ]
  },
  {
   "cell_type": "markdown",
   "id": "9887f663",
   "metadata": {},
   "source": [
    "## New Texts on Both Models"
   ]
  },
  {
   "cell_type": "code",
   "execution_count": 23,
   "id": "3edde91a",
   "metadata": {},
   "outputs": [],
   "source": [
    "bbc_snippet = \"\"\"The UK faces another five years of high interest rates to stem rising prices, an influential global group has warned.\n",
    "The International Monetary Fund expects the UK to have the highest inflation and slowest growth next year of any G7 economy including the US, France, Germany, Canada, Italy and Japan.\n",
    "However, the Treasury said recent revisions to UK growth had not been factored in to the IMF's report.\n",
    "The outlook was drawn up before this weekend's developments in Israel.\n",
    "Forecasts are never perfect given the many factors that affect economic growth - from geopolitics to the weather. But such reports can point in the right direction, especially where they align with other forecasts.\n",
    "The IMF, an international organisation with 190 member countries, has said the forecasts it makes for growth the following year in most advanced economies have, more often than not, been within about 1.5 percentage points of what actually happens.\n",
    "In July last year, it forecast that the UK economy would grow by 3.2% in 2022. It revised that upwards to 4.1% at the start of this year.\n",
    "But official UK figures released last month estimated that the country's economy actually expanded by 4.3% in 2022.\n",
    "According to the IMF's latest forecast which it produces every six months, it expects the UK to grow more quickly than Germany in 2023, keeping the UK out of bottom place for growth among the G7.\n",
    "But it downgraded the UK's prospects for growth next year, estimating the economy will grow by 0.6%, making it the slowest growing developed country in 2024 - widely predicted to be a general election year.\"\"\"\n"
   ]
  },
  {
   "cell_type": "code",
   "execution_count": 24,
   "id": "65e5ded0",
   "metadata": {},
   "outputs": [],
   "source": [
    "theonion_snippet = \"\"\"Claiming they had already made up their minds, area man Karl Wooley told reporters Tuesday \n",
    "that he felt like the bystanders who were urging him to put his gun down were arguing in bad faith. “If I’m being \n",
    "honest, it sort of feels like these onlookers are only thinking of themselves when they tell me to drop my pistol,” said Wooley, who observed that no one had even asked him to explain his reasoning for shouting at the top of his lungs and waving around a semiautomatic firearm. “Truth be told, they poisoned the well the second they tried to tackle me and forcibly rip the gun from my hands. But the worst part is how condescending they are—saying things like, ‘Hey, buddy, you don’t really want to do this.’ Maybe if they’d bothered to find out where I’m coming from and what my thoughts on the matter are, they’d know this is exactly what I want to be doing.” At press time, Wooley was reportedly shaking his head at how disrespectful his victims had become when they began resorting to ad hominem attacks like “You’re a monster” as he shot them to death.\"\"\""
   ]
  },
  {
   "cell_type": "code",
   "execution_count": 25,
   "id": "ddf27a87",
   "metadata": {},
   "outputs": [
    {
     "name": "stderr",
     "output_type": "stream",
     "text": [
      "[nltk_data] Downloading package stopwords to /Users/maria/nltk_data...\n",
      "[nltk_data]   Package stopwords is already up-to-date!\n"
     ]
    }
   ],
   "source": [
    "import spacy\n",
    "from spacy.lang.en import English\n",
    "from nltk.corpus import stopwords\n",
    "import nltk\n",
    "import time\n",
    "\n",
    "## download the dictionary for stopwords\n",
    "nltk.download('stopwords')\n",
    "\n",
    "## get the set of stopwords \n",
    "stop_words_set = set(stopwords.words('english'))\n",
    "\n",
    "## Load English tokenizer from spacy\n",
    "nlp = English()\n",
    "spacy_tokenizer = nlp.tokenizer ## make instance \n",
    "\n",
    "## Create function to clean text -- lowercase, remove non alphanumeric, remove stop words\n",
    "def optimized_preprocess(texts): ## Takes in a list of texts, i.e. the entire corpus\n",
    "    result = []\n",
    "    \n",
    "    # Tokenize using spaCy's tokenizer\n",
    "    for text in texts:\n",
    "        tokens = [token.text.lower() for token in spacy_tokenizer(text) if token.text.isalpha() and token.text.lower() not in stop_words_set]\n",
    "        result.append(\" \".join(tokens))\n",
    "    \n",
    "    return result"
   ]
  },
  {
   "cell_type": "code",
   "execution_count": 26,
   "id": "4b862c39",
   "metadata": {},
   "outputs": [],
   "source": [
    "bbc_cleaned = optimized_preprocess([bbc_snippet])\n",
    "theonion_cleaned = optimized_preprocess([theonion_snippet])\n"
   ]
  },
  {
   "cell_type": "code",
   "execution_count": 27,
   "id": "27235ea6",
   "metadata": {},
   "outputs": [],
   "source": [
    "# bbc_split = [text_to_word_sequence(t) for t in X_train]\n",
    "# theonion_split = [text_to_word_sequence(t) for t in X_train]"
   ]
  },
  {
   "cell_type": "code",
   "execution_count": 28,
   "id": "5e602490",
   "metadata": {},
   "outputs": [],
   "source": [
    "bbc_embed = embedding(w2v, bbc_cleaned)\n",
    "theonion_embed = embedding(w2v, theonion_cleaned)"
   ]
  },
  {
   "cell_type": "code",
   "execution_count": 29,
   "id": "b74f0ed2",
   "metadata": {},
   "outputs": [],
   "source": [
    "bbc_pad = pad_sequences(bbc_embed,truncating='post', maxlen=500)\n",
    "theonion_pad = pad_sequences(theonion_embed,truncating='post', maxlen=500)"
   ]
  },
  {
   "cell_type": "code",
   "execution_count": 30,
   "id": "8bc88834",
   "metadata": {},
   "outputs": [
    {
     "name": "stdout",
     "output_type": "stream",
     "text": [
      "1/1 [==============================] - 0s 43ms/step\n",
      "[[0.9970295]]\n",
      "1/1 [==============================] - 0s 42ms/step\n",
      "[[0.9303222]]\n"
     ]
    }
   ],
   "source": [
    "print(model_rnn.predict(bbc_pad))\n",
    "print(model_rnn.predict(theonion_pad))"
   ]
  },
  {
   "cell_type": "code",
   "execution_count": 31,
   "id": "551befaf",
   "metadata": {},
   "outputs": [
    {
     "name": "stdout",
     "output_type": "stream",
     "text": [
      "1/1 [==============================] - 0s 43ms/step\n"
     ]
    },
    {
     "data": {
      "text/plain": [
       "array([[0.9970295]], dtype=float32)"
      ]
     },
     "execution_count": 31,
     "metadata": {},
     "output_type": "execute_result"
    }
   ],
   "source": [
    "model_rnn.predict(bbc_pad)"
   ]
  },
  {
   "cell_type": "code",
   "execution_count": 32,
   "id": "b61f0eb5",
   "metadata": {},
   "outputs": [
    {
     "name": "stdout",
     "output_type": "stream",
     "text": [
      "1/1 [==============================] - 0s 41ms/step\n"
     ]
    },
    {
     "data": {
      "text/plain": [
       "array([[0.9303222]], dtype=float32)"
      ]
     },
     "execution_count": 32,
     "metadata": {},
     "output_type": "execute_result"
    }
   ],
   "source": [
    "model_rnn.predict(theonion_pad)"
   ]
  },
  {
   "cell_type": "markdown",
   "id": "1b766898",
   "metadata": {},
   "source": [
    "---"
   ]
  },
  {
   "cell_type": "code",
   "execution_count": 35,
   "id": "88168196",
   "metadata": {},
   "outputs": [],
   "source": [
    "model_rnn.save('modelRNN_sample-W2V.h5')"
   ]
  },
  {
   "cell_type": "code",
   "execution_count": null,
   "id": "5a2f677d",
   "metadata": {},
   "outputs": [],
   "source": []
  }
 ],
 "metadata": {
  "kernelspec": {
   "display_name": "Python 3 (ipykernel)",
   "language": "python",
   "name": "python3"
  },
  "language_info": {
   "codemirror_mode": {
    "name": "ipython",
    "version": 3
   },
   "file_extension": ".py",
   "mimetype": "text/x-python",
   "name": "python",
   "nbconvert_exporter": "python",
   "pygments_lexer": "ipython3",
   "version": "3.10.6"
  },
  "toc": {
   "base_numbering": 1,
   "nav_menu": {},
   "number_sections": true,
   "sideBar": true,
   "skip_h1_title": false,
   "title_cell": "Table of Contents",
   "title_sidebar": "Contents",
   "toc_cell": false,
   "toc_position": {},
   "toc_section_display": true,
   "toc_window_display": false
  },
  "varInspector": {
   "cols": {
    "lenName": 16,
    "lenType": 16,
    "lenVar": 40
   },
   "kernels_config": {
    "python": {
     "delete_cmd_postfix": "",
     "delete_cmd_prefix": "del ",
     "library": "var_list.py",
     "varRefreshCmd": "print(var_dic_list())"
    },
    "r": {
     "delete_cmd_postfix": ") ",
     "delete_cmd_prefix": "rm(",
     "library": "var_list.r",
     "varRefreshCmd": "cat(var_dic_list()) "
    }
   },
   "position": {
    "height": "372.854px",
    "left": "1014.33px",
    "right": "20px",
    "top": "120px",
    "width": "325.667px"
   },
   "types_to_exclude": [
    "module",
    "function",
    "builtin_function_or_method",
    "instance",
    "_Feature"
   ],
   "window_display": false
  }
 },
 "nbformat": 4,
 "nbformat_minor": 5
}
