{
 "cells": [
  {
   "cell_type": "code",
   "execution_count": 1,
   "id": "80fd16e2",
   "metadata": {},
   "outputs": [],
   "source": [
    "import pandas as pd\n",
    "import numpy as np\n",
    "from sklearn.datasets import load_iris\n",
    "from sklearn.model_selection import train_test_split\n",
    "from sklearn.feature_extraction.text import CountVectorizer, TfidfVectorizer\n",
    "from sklearn.metrics import accuracy_score\n",
    "\n",
    "import matplotlib.pyplot as plt\n",
    "\n",
    "import tensorflow as tf\n",
    "from gensim.models import Word2Vec\n",
    "import matplotlib.pyplot as plt\n",
    "import seaborn as sns\n",
    "from tensorflow import keras\n",
    "from keras import layers\n",
    "from keras.preprocessing.text import Tokenizer, text_to_word_sequence\n",
    "from keras.utils import pad_sequences\n",
    "from keras.preprocessing import sequence\n",
    "from keras.models import Sequential\n",
    "from keras.layers import Embedding, LSTM, Dense, Masking"
   ]
  },
  {
   "cell_type": "code",
   "execution_count": 4,
   "id": "2b5c72ec",
   "metadata": {},
   "outputs": [],
   "source": [
    "df = pd.read_csv('/Users/hannadinizcunha/Downloads/data.csv', index_col='index')"
   ]
  },
  {
   "cell_type": "code",
   "execution_count": 5,
   "id": "bc392fd0",
   "metadata": {},
   "outputs": [
    {
     "data": {
      "text/html": [
       "<div>\n",
       "<style scoped>\n",
       "    .dataframe tbody tr th:only-of-type {\n",
       "        vertical-align: middle;\n",
       "    }\n",
       "\n",
       "    .dataframe tbody tr th {\n",
       "        vertical-align: top;\n",
       "    }\n",
       "\n",
       "    .dataframe thead th {\n",
       "        text-align: right;\n",
       "    }\n",
       "</style>\n",
       "<table border=\"1\" class=\"dataframe\">\n",
       "  <thead>\n",
       "    <tr style=\"text-align: right;\">\n",
       "      <th></th>\n",
       "      <th>text</th>\n",
       "      <th>isfake</th>\n",
       "    </tr>\n",
       "    <tr>\n",
       "      <th>index</th>\n",
       "      <th></th>\n",
       "      <th></th>\n",
       "    </tr>\n",
       "  </thead>\n",
       "  <tbody>\n",
       "    <tr>\n",
       "      <th>0</th>\n",
       "      <td>head conservative republican faction us congre...</td>\n",
       "      <td>0</td>\n",
       "    </tr>\n",
       "    <tr>\n",
       "      <th>1</th>\n",
       "      <td>transgender people allow first time enlist us ...</td>\n",
       "      <td>0</td>\n",
       "    </tr>\n",
       "    <tr>\n",
       "      <th>2</th>\n",
       "      <td>president donald trump call us postal service ...</td>\n",
       "      <td>0</td>\n",
       "    </tr>\n",
       "    <tr>\n",
       "      <th>3</th>\n",
       "      <td>west palm beach flathe white house say friday ...</td>\n",
       "      <td>0</td>\n",
       "    </tr>\n",
       "    <tr>\n",
       "      <th>4</th>\n",
       "      <td>west palm beach fla president donald trump say...</td>\n",
       "      <td>0</td>\n",
       "    </tr>\n",
       "    <tr>\n",
       "      <th>...</th>\n",
       "      <td>...</td>\n",
       "      <td>...</td>\n",
       "    </tr>\n",
       "    <tr>\n",
       "      <th>11754</th>\n",
       "      <td>paul craig robertsin last years th century fra...</td>\n",
       "      <td>1</td>\n",
       "    </tr>\n",
       "    <tr>\n",
       "      <th>11755</th>\n",
       "      <td>robert fantina counterpunchalthough unite stat...</td>\n",
       "      <td>1</td>\n",
       "    </tr>\n",
       "    <tr>\n",
       "      <th>11756</th>\n",
       "      <td>st century wire say wire report earlier week u...</td>\n",
       "      <td>1</td>\n",
       "    </tr>\n",
       "    <tr>\n",
       "      <th>11757</th>\n",
       "      <td>patrick henningsen st century wireremember oba...</td>\n",
       "      <td>1</td>\n",
       "    </tr>\n",
       "    <tr>\n",
       "      <th>11758</th>\n",
       "      <td>st century wire say wire predict new year look...</td>\n",
       "      <td>1</td>\n",
       "    </tr>\n",
       "  </tbody>\n",
       "</table>\n",
       "<p>11759 rows × 2 columns</p>\n",
       "</div>"
      ],
      "text/plain": [
       "                                                    text  isfake\n",
       "index                                                           \n",
       "0      head conservative republican faction us congre...       0\n",
       "1      transgender people allow first time enlist us ...       0\n",
       "2      president donald trump call us postal service ...       0\n",
       "3      west palm beach flathe white house say friday ...       0\n",
       "4      west palm beach fla president donald trump say...       0\n",
       "...                                                  ...     ...\n",
       "11754  paul craig robertsin last years th century fra...       1\n",
       "11755  robert fantina counterpunchalthough unite stat...       1\n",
       "11756  st century wire say wire report earlier week u...       1\n",
       "11757  patrick henningsen st century wireremember oba...       1\n",
       "11758  st century wire say wire predict new year look...       1\n",
       "\n",
       "[11759 rows x 2 columns]"
      ]
     },
     "execution_count": 5,
     "metadata": {},
     "output_type": "execute_result"
    }
   ],
   "source": [
    "df"
   ]
  },
  {
   "cell_type": "code",
   "execution_count": 6,
   "id": "afa02298",
   "metadata": {},
   "outputs": [],
   "source": [
    "X = df.text.values\n",
    "y = df.isfake.values"
   ]
  },
  {
   "cell_type": "code",
   "execution_count": 7,
   "id": "bca9c238",
   "metadata": {},
   "outputs": [],
   "source": [
    "X_train, X_test, y_train, y_test = train_test_split(X, y, test_size=0.4, random_state=42)"
   ]
  },
  {
   "cell_type": "code",
   "execution_count": 8,
   "id": "c079a750",
   "metadata": {},
   "outputs": [],
   "source": [
    "X_train_split= [text_to_word_sequence(t) for t in X_train]\n",
    "\n",
    "X_test_split= [text_to_word_sequence(t) for t in X_test]"
   ]
  },
  {
   "cell_type": "code",
   "execution_count": 9,
   "id": "7aef1043",
   "metadata": {},
   "outputs": [],
   "source": [
    "w2v= Word2Vec(sentences= X_train_split, vector_size=1, window=5)\n",
    "word= w2v.wv"
   ]
  },
  {
   "cell_type": "code",
   "execution_count": 10,
   "id": "ab52e5cf",
   "metadata": {},
   "outputs": [],
   "source": [
    "# Convert the text into a matrix of the words in the embedding space\n",
    "def embed_sentence(w2v, text):\n",
    "    embedded_text = []\n",
    "    for words in text:\n",
    "        if words in w2v.wv:\n",
    "            embedded_text.append(w2v.wv[words])\n",
    "\n",
    "    return np.array(embedded_text)\n",
    "\n",
    "# Function that converts a list of sentences into a list of matrices\n",
    "def embedding(w2v, texts):\n",
    "    embed = []\n",
    "\n",
    "    for text in texts:\n",
    "        embedded_text = embed_sentence(w2v, text)\n",
    "        embed.append(embedded_text)\n",
    "\n",
    "    return embed\n",
    "\n",
    "# Embed the training and test sentences\n",
    "X_train_embed = embedding(w2v, X_train_split)\n",
    "X_test_embed = embedding(w2v, X_test_split)"
   ]
  },
  {
   "cell_type": "code",
   "execution_count": 11,
   "id": "10e29da7",
   "metadata": {},
   "outputs": [],
   "source": [
    "# Pad the training and test embedded sentences\n",
    "X_train_pad = pad_sequences(X_train_embed,truncating='post', maxlen=500)\n",
    "X_test_pad = pad_sequences(X_test_embed, truncating='post', maxlen=500)"
   ]
  },
  {
   "cell_type": "code",
   "execution_count": 12,
   "id": "828927d9",
   "metadata": {
    "scrolled": true
   },
   "outputs": [],
   "source": [
    "# Reducing dimension\n",
    "new_train = np.mean(X_train_pad, axis=2)\n",
    "new_test = np.mean(X_test_pad, axis=2)"
   ]
  },
  {
   "cell_type": "code",
   "execution_count": 13,
   "id": "9011d506",
   "metadata": {},
   "outputs": [
    {
     "data": {
      "text/plain": [
       "0.7098214285714286"
      ]
     },
     "execution_count": 13,
     "metadata": {},
     "output_type": "execute_result"
    }
   ],
   "source": [
    "# DecisionTreeClassifier\n",
    "from sklearn.tree import DecisionTreeClassifier\n",
    "tree_clf = DecisionTreeClassifier(\n",
    "    criterion='gini',\n",
    "    splitter='best',\n",
    "    max_depth=None,\n",
    "    min_samples_split=2,\n",
    "    min_samples_leaf=1,\n",
    "    min_weight_fraction_leaf=0.0,\n",
    "    max_features=None,\n",
    "    random_state=None,\n",
    "    max_leaf_nodes=None,\n",
    "    min_impurity_decrease=0.0,\n",
    "    class_weight=None,\n",
    "    ccp_alpha=0.0,\n",
    ")\n",
    "tree_clf.fit(new_train,y_train)\n",
    "\n",
    "y_pred = tree_clf.predict(new_test)\n",
    "accuracy_score(y_test, y_pred)"
   ]
  },
  {
   "cell_type": "code",
   "execution_count": 20,
   "id": "00ecd2f6",
   "metadata": {},
   "outputs": [
    {
     "data": {
      "text/plain": [
       "0.7553146258503401"
      ]
     },
     "execution_count": 20,
     "metadata": {},
     "output_type": "execute_result"
    }
   ],
   "source": [
    "# RandomForestClassifier & LogisticRegression\n",
    "from sklearn.ensemble import VotingClassifier\n",
    "from sklearn.linear_model import LogisticRegression\n",
    "from sklearn.ensemble import RandomForestClassifier\n",
    "\n",
    "forest = RandomForestClassifier()\n",
    "logreg = LogisticRegression(max_iter=2000)\n",
    "\n",
    "ensemble = VotingClassifier(\n",
    "    estimators = [(\"rf\", forest),(\"lr\", logreg)],\n",
    "    voting = 'soft', # to use predict_proba of each classifier before voting\n",
    "    weights = [1,1] # to equally weight forest and logreg in the vote\n",
    ")\n",
    "ensemble.fit(new_train,y_train)\n",
    "\n",
    "y_pred_RFLR = ensemble.predict(new_test)\n",
    "accuracy_score(y_test, y_pred_RFLR)"
   ]
  },
  {
   "cell_type": "code",
   "execution_count": 18,
   "id": "2fd4eb28",
   "metadata": {},
   "outputs": [
    {
     "data": {
      "text/plain": [
       "0.7848639455782312"
      ]
     },
     "execution_count": 18,
     "metadata": {},
     "output_type": "execute_result"
    }
   ],
   "source": [
    "# RandomForestClassifier\n",
    "clf = RandomForestClassifier()\n",
    "clf.fit(new_train,y_train)\n",
    "\n",
    "y_pred_RFC = clf.predict(new_test)\n",
    "accuracy_score(y_test, y_pred_RFC)"
   ]
  },
  {
   "cell_type": "code",
   "execution_count": 19,
   "id": "2209f03c",
   "metadata": {},
   "outputs": [
    {
     "ename": "SyntaxError",
     "evalue": "iterable argument unpacking follows keyword argument unpacking (2219506735.py, line 2)",
     "output_type": "error",
     "traceback": [
      "\u001b[0;36m  Cell \u001b[0;32mIn [19], line 2\u001b[0;36m\u001b[0m\n\u001b[0;31m    n_estimators=100,\u001b[0m\n\u001b[0m    ^\u001b[0m\n\u001b[0;31mSyntaxError\u001b[0m\u001b[0;31m:\u001b[0m iterable argument unpacking follows keyword argument unpacking\n"
     ]
    }
   ],
   "source": [
    "RandomForestClassifier(\n",
    "    n_estimators=100,\n",
    "    *,\n",
    "    criterion='gini',\n",
    "    max_depth=None,\n",
    "    min_samples_split=2,\n",
    "    min_samples_leaf=1,\n",
    "    min_weight_fraction_leaf=0.0,\n",
    "    max_features='sqrt',\n",
    "    max_leaf_nodes=None,\n",
    "    min_impurity_decrease=0.0,\n",
    "    bootstrap=True,\n",
    "    oob_score=False,\n",
    "    n_jobs=None,\n",
    "    random_state=None,\n",
    "    verbose=0,\n",
    "    warm_start=False,\n",
    "    class_weight=None,\n",
    "    ccp_alpha=0.0,\n",
    "    max_samples=None,\n",
    ")\n",
    "\n",
    "clf.fit(new_train,y_train)\n",
    "\n",
    "y_pred_RFC = clf.predict(new_test)\n",
    "accuracy_score(y_test, y_pred_RFC)"
   ]
  },
  {
   "cell_type": "code",
   "execution_count": null,
   "id": "e85d12bf",
   "metadata": {},
   "outputs": [],
   "source": []
  }
 ],
 "metadata": {
  "kernelspec": {
   "display_name": "Python 3 (ipykernel)",
   "language": "python",
   "name": "python3"
  },
  "language_info": {
   "codemirror_mode": {
    "name": "ipython",
    "version": 3
   },
   "file_extension": ".py",
   "mimetype": "text/x-python",
   "name": "python",
   "nbconvert_exporter": "python",
   "pygments_lexer": "ipython3",
   "version": "3.10.6"
  },
  "toc": {
   "base_numbering": 1,
   "nav_menu": {},
   "number_sections": true,
   "sideBar": true,
   "skip_h1_title": false,
   "title_cell": "Table of Contents",
   "title_sidebar": "Contents",
   "toc_cell": false,
   "toc_position": {},
   "toc_section_display": true,
   "toc_window_display": false
  }
 },
 "nbformat": 4,
 "nbformat_minor": 5
}
