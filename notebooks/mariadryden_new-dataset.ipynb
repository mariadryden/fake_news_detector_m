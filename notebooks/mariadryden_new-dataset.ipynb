{
 "cells": [
  {
   "cell_type": "code",
   "execution_count": 52,
   "id": "f771f596",
   "metadata": {},
   "outputs": [],
   "source": [
    "import pandas as pd\n",
    "import matplotlib.pyplot as plt\n",
    "from sklearn.model_selection import train_test_split\n",
    "from keras.preprocessing.text import Tokenizer\n",
    "from keras.utils import pad_sequences\n",
    "from keras.models import Sequential\n",
    "from keras.layers import Embedding, LSTM, Dense, Dropout, Flatten\n",
    "from tensorflow.keras.regularizers import l2\n",
    "import re"
   ]
  },
  {
   "cell_type": "code",
   "execution_count": 12,
   "id": "d0243ce9",
   "metadata": {},
   "outputs": [
    {
     "data": {
      "text/plain": [
       "(72134, 2)"
      ]
     },
     "execution_count": 12,
     "metadata": {},
     "output_type": "execute_result"
    }
   ],
   "source": [
    "data = pd.read_csv('../raw_data/WELFake_Dataset.csv')\n",
    "data = data.drop(columns=['Unnamed: 0', 'title'])\n",
    "data.shape"
   ]
  },
  {
   "cell_type": "code",
   "execution_count": 13,
   "id": "1a9515c0",
   "metadata": {},
   "outputs": [
    {
     "data": {
      "text/plain": [
       "(62720, 2)"
      ]
     },
     "execution_count": 13,
     "metadata": {},
     "output_type": "execute_result"
    }
   ],
   "source": [
    "# remove duplicate items\n",
    "data = data.drop_duplicates(inplace=True)\n",
    "data.shape"
   ]
  },
  {
   "cell_type": "code",
   "execution_count": 14,
   "id": "032f8806",
   "metadata": {},
   "outputs": [
    {
     "data": {
      "text/plain": [
       "text     1\n",
       "label    0\n",
       "dtype: int64"
      ]
     },
     "execution_count": 14,
     "metadata": {},
     "output_type": "execute_result"
    }
   ],
   "source": [
    "# check for null values\n",
    "data.isnull().sum()"
   ]
  },
  {
   "cell_type": "code",
   "execution_count": 15,
   "id": "677eabc7",
   "metadata": {},
   "outputs": [],
   "source": [
    "data.dropna(subset=['text'], inplace=True)"
   ]
  },
  {
   "cell_type": "code",
   "execution_count": 17,
   "id": "4e3cbac3",
   "metadata": {},
   "outputs": [],
   "source": [
    "# use regex to remove the unimportant info at the begining of each row ('CITY NAME (Reuteurs) -')\n",
    "def remove_datacity_name(text):\n",
    "    pattern = r'(?:[A-Z]+(?:[ \\/][A-Z]+)* )?\\(Reuters\\) - '\n",
    "    return re.sub(pattern, '', text)"
   ]
  },
  {
   "cell_type": "code",
   "execution_count": 21,
   "id": "822d12d9",
   "metadata": {},
   "outputs": [
    {
     "data": {
      "text/html": [
       "<div>\n",
       "<style scoped>\n",
       "    .dataframe tbody tr th:only-of-type {\n",
       "        vertical-align: middle;\n",
       "    }\n",
       "\n",
       "    .dataframe tbody tr th {\n",
       "        vertical-align: top;\n",
       "    }\n",
       "\n",
       "    .dataframe thead th {\n",
       "        text-align: right;\n",
       "    }\n",
       "</style>\n",
       "<table border=\"1\" class=\"dataframe\">\n",
       "  <thead>\n",
       "    <tr style=\"text-align: right;\">\n",
       "      <th></th>\n",
       "      <th>text</th>\n",
       "      <th>label</th>\n",
       "    </tr>\n",
       "  </thead>\n",
       "  <tbody>\n",
       "    <tr>\n",
       "      <th>0</th>\n",
       "      <td>No comment is expected from Barack Obama Membe...</td>\n",
       "      <td>1</td>\n",
       "    </tr>\n",
       "    <tr>\n",
       "      <th>1</th>\n",
       "      <td>Did they post their votes for Hillary already?</td>\n",
       "      <td>1</td>\n",
       "    </tr>\n",
       "    <tr>\n",
       "      <th>2</th>\n",
       "      <td>Now, most of the demonstrators gathered last ...</td>\n",
       "      <td>1</td>\n",
       "    </tr>\n",
       "    <tr>\n",
       "      <th>3</th>\n",
       "      <td>A dozen politically active pastors came here f...</td>\n",
       "      <td>0</td>\n",
       "    </tr>\n",
       "    <tr>\n",
       "      <th>4</th>\n",
       "      <td>The RS-28 Sarmat missile, dubbed Satan 2, will...</td>\n",
       "      <td>1</td>\n",
       "    </tr>\n",
       "  </tbody>\n",
       "</table>\n",
       "</div>"
      ],
      "text/plain": [
       "                                                text  label\n",
       "0  No comment is expected from Barack Obama Membe...      1\n",
       "1     Did they post their votes for Hillary already?      1\n",
       "2   Now, most of the demonstrators gathered last ...      1\n",
       "3  A dozen politically active pastors came here f...      0\n",
       "4  The RS-28 Sarmat missile, dubbed Satan 2, will...      1"
      ]
     },
     "execution_count": 21,
     "metadata": {},
     "output_type": "execute_result"
    }
   ],
   "source": [
    "# apply regex funciton to each row of the df\n",
    "data['text'] = data['text'].apply(remove_city_name)\n",
    "data.head()"
   ]
  },
  {
   "cell_type": "code",
   "execution_count": 23,
   "id": "4b6753e4",
   "metadata": {},
   "outputs": [],
   "source": [
    "import string\n",
    "from nltk.tokenize import word_tokenize\n",
    "from nltk.corpus import stopwords\n",
    "from nltk.stem import WordNetLemmatizer\n",
    "\n",
    "def cleaning(sentence):\n",
    "    \n",
    "    # Basic cleaning\n",
    "    sentence = sentence.strip() ## remove whitespaces\n",
    "    sentence = sentence.lower() ## lowercase \n",
    "    sentence = ''.join(char for char in sentence if not char.isdigit()) ## remove numbers\n",
    "    \n",
    "    # Advanced cleaning\n",
    "    for punctuation in string.punctuation:\n",
    "        sentence = sentence.replace(punctuation, '') ## remove punctuation\n",
    "    \n",
    "    tokenized_sentence = word_tokenize(sentence) ## tokenize \n",
    "    stop_words = set(stopwords.words('english')) ## define stopwords\n",
    "    \n",
    "    tokenized_sentence_cleaned = [ ## remove stopwords\n",
    "        w for w in tokenized_sentence if not w in stop_words\n",
    "    ]\n",
    "\n",
    "    lemmatized = [\n",
    "        WordNetLemmatizer().lemmatize(word, pos = \"v\") \n",
    "        for word in tokenized_sentence_cleaned\n",
    "    ]\n",
    "    \n",
    "    cleaned_sentence = ' '.join(word for word in lemmatized)\n",
    "    \n",
    "    return cleaned_sentence"
   ]
  },
  {
   "cell_type": "code",
   "execution_count": 24,
   "id": "53a7da0f",
   "metadata": {},
   "outputs": [
    {
     "name": "stdout",
     "output_type": "stream",
     "text": [
      "CPU times: user 4min 6s, sys: 4.59 s, total: 4min 11s\n",
      "Wall time: 4min 12s\n"
     ]
    },
    {
     "data": {
      "text/html": [
       "<div>\n",
       "<style scoped>\n",
       "    .dataframe tbody tr th:only-of-type {\n",
       "        vertical-align: middle;\n",
       "    }\n",
       "\n",
       "    .dataframe tbody tr th {\n",
       "        vertical-align: top;\n",
       "    }\n",
       "\n",
       "    .dataframe thead th {\n",
       "        text-align: right;\n",
       "    }\n",
       "</style>\n",
       "<table border=\"1\" class=\"dataframe\">\n",
       "  <thead>\n",
       "    <tr style=\"text-align: right;\">\n",
       "      <th></th>\n",
       "      <th>text</th>\n",
       "      <th>label</th>\n",
       "      <th>text_clean</th>\n",
       "    </tr>\n",
       "  </thead>\n",
       "  <tbody>\n",
       "    <tr>\n",
       "      <th>0</th>\n",
       "      <td>No comment is expected from Barack Obama Membe...</td>\n",
       "      <td>1</td>\n",
       "      <td>comment expect barack obama members fyf fukyof...</td>\n",
       "    </tr>\n",
       "    <tr>\n",
       "      <th>1</th>\n",
       "      <td>Did they post their votes for Hillary already?</td>\n",
       "      <td>1</td>\n",
       "      <td>post vote hillary already</td>\n",
       "    </tr>\n",
       "    <tr>\n",
       "      <th>2</th>\n",
       "      <td>Now, most of the demonstrators gathered last ...</td>\n",
       "      <td>1</td>\n",
       "      <td>demonstrators gather last night exercise const...</td>\n",
       "    </tr>\n",
       "    <tr>\n",
       "      <th>3</th>\n",
       "      <td>A dozen politically active pastors came here f...</td>\n",
       "      <td>0</td>\n",
       "      <td>dozen politically active pastors come private ...</td>\n",
       "    </tr>\n",
       "    <tr>\n",
       "      <th>4</th>\n",
       "      <td>The RS-28 Sarmat missile, dubbed Satan 2, will...</td>\n",
       "      <td>1</td>\n",
       "      <td>rs sarmat missile dub satan replace ss fly mil...</td>\n",
       "    </tr>\n",
       "    <tr>\n",
       "      <th>...</th>\n",
       "      <td>...</td>\n",
       "      <td>...</td>\n",
       "      <td>...</td>\n",
       "    </tr>\n",
       "    <tr>\n",
       "      <th>72127</th>\n",
       "      <td>An email released by WikiLeaks on Sunday appea...</td>\n",
       "      <td>1</td>\n",
       "      <td>email release wikileaks sunday appear show for...</td>\n",
       "    </tr>\n",
       "    <tr>\n",
       "      <th>72129</th>\n",
       "      <td>Hackers believed to be working for the Russian...</td>\n",
       "      <td>0</td>\n",
       "      <td>hackers believe work russian government break ...</td>\n",
       "    </tr>\n",
       "    <tr>\n",
       "      <th>72130</th>\n",
       "      <td>You know, because in fantasyland Republicans n...</td>\n",
       "      <td>1</td>\n",
       "      <td>know fantasyland republicans never question ci...</td>\n",
       "    </tr>\n",
       "    <tr>\n",
       "      <th>72131</th>\n",
       "      <td>Migrants Refuse To Leave Train At Refugee Camp...</td>\n",
       "      <td>0</td>\n",
       "      <td>migrants refuse leave train refugee camp hunga...</td>\n",
       "    </tr>\n",
       "    <tr>\n",
       "      <th>72132</th>\n",
       "      <td>Donald Trump’s combative style has buffeted Me...</td>\n",
       "      <td>0</td>\n",
       "      <td>donald trump ’ combative style buffet mexico ’...</td>\n",
       "    </tr>\n",
       "  </tbody>\n",
       "</table>\n",
       "<p>62719 rows × 3 columns</p>\n",
       "</div>"
      ],
      "text/plain": [
       "                                                    text  label  \\\n",
       "0      No comment is expected from Barack Obama Membe...      1   \n",
       "1         Did they post their votes for Hillary already?      1   \n",
       "2       Now, most of the demonstrators gathered last ...      1   \n",
       "3      A dozen politically active pastors came here f...      0   \n",
       "4      The RS-28 Sarmat missile, dubbed Satan 2, will...      1   \n",
       "...                                                  ...    ...   \n",
       "72127  An email released by WikiLeaks on Sunday appea...      1   \n",
       "72129  Hackers believed to be working for the Russian...      0   \n",
       "72130  You know, because in fantasyland Republicans n...      1   \n",
       "72131  Migrants Refuse To Leave Train At Refugee Camp...      0   \n",
       "72132  Donald Trump’s combative style has buffeted Me...      0   \n",
       "\n",
       "                                              text_clean  \n",
       "0      comment expect barack obama members fyf fukyof...  \n",
       "1                              post vote hillary already  \n",
       "2      demonstrators gather last night exercise const...  \n",
       "3      dozen politically active pastors come private ...  \n",
       "4      rs sarmat missile dub satan replace ss fly mil...  \n",
       "...                                                  ...  \n",
       "72127  email release wikileaks sunday appear show for...  \n",
       "72129  hackers believe work russian government break ...  \n",
       "72130  know fantasyland republicans never question ci...  \n",
       "72131  migrants refuse leave train refugee camp hunga...  \n",
       "72132  donald trump ’ combative style buffet mexico ’...  \n",
       "\n",
       "[62719 rows x 3 columns]"
      ]
     },
     "execution_count": 24,
     "metadata": {},
     "output_type": "execute_result"
    }
   ],
   "source": [
    "%%time\n",
    "\n",
    "data['text_clean'] = data['text'].apply(cleaning)\n",
    "data"
   ]
  },
  {
   "cell_type": "code",
   "execution_count": 32,
   "id": "3f29d56b",
   "metadata": {},
   "outputs": [],
   "source": [
    "X = data.text_clean\n",
    "y = data.label"
   ]
  },
  {
   "cell_type": "code",
   "execution_count": 33,
   "id": "1f9cb4bf",
   "metadata": {},
   "outputs": [],
   "source": [
    "# Perform a 70:30 split for the initial training set and temporary set\n",
    "X_train, X_temp, y_train, y_temp = train_test_split(X, y, test_size=0.3, random_state=42)\n",
    "\n",
    "# Further split the temporary set into validation (50%) and test (50%)\n",
    "X_val, X_test, y_val, y_test = train_test_split(X_temp, y_temp, test_size=0.5, random_state=42)"
   ]
  },
  {
   "cell_type": "code",
   "execution_count": 34,
   "id": "82981f7b",
   "metadata": {},
   "outputs": [
    {
     "name": "stdout",
     "output_type": "stream",
     "text": [
      "CPU times: user 37.8 s, sys: 374 ms, total: 38.1 s\n",
      "Wall time: 38.3 s\n"
     ]
    }
   ],
   "source": [
    "%%time\n",
    "# max_words = 10000  \n",
    "# max_sequence_length = 500  \n",
    "\n",
    "# Initialize the tokenizer and fit it on the training data\n",
    "tokenizer = Tokenizer()\n",
    "tokenizer.fit_on_texts(X_train)\n",
    "\n",
    "# Convert text data to sequences of integers\n",
    "X_train_sequences = tokenizer.texts_to_sequences(X_train)\n",
    "X_val_sequences = tokenizer.texts_to_sequences(X_val)\n",
    "X_test_sequences = tokenizer.texts_to_sequences(X_test)\n",
    "\n",
    "# Pad sequences to ensure uniform length\n",
    "max_sequence_length = 500\n",
    "\n",
    "X_train_padded = pad_sequences(X_train_sequences, maxlen=max_sequence_length, padding='pre')\n",
    "X_val_padded = pad_sequences(X_val_sequences, maxlen=max_sequence_length, padding='pre')\n",
    "X_test_padded = pad_sequences(X_test_sequences, maxlen=max_sequence_length, padding='pre')"
   ]
  },
  {
   "cell_type": "code",
   "execution_count": 35,
   "id": "67d2268f",
   "metadata": {},
   "outputs": [
    {
     "name": "stderr",
     "output_type": "stream",
     "text": [
      "2023-12-06 12:37:12.833515: I tensorflow/core/platform/cpu_feature_guard.cc:193] This TensorFlow binary is optimized with oneAPI Deep Neural Network Library (oneDNN) to use the following CPU instructions in performance-critical operations:  AVX2 FMA\n",
      "To enable them in other operations, rebuild TensorFlow with the appropriate compiler flags.\n"
     ]
    },
    {
     "name": "stdout",
     "output_type": "stream",
     "text": [
      "CPU times: user 634 ms, sys: 158 ms, total: 792 ms\n",
      "Wall time: 605 ms\n"
     ]
    }
   ],
   "source": [
    "%%time\n",
    "\n",
    "# Define the RNN model\n",
    "embedding_dim = 50 \n",
    "vocab_size = len(tokenizer.word_index) + 1  # Add 1 for the zero-padding index\n",
    "dropout_rate = 0.2\n",
    "l2_strength = 1e-4\n",
    "\n",
    "model = Sequential()\n",
    "model.add(Embedding(input_dim=vocab_size, output_dim=embedding_dim, input_length=max_sequence_length))\n",
    "model.add(LSTM(2, kernel_regularizer=l2(l2_strength)))  # L2 regularization added\n",
    "model.add(Dropout(dropout_rate))  # Dropout regularization added\n",
    "model.add(Dense(1, activation='sigmoid'))"
   ]
  },
  {
   "cell_type": "code",
   "execution_count": 36,
   "id": "44e0907c",
   "metadata": {},
   "outputs": [],
   "source": [
    "# Compile the model\n",
    "model.compile(optimizer='adam', loss='binary_crossentropy', metrics=['accuracy'])"
   ]
  },
  {
   "cell_type": "code",
   "execution_count": 47,
   "id": "fd66f4a5",
   "metadata": {},
   "outputs": [
    {
     "name": "stdout",
     "output_type": "stream",
     "text": [
      "Epoch 1/3\n",
      "1372/1372 [==============================] - 559s 407ms/step - loss: 0.2564 - accuracy: 0.9098 - val_loss: 0.2219 - val_accuracy: 0.9207\n",
      "Epoch 2/3\n",
      "1372/1372 [==============================] - 449s 327ms/step - loss: 0.1666 - accuracy: 0.9403 - val_loss: 0.2200 - val_accuracy: 0.9259\n",
      "Epoch 3/3\n",
      "1372/1372 [==============================] - 263s 192ms/step - loss: 0.1315 - accuracy: 0.9509 - val_loss: 0.2212 - val_accuracy: 0.9238\n",
      "CPU times: user 53min 29s, sys: 12min 22s, total: 1h 5min 52s\n",
      "Wall time: 21min 10s\n"
     ]
    }
   ],
   "source": [
    "%%time\n",
    "\n",
    "# Train the model\n",
    "epochs = 3  \n",
    "\n",
    "history = model.fit(X_train_padded, y_train, epochs=epochs, validation_data=(X_val_padded, y_val))"
   ]
  },
  {
   "cell_type": "markdown",
   "id": "143fca4d",
   "metadata": {},
   "source": [
    "---"
   ]
  },
  {
   "cell_type": "code",
   "execution_count": 48,
   "id": "fff9e0a5",
   "metadata": {},
   "outputs": [],
   "source": [
    "# Initialize the tokenizer and fit it on the training data\n",
    "tokenizer = Tokenizer(num_words=10000)\n",
    "tokenizer.fit_on_texts(X_train)\n",
    "word_index = tokenizer.word_index"
   ]
  },
  {
   "cell_type": "code",
   "execution_count": 49,
   "id": "0a4b5583",
   "metadata": {},
   "outputs": [],
   "source": [
    "sequences = tokenizer.texts_to_sequences(data.text_clean)\n",
    "\n",
    "lengths_of_texts =  [len(text) for text in sequences]\n",
    "\n",
    "## For length to pad till, we use the average length of all texts \n",
    "avg_length_text = int(np.mean(lengths_of_texts))\n",
    "\n",
    "X_train_pad = pad_sequences(X_train_sequences, maxlen=avg_length_text, padding='post', truncating='post')\n",
    "X_val_pad = pad_sequences(X_val_sequences, maxlen=avg_length_text, padding='pre')\n",
    "X_test_pad = pad_sequences(X_test_sequences, maxlen=avg_length_text, padding='post', truncating='post')"
   ]
  },
  {
   "cell_type": "code",
   "execution_count": 54,
   "id": "36ec7759",
   "metadata": {},
   "outputs": [
    {
     "name": "stdout",
     "output_type": "stream",
     "text": [
      "Epoch 1/50\n",
      "220/220 [==============================] - 4s 15ms/step - loss: 0.5378 - accuracy: 0.7628 - val_loss: 0.9925 - val_accuracy: 0.4919\n",
      "Epoch 2/50\n",
      "220/220 [==============================] - 3s 14ms/step - loss: 0.3145 - accuracy: 0.9032 - val_loss: 1.1840 - val_accuracy: 0.4901\n",
      "Epoch 3/50\n",
      "220/220 [==============================] - 3s 14ms/step - loss: 0.2513 - accuracy: 0.9222 - val_loss: 1.2822 - val_accuracy: 0.4933\n",
      "Epoch 4/50\n",
      "220/220 [==============================] - 3s 14ms/step - loss: 0.2195 - accuracy: 0.9324 - val_loss: 1.4361 - val_accuracy: 0.4913\n",
      "Epoch 5/50\n",
      "220/220 [==============================] - 3s 14ms/step - loss: 0.1984 - accuracy: 0.9386 - val_loss: 1.5092 - val_accuracy: 0.4921\n",
      "Epoch 6/50\n",
      "220/220 [==============================] - 3s 14ms/step - loss: 0.1815 - accuracy: 0.9439 - val_loss: 1.6126 - val_accuracy: 0.4901\n"
     ]
    }
   ],
   "source": [
    "from keras.callbacks import EarlyStopping\n",
    "\n",
    "model_3 = Sequential([\n",
    "    Embedding(input_dim=len(word_index), output_dim=8, input_length=avg_length_text),\n",
    "    Flatten(),\n",
    "    Dense(8, activation='relu', kernel_regularizer=l2(0.01)),  # L2 regularization\n",
    "    Dropout(0.5),  # Adding dropout\n",
    "    Dense(1, activation='sigmoid')\n",
    "])\n",
    "\n",
    "model_3.compile(optimizer='adam', loss='binary_crossentropy', metrics=['accuracy'])\n",
    "\n",
    "## Decrease patience, allow restore to best weights during patience\n",
    "early_stopping = EarlyStopping(monitor='val_loss', patience=5, restore_best_weights=True)\n",
    "\n",
    "history_3 = model_3.fit(X_train_pad, y_train, epochs=50, batch_size=200, validation_data=(X_val_pad, y_test), callbacks=[early_stopping])"
   ]
  },
  {
   "cell_type": "code",
   "execution_count": 55,
   "id": "3ed9c356",
   "metadata": {},
   "outputs": [
    {
     "name": "stdout",
     "output_type": "stream",
     "text": [
      "Final Training Loss: 0.18152989447116852\n",
      "Final Training Accuracy: 0.943853497505188\n",
      "Final Validation Loss: 1.6126419305801392\n",
      "Final Validation Accuracy: 0.49011480808258057\n"
     ]
    }
   ],
   "source": [
    "final_train_loss_3 = history_3.history['loss'][-1]\n",
    "final_train_accuracy_3 = history_3.history['accuracy'][-1]\n",
    "\n",
    "final_val_loss_3 = history_3.history['val_loss'][-1]\n",
    "final_val_accuracy_3 = history_3.history['val_accuracy'][-1]\n",
    "\n",
    "print(\"Final Training Loss:\", final_train_loss_3)\n",
    "print(\"Final Training Accuracy:\", final_train_accuracy_3)\n",
    "print(\"Final Validation Loss:\", final_val_loss_3)\n",
    "print(\"Final Validation Accuracy:\", final_val_accuracy_3)\n"
   ]
  },
  {
   "cell_type": "code",
   "execution_count": 56,
   "id": "5218c0e4",
   "metadata": {},
   "outputs": [
    {
     "data": {
      "image/png": "[encoded data removed]",
      "text/plain": [
       "<Figure size 640x480 with 1 Axes>"
      ]
     },
     "metadata": {},
     "output_type": "display_data"
    }
   ],
   "source": [
    "# Plot the training and validation loss\n",
    "plt.plot(history_3.history['loss'], label='Train Loss')\n",
    "plt.plot(history_3.history['val_loss'], label='Validation Loss')\n",
    "plt.title('Training and Validation Loss')\n",
    "plt.xlabel('Epoch')\n",
    "plt.ylabel('Loss')\n",
    "plt.legend()\n",
    "plt.show()"
   ]
  },
  {
   "cell_type": "code",
   "execution_count": null,
   "id": "31700e0e",
   "metadata": {},
   "outputs": [],
   "source": []
  }
 ],
 "metadata": {
  "kernelspec": {
   "display_name": "Python 3 (ipykernel)",
   "language": "python",
   "name": "python3"
  },
  "language_info": {
   "codemirror_mode": {
    "name": "ipython",
    "version": 3
   },
   "file_extension": ".py",
   "mimetype": "text/x-python",
   "name": "python",
   "nbconvert_exporter": "python",
   "pygments_lexer": "ipython3",
   "version": "3.10.6"
  },
  "toc": {
   "base_numbering": 1,
   "nav_menu": {},
   "number_sections": true,
   "sideBar": true,
   "skip_h1_title": false,
   "title_cell": "Table of Contents",
   "title_sidebar": "Contents",
   "toc_cell": false,
   "toc_position": {},
   "toc_section_display": true,
   "toc_window_display": false
  },
  "varInspector": {
   "cols": {
    "lenName": 16,
    "lenType": 16,
    "lenVar": 40
   },
   "kernels_config": {
    "python": {
     "delete_cmd_postfix": "",
     "delete_cmd_prefix": "del ",
     "library": "var_list.py",
     "varRefreshCmd": "print(var_dic_list())"
    },
    "r": {
     "delete_cmd_postfix": ") ",
     "delete_cmd_prefix": "rm(",
     "library": "var_list.r",
     "varRefreshCmd": "cat(var_dic_list()) "
    }
   },
   "types_to_exclude": [
    "module",
    "function",
    "builtin_function_or_method",
    "instance",
    "_Feature"
   ],
   "window_display": false
  }
 },
 "nbformat": 4,
 "nbformat_minor": 5
}
