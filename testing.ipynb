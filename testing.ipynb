{
 "cells": [
  {
   "cell_type": "code",
   "execution_count": 12,
   "metadata": {},
   "outputs": [],
   "source": [
    "from transformers import DistilBertTokenizer, DistilBertConfig, TFDistilBertForSequenceClassification\n",
    "import tensorflow as tf\n",
    "import streamlit as st"
   ]
  },
  {
   "cell_type": "code",
   "execution_count": 5,
   "metadata": {},
   "outputs": [],
   "source": [
    "# Load DistilBERT model and tokenizer\n",
    "\n",
    "model_path = \"distilbert_model_best.h5/tf_model.h5\"\n",
    "config_path_model = \"distilbert_model_best.h5/config.json\"\n",
    "# tokenizer_path = \"distilbert_tokenizer_best/special_tokens_map.json\"\n",
    "config_path_tokenizer = \"distilbert_tokenizer_best/tokenizer_config.json\""
   ]
  },
  {
   "cell_type": "code",
   "execution_count": 6,
   "metadata": {},
   "outputs": [],
   "source": [
    "config_model = DistilBertConfig.from_json_file(config_path_model)\n",
    "config_tokenizer = DistilBertConfig.from_json_file(config_path_tokenizer)"
   ]
  },
  {
   "cell_type": "code",
   "execution_count": 8,
   "metadata": {},
   "outputs": [
    {
     "name": "stderr",
     "output_type": "stream",
     "text": [
      "2023-12-13 01:26:16.945958: I tensorflow/core/platform/cpu_feature_guard.cc:193] This TensorFlow binary is optimized with oneAPI Deep Neural Network Library (oneDNN) to use the following CPU instructions in performance-critical operations:  AVX2 FMA\n",
      "To enable them in other operations, rebuild TensorFlow with the appropriate compiler flags.\n",
      "Some layers from the model checkpoint at distilbert_model_best.h5/tf_model.h5 were not used when initializing TFDistilBertForSequenceClassification: ['dropout_199']\n",
      "- This IS expected if you are initializing TFDistilBertForSequenceClassification from the checkpoint of a model trained on another task or with another architecture (e.g. initializing a BertForSequenceClassification model from a BertForPreTraining model).\n",
      "- This IS NOT expected if you are initializing TFDistilBertForSequenceClassification from the checkpoint of a model that you expect to be exactly identical (initializing a BertForSequenceClassification model from a BertForSequenceClassification model).\n",
      "Some layers of TFDistilBertForSequenceClassification were not initialized from the model checkpoint at distilbert_model_best.h5/tf_model.h5 and are newly initialized: ['dropout_19']\n",
      "You should probably TRAIN this model on a down-stream task to be able to use it for predictions and inference.\n"
     ]
    }
   ],
   "source": [
    "model = TFDistilBertForSequenceClassification.from_pretrained(model_path, config=config_model)\n"
   ]
  },
  {
   "cell_type": "code",
   "execution_count": 10,
   "metadata": {},
   "outputs": [
    {
     "name": "stderr",
     "output_type": "stream",
     "text": [
      "Special tokens have been added in the vocabulary, make sure the associated word embeddings are fine-tuned or trained.\n"
     ]
    }
   ],
   "source": [
    "tokenizer_path = 'distilbert_tokenizer_best'\n",
    "tokenizer = DistilBertTokenizer.from_pretrained(tokenizer_path)"
   ]
  },
  {
   "cell_type": "code",
   "execution_count": 11,
   "metadata": {},
   "outputs": [],
   "source": [
    "# Function to predict using the DistilBERT model\n",
    "def predict_sentiment(text):\n",
    "    # Tokenize input text\n",
    "    inputs = tokenizer(text, return_tensors=\"tf\")\n",
    "\n",
    "    # Make prediction\n",
    "    logits = model.predict(inputs)[\"logits\"]\n",
    "    predicted_class = tf.argmax(logits, axis=1).numpy().item()\n",
    "\n",
    "    return predicted_class"
   ]
  },
  {
   "cell_type": "code",
   "execution_count": 13,
   "metadata": {},
   "outputs": [
    {
     "name": "stderr",
     "output_type": "stream",
     "text": [
      "2023-12-13 01:38:18.344 \n",
      "  \u001b[33m\u001b[1mWarning:\u001b[0m to view this Streamlit app on a browser, run it with the following\n",
      "  command:\n",
      "\n",
      "    streamlit run /Users/maria/.pyenv/versions/3.10.6/envs/lewagon/lib/python3.10/site-packages/ipykernel_launcher.py [ARGUMENTS]\n"
     ]
    }
   ],
   "source": [
    "# Streamlit app\n",
    "st.title(\"DistilBERT Sentiment Analysis App\")\n",
    "st.subheader(\"Enter text to predict sentiment:\")\n",
    "\n",
    "# User input for prediction\n",
    "user_input = st.text_area(\"Text input\", \"Type here...\")\n",
    "\n",
    "if st.button(\"Predict\"):\n",
    "    # Make prediction when the button is clicked\n",
    "    if user_input.strip() != \"\":\n",
    "        sentiment = predict_sentiment(user_input)\n",
    "        result = \"Positive\" if sentiment == 1 else \"Negative\"\n",
    "        st.success(f\"The predicted sentiment is: {result}\")\n",
    "    else:\n",
    "        st.warning(\"Please enter text for prediction.\")"
   ]
  },
  {
   "cell_type": "code",
   "execution_count": null,
   "metadata": {},
   "outputs": [],
   "source": []
  }
 ],
 "metadata": {
  "kernelspec": {
   "display_name": "lewagon",
   "language": "python",
   "name": "python3"
  },
  "language_info": {
   "codemirror_mode": {
    "name": "ipython",
    "version": 3
   },
   "file_extension": ".py",
   "mimetype": "text/x-python",
   "name": "python",
   "nbconvert_exporter": "python",
   "pygments_lexer": "ipython3",
   "version": "3.10.6"
  }
 },
 "nbformat": 4,
 "nbformat_minor": 2
}
